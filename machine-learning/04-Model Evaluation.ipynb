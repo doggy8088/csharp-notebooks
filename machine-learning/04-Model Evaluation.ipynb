{
  "cells": [
    {
      "cell_type": "markdown",
      "metadata": {},
      "source": [
        "# **模型評估**\n",
        "\n",
        "在本 Notebook 中，您將學習：\n",
        "\n",
        "- 什麼是模型評估？\n",
        "- 如何在 ML.NET 中評估模型\n",
        "- 使用交叉驗證訓練和評估模型\n",
        "- 模型可解釋性\n",
        "- 如何改進你的模型"
      ]
    },
    {
      "cell_type": "markdown",
      "metadata": {},
      "source": [
        "## **什麼是模型評估？**\n",
        "\n",
        "訓練是將演算法應用於歷史資料以建立準確表示該資料的模型的過程。 然後將該模型用於新資料以進行預測。\n",
        "\n",
        "模型評估是使用指標來量化模型在資料中學習模式的效率並將這些學習應用於新的和看不見的資料的過程。"
      ]
    },
    {
      "cell_type": "markdown",
      "metadata": {},
      "source": [
        "## **如何在 ML.NET 中評估模型**"
      ]
    },
    {
      "cell_type": "markdown",
      "metadata": {},
      "source": [
        "### **引用 ML.NET Daily Nuget**"
      ]
    },
    {
      "cell_type": "code",
      "execution_count": 1,
      "metadata": {
        "dotnet_interactive": {
          "language": "csharp"
        },
        "vscode": {
          "languageId": "dotnet-interactive.csharp"
        }
      },
      "outputs": [
        {
          "data": {
            "text/html": [
              "<div><div><strong>Restore sources</strong><ul><li><span>https://pkgs.dev.azure.com/dnceng/public/_packaging/MachineLearning/nuget/v3/index.json</span></li></ul></div><div></div><div></div></div>"
            ]
          },
          "execution_count": 1,
          "metadata": {},
          "output_type": "execute_result"
        }
      ],
      "source": [
        "#i \"nuget:https://pkgs.dev.azure.com/dnceng/public/_packaging/MachineLearning/nuget/v3/index.json\""
      ]
    },
    {
      "cell_type": "markdown",
      "metadata": {},
      "source": [
        "### **安裝相關依賴**"
      ]
    },
    {
      "cell_type": "code",
      "execution_count": 1,
      "metadata": {
        "dotnet_interactive": {
          "language": "csharp"
        },
        "vscode": {
          "languageId": "dotnet-interactive.csharp"
        }
      },
      "outputs": [
        {
          "data": {
            "text/html": [
              "<div><div><strong>Restore sources</strong><ul><li><span>https://pkgs.dev.azure.com/dnceng/public/_packaging/MachineLearning/nuget/v3/index.json</span></li></ul></div><div></div><div><strong>Installed Packages</strong><ul><li><span>Microsoft.Data.Analysis, 0.20.0-preview.22356.1</span></li><li><span>Microsoft.ML.AutoML, 0.20.0-preview.22356.1</span></li></ul></div></div>"
            ]
          },
          "execution_count": 1,
          "metadata": {},
          "output_type": "execute_result"
        },
        {
          "data": {
            "text/markdown": [
              "Loading extensions from `Microsoft.Data.Analysis.Interactive.dll`"
            ]
          },
          "execution_count": 1,
          "metadata": {},
          "output_type": "execute_result"
        },
        {
          "data": {
            "text/markdown": [
              "Loading extensions from `Microsoft.ML.AutoML.Interactive.dll`"
            ]
          },
          "execution_count": 1,
          "metadata": {},
          "output_type": "execute_result"
        }
      ],
      "source": [
        "#r \"nuget: Microsoft.ML.AutoML, 0.20.0-preview.22356.1\"\n",
        "#r \"nuget: Microsoft.Data.Analysis, 0.20.0-preview.22356.1\""
      ]
    },
    {
      "cell_type": "markdown",
      "metadata": {},
      "source": [
        "Reference packages with `using` statements"
      ]
    },
    {
      "cell_type": "code",
      "execution_count": 1,
      "metadata": {
        "dotnet_interactive": {
          "language": "csharp"
        },
        "vscode": {
          "languageId": "dotnet-interactive.csharp"
        }
      },
      "outputs": [],
      "source": [
        "using System.Text.Json;\n",
        "using Microsoft.Data.Analysis;\n",
        "using Microsoft.ML;\n",
        "using Microsoft.ML.AutoML;\n",
        "using Microsoft.ML.Data;\n",
        "using Microsoft.ML.Trainers.FastTree;\n",
        "using static Microsoft.ML.Transforms.OneHotEncodingEstimator;"
      ]
    },
    {
      "cell_type": "markdown",
      "metadata": {},
      "source": [
        "### **下載或查詢資料**\n",
        "以下程式碼嘗試在幾個已知位置找到資料檔案，或者它將從已知的 GitHub 位置下載它。"
      ]
    },
    {
      "cell_type": "code",
      "execution_count": 1,
      "metadata": {
        "dotnet_interactive": {
          "language": "csharp"
        },
        "vscode": {
          "languageId": "dotnet-interactive.csharp"
        }
      },
      "outputs": [
        {
          "data": {
            "text/plain": [
              "Train Data Path: C:\\dev\\csharp-notebooks\\machine-learning\\data\\taxi-fare.csv\r\n"
            ]
          },
          "execution_count": 1,
          "metadata": {},
          "output_type": "execute_result"
        }
      ],
      "source": [
        "using System;\n",
        "using System.IO;\n",
        "using System.Net;\n",
        "\n",
        "string EnsureDataSetDownloaded(string fileName)\n",
        "{\n",
        "\n",
        "\t// This is the path if the repo has been checked out.\n",
        "\tvar filePath = Path.Combine(Directory.GetCurrentDirectory(),\"data\", fileName);\n",
        "\n",
        "\tif (!File.Exists(filePath))\n",
        "\t{\n",
        "\t\t// This is the path if the file has already been downloaded.\n",
        "\t\tfilePath = Path.Combine(Directory.GetCurrentDirectory(), fileName);\n",
        "\t}\n",
        "\n",
        "\tif (!File.Exists(filePath))\n",
        "\t{\n",
        "\t\tusing (var client = new WebClient())\n",
        "\t\t{\n",
        "\t\t\tclient.DownloadFile($\"https://raw.githubusercontent.com/dotnet/csharp-notebooks/main/machine-learning/data/{fileName}\", filePath);\n",
        "\t\t}\n",
        "\t\tConsole.WriteLine($\"Downloaded {fileName}  to : {filePath}\");\n",
        "\t}\n",
        "\telse\n",
        "\t{\n",
        "\t\tConsole.WriteLine($\"{fileName} found here: {filePath}\");\n",
        "\t}\n",
        "\n",
        "\treturn filePath;\n",
        "}"
      ]
    },
    {
      "cell_type": "code",
      "execution_count": 1,
      "metadata": {
        "dotnet_interactive": {
          "language": "csharp"
        },
        "vscode": {
          "languageId": "dotnet-interactive.csharp"
        }
      },
      "outputs": [],
      "source": [
        "var trainDataPath = EnsureDataSetDownloaded(\"taxi-fare.csv\");\n",
        "var df = DataFrame.LoadCsv(trainDataPath);"
      ]
    },
    {
      "cell_type": "markdown",
      "metadata": {},
      "source": [
        "載入資料後，使用 `Head` 方法預覽前五行。"
      ]
    },
    {
      "cell_type": "code",
      "execution_count": 1,
      "metadata": {
        "dotnet_interactive": {
          "language": "csharp"
        },
        "vscode": {
          "languageId": "dotnet-interactive.csharp"
        }
      },
      "outputs": [
        {
          "data": {
            "text/html": [
              "<table id=\"table_637934937843853168\"><thead><tr><th><i>index</i></th><th>vendor_id</th><th>rate_code</th><th>passenger_count</th><th>trip_time_in_secs</th><th>trip_distance</th><th>payment_type</th><th>fare_amount</th></tr></thead><tbody><tr><td><i><div class=\"dni-plaintext\">0</div></i></td><td>CMT</td><td><div class=\"dni-plaintext\">1</div></td><td><div class=\"dni-plaintext\">1</div></td><td><div class=\"dni-plaintext\">1271</div></td><td><div class=\"dni-plaintext\">3.8</div></td><td>CRD</td><td><div class=\"dni-plaintext\">17.5</div></td></tr><tr><td><i><div class=\"dni-plaintext\">1</div></i></td><td>CMT</td><td><div class=\"dni-plaintext\">1</div></td><td><div class=\"dni-plaintext\">1</div></td><td><div class=\"dni-plaintext\">474</div></td><td><div class=\"dni-plaintext\">1.5</div></td><td>CRD</td><td><div class=\"dni-plaintext\">8</div></td></tr><tr><td><i><div class=\"dni-plaintext\">2</div></i></td><td>CMT</td><td><div class=\"dni-plaintext\">1</div></td><td><div class=\"dni-plaintext\">1</div></td><td><div class=\"dni-plaintext\">637</div></td><td><div class=\"dni-plaintext\">1.4</div></td><td>CRD</td><td><div class=\"dni-plaintext\">8.5</div></td></tr><tr><td><i><div class=\"dni-plaintext\">3</div></i></td><td>CMT</td><td><div class=\"dni-plaintext\">1</div></td><td><div class=\"dni-plaintext\">1</div></td><td><div class=\"dni-plaintext\">181</div></td><td><div class=\"dni-plaintext\">0.6</div></td><td>CSH</td><td><div class=\"dni-plaintext\">4.5</div></td></tr><tr><td><i><div class=\"dni-plaintext\">4</div></i></td><td>CMT</td><td><div class=\"dni-plaintext\">1</div></td><td><div class=\"dni-plaintext\">1</div></td><td><div class=\"dni-plaintext\">661</div></td><td><div class=\"dni-plaintext\">1.1</div></td><td>CRD</td><td><div class=\"dni-plaintext\">8.5</div></td></tr></tbody></table>"
            ]
          },
          "execution_count": 1,
          "metadata": {},
          "output_type": "execute_result"
        }
      ],
      "source": [
        "df.Head(5)"
      ]
    },
    {
      "cell_type": "markdown",
      "metadata": {},
      "source": [
        "### **初始化 MLContext**\n",
        "\n",
        "所有 ML.NET 操作都從 [MLContext](https://docs.microsoft.com/dotnet/api/microsoft.ml.mlcontext) 類開始。 初始化 mlContext 會建立一個新的 ML.NET 環境，該環境可以在模型建立工作流物件之間共享。 從概念上講，它類似於 Entity Framework 中的 DBContext。"
      ]
    },
    {
      "cell_type": "code",
      "execution_count": 1,
      "metadata": {
        "dotnet_interactive": {
          "language": "csharp"
        },
        "vscode": {
          "languageId": "dotnet-interactive.csharp"
        }
      },
      "outputs": [],
      "source": [
        "var mlContext = new MLContext();"
      ]
    },
    {
      "cell_type": "markdown",
      "metadata": {},
      "source": [
        "### 將資料拆分為訓練集、驗證集和測試集\n",
        "\n",
        "原始資料集分為三個子集：訓練、驗證和測試。 **train** 集用於學習資料模式。 **validation** 集用於最佳化模型超引數。 **test** 集用於使用迴歸任務的評估指標來評估模型的效能。\n",
        "\n",
        "在這種情況下，80% 的資料用於由『testFraction』引數定義的訓練。剩下的 20% 被分成兩半，用作驗證和測試集。\n",
        "\n",
        "#### 為什麼不使用整個資料集？\n",
        "\n",
        "儘管通常建議為您的培訓師提供更多可以從中學習的範例，但您不希望模型僅在歷史資料上表現良好。相反，您正在尋找一個模型，該模型可以從歷史資料中學習，並對新的和未見的資料進行概括或做出準確的預測。\n",
        "\n",
        "您在訓練過程中遇到的一些常見問題是過擬合和欠擬合。欠擬合意味著選擇的訓練器不足以擬合訓練資料集，通常會導致訓練過程中的高損失和測試資料集的低分數/指標。要解決此問題，您需要選擇更強大的模型或執行更多特徵工程。過度擬合則相反，當模型對訓練資料學習得很好時就會發生這種情況。這通常會導致訓練期間的低損失度量，但測試資料集的高損失。\n",
        "\n",
        "這些概念的一個很好的類比是為考試而學習。假設您提前知道問題和答案。學習後，您參加考試並獲得滿分。好訊息！但是，當您再次參加考試時，重新安排了問題並且措辭略有不同，您會得到較低的分數。這表明您記住了答案，實際上並沒有學習您正在測試的概念。這是過擬合的一個例子。擬合不足是相反的情況，即您獲得的學習材料不能準確地代表您在考試中所評估的內容。結果，您求助於猜測答案，因為您沒有足夠的知識來正確回答。"
      ]
    },
    {
      "cell_type": "code",
      "execution_count": 1,
      "metadata": {
        "dotnet_interactive": {
          "language": "csharp"
        },
        "vscode": {
          "languageId": "dotnet-interactive.csharp"
        }
      },
      "outputs": [],
      "source": [
        "var trainTestData = mlContext.Data.TrainTestSplit(df,testFraction:0.2);\n",
        "var validationTestData = mlContext.Data.TrainTestSplit(trainTestData.TestSet,testFraction:0.5);"
      ]
    },
    {
      "cell_type": "code",
      "execution_count": 1,
      "metadata": {
        "dotnet_interactive": {
          "language": "csharp"
        },
        "vscode": {
          "languageId": "dotnet-interactive.csharp"
        }
      },
      "outputs": [],
      "source": [
        "var trainSet = trainTestData.TrainSet;\n",
        "var validationSet = validationTestData.TrainSet;\n",
        "var testSet = validationTestData.TestSet;"
      ]
    },
    {
      "cell_type": "markdown",
      "metadata": {},
      "source": [
        "### 建立訓練通道\n",
        "\n",
        "對於此資料集，應用了以下轉換：\n",
        "\n",
        "- `OneHotEncoding` 將分類值轉換為數值\n",
        "- `ReplaceMissingValues` 顧名思義就是替換任何缺失值。\n",
        "- `Concatenate` 獲取所有特徵並建立一個特徵向量\n",
        "\n",
        "AutoML 用於定義迴歸實驗，使用『fare_amount』列作為預測列或標籤列。"
      ]
    },
    {
      "cell_type": "code",
      "execution_count": 1,
      "metadata": {
        "dotnet_interactive": {
          "language": "csharp"
        },
        "vscode": {
          "languageId": "dotnet-interactive.csharp"
        }
      },
      "outputs": [],
      "source": [
        "var pipeline = \n",
        "\tmlContext.Transforms.Categorical.OneHotEncoding(new[] { new InputOutputColumnPair(@\"vendor_id\", @\"vendor_id\"), new InputOutputColumnPair(@\"payment_type\", @\"payment_type\")},outputKind: OutputKind.Binary)\n",
        "\t\t.Append(mlContext.Transforms.ReplaceMissingValues(new[] { new InputOutputColumnPair(@\"rate_code\", @\"rate_code\"), new InputOutputColumnPair(@\"passenger_count\", @\"passenger_count\"), new InputOutputColumnPair(@\"trip_time_in_secs\", @\"trip_time_in_secs\"), new InputOutputColumnPair(@\"trip_distance\", @\"trip_distance\") }))\n",
        "        .Append(mlContext.Transforms.Concatenate(@\"Features\", new[] { @\"vendor_id\", @\"payment_type\", @\"rate_code\", @\"passenger_count\", @\"trip_time_in_secs\", @\"trip_distance\" }))\n",
        "        .Append(mlContext.Auto().Regression(labelColumnName: \"fare_amount\"));"
      ]
    },
    {
      "cell_type": "markdown",
      "metadata": {},
      "source": [
        "### **設定實驗**\n",
        "\n",
        "使用 AutoML 將我們的實驗設定為使用您剛剛定義的通道進行 60 秒的訓練。\n",
        "\n",
        "預設情況下，AutoML 使用您要最佳化的評估指標評估它訓練的模型。在這種情況下，它是 R-Squared，它是透過將實際值 `fare_amount` 與預測值 `Score` 進行比較來計算的。\n",
        "\n",
        "評估指標高度依賴於任務。對於迴歸，一些常見的指標包括：\n",
        "\n",
        "- 平均絕對誤差 (MAE)\n",
        "- 均方誤差 (MSE)\n",
        "- 均方根誤差 (RMSE)\n",
        "- R平方\n",
        "\n",
        "您的資料集和您嘗試實現的目標對您的指標選擇有很大影響。如果您的資料集中有異常值，它可能會扭曲您的預測。 MAE、MSE 和 RMSE 計算預測資料點和實際資料點之間的距離。所有這些度量對異常值都很敏感，因此如果您的資料集中有異常值，它們將顯示在您的指標中。 R-Squared 計算實際值和預測值之間的相關性。但是，隨著您新增更多資料點，您的 R-Squared 可能會繼續增加，給人一種錯誤印象，即具有高 R-Squared 值的模型具有良好的預測能力。高 R-Squared 值的結果有時可能表明過度擬合。"
      ]
    },
    {
      "cell_type": "code",
      "execution_count": 1,
      "metadata": {
        "dotnet_interactive": {
          "language": "csharp"
        },
        "vscode": {
          "languageId": "dotnet-interactive.csharp"
        }
      },
      "outputs": [],
      "source": [
        "var experiment = \n",
        "\tmlContext.Auto().CreateExperiment()\n",
        "\t\t.SetPipeline(pipeline)\n",
        "        .SetTrainingTimeInSeconds(60)\n",
        "        .SetDataset(trainSet, validationSet)\n",
        "        .SetEvaluateMetric(RegressionMetric.RSquared, \"fare_amount\", \"Score\");"
      ]
    },
    {
      "cell_type": "markdown",
      "metadata": {},
      "source": [
        "### **執行實驗**"
      ]
    },
    {
      "cell_type": "code",
      "execution_count": 1,
      "metadata": {
        "dotnet_interactive": {
          "language": "csharp"
        },
        "vscode": {
          "languageId": "dotnet-interactive.csharp"
        }
      },
      "outputs": [],
      "source": [
        "var result = await experiment.RunAsync();"
      ]
    },
    {
      "cell_type": "markdown",
      "metadata": {},
      "source": [
        "### **檢視最佳模型的評估指標**"
      ]
    },
    {
      "cell_type": "code",
      "execution_count": 1,
      "metadata": {
        "dotnet_interactive": {
          "language": "csharp"
        },
        "vscode": {
          "languageId": "dotnet-interactive.csharp"
        }
      },
      "outputs": [
        {
          "data": {
            "text/plain": [
              "R-Squared: 0.9329530384286037"
            ]
          },
          "execution_count": 1,
          "metadata": {},
          "output_type": "execute_result"
        }
      ],
      "source": [
        "$\"R-Squared: {result.Metric}\""
      ]
    },
    {
      "cell_type": "markdown",
      "metadata": {},
      "source": [
        "請注意，在訓練期間，評估指標是使用驗證集計算的。 要檢視您的模型在新資料上的表現如何，請根據測試集評估其效能。\n",
        "\n",
        "首先使用訓練結果中的『模型』屬性獲取最佳模型。 然後，使用 `Transform` 方法使用模型對測試資料集進行預測。"
      ]
    },
    {
      "cell_type": "code",
      "execution_count": 1,
      "metadata": {
        "dotnet_interactive": {
          "language": "csharp"
        },
        "vscode": {
          "languageId": "dotnet-interactive.csharp"
        }
      },
      "outputs": [],
      "source": [
        "ITransformer bestModel = result.Model;\n",
        "var predictions = bestModel.Transform(testSet);"
      ]
    },
    {
      "cell_type": "markdown",
      "metadata": {},
      "source": [
        "檢查前幾個預測（`Score` 列）並將它們與實際值（`fare_amount` 列）進行比較。 然後，計算它們之間的差異。"
      ]
    },
    {
      "cell_type": "code",
      "execution_count": 1,
      "metadata": {
        "dotnet_interactive": {
          "language": "csharp"
        },
        "vscode": {
          "languageId": "dotnet-interactive.csharp"
        }
      },
      "outputs": [
        {
          "data": {
            "text/html": [
              "<table><thead><tr><th><i>index</i></th><th>Actual</th><th>Predicted</th><th>Difference</th></tr></thead><tbody><tr><td>0</td><td><div class=\"dni-plaintext\">24.5</div></td><td><div class=\"dni-plaintext\">23.087162</div></td><td><div class=\"dni-plaintext\">1.412838</div></td></tr><tr><td>1</td><td><div class=\"dni-plaintext\">9.5</div></td><td><div class=\"dni-plaintext\">8.993666</div></td><td><div class=\"dni-plaintext\">0.5063343</div></td></tr><tr><td>2</td><td><div class=\"dni-plaintext\">4.5</div></td><td><div class=\"dni-plaintext\">4.808011</div></td><td><div class=\"dni-plaintext\">-0.30801105</div></td></tr><tr><td>3</td><td><div class=\"dni-plaintext\">8</div></td><td><div class=\"dni-plaintext\">7.994398</div></td><td><div class=\"dni-plaintext\">0.005601883</div></td></tr><tr><td>4</td><td><div class=\"dni-plaintext\">52</div></td><td><div class=\"dni-plaintext\">52.039684</div></td><td><div class=\"dni-plaintext\">-0.039684296</div></td></tr></tbody></table>"
            ]
          },
          "execution_count": 1,
          "metadata": {},
          "output_type": "execute_result"
        }
      ],
      "source": [
        "var actual = predictions.GetColumn<float>(\"fare_amount\");\n",
        "var predicted = predictions.GetColumn<float>(\"Score\");\n",
        "\n",
        "var compare = \n",
        "\tactual\n",
        "\t\t.Zip(predicted,(actual,pred) => new {Actual=actual, Predicted=pred, Difference=actual-pred})\n",
        "\t\t.Take(5);\n",
        "\n",
        "compare"
      ]
    },
    {
      "cell_type": "markdown",
      "metadata": {},
      "source": [
        "只需快速比較前幾個值，您就可以看到預測通常與實際金額相差幾美分。\n",
        "\n",
        "使用 ML.NET，您不必手動計算模型的評估指標。 ML.NET 為其支援的每個機器學習任務提供了一個內建的『評估』方法。 使用迴歸任務的 `Evaluate` 方法計算測試集的評估指標，其中 `fare_amount` 列是實際值， `Score` 列是預測值。"
      ]
    },
    {
      "cell_type": "code",
      "execution_count": 1,
      "metadata": {
        "dotnet_interactive": {
          "language": "csharp"
        },
        "vscode": {
          "languageId": "dotnet-interactive.csharp"
        }
      },
      "outputs": [],
      "source": [
        "var evaluationMetrics = mlContext.Regression.Evaluate(predictions,\"fare_amount\", \"Score\");"
      ]
    },
    {
      "cell_type": "markdown",
      "metadata": {},
      "source": [
        "Using the `Evaluate` method not only calculates the metric you optimized for during training (R-Squared), but also all the metrics for the regression task. "
      ]
    },
    {
      "cell_type": "code",
      "execution_count": 1,
      "metadata": {
        "dotnet_interactive": {
          "language": "csharp"
        },
        "vscode": {
          "languageId": "dotnet-interactive.csharp"
        }
      },
      "outputs": [
        {
          "data": {
            "text/html": [
              "<table><thead><tr><th>MeanAbsoluteError</th><th>MeanSquaredError</th><th>RootMeanSquaredError</th><th>LossFunction</th><th>RSquared</th></tr></thead><tbody><tr><td><div class=\"dni-plaintext\">0.6107270253580241</div></td><td><div class=\"dni-plaintext\">6.673910566709432</div></td><td><div class=\"dni-plaintext\">2.58339129183123</div></td><td><div class=\"dni-plaintext\">6.673910534194763</div></td><td><div class=\"dni-plaintext\">0.9277130209892651</div></td></tr></tbody></table>"
            ]
          },
          "execution_count": 1,
          "metadata": {},
          "output_type": "execute_result"
        }
      ],
      "source": [
        "evaluationMetrics"
      ]
    },
    {
      "cell_type": "markdown",
      "metadata": {},
      "source": [
        "### 使用 R-Squared 評估模型\n",
        "\n",
        "儘管您有多個指標可供選擇，但在訓練模型時，您已針對 R-Squared 進行了最佳化。 R 平方 (R2) 或確定係數將模型的預測能力表示為介於 -inf 和 1.00 之間的值。 1.00 表示完美契合，契合度可以任意差，因此得分可能為負數。 0.00 分表示模型正在猜測標籤的預期值。 負 R2 值表示擬合不遵循資料的趨勢，並且模型的效能比隨機猜測差。 這僅適用於非線性迴歸模型或約束線性迴歸。 R2 衡量實際測試資料值與預測值的接近程度。\n",
        "\n",
        "\n",
        "有關其他評估指標的詳細訊息，請參閱有關如何[使用指標評估您的 ML.NET 模型](https://docs.microsoft.com/dotnet/machine-learning/resources/metrics) 的指南。"
      ]
    },
    {
      "cell_type": "markdown",
      "metadata": {},
      "source": [
        "## 使用交叉驗證訓練和評估模型"
      ]
    },
    {
      "cell_type": "markdown",
      "metadata": {},
      "source": [
        "### 什麼是交叉驗證？\n",
        "\n",
        "交叉驗證是一種訓練和模型評估技術，它將資料分成幾個分割槽並在這些分割槽上訓練多個模型。 這種技術透過保留訓練過程中的資料來提高模型的魯棒性。 除了提高未見觀察的效能外，在資料受限的環境中，它還可以成為使用較小資料集訓練模型的有效工具。"
      ]
    },
    {
      "cell_type": "markdown",
      "metadata": {},
      "source": [
        "### 使用交叉驗證訓練模型"
      ]
    },
    {
      "cell_type": "markdown",
      "metadata": {},
      "source": [
        "首先初始化『MLContext』。"
      ]
    },
    {
      "cell_type": "code",
      "execution_count": 1,
      "metadata": {
        "dotnet_interactive": {
          "language": "csharp"
        },
        "vscode": {
          "languageId": "dotnet-interactive.csharp"
        }
      },
      "outputs": [],
      "source": [
        "var cvMLContext = new MLContext();"
      ]
    },
    {
      "cell_type": "markdown",
      "metadata": {},
      "source": [
        "然後，定義您的通道。 在這種情況下，使用實際的訓練器而不是 AutoML 中的『SweepableEstimator』。"
      ]
    },
    {
      "cell_type": "code",
      "execution_count": 1,
      "metadata": {
        "dotnet_interactive": {
          "language": "csharp"
        },
        "vscode": {
          "languageId": "dotnet-interactive.csharp"
        }
      },
      "outputs": [],
      "source": [
        "var cvMLPipeline = \n",
        "\tcvMLContext.Transforms.Categorical.OneHotEncoding(new[] { new InputOutputColumnPair(@\"vendor_id\", @\"vendor_id\"), new InputOutputColumnPair(@\"payment_type\", @\"payment_type\")},outputKind: OutputKind.Binary)\n",
        "\t\t.Append(cvMLContext.Transforms.ReplaceMissingValues(new[] { new InputOutputColumnPair(@\"rate_code\", @\"rate_code\"), new InputOutputColumnPair(@\"passenger_count\", @\"passenger_count\"), new InputOutputColumnPair(@\"trip_time_in_secs\", @\"trip_time_in_secs\"), new InputOutputColumnPair(@\"trip_distance\", @\"trip_distance\") }))\n",
        "        .Append(cvMLContext.Transforms.Concatenate(@\"Features\", new[] { @\"vendor_id\", @\"payment_type\", @\"rate_code\", @\"passenger_count\", @\"trip_time_in_secs\", @\"trip_distance\" }))\n",
        "\t\t.Append(cvMLContext.Regression.Trainers.FastForest(labelColumnName: \"fare_amount\"));"
      ]
    },
    {
      "cell_type": "markdown",
      "metadata": {},
      "source": [
        "使用 `CrossValidate` 方法開始使用定義的通道對您的資料進行訓練和評估。 預設情況下，資料分為五個子集，但您可以使用『numberOfFolds』引數將其設定為您喜歡的任何值。"
      ]
    },
    {
      "cell_type": "code",
      "execution_count": 1,
      "metadata": {
        "dotnet_interactive": {
          "language": "csharp"
        },
        "vscode": {
          "languageId": "dotnet-interactive.csharp"
        }
      },
      "outputs": [],
      "source": [
        "var cvResults = cvMLContext.Regression.CrossValidate(trainSet, cvMLPipeline, labelColumnName: \"fare_amount\");"
      ]
    },
    {
      "cell_type": "code",
      "execution_count": 1,
      "metadata": {
        "dotnet_interactive": {
          "language": "csharp"
        },
        "vscode": {
          "languageId": "dotnet-interactive.csharp"
        }
      },
      "outputs": [
        {
          "data": {
            "text/html": [
              "<table><thead><tr><th><i>index</i></th><th>MeanAbsoluteError</th><th>MeanSquaredError</th><th>RootMeanSquaredError</th><th>LossFunction</th><th>RSquared</th></tr></thead><tbody><tr><td>0</td><td><div class=\"dni-plaintext\">1.3080861318665928</div></td><td><div class=\"dni-plaintext\">10.437064100433819</div></td><td><div class=\"dni-plaintext\">3.230644533283385</div></td><td><div class=\"dni-plaintext\">10.437063966978595</div></td><td><div class=\"dni-plaintext\">0.8884018879298109</div></td></tr><tr><td>1</td><td><div class=\"dni-plaintext\">1.360165666717988</div></td><td><div class=\"dni-plaintext\">10.798742155503342</div></td><td><div class=\"dni-plaintext\">3.2861439645127146</div></td><td><div class=\"dni-plaintext\">10.798742212339462</div></td><td><div class=\"dni-plaintext\">0.8850517190709868</div></td></tr><tr><td>2</td><td><div class=\"dni-plaintext\">1.2518280553341605</div></td><td><div class=\"dni-plaintext\">8.216770508755435</div></td><td><div class=\"dni-plaintext\">2.8664909748253935</div></td><td><div class=\"dni-plaintext\">8.216770540499184</div></td><td><div class=\"dni-plaintext\">0.9086191464533752</div></td></tr><tr><td>3</td><td><div class=\"dni-plaintext\">1.3420262660438258</div></td><td><div class=\"dni-plaintext\">10.229870802662239</div></td><td><div class=\"dni-plaintext\">3.1984169213319014</div></td><td><div class=\"dni-plaintext\">10.229870780300226</div></td><td><div class=\"dni-plaintext\">0.8886983637741152</div></td></tr><tr><td>4</td><td><div class=\"dni-plaintext\">1.5430782453416307</div></td><td><div class=\"dni-plaintext\">10.122911443078698</div></td><td><div class=\"dni-plaintext\">3.1816523133552317</div></td><td><div class=\"dni-plaintext\">10.122911478082717</div></td><td><div class=\"dni-plaintext\">0.88835065401792</div></td></tr></tbody></table>"
            ]
          },
          "execution_count": 1,
          "metadata": {},
          "output_type": "execute_result"
        }
      ],
      "source": [
        "cvResults.Select(x => x.Metrics)"
      ]
    },
    {
      "cell_type": "markdown",
      "metadata": {},
      "source": [
        "### 計算測試集評估指標\n",
        "\n",
        "與前面的範例一樣，在完整測試集上使用『評估』方法來評估使用交叉驗證訓練的模型的效能。"
      ]
    },
    {
      "cell_type": "code",
      "execution_count": 1,
      "metadata": {
        "dotnet_interactive": {
          "language": "csharp"
        },
        "vscode": {
          "languageId": "dotnet-interactive.csharp"
        }
      },
      "outputs": [],
      "source": [
        "var cvTestEvalMetrics = \n",
        "\tcvResults\n",
        "\t\t.Select(fold => fold.Model.Transform(trainTestData.TestSet))\n",
        "\t\t.Select(predictions => cvMLContext.Regression.Evaluate(predictions, \"fare_amount\", \"Score\"));"
      ]
    },
    {
      "cell_type": "code",
      "execution_count": 1,
      "metadata": {
        "dotnet_interactive": {
          "language": "csharp"
        },
        "vscode": {
          "languageId": "dotnet-interactive.csharp"
        }
      },
      "outputs": [
        {
          "data": {
            "text/html": [
              "<table><thead><tr><th><i>index</i></th><th>MeanAbsoluteError</th><th>MeanSquaredError</th><th>RootMeanSquaredError</th><th>LossFunction</th><th>RSquared</th></tr></thead><tbody><tr><td>0</td><td><div class=\"dni-plaintext\">1.2946164063640293</div></td><td><div class=\"dni-plaintext\">9.741100529118015</div></td><td><div class=\"dni-plaintext\">3.1210736180228134</div></td><td><div class=\"dni-plaintext\">9.741100436339362</div></td><td><div class=\"dni-plaintext\">0.8944318265394658</div></td></tr><tr><td>1</td><td><div class=\"dni-plaintext\">1.3517783571125017</div></td><td><div class=\"dni-plaintext\">10.697284288708751</div></td><td><div class=\"dni-plaintext\">3.270670311833455</div></td><td><div class=\"dni-plaintext\">10.697284293348838</div></td><td><div class=\"dni-plaintext\">0.8840692835505208</div></td></tr><tr><td>2</td><td><div class=\"dni-plaintext\">1.258738437439045</div></td><td><div class=\"dni-plaintext\">10.056973626481687</div></td><td><div class=\"dni-plaintext\">3.1712731869836897</div></td><td><div class=\"dni-plaintext\">10.056973680972417</div></td><td><div class=\"dni-plaintext\">0.8910085843878911</div></td></tr><tr><td>3</td><td><div class=\"dni-plaintext\">1.3321059289142654</div></td><td><div class=\"dni-plaintext\">10.119475327642087</div></td><td><div class=\"dni-plaintext\">3.1811122783771855</div></td><td><div class=\"dni-plaintext\">10.119475305281489</div></td><td><div class=\"dni-plaintext\">0.8903312286404623</div></td></tr><tr><td>4</td><td><div class=\"dni-plaintext\">1.5373861941022984</div></td><td><div class=\"dni-plaintext\">11.21522705311926</div></td><td><div class=\"dni-plaintext\">3.3489143096112897</div></td><td><div class=\"dni-plaintext\">11.215227048598013</div></td><td><div class=\"dni-plaintext\">0.878456132199452</div></td></tr></tbody></table>"
            ]
          },
          "execution_count": 1,
          "metadata": {},
          "output_type": "execute_result"
        }
      ],
      "source": [
        "cvTestEvalMetrics"
      ]
    },
    {
      "cell_type": "markdown",
      "metadata": {},
      "source": [
        "## 模型可解釋性\n",
        "\n",
        "評估指標是量化模型對新資料的預測效果的好方法。但是，一個好的評估指標不應該是您在評估模型時考慮的唯一因素。為了對您的模型及其做出的決策建立更多的信任，瞭解它如何以及為什麼做出它所做的決策非常重要。\n",
        "\n",
        "模型在社會中變得越來越普遍，並且正在影響個人的生活。例如，假設使用機器學習模型進行醫學診斷。該模型的診斷很可能是正確的，但由於對個人健康的影響，做出錯誤診斷的風險很高。因此，所有利益相關者（患者、醫生、監管機構）都必須瞭解是什麼促使模型做出診斷，以便對其決策充滿信心。\n",
        "\n",
        "### 全域和區域性解釋\n",
        "\n",
        "在解釋機器學習模型時，您可以在全域和本地級別進行。\n",
        "\n",
        "全域解釋是您在總體水平上進行概括。例如，假設您正在建立一個模型來預測出租車費用。在解釋為什麼某些票價比其他票價更貴時，您很可能會發現行程更長或時間更長的遊樂設施可能更貴。儘管這並不能準確地告訴您為什麼任何一種特定的遊樂設施都比另一種更昂貴，但在總體層面上，您可以在模型做出決策時看到哪些特徵對模型很重要。\n",
        "\n",
        "如果您在解釋模型的決策時需要更多粒度，這就是區域性解釋的用武之地。區域性解釋允許您檢視任何單個預測，哪些特徵有助於模型的決策。例如，假設一個模型用於確定個人貸款的信用風險。給定兩個具有不同債務、收入和付款歷史的客戶，該模型確定哪個客戶更有可能償還貸款。使用本地可解釋性技術，您可以在個人層面檢查哪些特徵促成了拒絕貸款的決定。\n",
        "\n",
        "### ML.NET 中的可解釋性技術\n",
        "\n",
        "ML.NET 提供了兩種解釋模型的技術：\n",
        "\n",
        "- 排列特徵重要性（PFI）\n",
        "- 特徵貢獻計算（FCC）\n",
        "\n",
        "#### 排列特徵重要性（PFI）\n",
        "\n",
        "排列特徵重要性是一種**全域**可解釋性技術。在高層次上，它對整個資料集一次隨機打亂數據一個特徵，並計算感興趣的效能指標降低了多少。變化越大，該特徵就越重要。有關詳細訊息，請參閱 [使用排列特徵重要性解釋模型預測](https://docs.microsoft.com/dotnet/machine-learning/how-to-guides/explain-machine-learning-model-permutation-feature-importance -ml-net)\n",
        "\n",
        "#### 特徵貢獻計算（FCC）\n",
        "\n",
        "特徵貢獻計算是一種**本地**可解釋性技術。該技術計算每個預測的每個特徵貢獻的模型特定清單。這些貢獻可以是正面的（它們使評估指標更高）或負面的（它們使評估指標更低）。"
      ]
    },
    {
      "cell_type": "markdown",
      "metadata": {},
      "source": [
        "### Explain models with Permutation Feature Importance (PFI)"
      ]
    },
    {
      "cell_type": "markdown",
      "metadata": {},
      "source": [
        "#### Initialize MLContext"
      ]
    },
    {
      "cell_type": "code",
      "execution_count": 1,
      "metadata": {
        "dotnet_interactive": {
          "language": "csharp"
        },
        "vscode": {
          "languageId": "dotnet-interactive.csharp"
        }
      },
      "outputs": [],
      "source": [
        "var pfiMLContext = new MLContext();"
      ]
    },
    {
      "cell_type": "markdown",
      "metadata": {},
      "source": [
        "#### 定義資料準備通道"
      ]
    },
    {
      "cell_type": "code",
      "execution_count": 1,
      "metadata": {
        "dotnet_interactive": {
          "language": "csharp"
        },
        "vscode": {
          "languageId": "dotnet-interactive.csharp"
        }
      },
      "outputs": [],
      "source": [
        "var pfiDataPipeline = \n",
        "\tpfiMLContext.Transforms.Categorical.OneHotEncoding(new[] { new InputOutputColumnPair(@\"vendor_id\", @\"vendor_id\"), new InputOutputColumnPair(@\"payment_type\", @\"payment_type\")},outputKind: OutputKind.Binary)\n",
        "\t\t.Append(pfiMLContext.Transforms.ReplaceMissingValues(new[] { new InputOutputColumnPair(@\"rate_code\", @\"rate_code\"), new InputOutputColumnPair(@\"passenger_count\", @\"passenger_count\"), new InputOutputColumnPair(@\"trip_time_in_secs\", @\"trip_time_in_secs\"), new InputOutputColumnPair(@\"trip_distance\", @\"trip_distance\") }))\n",
        "        .Append(pfiMLContext.Transforms.Concatenate(@\"Features\", new[] { @\"vendor_id\", @\"payment_type\", @\"rate_code\", @\"passenger_count\", @\"trip_time_in_secs\", @\"trip_distance\" }));"
      ]
    },
    {
      "cell_type": "markdown",
      "metadata": {},
      "source": [
        "#### 將資料轉換應用於訓練資料"
      ]
    },
    {
      "cell_type": "code",
      "execution_count": 1,
      "metadata": {
        "dotnet_interactive": {
          "language": "csharp"
        },
        "vscode": {
          "languageId": "dotnet-interactive.csharp"
        }
      },
      "outputs": [],
      "source": [
        "var pfiPreprocessedData = \n",
        "\tpfiDataPipeline\n",
        "\t\t.Fit(trainSet)\n",
        "\t\t.Transform(trainSet);"
      ]
    },
    {
      "cell_type": "markdown",
      "metadata": {},
      "source": [
        "#### 定義訓練器"
      ]
    },
    {
      "cell_type": "code",
      "execution_count": 1,
      "metadata": {
        "dotnet_interactive": {
          "language": "csharp"
        },
        "vscode": {
          "languageId": "dotnet-interactive.csharp"
        }
      },
      "outputs": [],
      "source": [
        "var pfiTrainer = pfiMLContext.Regression.Trainers.FastForest(labelColumnName: \"fare_amount\");"
      ]
    },
    {
      "cell_type": "markdown",
      "metadata": {},
      "source": [
        "#### 使訓練器適配您的預處理資料"
      ]
    },
    {
      "cell_type": "code",
      "execution_count": 1,
      "metadata": {
        "dotnet_interactive": {
          "language": "csharp"
        },
        "vscode": {
          "languageId": "dotnet-interactive.csharp"
        }
      },
      "outputs": [],
      "source": [
        "var pfiModel = pfiTrainer.Fit(pfiPreprocessedData);"
      ]
    },
    {
      "cell_type": "markdown",
      "metadata": {},
      "source": [
        "#### 計算排列特徵重要性（PFI）"
      ]
    },
    {
      "cell_type": "code",
      "execution_count": 1,
      "metadata": {
        "dotnet_interactive": {
          "language": "csharp"
        },
        "vscode": {
          "languageId": "dotnet-interactive.csharp"
        }
      },
      "outputs": [],
      "source": [
        "var permutationFeatureImportance =\n",
        "    mlContext\n",
        "        .Regression\n",
        "        .PermutationFeatureImportance(pfiModel, pfiPreprocessedData, permutationCount:3, labelColumnName: \"fare_amount\");"
      ]
    },
    {
      "cell_type": "markdown",
      "metadata": {},
      "source": [
        "#### 提取 R 平方度量"
      ]
    },
    {
      "cell_type": "code",
      "execution_count": 1,
      "metadata": {
        "dotnet_interactive": {
          "language": "csharp"
        },
        "vscode": {
          "languageId": "dotnet-interactive.csharp"
        }
      },
      "outputs": [],
      "source": [
        "var pfiMetrics = \n",
        "\tpermutationFeatureImportance\n",
        "\t\t.Select((metric,idx) => new {idx, metric.RSquared})\n",
        "\t\t.OrderByDescending(x => Math.Abs(x.RSquared.Mean));"
      ]
    },
    {
      "cell_type": "markdown",
      "metadata": {},
      "source": [
        "#### 獲取屬性名稱清單"
      ]
    },
    {
      "cell_type": "code",
      "execution_count": 1,
      "metadata": {
        "dotnet_interactive": {
          "language": "csharp"
        },
        "vscode": {
          "languageId": "dotnet-interactive.csharp"
        }
      },
      "outputs": [],
      "source": [
        "var featureContributionColumn = pfiPreprocessedData.Schema.GetColumnOrNull(\"Features\");\n",
        "var slotNames = new VBuffer<ReadOnlyMemory<char>>();\n",
        "featureContributionColumn.Value.GetSlotNames(ref slotNames);\n",
        "var slotNameValues = slotNames.DenseValues();"
      ]
    },
    {
      "cell_type": "markdown",
      "metadata": {},
      "source": [
        "#### 將 PFI 指標對映到特徵名稱"
      ]
    },
    {
      "cell_type": "code",
      "execution_count": 1,
      "metadata": {
        "dotnet_interactive": {
          "language": "csharp"
        },
        "vscode": {
          "languageId": "dotnet-interactive.csharp"
        }
      },
      "outputs": [
        {
          "data": {
            "text/html": [
              "<table><thead><tr><th><i>index</i></th><th>Key</th><th>Value</th></tr></thead><tbody><tr><td>0</td><td>vendor_id.Bit2</td><td><div class=\"dni-plaintext\">-0.5103167076996584</div></td></tr><tr><td>1</td><td>vendor_id.Bit1</td><td><div class=\"dni-plaintext\">-0.20920573710951015</div></td></tr><tr><td>2</td><td>vendor_id.Bit0</td><td><div class=\"dni-plaintext\">-0.20524726245559932</div></td></tr><tr><td>3</td><td>payment_type.Bit3</td><td><div class=\"dni-plaintext\">-0.0013735609832817113</div></td></tr><tr><td>4</td><td>payment_type.Bit2</td><td><div class=\"dni-plaintext\">-0.0005371983420188927</div></td></tr><tr><td>5</td><td>payment_type.Bit1</td><td><div class=\"dni-plaintext\">-0.00015402329111213753</div></td></tr><tr><td>6</td><td>payment_type.Bit0</td><td><div class=\"dni-plaintext\">-7.256291485776185E-05</div></td></tr><tr><td>7</td><td>rate_code</td><td><div class=\"dni-plaintext\">-5.605438192501921E-07</div></td></tr><tr><td>8</td><td>passenger_count</td><td><div class=\"dni-plaintext\">0</div></td></tr><tr><td>9</td><td>trip_time_in_secs</td><td><div class=\"dni-plaintext\">0</div></td></tr><tr><td>10</td><td>trip_distance</td><td><div class=\"dni-plaintext\">0</div></td></tr></tbody></table>"
            ]
          },
          "execution_count": 1,
          "metadata": {},
          "output_type": "execute_result"
        }
      ],
      "source": [
        "var featureImportance = \n",
        "\tpfiMetrics\n",
        "\t\t.Zip(slotNameValues, (a,b) => new KeyValuePair<string,double>(b.ToString(),a.RSquared.Mean));\n",
        "\n",
        "featureImportance"
      ]
    },
    {
      "cell_type": "markdown",
      "metadata": {},
      "source": [
        "### 使用特徵貢獻計算 (FCC) 解釋模型"
      ]
    },
    {
      "cell_type": "markdown",
      "metadata": {},
      "source": [
        "#### MLContext 初始化"
      ]
    },
    {
      "cell_type": "code",
      "execution_count": 1,
      "metadata": {
        "dotnet_interactive": {
          "language": "csharp"
        },
        "vscode": {
          "languageId": "dotnet-interactive.csharp"
        }
      },
      "outputs": [],
      "source": [
        "var fccMLContext = new MLContext();"
      ]
    },
    {
      "cell_type": "markdown",
      "metadata": {},
      "source": [
        "#### 定義資料準備通道"
      ]
    },
    {
      "cell_type": "code",
      "execution_count": 1,
      "metadata": {
        "dotnet_interactive": {
          "language": "csharp"
        },
        "vscode": {
          "languageId": "dotnet-interactive.csharp"
        }
      },
      "outputs": [],
      "source": [
        "var fccDataPipeline = \n",
        "\tfccMLContext.Transforms.Categorical.OneHotEncoding(new[] { new InputOutputColumnPair(@\"vendor_id\", @\"vendor_id\"), new InputOutputColumnPair(@\"payment_type\", @\"payment_type\")},outputKind: OutputKind.Binary)\n",
        "\t\t.Append(fccMLContext.Transforms.ReplaceMissingValues(new[] { new InputOutputColumnPair(@\"rate_code\", @\"rate_code\"), new InputOutputColumnPair(@\"passenger_count\", @\"passenger_count\"), new InputOutputColumnPair(@\"trip_time_in_secs\", @\"trip_time_in_secs\"), new InputOutputColumnPair(@\"trip_distance\", @\"trip_distance\") }))\n",
        "        .Append(fccMLContext.Transforms.Concatenate(@\"Features\", new[] { @\"vendor_id\", @\"payment_type\", @\"rate_code\", @\"passenger_count\", @\"trip_time_in_secs\", @\"trip_distance\" }));"
      ]
    },
    {
      "cell_type": "markdown",
      "metadata": {},
      "source": [
        "#### 將資料轉換應用於訓練資料"
      ]
    },
    {
      "cell_type": "code",
      "execution_count": 1,
      "metadata": {
        "dotnet_interactive": {
          "language": "csharp"
        },
        "vscode": {
          "languageId": "dotnet-interactive.csharp"
        }
      },
      "outputs": [],
      "source": [
        "var fccPreprocessedData = \n",
        "\tfccDataPipeline\n",
        "\t\t.Fit(trainSet)\n",
        "\t\t.Transform(trainSet);"
      ]
    },
    {
      "cell_type": "markdown",
      "metadata": {},
      "source": [
        "#### 定義訓練器"
      ]
    },
    {
      "cell_type": "code",
      "execution_count": 1,
      "metadata": {
        "dotnet_interactive": {
          "language": "csharp"
        },
        "vscode": {
          "languageId": "dotnet-interactive.csharp"
        }
      },
      "outputs": [],
      "source": [
        "var fccTrainer = fccMLContext.Regression.Trainers.FastForest(labelColumnName: \"fare_amount\");"
      ]
    },
    {
      "cell_type": "markdown",
      "metadata": {},
      "source": [
        "#### 使訓練器適合您的預處理資料"
      ]
    },
    {
      "cell_type": "code",
      "execution_count": 1,
      "metadata": {
        "dotnet_interactive": {
          "language": "csharp"
        },
        "vscode": {
          "languageId": "dotnet-interactive.csharp"
        }
      },
      "outputs": [],
      "source": [
        "var fccModel = fccTrainer.Fit(fccPreprocessedData);"
      ]
    },
    {
      "cell_type": "markdown",
      "metadata": {},
      "source": [
        "#### 計算特徵貢獻"
      ]
    },
    {
      "cell_type": "code",
      "execution_count": 1,
      "metadata": {
        "dotnet_interactive": {
          "language": "csharp"
        },
        "vscode": {
          "languageId": "dotnet-interactive.csharp"
        }
      },
      "outputs": [],
      "source": [
        "var featureContributionCalc = \n",
        "\tfccMLContext.Transforms.CalculateFeatureContribution(fccModel,normalize:false)\n",
        "\t\t.Fit(fccPreprocessedData)\n",
        "\t\t.Transform(fccPreprocessedData);"
      ]
    },
    {
      "cell_type": "markdown",
      "metadata": {},
      "source": [
        "#### 獲取功能名稱清單"
      ]
    },
    {
      "cell_type": "code",
      "execution_count": 1,
      "metadata": {
        "dotnet_interactive": {
          "language": "csharp"
        },
        "vscode": {
          "languageId": "dotnet-interactive.csharp"
        }
      },
      "outputs": [],
      "source": [
        "var featureContributionColumn = featureContributionCalc.Schema.GetColumnOrNull(\"FeatureContributions\");\n",
        "var slotNames = new VBuffer<ReadOnlyMemory<char>>();\n",
        "featureContributionColumn.Value.GetSlotNames(ref slotNames);\n",
        "var slotNameValues = slotNames.DenseValues();"
      ]
    },
    {
      "cell_type": "markdown",
      "metadata": {},
      "source": [
        "#### 獲取特徵貢獻值"
      ]
    },
    {
      "cell_type": "code",
      "execution_count": 1,
      "metadata": {
        "dotnet_interactive": {
          "language": "csharp"
        },
        "vscode": {
          "languageId": "dotnet-interactive.csharp"
        }
      },
      "outputs": [],
      "source": [
        "var featureContributionValues = featureContributionCalc.GetColumn<float[]>(\"FeatureContributions\");"
      ]
    },
    {
      "cell_type": "markdown",
      "metadata": {},
      "source": [
        "#### 使用特徵名稱對映特徵貢獻值"
      ]
    },
    {
      "cell_type": "code",
      "execution_count": 1,
      "metadata": {
        "dotnet_interactive": {
          "language": "csharp"
        },
        "vscode": {
          "languageId": "dotnet-interactive.csharp"
        }
      },
      "outputs": [],
      "source": [
        "var featureContributions = \n",
        "\tfeatureContributionValues\n",
        "\t\t.Select(x => x.Zip(slotNameValues, (a,b) => new KeyValuePair<string,float>(b.ToString(),a)));"
      ]
    },
    {
      "cell_type": "markdown",
      "metadata": {},
      "source": [
        "#### 顯示第一個預測貢獻的特徵"
      ]
    },
    {
      "cell_type": "code",
      "execution_count": 1,
      "metadata": {
        "dotnet_interactive": {
          "language": "csharp"
        },
        "vscode": {
          "languageId": "dotnet-interactive.csharp"
        }
      },
      "outputs": [
        {
          "data": {
            "text/html": [
              "<table><thead><tr><th><i>index</i></th><th>Key</th><th>Value</th></tr></thead><tbody><tr><td>0</td><td>vendor_id.Bit2</td><td><div class=\"dni-plaintext\">0</div></td></tr><tr><td>1</td><td>vendor_id.Bit1</td><td><div class=\"dni-plaintext\">0</div></td></tr><tr><td>2</td><td>vendor_id.Bit0</td><td><div class=\"dni-plaintext\">6.46816</div></td></tr><tr><td>3</td><td>payment_type.Bit3</td><td><div class=\"dni-plaintext\">0</div></td></tr><tr><td>4</td><td>payment_type.Bit2</td><td><div class=\"dni-plaintext\">-3.4585545</div></td></tr><tr><td>5</td><td>payment_type.Bit1</td><td><div class=\"dni-plaintext\">19.19871</div></td></tr><tr><td>6</td><td>payment_type.Bit0</td><td><div class=\"dni-plaintext\">10.600954</div></td></tr><tr><td>7</td><td>rate_code</td><td><div class=\"dni-plaintext\">-1779.6366</div></td></tr><tr><td>8</td><td>passenger_count</td><td><div class=\"dni-plaintext\">-1.6658905</div></td></tr><tr><td>9</td><td>trip_time_in_secs</td><td><div class=\"dni-plaintext\">75.95777</div></td></tr><tr><td>10</td><td>trip_distance</td><td><div class=\"dni-plaintext\">-803.3262</div></td></tr></tbody></table>"
            ]
          },
          "execution_count": 1,
          "metadata": {},
          "output_type": "execute_result"
        }
      ],
      "source": [
        "featureContributions.First()"
      ]
    },
    {
      "cell_type": "markdown",
      "metadata": {},
      "source": [
        "## **如何改進我的模型？**"
      ]
    },
    {
      "cell_type": "markdown",
      "metadata": {},
      "source": [
        "模型評估是機器學習工作流程中的一個重要步驟，用於確定模型是否已準備好部署到生產中。如果您的模型不符合您的生產就緒標準，您可以嘗試一些事情來改進您的模型。這些包括：\n",
        "\n",
        "- **重新定義問題** - 您是否正在嘗試解決正確的問題？考慮從不同的角度看待問題。\n",
        "- **提供更多資料樣本** - 經驗是最好的老師。提供更多代表您的問題空間的範例有助於培訓師識別更多邊緣案例。\n",
        "- **新增功能（更多上下文）** - 圍繞資料點建立上下文有助於演算法和主題專家更好地做出決策。例如，一所房子有三間臥室這一事實本身並不能很好地表明它的價格。但是，如果您新增上下文並且現在知道它位於主要大都市區以外的郊區，平均年齡為 38 歲，平均家庭收入為 80,000 美元，學校位於前 20 個百分位，那麼該演算法有更多訊息可以作為其基礎上的決定。\n",
        "- **使用有意義的資料和特徵** - 更多資料和特徵（上下文）有助於提高準確性，但也會引入噪音。考慮使用置換特徵重要性 (PFI) 和特徵貢獻計算 (FCC) 來確定影響您的預測的特徵並刪除任何對您的模型沒有貢獻的特徵。\n",
        "- **使用交叉驗證** - 交叉驗證可以成為訓練具有較小資料集的模型的有效工具。\n",
        "- **超引數調整** - 超引數與訓練期間學習的引數一樣重要。找到合適的人是一個反覆試驗的過程。使用 AutoML 搜尋空間和全面估計器來幫助您為演算法找到正確的超引數。\n",
        "- **選擇不同的演算法** - 就像超引數調整一樣，找到合適的演算法來訓練你的模型是一個反覆試驗的過程。使用 AutoML 幫助您遍歷 ML.NET 中可用的各種演算法，以幫助您選擇最佳演算法來解決您的問題。\n",
        "\n",
        "有關詳細訊息，請參閱有關 [如何改進 ML.NET 模型] (https://docs.microsoft.com/dotnet/machine-learning/resources/improve-machine-learning-model-ml-net) 的指南。"
      ]
    },
    {
      "cell_type": "markdown",
      "metadata": {},
      "source": [
        "## 進階學習\n",
        "\n",
        "> [⏪ 上一個學習模組 - 訓練和AutoML](https://github.com/kinfeylo/csharp-notebooks/blob/main/machine-learning/03-Training%20and%20AutoML.ipynb)\n",
        "\n",
        "### 更多實例\n",
        "\n",
        "- [Titanic 資料集二分類](https://github.com/doggy8088/csharp-notebooks/blob/zh-tw/machine-learning/REF-Kaggle%20with%20Titanic%20Dataset.ipynb)  \n",
        "- [使用 AutoML 進行迴歸 (計程車資料集)](https://github.com/doggy8088/csharp-notebooks/blob/zh-tw/machine-learning/E2E-Regression%20with%20Taxi%20Dataset.ipynb)  "
      ]
    }
  ],
  "metadata": {
    "kernelspec": {
      "display_name": ".NET (C#)",
      "language": "C#",
      "name": ".net-csharp"
    },
    "language_info": {
      "file_extension": ".cs",
      "mimetype": "text/x-csharp",
      "name": "C#",
      "pygments_lexer": "csharp",
      "version": "8.0"
    }
  },
  "nbformat": 4,
  "nbformat_minor": 4
}
