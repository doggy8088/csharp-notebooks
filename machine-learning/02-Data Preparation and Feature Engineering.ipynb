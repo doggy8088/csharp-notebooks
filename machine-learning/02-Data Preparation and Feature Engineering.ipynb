{
  "cells": [
    {
      "cell_type": "markdown",
      "metadata": {},
      "source": [
        "# **数据准备和特征工程**\n",
        "\n",
        "数据对于训练和准备模型至关重要。 在本 Notebook 中，我们将介绍如何将数据加载到 ML.NET 中并确保其格式正确，以便 ML.NET 可以使用它。\n",
        "\n",
        "在本 Notebook 中，您将学习如何...\n",
        "\n",
        "- 将数据加载到 ML.NET\n",
        "- 应用数据转换来帮助 ML.NET 理解数据"
      ]
    },
    {
      "cell_type": "markdown",
      "metadata": {},
      "source": [
        "## **ML.NET加载数据**"
      ]
    },
    {
      "cell_type": "markdown",
      "metadata": {},
      "source": [
        "### 什么是 IDataView？\n",
        "\n",
        "[IDataView](https://docs.microsoft.com/dotnet/api/microsoft.ml.idataview?view=ml-dotnet) 是 ML.NET 为训练加载的数据格式。 它是一组接口和组件，可为机器学习和高级分析应用程序提供模式化数据的高效组合处理。 它旨在优雅高效地处理高维数据和大型数据集。\n",
        "\n",
        "IDataView 具有一般模式支持，因为视图可以有任意数量的列，每列都有关联的名称、索引、数据类型和可选注释。"
      ]
    },
    {
      "cell_type": "markdown",
      "metadata": {},
      "source": [
        "### **如何创建 IDataView**\n",
        "\n",
        "您可以使用任何加载数据的方法来创建 IDataView：\n",
        "\n",
        "- 文本加载器\n",
        "- LoadFromEnumerable\n",
        "- 数据库加载器\n",
        "- LoadFromTextFile\n",
        "\n",
        "有关更多文档和示例，请参阅[从文件和其他来源加载数据](https://docs.microsoft.com/dotnet/machine-learning/how-to-guides/load-data-ml-net)。"
      ]
    },
    {
      "cell_type": "code",
      "execution_count": 1,
      "metadata": {
        "dotnet_interactive": {
          "language": "csharp"
        },
        "vscode": {
          "languageId": "dotnet-interactive.csharp"
        }
      },
      "outputs": [
        {
          "data": {
            "text/html": [
              "<div><div></div><div></div><div><strong>Installed Packages</strong><ul><li><span>Microsoft.ML, 2.0.0-preview.22313.1</span></li></ul></div></div>"
            ]
          },
          "execution_count": 1,
          "metadata": {},
          "output_type": "execute_result"
        }
      ],
      "source": [
        "#i \"nuget:https://pkgs.dev.azure.com/dnceng/public/_packaging/MachineLearning/nuget/v3/index.json\"\n",
        "#r \"nuget: Microsoft.ML, 2.0.0-preview.22356.1\""
      ]
    },
    {
      "cell_type": "code",
      "execution_count": 1,
      "metadata": {
        "dotnet_interactive": {
          "language": "csharp"
        },
        "vscode": {
          "languageId": "dotnet-interactive.csharp"
        }
      },
      "outputs": [],
      "source": [
        "using Microsoft.ML;\n",
        "using Microsoft.ML.Data;\n",
        "using Microsoft.ML.Transforms; "
      ]
    },
    {
      "cell_type": "markdown",
      "metadata": {},
      "source": [
        "## **下载或查找数据**\n",
        "以下代码尝试在几个已知位置找到数据文件，或者它将从已知的 GitHub 位置下载它。"
      ]
    },
    {
      "cell_type": "code",
      "execution_count": 1,
      "metadata": {
        "dotnet_interactive": {
          "language": "csharp"
        },
        "vscode": {
          "languageId": "dotnet-interactive.csharp"
        }
      },
      "outputs": [],
      "source": [
        "using System;\n",
        "using System.IO;\n",
        "using System.Net;\n",
        "\n",
        "string EnsureDataSetDownloaded(string fileName)\n",
        "{\n",
        "\n",
        "\t// This is the path if the repo has been checked out.\n",
        "\tvar filePath = Path.Combine(Directory.GetCurrentDirectory(),\"data\", fileName);\n",
        "\n",
        "\tif (!File.Exists(filePath))\n",
        "\t{\n",
        "\t\t// This is the path if the file has already been downloaded.\n",
        "\t\tfilePath = Path.Combine(Directory.GetCurrentDirectory(), fileName);\n",
        "\t}\n",
        "\n",
        "\tif (!File.Exists(filePath))\n",
        "\t{\n",
        "\t\tusing (var client = new WebClient())\n",
        "\t\t{\n",
        "\t\t\tclient.DownloadFile($\"https://raw.githubusercontent.com/dotnet/csharp-notebooks/main/machine-learning/data/{fileName}\", filePath);\n",
        "\t\t}\n",
        "\t\tConsole.WriteLine($\"Downloaded {fileName}  to : {filePath}\");\n",
        "\t}\n",
        "\telse\n",
        "\t{\n",
        "\t\tConsole.WriteLine($\"{fileName} found here: {filePath}\");\n",
        "\t}\n",
        "\n",
        "\treturn filePath;\n",
        "}"
      ]
    },
    {
      "cell_type": "markdown",
      "metadata": {},
      "source": [
        "#### 从文件加载\n",
        "\n",
        "[TextLoader](https://docs.microsoft.com/dotnet/api/microsoft.ml.data.textloader?view=ml-dotnet) 可以将结构化文件加载到 IDataView 中。 结构化信息表示为数据的列和行。"
      ]
    },
    {
      "cell_type": "markdown",
      "metadata": {},
      "source": [
        "IDataView 具有一般模式支持，因为视图可以有任意数量的列，每列都有关联的名称、索引、数据类型和可选注释。 您可以使用 Plain-Old-CLR-Objects (POCO) 或类为您的数据定义架构。\n",
        "\n",
        "关于 ModelInput 类的一些注意事项。\n",
        "- `LoadColumn` 属性指定列索引。 这是从文件加载时的必要属性。\n",
        "- `ColumnName` 属性用于将列的名称设置为属性名称以外的名称。 内存中的对象使用属性名称。 但是，对于数据处理和构建机器学习模型，ML.NET 会使用 ColumnName 属性中提供的值覆盖和引用该属性。"
      ]
    },
    {
      "cell_type": "code",
      "execution_count": 1,
      "metadata": {
        "dotnet_interactive": {
          "language": "csharp"
        },
        "vscode": {
          "languageId": "dotnet-interactive.csharp"
        }
      },
      "outputs": [],
      "source": [
        "public class ModelInput\n",
        "{\n",
        "    [LoadColumn(0)]\n",
        "    [ColumnName(@\"vendor_id\")]\n",
        "    public string Vendor_id { get; set; }\n",
        "\n",
        "    [LoadColumn(1)]\n",
        "    [ColumnName(@\"rate_code\")]\n",
        "    public float Rate_code { get; set; }\n",
        "\n",
        "    [LoadColumn(2)]\n",
        "    [ColumnName(@\"passenger_count\")]\n",
        "    public float Passenger_count { get; set; }\n",
        "\n",
        "    [LoadColumn(3)]\n",
        "    [ColumnName(@\"trip_time_in_secs\")]\n",
        "    public float Trip_time_in_secs { get; set; }\n",
        "\n",
        "    [LoadColumn(4)]\n",
        "    [ColumnName(@\"trip_distance\")]\n",
        "    public float Trip_distance { get; set; }\n",
        "\n",
        "    [LoadColumn(5)]\n",
        "    [ColumnName(@\"payment_type\")]\n",
        "    public string Payment_type { get; set; }\n",
        "\n",
        "    [LoadColumn(6)]\n",
        "    [ColumnName(@\"fare_amount\")]\n",
        "    public float Fare_amount { get; set; }\n",
        "\n",
        "}"
      ]
    },
    {
      "cell_type": "markdown",
      "metadata": {},
      "source": [
        "所有 ML.NET 操作都从 [MLContext](https://docs.microsoft.com/dotnet/api/microsoft.ml.mlcontext) 类开始。 初始化 mlContext 会创建一个新的 ML.NET 环境，该环境可以在模型创建工作流对象之间共享。 它在概念上类似于实体框架中的 DBContext。"
      ]
    },
    {
      "cell_type": "code",
      "execution_count": 1,
      "metadata": {
        "dotnet_interactive": {
          "language": "csharp"
        },
        "vscode": {
          "languageId": "dotnet-interactive.csharp"
        }
      },
      "outputs": [],
      "source": [
        "//Create MLContext\n",
        "MLContext mlContext = new MLContext();"
      ]
    },
    {
      "cell_type": "markdown",
      "metadata": {},
      "source": [
        "根据 ModelInput 类型创建一个 [TextLoader](https://docs.microsoft.com/dotnet/api/microsoft.ml.data.textloader?view=ml-dotnet)。 然后使用文本加载器从数据文件中加载。 至少，加载程序需要被告知文件是否有标题，以及文件使用的分隔符。\n",
        "\n",
        "您也可以使用直接方法 [LoadFromTextFile](https://docs.microsoft.com/dotnet/api/microsoft.ml.textloadersavercatalog.loadfromtextfile?view=ml-dotnet)。 TextLoader 的优点是它提供了从不同位置的多个文件加载文件的选项。"
      ]
    },
    {
      "cell_type": "code",
      "execution_count": 1,
      "metadata": {
        "dotnet_interactive": {
          "language": "csharp"
        },
        "vscode": {
          "languageId": "dotnet-interactive.csharp"
        }
      },
      "outputs": [],
      "source": [
        "var trainDataPath = EnsureDataSetDownloaded(\"taxi-fare.csv\");\n",
        "\n",
        "// Create TextLoader based on the Model Input type. \n",
        "TextLoader textLoader = mlContext.Data.CreateTextLoader<ModelInput>(separatorChar: ',', hasHeader: true);\n",
        "\n",
        "// Load the data into an IDataView. Load() method can support multiple files. \n",
        "// Files must they have the same separator character, header, column names, etc. \n",
        "IDataView data = textLoader.Load(trainDataPath);\n",
        "\n",
        "data.Preview(1); "
      ]
    },
    {
      "cell_type": "markdown",
      "metadata": {},
      "source": [
        "#### **在内存集合中加载**\n",
        "\n",
        "ML.NET 支持从内存集合中加载数据。 这使得使用 C# 从 JSON 或 XML 文件加载变得容易。 了解如何 [使用 C# 反序列化 JSON](https://docs.microsoft.com/dotnet/standard/serialization/system-text-json-how-to?pivots=dotnet-6-0#how-to-read-json-as-net-objects-deserialize) 或使用 [XML 序列化程序](https://docs.microsoft.com/dotnet/api/system.xml.serialization?view=net-6.0) 将这些文件放入内存。\n",
        "\n",
        "在内存中收集数据后，您可以使用 [LoadFromEnumerable](https://docs.microsoft.com/dotnet/api/microsoft.ml.dataoperationscatalog.loadfromenumerable?view=ml-dotnet) 将其加载到 ML.NET ） 方法。"
      ]
    },
    {
      "cell_type": "code",
      "execution_count": 1,
      "metadata": {
        "dotnet_interactive": {
          "language": "csharp"
        },
        "vscode": {
          "languageId": "dotnet-interactive.csharp"
        }
      },
      "outputs": [],
      "source": [
        "ModelInput[] inMemoryCollection = new ModelInput[]\n",
        "{\n",
        "    new ModelInput\n",
        "    {\n",
        "        Vendor_id = \"CMT\",\n",
        "        Rate_code = 1,\n",
        "        Passenger_count = 1,\n",
        "        Trip_time_in_secs = 1271,\n",
        "        Trip_distance = 3.8f,\n",
        "        Payment_type = \"CRD\",\n",
        "        Fare_amount = 17.5f,\n",
        "    },\n",
        "    new ModelInput\n",
        "    {\n",
        "        Vendor_id = \"VST\",\n",
        "        // missing Rate_code\n",
        "        Passenger_count = 1,\n",
        "        Trip_time_in_secs = 474,\n",
        "        Trip_distance = 1.5f,\n",
        "        Payment_type = \"CSH\",\n",
        "        Fare_amount = 8, \n",
        "    }\n",
        "};"
      ]
    },
    {
      "cell_type": "code",
      "execution_count": 1,
      "metadata": {
        "dotnet_interactive": {
          "language": "csharp"
        },
        "vscode": {
          "languageId": "dotnet-interactive.csharp"
        }
      },
      "outputs": [],
      "source": [
        "// Create MLContext\n",
        "MLContext mlContext = new MLContext();\n",
        "\n",
        "//Load Data\n",
        "IDataView data = mlContext.Data.LoadFromEnumerable<ModelInput>(inMemoryCollection);\n",
        "\n",
        "data.Preview(1);"
      ]
    },
    {
      "cell_type": "markdown",
      "metadata": {},
      "source": [
        "### **DataFrame 和 IDataView 有什么区别？**\n",
        "\n",
        "您可能听说过 [DataFrame](https://docs.microsoft.com/dotnet/api/microsoft.data.analysis.dataframe?view=ml-dotnet-preview) 类型。它是另一种用于加载、查看和操作笔记本电脑常用数据的工具。它实现了一个 IDataView，因此可以轻松地将其传递给 ML.NET。\n",
        "\n",
        "DataFrame 和 IDataView 在某种意义上非常相似，它们都是以表格格式表示数据并为其应用转换的方式。一些关键区别：\n",
        "\n",
        "- DataFrame 仅支持加载分隔文件。\n",
        "- DataFrame 在内存上运行，因此受限于 PC 上的内存量。\n",
        "\n",
        "在对数据样本执行探索性数据分析等任务时，建议使用 DataFrame。查看参考笔记本 [REF-数据处理](https://github.com/dotnet/csharp-notebooks/blob/main/machine-learning/REF-Data%20Processing.ipynb) 中使用 Data Frames 的示例操作数据文件进行训练。\n",
        "\n",
        "建议使用 IDataView 对较大的数据集进行训练，以及本笔记本中的示例所使用的内容。在这种情况下，较大的数据集被定义为无法放入内存的数据集。"
      ]
    },
    {
      "cell_type": "markdown",
      "metadata": {},
      "source": [
        "## **数据转换**\n",
        "\n",
        "ML.NET 支持多种数据转换，可将数据转换为所需格式并帮助您更正数据。 一些常见的操作是操作列、规范化值、替换缺失值、转换值等等。\n",
        "\n",
        "有关详细信息，请参阅 [数据转换](https://docs.microsoft.com/dotnet/machine-learning/resources/transforms)。\n",
        "\n",
        "以下是一些常见的转换。"
      ]
    },
    {
      "cell_type": "markdown",
      "metadata": {},
      "source": [
        "### **分类数据**\n",
        "\n",
        "One Hot 编码是对包含类别的数据的重要转换。 ML 算法要求数据是数字的，它不知道如何处理表示类别的字符串。 vendor_id 和 payment_type 列是分类的，vendor 可以是“CMD”或“VST”，payment 可以是“CReDit”或“CaSH”。 One Hot  采用传入的字符串值并将它们转换为数字数据。"
      ]
    },
    {
      "cell_type": "code",
      "execution_count": 1,
      "metadata": {
        "dotnet_interactive": {
          "language": "csharp"
        },
        "vscode": {
          "languageId": "dotnet-interactive.csharp"
        }
      },
      "outputs": [],
      "source": [
        "var pipeline = mlContext.Transforms.Categorical.OneHotEncoding(\n",
        "    new[] \n",
        "    { new InputOutputColumnPair(@\"vendor_id\"), \n",
        "    new InputOutputColumnPair(@\"payment_type\")},\n",
        "    OneHotEncodingEstimator.OutputKind.Binary); "
      ]
    },
    {
      "cell_type": "markdown",
      "metadata": {},
      "source": [
        "让我们在 vendor_id 和 payment_type 上测试上述转换。 结果应该是每个类别的向量值。 对于 Vendor_Id，CMT 变为“000”，VST 变为“001”。 我们将为新转换的类型创建一个新的 ModelInputTransformed 类。"
      ]
    },
    {
      "cell_type": "code",
      "execution_count": 1,
      "metadata": {
        "dotnet_interactive": {
          "language": "csharp"
        },
        "vscode": {
          "languageId": "dotnet-interactive.csharp"
        }
      },
      "outputs": [],
      "source": [
        "using System.Numerics; \n",
        "\n",
        "public class ModelInputTransformed\n",
        "{\n",
        "    [LoadColumn(0)]\n",
        "    [ColumnName(@\"vendor_id\")]\n",
        "    public VBuffer<Single> Vendor_id { get; set; }\n",
        "\n",
        "    [LoadColumn(1)]\n",
        "    [ColumnName(@\"rate_code\")]\n",
        "    public float Rate_code { get; set; }\n",
        "\n",
        "    [LoadColumn(2)]\n",
        "    [ColumnName(@\"passenger_count\")]\n",
        "    public float Passenger_count { get; set; }\n",
        "\n",
        "    [LoadColumn(3)]\n",
        "    [ColumnName(@\"trip_time_in_secs\")]\n",
        "    public float Trip_time_in_secs { get; set; }\n",
        "\n",
        "    [LoadColumn(4)]\n",
        "    [ColumnName(@\"trip_distance\")]\n",
        "    public float Trip_distance { get; set; }\n",
        "\n",
        "    [LoadColumn(5)]\n",
        "    [ColumnName(@\"payment_type\")]\n",
        "    public VBuffer<Single> Payment_type { get; set; }\n",
        "\n",
        "    [LoadColumn(6)]\n",
        "    [ColumnName(@\"fare_amount\")]\n",
        "    public float Fare_amount { get; set; }\n",
        "}"
      ]
    },
    {
      "cell_type": "code",
      "execution_count": 1,
      "metadata": {
        "dotnet_interactive": {
          "language": "csharp"
        },
        "vscode": {
          "languageId": "dotnet-interactive.csharp"
        }
      },
      "outputs": [
        {
          "data": {
            "text/plain": [
              "0 0 1\t\t0 0 1\r\n"
            ]
          },
          "execution_count": 1,
          "metadata": {},
          "output_type": "execute_result"
        }
      ],
      "source": [
        "// Run the transform\n",
        "IDataView transformedData = pipeline.Fit(data).Transform(data);\n",
        "var convertedData = mlContext.Data.CreateEnumerable<ModelInputTransformed>(transformedData, true);\n",
        "\n",
        "// One Hot Encoding of two columns 'vendor_id' and 'payment_type'.\n",
        "Console.WriteLine(\"Vendor_Id\" +\"\\t\" + \"Payment_Type\"); \n",
        "foreach (ModelInputTransformed item in convertedData)\n",
        "{    \n",
        "    Console.WriteLine(\"{0}\\t\\t{1}\", string.Join(\" \", item.Vendor_id.DenseValues()),\n",
        "                    string.Join(\" \", item.Payment_type.DenseValues()));\n",
        "}"
      ]
    },
    {
      "cell_type": "markdown",
      "metadata": {},
      "source": [
        "### **替换缺失值**\n",
        "\n",
        "另一种常见的操作是替换缺失值。 这里我们使用默认替换模式，将值替换为其类型的默认值。"
      ]
    },
    {
      "cell_type": "code",
      "execution_count": 1,
      "metadata": {
        "dotnet_interactive": {
          "language": "csharp"
        },
        "vscode": {
          "languageId": "dotnet-interactive.csharp"
        }
      },
      "outputs": [],
      "source": [
        "pipeline.Append(mlContext.Transforms.ReplaceMissingValues(\n",
        "    new[] { new InputOutputColumnPair(@\"rate_code\", @\"rate_code\"), \n",
        "    new InputOutputColumnPair(@\"passenger_count\", @\"passenger_count\"), \n",
        "    new InputOutputColumnPair(@\"trip_time_in_secs\", @\"trip_time_in_secs\"), \n",
        "    new InputOutputColumnPair(@\"trip_distance\", @\"trip_distance\") })); "
      ]
    },
    {
      "cell_type": "markdown",
      "metadata": {},
      "source": [
        "让我们再运行转换并查看填充的值。 我们缺少第二个虚拟对象的 rate_code。"
      ]
    },
    {
      "cell_type": "code",
      "execution_count": 1,
      "metadata": {
        "dotnet_interactive": {
          "language": "csharp"
        },
        "vscode": {
          "languageId": "dotnet-interactive.csharp"
        }
      },
      "outputs": [
        {
          "data": {
            "text/plain": [
              "Rate_code: 0"
            ]
          },
          "execution_count": 1,
          "metadata": {},
          "output_type": "execute_result"
        }
      ],
      "source": [
        "IDataView transformedData = pipeline.Fit(data).Transform(data);\n",
        "var convertedData = mlContext.Data.CreateEnumerable<ModelInputTransformed>(transformedData, true);\n",
        "\n",
        "\"Rate_code: \" + convertedData.ElementAt(1).Rate_code"
      ]
    },
    {
      "cell_type": "markdown",
      "metadata": {},
      "source": [
        "现在让我们将所有特征列连接成一个向量列。 许多 ML 训练器期望特征是向量类型，因为将操作应用于向量更有效。"
      ]
    },
    {
      "cell_type": "code",
      "execution_count": 1,
      "metadata": {
        "dotnet_interactive": {
          "language": "csharp"
        },
        "vscode": {
          "languageId": "dotnet-interactive.csharp"
        }
      },
      "outputs": [],
      "source": [
        "pipeline.Append(mlContext.Transforms.Concatenate(\n",
        "    @\"Features\", new[] { @\"vendor_id\", @\"payment_type\", @\"rate_code\", @\"passenger_count\", @\"trip_time_in_secs\", @\"trip_distance\" }));"
      ]
    },
    {
      "cell_type": "markdown",
      "metadata": {},
      "source": [
        "我们现在有一个加载的 IDataView 和管道用于训练。"
      ]
    },
    {
      "cell_type": "markdown",
      "metadata": {},
      "source": [
        "# **进阶学习**\n",
        "\n",
        "> [⏩ 下一个学习模块 - 训练 and AutoML](https://github.com/kinfey/csharp-notebooks/blob/main/machine-learning/03-Training%20and%20AutoML.ipynb)  \n",
        "> [⏪ 上一个学习模块 - Intro to Machine Learning](https://github.com/kinfey/csharp-notebooks/blob/main/machine-learning/01-Intro%20to%20Machine%20Learning.ipynb)  "
      ]
    }
  ],
  "metadata": {
    "kernelspec": {
      "display_name": ".NET (C#)",
      "language": "C#",
      "name": ".net-csharp"
    },
    "language_info": {
      "file_extension": ".cs",
      "mimetype": "text/x-csharp",
      "name": "C#",
      "pygments_lexer": "csharp",
      "version": "8.0"
    }
  },
  "nbformat": 4,
  "nbformat_minor": 4
}
