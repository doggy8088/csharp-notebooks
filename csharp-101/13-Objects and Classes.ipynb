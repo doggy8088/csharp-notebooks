{
  "cells": [
    {
      "cell_type": "markdown",
      "metadata": {},
      "source": [
        "# **对象和类**\n",
        "\n",
        "观看该模块的教学视频 [C# 101 video](https://www.youtube.com/watch?v=TzgxcAiHCWA&list=PLdo4fOcmZ0oVxKLQCHpiUWun7vlJJvUiN&index=16) "
      ]
    },
    {
      "cell_type": "markdown",
      "metadata": {},
      "source": [
        "## **面向对象编程**\n",
        "\n",
        "对象是在编码中模仿现实世界的一种方式。 如果你拿一个人的概念，他们可以有名字、地址、身高，所有这些属性都会因人而异。 面向对象的编码封装了该类型的信息，因此您可以轻松地制作具有所有这些细节的人。 "
      ]
    },
    {
      "cell_type": "markdown",
      "metadata": {},
      "source": [
        "## **例子：建立银行**\n",
        "\n",
        "在接下来的几个模块中，您将创建一个具有以下属性的银行帐户对象：\n",
        "\n",
        "> 它有一个唯一标识银行账户的 10 位数字。\n",
        ">\n",
        "> 它有一个存储所有者姓名的字符串。\n",
        ">\n",
        "> 可以取回余额。\n",
        ">\n",
        "> 它接受存款。\n",
        ">\n",
        "> 它接受提款。\n",
        ">\n",
        "> 初始余额必须为正数。\n",
        ">\n",
        "> 提款不会导致负余额。\n",
        ">\n",
        "\n",
        "您可以对这些目标进行分类：\n",
        "\n",
        "- **属性**：有关对象的详细信息（它有多少钱，帐户名称）。\n",
        "- **Actions**：对象可以做的事情（接受存款和取款）。\n",
        "- **规则**：对象的指导方针，使其不会尝试做不可能的事情（确保帐户永远不会变成负数）。"
      ]
    },
    {
      "cell_type": "markdown",
      "metadata": {},
      "source": [
        "## **动动手**\n",
        "\n",
        "下面是您要创建的空白“BankAccount”对象。 您将逐步添加代码。"
      ]
    },
    {
      "cell_type": "markdown",
      "metadata": {},
      "source": [
        "## **#1：属性**\n",
        "\n",
        "属性是每个对象拥有的值的一个占位符。\n",
        "`get` 和 `set`：有时你只想让用户看到一个变量而不是改变它。 其他时候，您希望用户能够更改变量。 `get` 让你看到变量，`set` 让你改变它。 （正确的？）\n",
        "\n",
        "> 复制下面的代码并将其粘贴到 `//Properties` 下的 `BankAccount` 对象中\n",
        "\n",
        "```csharp\n",
        "    public string Number { get; }\n",
        "    public string Owner { get; set; }\n",
        "    public decimal Balance { get; }\n",
        "```"
      ]
    },
    {
      "cell_type": "code",
      "execution_count": null,
      "metadata": {
        "dotnet_interactive": {
          "language": "csharp"
        },
        "vscode": {
          "languageId": "dotnet-interactive.csharp"
        }
      },
      "outputs": [],
      "source": [
        "public class BankAccount\n",
        "{\n",
        "    // Properties (paste under here)\n",
        "\n",
        "    // Constructor\n",
        "\n",
        "    // Functions\n",
        "}"
      ]
    },
    {
      "cell_type": "markdown",
      "metadata": {},
      "source": [
        "## **#2：构造函数**\n",
        "\n",
        "此方法用于创建对象的特定实例。 像您现在所做的那样，创建一个 `BankAccount` 类就像为所有银行帐户创建一个模板。 这不是一个单一的个人帐户。 构造函数将创建一个单独的帐户，其中包含所有人员的实际详细信息。 您为构造函数提供特定帐户所需的所有详细信息，并将详细信息分配给新对象的属性。\n",
        "\n",
        "`this` 是一个样式选择。 它明确表明变量“所有者”是该特定实例的变量。 将来，您将有一个对象的两个实例进行交互，并且 `this` 将变得更加明确有用。 如果你愿意，你也可以写 `Owner` 而不是 `this.Owner`！\n",
        "\n",
        "您正在使用变量 `name` 和 `initialBalance` 并创建一个包含这些变量的银行帐户。\n",
        "\n",
        "> 将构造函数复制粘贴到下面的 `BankAccount` 中，在 `//Constructor` 下\n",
        "\n",
        "```csharp\n",
        "public BankAccount(string name, decimal initialBalance)\n",
        "{\n",
        "    this.Owner = name;\n",
        "    this.Balance = initialBalance;\n",
        "}\n",
        "```"
      ]
    },
    {
      "cell_type": "code",
      "execution_count": null,
      "metadata": {
        "dotnet_interactive": {
          "language": "csharp"
        },
        "vscode": {
          "languageId": "dotnet-interactive.csharp"
        }
      },
      "outputs": [],
      "source": [
        "public class BankAccount\n",
        "{\n",
        "    // Properties\n",
        "    public string Number { get; }\n",
        "    public string Owner { get; set; }\n",
        "    public decimal Balance { get; }\n",
        "\n",
        "    // Constructor (Paste here!)\n",
        "\n",
        "    // Functions\n",
        "}"
      ]
    },
    {
      "cell_type": "markdown",
      "metadata": {},
      "source": [
        "## **#3：创建一个实例**\n",
        "\n",
        "现在你已经写好了代码，看看如果你创建一个 `BankAccount` 会发生什么！\n",
        "\n",
        "> 运行下面的两个代码单元以创建特定的银行帐户。 它是否符合您的预期？\n",
        ">\n",
        "> 更改代码为自己创建一个银行帐户。 你想在你的银行账户里存多少钱？"
      ]
    },
    {
      "cell_type": "code",
      "execution_count": null,
      "metadata": {
        "dotnet_interactive": {
          "language": "csharp"
        },
        "vscode": {
          "languageId": "dotnet-interactive.csharp"
        }
      },
      "outputs": [],
      "source": [
        "public class BankAccount\n",
        "{\n",
        "    // Properties\n",
        "    public string Number { get; }\n",
        "    public string Owner { get; set; }\n",
        "    public decimal Balance { get; }\n",
        "\n",
        "    // Constructor\n",
        "    public BankAccount(string name, decimal initialBalance)\n",
        "    {\n",
        "        this.Owner = name;\n",
        "        this.Balance = initialBalance;\n",
        "    }\n",
        "    // Functions\n",
        "}"
      ]
    },
    {
      "cell_type": "code",
      "execution_count": null,
      "metadata": {
        "dotnet_interactive": {
          "language": "csharp"
        },
        "vscode": {
          "languageId": "dotnet-interactive.csharp"
        }
      },
      "outputs": [
        {
          "name": "stdout",
          "output_type": "stream",
          "text": [
            "Account was created for Kendra with 1000 dollars\r\n"
          ]
        }
      ],
      "source": [
        "var account = new BankAccount(\"Kendra\", 1000);\n",
        "Console.WriteLine($\"Account{account.Number} was created for {account.Owner} with {account.Balance} dollars\");"
      ]
    },
    {
      "cell_type": "markdown",
      "metadata": {},
      "source": [
        "## `account.Number` 呢？\n",
        "\n",
        "您可能已经注意到代码没有打印出任何关于 `account.Number` 的内容。 没关系！ 你还没有在里面放任何东西。 您将在下一个模块中了解它。"
      ]
    },
    {
      "cell_type": "markdown",
      "metadata": {},
      "source": [
        "## #4: Functions\n",
        "\n",
        "Functions exist to do actions with an object or change the object variables. These two functions will make a deposit (add money) and make a withdrawal (take out money). You'll be adding stuff in the methods later, but for now you just want to add the empty versions.\n",
        "\n",
        "> copy the functions below and add them to `BankAccount` under `//Functions`\n",
        "\n",
        "```csharp\n",
        "public void MakeDeposit(decimal amount, DateTime date, string note)\n",
        "{\n",
        "}\n",
        "\n",
        "public void MakeWithdrawal(decimal amount, DateTime date, string note)\n",
        "{\n",
        "}\n",
        "```"
      ]
    },
    {
      "cell_type": "code",
      "execution_count": null,
      "metadata": {
        "dotnet_interactive": {
          "language": "csharp"
        },
        "vscode": {
          "languageId": "dotnet-interactive.csharp"
        }
      },
      "outputs": [],
      "source": [
        "public class BankAccount\n",
        "{\n",
        "    // Properties\n",
        "    public string Number { get; }\n",
        "    public string Owner { get; set; }\n",
        "    public decimal Balance { get; }\n",
        "\n",
        "    // Constructor\n",
        "    public BankAccount(string name, decimal initialBalance)\n",
        "    {\n",
        "        this.Owner = name;\n",
        "        this.Balance = initialBalance;\n",
        "    }\n",
        "\n",
        "    // Functions (paste here!)\n",
        "}"
      ]
    },
    {
      "cell_type": "markdown",
      "metadata": {},
      "source": [
        "# **回顾一下**\n",
        "\n",
        "这是您在此模块中最终使用的 `BankAccount` 的版本。 您将在下一个模块中添加更多内容，但您为什么不尝试一些东西，看看您需要学习什么？\n",
        "\n",
        "> 可以添加 10 位代码吗？ 你的对象需要知道什么来确保代码是唯一的？\n",
        ">\n",
        "> 试试添加存款功能吧！ 你想让它做什么？\n",
        ">\n",
        "> 您如何检查初始余额是否为正？"
      ]
    },
    {
      "cell_type": "code",
      "execution_count": null,
      "metadata": {
        "dotnet_interactive": {
          "language": "csharp"
        },
        "vscode": {
          "languageId": "dotnet-interactive.csharp"
        }
      },
      "outputs": [],
      "source": [
        "public class BankAccount\n",
        "{\n",
        "    // Variables (#1)\n",
        "    public string Number { get; }\n",
        "    public string Owner { get; set; }\n",
        "    public decimal Balance { get; }\n",
        "\n",
        "    // Constructor (#2)\n",
        "    public BankAccount(string name, decimal initialBalance)\n",
        "    {\n",
        "        this.Owner = name;\n",
        "        this.Balance = initialBalance;\n",
        "    }\n",
        "\n",
        "    // Functions (#4)\n",
        "    public void MakeDeposit(decimal amount, DateTime date, string note)\n",
        "    {\n",
        "    }\n",
        "\n",
        "    public void MakeWithdrawal(decimal amount, DateTime date, string note)\n",
        "    {\n",
        "    }\n",
        "}"
      ]
    },
    {
      "cell_type": "code",
      "execution_count": null,
      "metadata": {
        "dotnet_interactive": {
          "language": "csharp"
        },
        "vscode": {
          "languageId": "dotnet-interactive.csharp"
        }
      },
      "outputs": [
        {
          "name": "stdout",
          "output_type": "stream",
          "text": [
            "Account was created for Kendra with 1000 dollars\r\n"
          ]
        }
      ],
      "source": [
        "//Make an instance (#3)\n",
        "var account = new BankAccount(\"Kendra\", 1000);\n",
        "Console.WriteLine($\"Account{account.Number} was created for {account.Owner} with {account.Balance} dollars\");"
      ]
    },
    {
      "cell_type": "markdown",
      "metadata": {},
      "source": [
        "# **进阶学习**\n",
        "\n",
        "> [⏩ 下一个学习模块 - 对象和类](https://github.com/kinfey/csharp-notebooks/blob/main/csharp-101/14-Methods%20and%20Members.ipynb)\n",
        ">\n",
        "> [⏪ 上一个学习模块 - 其他类型列表](https://github.com/kinfey/csharp-notebooks/blob/main/csharp-101/12-Lists%20of%20Other%20Types.ipynb)\n",
        ">\n",
        "> [观看教学视频](https://www.youtube.com/watch?v=TzgxcAiHCWA&list=PLdo4fOcmZ0oVxKLQCHpiUWun7vlJJvUiN&index=16)\n",
        ">\n",
        "> [文档: C# 面向对象编程](https://aka.ms/CSharp.OO)\n",
        ">\n",
        "> [从头学起： 什么是 C# ？](https://www.youtube.com/watch?v=BM4CHBmAPh4&list=PLdo4fOcmZ0oVxKLQCHpiUWun7vlJJvUiN&index=1)"
      ]
    },
    {
      "cell_type": "markdown",
      "metadata": {},
      "source": [
        "# **其他资源**\n",
        "\n",
        "你可以从以下链接中获取\n",
        "> [其他 101 系列的教学视频](https://aka.ms/Videos.dotNET)\n",
        ">\n",
        "> [Microsoft Learn](https://aka.ms/Learn.dotNET)\n",
        ">\n",
        "> [C# 文档](https://aka.ms/Docs.CSharp)"
      ]
    }
  ],
  "metadata": {
    "kernelspec": {
      "display_name": ".NET (C#)",
      "language": "C#",
      "name": ".net-csharp"
    },
    "language_info": {
      "file_extension": ".cs",
      "mimetype": "text/x-csharp",
      "name": "C#",
      "pygments_lexer": "csharp",
      "version": "8.0"
    }
  },
  "nbformat": 4,
  "nbformat_minor": 4
}
