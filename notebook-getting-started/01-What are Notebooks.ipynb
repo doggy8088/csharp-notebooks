{
 "cells": [
  {
   "cell_type": "markdown",
   "metadata": {},
   "source": [
    "## **什麼是 Notebooks?**\n",
    "Notebooks 是將程式碼（C#、F#、Python 等）、輸出、視覺化檢視以及文件（Markdown）全部綜合在一起的互動式工具。\n",
    "\n",
    "## **Notebooks 的應用場景在哪裡?**\n",
    "Notebooks 常用於統計、資料科學和機器學習的場景。 這些場景中 Notebooks 作為一些嘗試，修改以及檢視輸出的工具。 通常用在資料科學和機器學習的實驗性或探索性的工作中。\n",
    "\n",
    "## **我們要如何開始?**\n",
    "點選 \"Play\" 按鈕 ![Play Button](https://github.com/JakeRadMSFT/csharp-notebooks/raw/main/notebook-getting-started/images/play.png) 執行當前 Code Cell 內容或點選 \"Run All\" ![Run All Button](https://github.com/JakeRadMSFT/csharp-notebooks/raw/main/notebook-getting-started/images/run%20all.png) 執行當前 Code Cell 以下的所有 Code Cells。"
   ]
  },
  {
   "cell_type": "code",
   "execution_count": null,
   "metadata": {
    "dotnet_interactive": {
     "language": "csharp"
    },
    "vscode": {
     "languageId": "dotnet-interactive.csharp"
    }
   },
   "outputs": [
    {
     "name": "stdout",
     "output_type": "stream",
     "text": [
      "Hello Notebooks!\n"
     ]
    }
   ],
   "source": [
    "Console.WriteLine(\"Hello Notebooks!\");"
   ]
  },
  {
   "cell_type": "markdown",
   "metadata": {},
   "source": [
    "要新增更多 Code Cell ，您可以將滑鼠懸停在 Code Cell 的上方或下方，再點選顯示的新增按鈕 ![Play Button](https://github.com/JakeRadMSFT/csharp-notebooks/blob/main/notebook-getting-started/images/hover%20buttons.png).\n",
    "\n",
    "快捷鍵支援: [請參考快捷鍵使用的 NoteBooks ](https://raw.githubusercontent.com/JakeRadMSFT/csharp-notebooks/main/notebook-getting-started/REF-VS%20Keyboard%20Shortcuts.ipynb)"
   ]
  },
  {
   "cell_type": "markdown",
   "metadata": {},
   "source": [
    "## **Code Cells**\n",
    "\n",
    "Code Cells 具有 C# 的所有強大功能。 下面是執行兩行 Code Cells 的簡單範例，顯示瞭如何訪問 Code Cells 和傳遞變數值。\n",
    "\n",
    "大家可以嘗試在第二個 Code Cell 中多次點選 \"Play\"！"
   ]
  },
  {
   "cell_type": "code",
   "execution_count": null,
   "metadata": {
    "dotnet_interactive": {
     "language": "csharp"
    },
    "vscode": {
     "languageId": "dotnet-interactive.csharp"
    }
   },
   "outputs": [
    {
     "data": {
      "text/html": [
       "<div class=\"dni-plaintext\">5</div>"
      ]
     },
     "metadata": {},
     "output_type": "display_data"
    }
   ],
   "source": [
    "var x = 5;\n",
    "x"
   ]
  },
  {
   "cell_type": "code",
   "execution_count": null,
   "metadata": {
    "dotnet_interactive": {
     "language": "csharp"
    },
    "vscode": {
     "languageId": "dotnet-interactive.csharp"
    }
   },
   "outputs": [
    {
     "data": {
      "text/html": [
       "<div class=\"dni-plaintext\">45</div>"
      ]
     },
     "metadata": {},
     "output_type": "display_data"
    }
   ],
   "source": [
    "x = x + 10;\n",
    "x"
   ]
  },
  {
   "cell_type": "markdown",
   "metadata": {},
   "source": [
    "想更深入學習 Code Cells 的知識可以直接點選訪問該 NoteBooks - [Code Cells](https://github.com/JakeRadMSFT/csharp-notebooks/blob/main/notebook-getting-started/02-Code%20Cells.ipynb)"
   ]
  },
  {
   "cell_type": "markdown",
   "metadata": {},
   "source": [
    "## **Markdown Cells**\n",
    "\n",
    "Markdown Cells 是文件格式的單元格 ， 每個 Markdown Cell 都有編輯和視覺化模式\n",
    "\n",
    "要進入編輯模式，選中相關的 Markdown Cell ，點選 『pencil』 按鈕  ![Edit Button](https://github.com/JakeRadMSFT/csharp-notebooks/raw/main/notebook-getting-started/images/edit%20markdown.png) \n",
    "\n",
    "完成編輯後，點選 \"勾\" 按鈕檢視你修改的內容   ![Submit Button](https://github.com/JakeRadMSFT/csharp-notebooks/raw/main/notebook-getting-started/images/save%20markdown.png) "
   ]
  },
  {
   "cell_type": "markdown",
   "metadata": {},
   "source": [
    "想深入瞭解 Markdown Cells 相關的內容請點選 - [Markdown Cells](https://github.com/JakeRadMSFT/csharp-notebooks/blob/main/notebook-getting-started/03-Markdown%20Cells.ipynb)"
   ]
  }
 ],
 "metadata": {
  "kernelspec": {
   "display_name": ".NET (C#)",
   "language": "C#",
   "name": ".net-csharp"
  },
  "language_info": {
   "file_extension": ".cs",
   "mimetype": "text/x-csharp",
   "name": "C#",
   "pygments_lexer": "csharp",
   "version": "9.0"
  },
  "orig_nbformat": 4
 },
 "nbformat": 4,
 "nbformat_minor": 2
}
