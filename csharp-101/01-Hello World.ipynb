{
  "cells": [
    {
      "cell_type": "markdown",
      "metadata": {},
      "source": [
        "# **Hello World ,你的第一個 C# 程式**\n",
        "\n",
        "觀看該模組的教學影片 [C# 101 video](https://www.youtube.com/watch?v=KT2VR7m19So&list=PLdo4fOcmZ0oVxKLQCHpiUWun7vlJJvUiN&index=2) \n",
        "\n",
        "## **透過 Notebooks 將會學習到什麼？**\n",
        "\n",
        "這些 Notebooks 可以幫助你學習到 C# 程式設計的技巧，具體要求\n",
        "\n",
        "- 獨立執行完成這些 Notebooks。\n",
        "- 透過觀看 C# 101 影片邊看邊練。\n",
        "- 利用這些 Notebooks 提及到的內容在 Visual Studio 中編寫自己的程式碼。\n",
        "\n",
        "## **什麼是 C# ?**\n",
        "\n",
        "C# 是一種功能強大且使用廣泛的程式語言，可用於製作網站、遊戲、行動應用程式、桌面應用程式、機器學習、雲端運算、大資料等。 C# 是 .NET 平台的一部分，其中包括所有應用程式函式庫。 我們一起來學習 C#\n",
        "\n",
        "## **C#: Hello World**\n",
        "\n",
        "編寫你的第一個 C# 程式！ 它將字串『Hello World』輸出到控制台。\n",
        "> 將滑鼠懸停在以下程式碼上。 在左側，應該會出現一個小的 『Play』 圖示。 單擊它，程式碼將會被執行！"
      ]
    },
    {
      "cell_type": "code",
      "execution_count": null,
      "metadata": {
        "dotnet_interactive": {
          "language": "csharp"
        },
        "vscode": {
          "languageId": "dotnet-interactive.csharp"
        }
      },
      "outputs": [
        {
          "name": "stdout",
          "output_type": "stream",
          "text": [
            "Hello World!\n"
          ]
        }
      ],
      "source": [
        "Console.WriteLine(\"Hello World!\");"
      ]
    },
    {
      "cell_type": "markdown",
      "metadata": {},
      "source": [
        "`Console.WriteLine` 是一種用於將訊息列印到文字控制台的方法。 在這個例子中，將把『Hello World』輸出。\n",
        "\n",
        "# **宣告和使用變數**\n",
        "\n",
        "**variable** 是一個符號，可用於執行具有不同值的相同程式碼。 例如，您可以宣告一個名為 `aFriend` 的新變數，您可以將其與 `Console.WriteLine` 一起使用去輸出字串。 可以透過使用`string`型別或使用`var`關鍵字來宣告這個變數，`var`會自動找出對應型別。\n",
        "\n",
        "> 繼續執行以下程式碼以檢視 **Jayme** 的輸出。\n",
        ">\n",
        "> 接下來，更改變數中的名稱並再次執行它以檢視不同的內容。"
      ]
    },
    {
      "cell_type": "code",
      "execution_count": null,
      "metadata": {
        "dotnet_interactive": {
          "language": "csharp"
        },
        "vscode": {
          "languageId": "dotnet-interactive.csharp"
        }
      },
      "outputs": [
        {
          "name": "stdout",
          "output_type": "stream",
          "text": [
            "Jayme\r\n"
          ]
        }
      ],
      "source": [
        "var aFriend = \"Jayme\";\n",
        "Console.WriteLine(aFriend);"
      ]
    },
    {
      "cell_type": "markdown",
      "metadata": {},
      "source": [
        "# **組合字串**\n",
        "\n",
        "您可能已經注意到最後一個程式碼區塊中缺少『Hello』一詞。 您可以透過使用 `+` 將多個字串組合在一起來建立一個輸出到控制台的新字串來修復它。\n",
        "\n",
        "> 執行程式碼寫出Hello的歡迎詞！"
      ]
    },
    {
      "cell_type": "code",
      "execution_count": null,
      "metadata": {
        "dotnet_interactive": {
          "language": "csharp"
        },
        "vscode": {
          "languageId": "dotnet-interactive.csharp"
        }
      },
      "outputs": [
        {
          "name": "stdout",
          "output_type": "stream",
          "text": [
            "Hello Jayme!\r\n"
          ]
        }
      ],
      "source": [
        "Console.WriteLine(\"Hello \" + aFriend + \"!\");"
      ]
    },
    {
      "cell_type": "markdown",
      "metadata": {},
      "source": [
        "# **字串內嵌**\n",
        "\n",
        "您剛剛使用 `+` 從 **variable** 和 **constant** 建立了一個新字串。 有一個更好的方法來做到這一點，將變數放在 `{` 和 `}` 之間，告訴 C# 用變數的值替換該文字。 這稱為**字串內嵌**。 然後，您可以在開始引號之前新增一個 `$` 以啟用字串的字串內嵌。"
      ]
    },
    {
      "cell_type": "code",
      "execution_count": null,
      "metadata": {
        "dotnet_interactive": {
          "language": "csharp"
        },
        "vscode": {
          "languageId": "dotnet-interactive.csharp"
        }
      },
      "outputs": [
        {
          "name": "stdout",
          "output_type": "stream",
          "text": [
            "Hello string interpolation!\r\n"
          ]
        }
      ],
      "source": [
        "aFriend = \"string interpolation\";\n",
        "Console.WriteLine($\"Hello {aFriend}!\");"
      ]
    },
    {
      "cell_type": "markdown",
      "metadata": {},
      "source": [
        "恭喜您！您剛剛成功建立了您的第一個 C# 應用程式，並瞭解瞭如何將字串與字串內嵌相結合的方法。"
      ]
    },
    {
      "cell_type": "markdown",
      "metadata": {},
      "source": [
        "# **Playground：動動手**\n",
        "\n",
        "每個模組最後都會有一個小『Playground』的內容，讓您嘗試自己編寫程式碼。\n",
        "\n",
        "嘗試列印單詞和變數！ 這裡有一些提示可以嘗試：\n",
        "> 列印個人座右銘。\n",
        ">\n",
        "> 用你最喜歡的食物做一些變數，然後寫一個涉及它們的小故事。\n",
        ">\n",
        "> **挑戰一下**\n",
        ">\n",
        "> 製作你自己的瘋狂圖書館！ 做一些動詞、名詞等變數，然後在你寫故事時使用它們。 讓朋友決定每個變數的值，然後讀給他們笑！"
      ]
    },
    {
      "cell_type": "code",
      "execution_count": null,
      "metadata": {
        "dotnet_interactive": {
          "language": "csharp"
        },
        "vscode": {
          "languageId": "dotnet-interactive.csharp"
        }
      },
      "outputs": [
        {
          "name": "stdout",
          "output_type": "stream",
          "text": [
            "Playground\r\n"
          ]
        }
      ],
      "source": [
        "Console.WriteLine(\"Playground\");"
      ]
    },
    {
      "cell_type": "markdown",
      "metadata": {},
      "source": [
        "# **進階學習**\n",
        "\n",
        "有非常多的資源給大家學習，不要錯過!\n",
        ">> [⏩ 下一個學習模組 - 字串基礎](https://github.com/doggy8088/csharp-notebooks/blob/zh-tw/csharp-101/02-The%20Basics%20of%20Strings.ipynb)\n",
        ">\n",
        "> [教學影片](https://www.youtube.com/watch?v=KT2VR7m19So&list=PLdo4fOcmZ0oVxKLQCHpiUWun7vlJJvUiN&index=2)\n",
        ">\n",
        "> [文件：C# 介紹](https://aka.ms/CSTutorials.HelloWorld)"
      ]
    },
    {
      "cell_type": "markdown",
      "metadata": {},
      "source": [
        "# **其他資源**\n",
        "\n",
        "你可以從以下連結中獲取\n",
        "> [其他 101 系列的教學影片](https://aka.ms/Videos.dotNET)\n",
        ">\n",
        "> [Microsoft Learn](https://aka.ms/Learn.dotNET)\n",
        ">\n",
        "> [C# 文件](https://aka.ms/Docs.CSharp)"
      ]
    }
  ],
  "metadata": {
    "kernelspec": {
      "display_name": ".NET (C#)",
      "language": "C#",
      "name": ".net-csharp"
    },
    "language_info": {
      "file_extension": ".cs",
      "mimetype": "text/x-csharp",
      "name": "C#",
      "pygments_lexer": "csharp",
      "version": "8.0"
    }
  },
  "nbformat": 4,
  "nbformat_minor": 4
}
