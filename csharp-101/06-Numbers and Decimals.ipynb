{
  "cells": [
    {
      "cell_type": "markdown",
      "metadata": {},
      "source": [
        "# **小數型別介紹**\n",
        "\n",
        "觀看該模組的教學影片 [C# 101 video](https://www.youtube.com/watch?v=kdKcpF9roeU&list=PLdo4fOcmZ0oVxKLQCHpiUWun7vlJJvUiN&index=7)"
      ]
    },
    {
      "cell_type": "markdown",
      "metadata": {},
      "source": [
        "## **Decimal 型別**\n",
        "\n",
        "`Decimal` 型別類似於 `double`s。 它們沒有那麼大的範圍，但它們確實具有更高的精度。\n",
        "\n",
        "> 看看十進位型別的範圍是多少？"
      ]
    },
    {
      "cell_type": "code",
      "execution_count": null,
      "metadata": {
        "dotnet_interactive": {
          "language": "csharp"
        },
        "vscode": {
          "languageId": "dotnet-interactive.csharp"
        }
      },
      "outputs": [
        {
          "name": "stdout",
          "output_type": "stream",
          "text": [
            "The range of the decimal type is -79228162514264337593543950335 to 79228162514264337593543950335\r\n"
          ]
        }
      ],
      "source": [
        "decimal min = decimal.MinValue;\n",
        "decimal max = decimal.MaxValue;\n",
        "Console.WriteLine($\"The range of the decimal type is {min} to {max}\");"
      ]
    },
    {
      "cell_type": "markdown",
      "metadata": {},
      "source": [
        "> doubles 和 decimals 如何比較精度？"
      ]
    },
    {
      "cell_type": "code",
      "execution_count": null,
      "metadata": {
        "dotnet_interactive": {
          "language": "csharp"
        },
        "vscode": {
          "languageId": "dotnet-interactive.csharp"
        }
      },
      "outputs": [
        {
          "name": "stdout",
          "output_type": "stream",
          "text": [
            "0.3333333333333333\r\n",
            "0.3333333333333333333333333333\r\n"
          ]
        }
      ],
      "source": [
        "double a = 1.0;\n",
        "double b = 3.0;\n",
        "Console.WriteLine(a / b);\n",
        "\n",
        "decimal c = 1.0M;\n",
        "decimal d = 3.0M;\n",
        "Console.WriteLine(c / d);"
      ]
    },
    {
      "cell_type": "markdown",
      "metadata": {},
      "source": [
        "您可以看到 decimals 的精度高於 double。"
      ]
    },
    {
      "cell_type": "markdown",
      "metadata": {},
      "source": [
        "# **Playground：動動手**\n",
        "\n",
        "Play around with what you've learned! Here's some starting ideas:\n",
        "\n",
        "> 你能找到半徑為 2.5 英寸的圓的面積嗎？\n",
        ">\n",
        "> 當您更改數字型別（例如 int、short 和 decimal）時，答案會是什麼樣子。\n",
        ">\n",
        "> 提示：您可以將 `Math.PI` 寫為 pi"
      ]
    },
    {
      "cell_type": "code",
      "execution_count": null,
      "metadata": {
        "dotnet_interactive": {
          "language": "csharp"
        },
        "vscode": {
          "languageId": "dotnet-interactive.csharp"
        }
      },
      "outputs": [
        {
          "name": "stdout",
          "output_type": "stream",
          "text": [
            "Playground\r\n"
          ]
        }
      ],
      "source": [
        "Console.WriteLine(\"Playground\");"
      ]
    },
    {
      "cell_type": "markdown",
      "metadata": {},
      "source": [
        "# **進階學習**\n",
        "\n",
        "There are plenty more resources out there to learn!\n",
        "> [⏩ 下一個學習模組 - 分支 (條件語句) ](https://github.com/doggy8088/csharp-notebooks/blob/zh-tw/csharp-101/07-Branches%20(if).ipynb)\n",
        ">\n",
        "> [⏪ 上一個學習模組 - 雙精度型別介紹 ](https://github.com/doggy8088/csharp-notebooks/blob/zh-tw/csharp-101/05-Numbers%20and%20Integer%20Precision.ipynb)\n",
        ">\n",
        "> [觀看教學影片](https://www.youtube.com/watch?v=jEE0pWTq54U&list=PLdo4fOcmZ0oVxKLQCHpiUWun7vlJJvUiN&index=5)\n",
        ">\n",
        "> [文件: C# 整數和浮點數](https://aka.ms/CSharp.Numbers)\n",
        ">\n",
        "> [從頭學起： 什麼是 C# ？](https://www.youtube.com/watch?v=BM4CHBmAPh4&list=PLdo4fOcmZ0oVxKLQCHpiUWun7vlJJvUiN&index=1)"
      ]
    },
    {
      "cell_type": "markdown",
      "metadata": {},
      "source": [
        "# **其他資源**\n",
        "\n",
        "你可以從以下連結中獲取\n",
        "> [其他 101 系列的教學影片](https://aka.ms/Videos.dotNET)\n",
        ">\n",
        "> [Microsoft Learn](https://aka.ms/Learn.dotNET)\n",
        ">\n",
        "> [C# 文件](https://aka.ms/Docs.CSharp)"
      ]
    }
  ],
  "metadata": {
    "kernelspec": {
      "display_name": ".NET (C#)",
      "language": "C#",
      "name": ".net-csharp"
    },
    "language_info": {
      "file_extension": ".cs",
      "mimetype": "text/x-csharp",
      "name": "C#",
      "pygments_lexer": "csharp",
      "version": "8.0"
    }
  },
  "nbformat": 4,
  "nbformat_minor": 4
}
