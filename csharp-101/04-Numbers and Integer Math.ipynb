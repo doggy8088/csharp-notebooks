{
  "cells": [
    {
      "cell_type": "markdown",
      "metadata": {},
      "source": [
        "# **整型介绍**\n",
        "\n",
        "观看该模块的教学视频 [C# 101 video] (https://www.youtube.com/watch?v=jEE0pWTq54U&list=PLdo4fOcmZ0oVxKLQCHpiUWun7vlJJvUiN&index=5)."
      ]
    },
    {
      "cell_type": "markdown",
      "metadata": {},
      "source": [
        "## **整型计算**\n",
        "\n",
        "您在下面定义了一些“整数”。 “整数”是正整数或负整数。\n",
        "> 在运行代码之前，c 应该是什么？"
      ]
    },
    {
      "cell_type": "markdown",
      "metadata": {},
      "source": [
        "## **加法**"
      ]
    },
    {
      "cell_type": "code",
      "execution_count": null,
      "metadata": {
        "dotnet_interactive": {
          "language": "csharp"
        },
        "vscode": {
          "languageId": "dotnet-interactive.csharp"
        }
      },
      "outputs": [
        {
          "name": "stdout",
          "output_type": "stream",
          "text": [
            "24\r\n"
          ]
        }
      ],
      "source": [
        "int a = 18;\n",
        "int b = 6;\n",
        "int c = a + b;\n",
        "Console.WriteLine(c);"
      ]
    },
    {
      "cell_type": "markdown",
      "metadata": {},
      "source": [
        "## **减法**"
      ]
    },
    {
      "cell_type": "code",
      "execution_count": null,
      "metadata": {
        "dotnet_interactive": {
          "language": "csharp"
        },
        "vscode": {
          "languageId": "dotnet-interactive.csharp"
        }
      },
      "outputs": [
        {
          "name": "stdout",
          "output_type": "stream",
          "text": [
            "12\r\n"
          ]
        }
      ],
      "source": [
        "int c = a - b;\n",
        "Console.WriteLine(c);"
      ]
    },
    {
      "cell_type": "markdown",
      "metadata": {},
      "source": [
        "## **乘法**"
      ]
    },
    {
      "cell_type": "code",
      "execution_count": null,
      "metadata": {
        "dotnet_interactive": {
          "language": "csharp"
        },
        "vscode": {
          "languageId": "dotnet-interactive.csharp"
        }
      },
      "outputs": [
        {
          "name": "stdout",
          "output_type": "stream",
          "text": [
            "108\r\n"
          ]
        }
      ],
      "source": [
        "int c = a * b;\n",
        "Console.WriteLine(c);"
      ]
    },
    {
      "cell_type": "markdown",
      "metadata": {},
      "source": [
        "## **除法**"
      ]
    },
    {
      "cell_type": "code",
      "execution_count": null,
      "metadata": {
        "dotnet_interactive": {
          "language": "csharp"
        },
        "vscode": {
          "languageId": "dotnet-interactive.csharp"
        }
      },
      "outputs": [
        {
          "name": "stdout",
          "output_type": "stream",
          "text": [
            "3\r\n"
          ]
        }
      ],
      "source": [
        "int c = a / b;\n",
        "Console.WriteLine(c);"
      ]
    },
    {
      "cell_type": "markdown",
      "metadata": {},
      "source": [
        "# **运算顺序**\n",
        "\n",
        "C# 在数学方面遵循运算顺序。 也就是说，先乘除后加减。\n",
        "> 如果 C# 不遵循运算顺序，而是从左到右进行数学运算，计算会是什么结果呢？"
      ]
    },
    {
      "cell_type": "code",
      "execution_count": null,
      "metadata": {
        "dotnet_interactive": {
          "language": "csharp"
        },
        "vscode": {
          "languageId": "dotnet-interactive.csharp"
        }
      },
      "outputs": [
        {
          "name": "stdout",
          "output_type": "stream",
          "text": [
            "13\r\n"
          ]
        }
      ],
      "source": [
        "int a = 5;\n",
        "int b = 4;\n",
        "int c = 2;\n",
        "int d = a + b * c;\n",
        "Console.WriteLine(d);"
      ]
    },
    {
      "cell_type": "markdown",
      "metadata": {},
      "source": [
        "## **使用括号**\n",
        "\n",
        "您还可以通过将括号括在您想要先完成的任何事情上来强制执行不同的顺序\n",
        "> 试试看"
      ]
    },
    {
      "cell_type": "code",
      "execution_count": null,
      "metadata": {
        "dotnet_interactive": {
          "language": "csharp"
        },
        "vscode": {
          "languageId": "dotnet-interactive.csharp"
        }
      },
      "outputs": [
        {
          "name": "stdout",
          "output_type": "stream",
          "text": [
            "18\r\n"
          ]
        }
      ],
      "source": [
        "int d = (a + b) * c;\n",
        "Console.WriteLine(d);"
      ]
    },
    {
      "cell_type": "markdown",
      "metadata": {},
      "source": [
        "您可以根据需要使计算变得既长又复杂。\n",
        "> 你能让这条公式更复杂吗？"
      ]
    },
    {
      "cell_type": "code",
      "execution_count": null,
      "metadata": {
        "dotnet_interactive": {
          "language": "csharp"
        },
        "vscode": {
          "languageId": "dotnet-interactive.csharp"
        }
      },
      "outputs": [
        {
          "name": "stdout",
          "output_type": "stream",
          "text": [
            "25\r\n"
          ]
        }
      ],
      "source": [
        "int d = (a + b) - 6 * c + (12 * 4) / 3 + 12;\n",
        "Console.WriteLine(d);"
      ]
    },
    {
      "cell_type": "markdown",
      "metadata": {},
      "source": [
        "## **全部整型计算结果还是整型**\n",
        "\n",
        "整型数学将始终产生整型。 这意味着即使计算中应该产生小数或分数，答案也会被截断为整数。\n",
        "> 看看下面真正的答案是什么？"
      ]
    },
    {
      "cell_type": "code",
      "execution_count": null,
      "metadata": {
        "dotnet_interactive": {
          "language": "csharp"
        },
        "vscode": {
          "languageId": "dotnet-interactive.csharp"
        }
      },
      "outputs": [
        {
          "name": "stdout",
          "output_type": "stream",
          "text": [
            "3\r\n"
          ]
        }
      ],
      "source": [
        "int a = 7;\n",
        "int b = 4;\n",
        "int c = 3;\n",
        "int d = (a + b) / c;\n",
        "Console.WriteLine(d);"
      ]
    },
    {
      "cell_type": "markdown",
      "metadata": {},
      "source": [
        "# **Playground：动动手**\n",
        "\n",
        "> 你有任何需要数学的家庭作业或项目吗？ 尝试使用代码代替计算器！\n",
        ">\n",
        "> 整型如何舍入？ \n",
        ">\n",
        "> 操作顺序如何运作？ "
      ]
    },
    {
      "cell_type": "code",
      "execution_count": null,
      "metadata": {
        "dotnet_interactive": {
          "language": "csharp"
        },
        "vscode": {
          "languageId": "dotnet-interactive.csharp"
        }
      },
      "outputs": [
        {
          "name": "stdout",
          "output_type": "stream",
          "text": [
            "Playground\r\n"
          ]
        }
      ],
      "source": [
        "Console.WriteLine(\"Playground\");"
      ]
    },
    {
      "cell_type": "markdown",
      "metadata": {},
      "source": [
        "# **进阶学习**\n",
        "\n",
        "有非常多的资源给大家学习，不要错过!\n",
        "> [⏩ 下一个学习模块 - 双精度类型介绍](https://github.com/kinfey/csharp-notebooks/blob/main/csharp-101/05-Numbers%20and%20Integer%20Precision.ipynb)\n",
        ">\n",
        "> [⏪ 上一个学习模块 - 查找字符串](https://github.com/kinfey/csharp-notebooks/blob/main/csharp-101/03-Searching%20Strings.ipynb)\n",
        ">\n",
        "> [观看教学视频](https://www.youtube.com/watch?v=jEE0pWTq54U&list=PLdo4fOcmZ0oVxKLQCHpiUWun7vlJJvUiN&index=5)\n",
        ">\n",
        "> [文档: C# 整数和浮点数](https://aka.ms/CSharp.Numbers)\n",
        ">\n",
        "> [从头学起： 什么是 C# ？](https://www.youtube.com/watch?v=BM4CHBmAPh4&list=PLdo4fOcmZ0oVxKLQCHpiUWun7vlJJvUiN&index=1)"
      ]
    },
    {
      "cell_type": "markdown",
      "metadata": {},
      "source": [
        "# **其他资源**\n",
        "\n",
        "你可以从以下链接中获取\n",
        "> [其他 101 系列的教学视频](https://aka.ms/Videos.dotNET)\n",
        ">\n",
        "> [Microsoft Learn](https://aka.ms/Learn.dotNET)\n",
        ">\n",
        "> [C# 文档](https://aka.ms/Docs.CSharp)"
      ]
    }
  ],
  "metadata": {
    "kernelspec": {
      "display_name": ".NET (C#)",
      "language": "C#",
      "name": ".net-csharp"
    },
    "language_info": {
      "file_extension": ".cs",
      "mimetype": "text/x-csharp",
      "name": "C#",
      "pygments_lexer": "csharp",
      "version": "8.0"
    }
  },
  "nbformat": 4,
  "nbformat_minor": 4
}
