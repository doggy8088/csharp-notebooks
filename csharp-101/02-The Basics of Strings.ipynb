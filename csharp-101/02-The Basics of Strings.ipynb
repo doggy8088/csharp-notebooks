{
  "cells": [
    {
      "cell_type": "markdown",
      "metadata": {},
      "source": [
        "# **字串基礎**\n",
        "\n",
        "觀看該模組的教學影片 [C# 101 video](https://www.youtube.com/watch?v=JSpC7Cz64h0&list=PLdo4fOcmZ0oVxKLQCHpiUWun7vlJJvUiN&index=3)\n",
        "\n",
        "## **什麼是字串**?\n",
        "\n",
        "字串是一個字元序列。 一個方便的比喻是友誼手鐲，您可以透過把字母串在一起去命名。"
      ]
    },
    {
      "cell_type": "markdown",
      "metadata": {},
      "source": [
        "## **字串和字串文字**\n",
        "\n",
        "`firstFriend` 和 `secondFriend` 是字串的變數。 `Console.WriteLine` 中的行也是一個字串。 這是一個**字串文字**。 字串文字是表示常數字串的文字。\n",
        "\n",
        "> 用下面的程式碼試試。 按 \"Play\"，看看會發生什麼。\n",
        ">\n",
        "> 接下來，嘗試更改變數以檢視不同的名稱。"
      ]
    },
    {
      "cell_type": "code",
      "execution_count": null,
      "metadata": {
        "dotnet_interactive": {
          "language": "csharp"
        },
        "vscode": {
          "languageId": "dotnet-interactive.csharp"
        }
      },
      "outputs": [
        {
          "name": "stdout",
          "output_type": "stream",
          "text": [
            "My friends are Maria and Sophia\r\n"
          ]
        }
      ],
      "source": [
        "string firstFriend = \"Maria\";\n",
        "string secondFriend = \"Sophia\";\n",
        "Console.WriteLine($\"My friends are {firstFriend} and {secondFriend}\");"
      ]
    },
    {
      "cell_type": "markdown",
      "metadata": {},
      "source": [
        "## **字串屬性**\n",
        "\n",
        "隨著您對字串的更多的瞭解，您會發現字串不僅僅是字母的集合。 您可以使用 `Length` 找到字串的長度。 `Length` 是字串的**屬性**，它回傳該字串中的字元數。\n",
        "\n",
        "> 試試看朋友的名字有多長："
      ]
    },
    {
      "cell_type": "code",
      "execution_count": null,
      "metadata": {
        "dotnet_interactive": {
          "language": "csharp"
        },
        "vscode": {
          "languageId": "dotnet-interactive.csharp"
        }
      },
      "outputs": [
        {
          "name": "stdout",
          "output_type": "stream",
          "text": [
            "The name Maria has 5 letters.\r\n",
            "The name Sophia has 6 letters.\r\n"
          ]
        }
      ],
      "source": [
        "Console.WriteLine($\"The name {firstFriend} has {firstFriend.Length} letters.\");\n",
        "Console.WriteLine($\"The name {secondFriend} has {secondFriend.Length} letters.\");"
      ]
    },
    {
      "cell_type": "markdown",
      "metadata": {},
      "source": [
        "# **字串方法**\n",
        "\n",
        "## **前導和尾隨空格**\n",
        "\n",
        "假設您的字串有您不想顯示的前導或尾隨空格（也稱為**空白**）。 您想修剪字串中的空格。 `Trim` 方法和相關方法 `TrimStart` 和 `TrimEnd` 完成這項工作。 您可以使用這些方法來刪除前導和尾隨空格。\n",
        "\n",
        "> 在下面的程式碼中進行調整。 括號可以幫助您檢視字串包含的所有空白區域。\n"
      ]
    },
    {
      "cell_type": "code",
      "execution_count": null,
      "metadata": {
        "dotnet_interactive": {
          "language": "csharp"
        },
        "vscode": {
          "languageId": "dotnet-interactive.csharp"
        }
      },
      "outputs": [
        {
          "name": "stdout",
          "output_type": "stream",
          "text": [
            "[      Hello World!       ]\r\n",
            "[Hello World!       ]\r\n",
            "[      Hello World!]\r\n",
            "[Hello World!]\r\n"
          ]
        }
      ],
      "source": [
        "string greeting = \"      Hello World!       \";\n",
        "Console.WriteLine($\"[{greeting}]\");\n",
        "\n",
        "string trimmedGreeting = greeting.TrimStart();\n",
        "Console.WriteLine($\"[{trimmedGreeting}]\");\n",
        "\n",
        "trimmedGreeting = greeting.TrimEnd();\n",
        "Console.WriteLine($\"[{trimmedGreeting}]\");\n",
        "\n",
        "trimmedGreeting = greeting.Trim();\n",
        "Console.WriteLine($\"[{trimmedGreeting}]\");"
      ]
    },
    {
      "cell_type": "markdown",
      "metadata": {},
      "source": [
        "## **替換**\n",
        "\n",
        "您還可以將子字串替換為其他值。 例如，在下面的程式碼中，您可以使用『Hello World！』 並將『Hello』替換為『Greetings』，製作『Greetings World！』\n",
        "\n",
        "> 動動手，你還能用什麼來代替『Hello』？"
      ]
    },
    {
      "cell_type": "code",
      "execution_count": null,
      "metadata": {
        "dotnet_interactive": {
          "language": "csharp"
        },
        "vscode": {
          "languageId": "dotnet-interactive.csharp"
        }
      },
      "outputs": [
        {
          "name": "stdout",
          "output_type": "stream",
          "text": [
            "Hello World!\r\n",
            "Greetings World!\r\n"
          ]
        }
      ],
      "source": [
        "string sayHello = \"Hello World!\";\n",
        "Console.WriteLine(sayHello);\n",
        "sayHello = sayHello.Replace(\"Hello\", \"Greetings\");\n",
        "Console.WriteLine(sayHello);"
      ]
    },
    {
      "cell_type": "markdown",
      "metadata": {},
      "source": [
        "## **大小寫轉換**\n",
        "\n",
        "有時您需要您的字串全部為大寫或全部小寫。 `ToUpper` 和 `ToLower` 就是這樣做的。\n",
        "> 下面的例子似乎有點混亂。 你能把它改成『whisper』全是小寫，『shout』全是大寫嗎？"
      ]
    },
    {
      "cell_type": "code",
      "execution_count": null,
      "metadata": {
        "dotnet_interactive": {
          "language": "csharp"
        },
        "vscode": {
          "languageId": "dotnet-interactive.csharp"
        }
      },
      "outputs": [
        {
          "name": "stdout",
          "output_type": "stream",
          "text": [
            "WHISPER\r\n",
            "shout\r\n"
          ]
        }
      ],
      "source": [
        "Console.WriteLine(\"WhiSPer\".ToUpper());\n",
        "Console.WriteLine(\"sHoUt\".ToLower());"
      ]
    },
    {
      "cell_type": "markdown",
      "metadata": {},
      "source": [
        "# **Playground：動動手**\n",
        "\n",
        "練習一下：\n",
        "> 建立三個變數代表三個人的姓名。\n",
        ">\n",
        "> 找出第一個人名字的長度，第二個人的名字轉換為全部大寫，第三個人的名字轉換為全部小寫。\n",
        ">\n",
        "> 『supercalifragilisticexpialidocious』中含有多少個字母？\n",
        ">\n",
        "> 字串透過『       friendship bracelet    』呼叫 Trim 方法時取出了多少個字元？ Trim 會把中間的控制元件替換掉嗎？\n",
        ">"
      ]
    },
    {
      "cell_type": "code",
      "execution_count": null,
      "metadata": {
        "dotnet_interactive": {
          "language": "csharp"
        },
        "vscode": {
          "languageId": "dotnet-interactive.csharp"
        }
      },
      "outputs": [
        {
          "name": "stdout",
          "output_type": "stream",
          "text": [
            "Playground\r\n",
            "supercalifragilisticexpialidocious\r\n",
            "       friendship bracelet     \r\n"
          ]
        }
      ],
      "source": [
        "Console.WriteLine(\"Playground\");\n",
        "Console.WriteLine(\"supercalifragilisticexpialidocious\");\n",
        "Console.WriteLine(\"       friendship bracelet     \");"
      ]
    },
    {
      "cell_type": "markdown",
      "metadata": {},
      "source": [
        "# **進階學習**\n",
        "\n",
        "有非常多的資源給大家學習，不要錯過!\n",
        "> [⏩ 下一個學習模組 - 查詢字串](https://github.com/doggy8088/csharp-notebooks/blob/zh-tw/csharp-101/03-Searching%20Strings.ipynb)\n",
        ">\n",
        "> [⏪ 上一個學習模組 - Hello World](https://github.com/doggy8088/csharp-notebooks/blob/zh-tw/csharp-101/01-Hello%20World.ipynb)\n",
        ">\n",
        "> [觀看教學影片](https://www.youtube.com/watch?v=JSpC7Cz64h0&list=PLdo4fOcmZ0oVxKLQCHpiUWun7vlJJvUiN&index=3)\n",
        ">\n",
        "> [文件：C# 介紹](https://aka.ms/CSTutorials.HelloWorld)\n",
        ">\n",
        "> [從頭學起： 什麼是 C# ？](https://www.youtube.com/watch?v=BM4CHBmAPh4&list=PLdo4fOcmZ0oVxKLQCHpiUWun7vlJJvUiN&index=1)"
      ]
    },
    {
      "cell_type": "markdown",
      "metadata": {},
      "source": [
        "# **其他資源**\n",
        "\n",
        "你可以從以下連結中獲取\n",
        "> [其他 101 系列的教學影片](https://aka.ms/Videos.dotNET)\n",
        ">\n",
        "> [Microsoft Learn](https://aka.ms/Learn.dotNET)\n",
        ">\n",
        "> [C# 文件](https://aka.ms/Docs.CSharp)"
      ]
    }
  ],
  "metadata": {
    "kernelspec": {
      "display_name": ".NET (C#)",
      "language": "C#",
      "name": ".net-csharp"
    },
    "language_info": {
      "file_extension": ".cs",
      "mimetype": "text/x-csharp",
      "name": "C#",
      "pygments_lexer": "csharp",
      "version": "8.0"
    }
  },
  "nbformat": 4,
  "nbformat_minor": 4
}
