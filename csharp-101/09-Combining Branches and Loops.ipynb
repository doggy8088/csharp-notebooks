{
  "cells": [
    {
      "cell_type": "markdown",
      "metadata": {},
      "source": [
        "# **挑戰：分支和迴圈結合**\n",
        "\n",
        "觀看該模組的教學影片 [C# 101 video](https://www.youtube.com/watch?v=qK7tUpaOXi8&list=PLdo4fOcmZ0oVxKLQCHpiUWun7vlJJvUiN&index=11) \n",
        "\n",
        "這是一個挑戰：\n",
        ">\n",
        "> 看看你是否可以編寫 C# 程式碼來找出所有能從 1 到 20 能被 3 整除的整數總和。\n",
        ">\n",
        "首先，在下面的這個筆記本、Visual Studio 或 Visual Studio Code 中自行嘗試。"
      ]
    },
    {
      "cell_type": "code",
      "execution_count": null,
      "metadata": {
        "dotnet_interactive": {
          "language": "csharp"
        },
        "vscode": {
          "languageId": "dotnet-interactive.csharp"
        }
      },
      "outputs": [
        {
          "name": "stdout",
          "output_type": "stream",
          "text": [
            "Challenge\r\n"
          ]
        }
      ],
      "source": [
        "Console.WriteLine(\"Challenge\");"
      ]
    },
    {
      "cell_type": "markdown",
      "metadata": {},
      "source": [
        "## **技巧和竅門**\n",
        "\n",
        "- `%` 運算符為您提供除法運算的餘數。\n",
        "- `if` 語句為您提供了判斷一個數字是否應該是總和的一部分的條件。\n",
        "- `for` 迴圈可以幫助您對所有數字 1 到 20 重複一系列步驟。\n",
        "- 得到一個奇怪的答案？ 嘗試對您的變數進行一些列印語句，以檢視它們是否發生了意外變化。\n",
        "\n",
        "## **檢查你的答案**\n",
        "\n",
        "你的最終答案應該是 63。\n",
        "\n",
        "## **得到幫助**\n",
        "\n",
        "感覺卡住了？\n",
        "\n",
        "- 觀看 [影片](https://www.youtube.com/watch?v=qK7tUpaOXi8&list=PLdo4fOcmZ0oVxKLQCHpiUWun7vlJJvUiN&index=11)，看看有人解決了這個問題。 一旦你感覺到它，試著自己暫停和完成程式碼！\n",
        "- 檢查您的 [答案](https://github.com/dotnet/samples/blob/main/csharp/branches-quickstart/Program.cs#L87-L95)。"
      ]
    },
    {
      "cell_type": "markdown",
      "metadata": {},
      "source": [
        "# **進階學習**\n",
        "\n",
        "> [⏩ 下一個學習模組 - 陣列、清單和集合](https://github.com/doggy8088/csharp-notebooks/blob/zh-tw/csharp-101/10-Arrays%2C%20Lists%2C%20and%20Collections.ipynb)\n",
        ">\n",
        "> [⏪ 上一個學習模組 - 什麼是迴圈?](https://github.com/doggy8088/csharp-notebooks/blob/zh-tw/csharp-101/08-What%20Are%20Loops.ipynb)\n",
        ">\n",
        "> [觀看教學影片](https://www.youtube.com/watch?v=qK7tUpaOXi8&list=PLdo4fOcmZ0oVxKLQCHpiUWun7vlJJvUiN&index=11)\n",
        ">\n",
        "> [文件: C# 條件語句](https://aka.ms/CSharp.If)\n",
        ">\n",
        "> [文件: C# 迴圈語句](https://aka.ms/CSharp.Loop)\n",
        ">\n",
        "> [從頭學起： 什麼是 C# ？](https://www.youtube.com/watch?v=BM4CHBmAPh4&list=PLdo4fOcmZ0oVxKLQCHpiUWun7vlJJvUiN&index=1)"
      ]
    },
    {
      "cell_type": "markdown",
      "metadata": {},
      "source": [
        "# **其他資源**\n",
        "\n",
        "你可以從以下連結中獲取\n",
        "> [其他 101 系列的教學影片](https://aka.ms/Videos.dotNET)\n",
        ">\n",
        "> [Microsoft Learn](https://aka.ms/Learn.dotNET)\n",
        ">\n",
        "> [C# 文件](https://aka.ms/Docs.CSharp)"
      ]
    }
  ],
  "metadata": {
    "kernelspec": {
      "display_name": ".NET (C#)",
      "language": "C#",
      "name": ".net-csharp"
    },
    "language_info": {
      "file_extension": ".cs",
      "mimetype": "text/x-csharp",
      "name": "C#",
      "pygments_lexer": "csharp",
      "version": "8.0"
    }
  },
  "nbformat": 4,
  "nbformat_minor": 4
}
