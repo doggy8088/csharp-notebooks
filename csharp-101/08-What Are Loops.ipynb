{
  "cells": [
    {
      "cell_type": "markdown",
      "metadata": {},
      "source": [
        "# **什麼是迴圈?**\n",
        "觀看該模組的教學影片 [C# 101 video](https://www.youtube.com/watch?v=z31m5Up_gSQ&list=PLdo4fOcmZ0oVxKLQCHpiUWun7vlJJvUiN&index=10) "
      ]
    },
    {
      "cell_type": "markdown",
      "metadata": {},
      "source": [
        "迴圈是一種重複動作多次的方式。 您可以使用 `while` 來執行此操作。\n",
        "> 嘗試第一個迴圈："
      ]
    },
    {
      "cell_type": "code",
      "execution_count": null,
      "metadata": {
        "dotnet_interactive": {
          "language": "csharp"
        },
        "vscode": {
          "languageId": "dotnet-interactive.csharp"
        }
      },
      "outputs": [
        {
          "name": "stdout",
          "output_type": "stream",
          "text": [
            "Hello World! The counter is 0\r\n",
            "Hello World! The counter is 1\r\n",
            "Hello World! The counter is 2\r\n",
            "Hello World! The counter is 3\r\n",
            "Hello World! The counter is 4\r\n",
            "Hello World! The counter is 5\r\n",
            "Hello World! The counter is 6\r\n",
            "Hello World! The counter is 7\r\n",
            "Hello World! The counter is 8\r\n",
            "Hello World! The counter is 9\r\n"
          ]
        }
      ],
      "source": [
        "int counter = 0;\n",
        "while (counter < 10)\n",
        "{\n",
        "  Console.WriteLine($\"Hello World! The counter is {counter}\");\n",
        "  counter++;\n",
        "}"
      ]
    },
    {
      "cell_type": "markdown",
      "metadata": {},
      "source": [
        "那麼這裡發生了什麼？ `while` 檢查條件（'counter < 10'）是否為真。如果是，它會通過迴圈。然後再次檢查。它將繼續迴圈，直到條件為假。\n",
        "在找出分支和迴圈時，將程式碼放入人類語言會很有幫助。這段程式碼說：『將計數器設定為 0。當計數器小於 10 時，列印「Hello World！計數器是 {counter}」，然後將計數器加 1』。\n",
        "\n",
        "## ++\n",
        "\n",
        "`++` 是一種快速新增變數的方法。你也可以用`--`來做同樣的事情，它從變數中減去一。\n",
        "\n",
        "## **無限迴圈**\n",
        "\n",
        "很容易造成無限迴圈。 **編者注：您不能告訴他們建立無限迴圈，因為筆記本永遠不會自行停止**如果您遇到無限迴圈，您有兩種選擇：您可以隨時退出程式，或者可以按CTRL+C 結束。\n",
        "\n",
        "> 挑戰一下：您不能在此筆記本上顯示，因為程式碼不會自行捕捉，但作為挑戰，請嘗試在 Visual Studio 中進行無限迴圈！"
      ]
    },
    {
      "cell_type": "markdown",
      "metadata": {},
      "source": [
        "## **do**\n",
        "\n",
        "你也可以用 `do` 做一個迴圈。\n",
        "> 試試下面的程式碼，看看它和 `while` 迴圈之間是否有什麼不同。"
      ]
    },
    {
      "cell_type": "code",
      "execution_count": null,
      "metadata": {
        "dotnet_interactive": {
          "language": "csharp"
        },
        "vscode": {
          "languageId": "dotnet-interactive.csharp"
        }
      },
      "outputs": [
        {
          "name": "stdout",
          "output_type": "stream",
          "text": [
            "Hello World! The counter is 0\r\n",
            "Hello World! The counter is 1\r\n",
            "Hello World! The counter is 2\r\n",
            "Hello World! The counter is 3\r\n",
            "Hello World! The counter is 4\r\n",
            "Hello World! The counter is 5\r\n",
            "Hello World! The counter is 6\r\n",
            "Hello World! The counter is 7\r\n",
            "Hello World! The counter is 8\r\n",
            "Hello World! The counter is 9\r\n"
          ]
        }
      ],
      "source": [
        "int counter = 0;\n",
        "do\n",
        "{\n",
        "  Console.WriteLine($\"Hello World! The counter is {counter}\");\n",
        "  counter++;\n",
        "} while (counter < 10);"
      ]
    },
    {
      "cell_type": "markdown",
      "metadata": {},
      "source": [
        "似乎沒有什麼不同\n",
        "\n",
        "> 嘗試在兩個程式碼上將條件更改為 `(counter < 0)`。 會發生什麼呢？\n",
        "\n",
        "在 `while` 迴圈中，什麼都不會被列印出來，但在 `do` 迴圈中，你會得到一個列印輸出。 `do` 迴圈首先執行操作，然後檢查條件。 相反，`while` 迴圈首先檢查條件，然後執行操作。"
      ]
    },
    {
      "cell_type": "markdown",
      "metadata": {},
      "source": [
        "## **for 迴圈**\n",
        "\n",
        "`for` 是最常見的迴圈之一。 \n",
        "> 在您瞭解程式碼的所有細節之前，執行以下 for 迴圈以檢視它是否正常工作："
      ]
    },
    {
      "cell_type": "code",
      "execution_count": null,
      "metadata": {
        "dotnet_interactive": {
          "language": "csharp"
        },
        "vscode": {
          "languageId": "dotnet-interactive.csharp"
        }
      },
      "outputs": [
        {
          "name": "stdout",
          "output_type": "stream",
          "text": [
            "Hello World! The counter is 0\r\n",
            "Hello World! The counter is 1\r\n",
            "Hello World! The counter is 2\r\n",
            "Hello World! The counter is 3\r\n",
            "Hello World! The counter is 4\r\n",
            "Hello World! The counter is 5\r\n",
            "Hello World! The counter is 6\r\n",
            "Hello World! The counter is 7\r\n",
            "Hello World! The counter is 8\r\n",
            "Hello World! The counter is 9\r\n"
          ]
        }
      ],
      "source": [
        "for (int counter = 0; counter < 10; counter++)\n",
        "{\n",
        "  Console.WriteLine($\"Hello World! The counter is {counter}\");\n",
        "}"
      ]
    },
    {
      "cell_type": "markdown",
      "metadata": {},
      "source": [
        "### **括號裡是什麼？**\n",
        "\n",
        "`for` 迴圈括號中包含三個部分：`int counter = 0`、`counter < 10` 和 `counter++`。\n",
        "您可以將它們視為起點、終點和步長。\n",
        "`int counter = 0` 只是設定計數器。 你從 0 開始。\n",
        "`counter < 10` 是在每個迴圈開始時檢查的條件。 一旦條件為假（在這種情況下，一旦計數器不小於 10），迴圈就完成並且程式碼繼續執行。\n",
        "`counter++` 將 counter 加一，離終點更近了一步。 該步驟在每個迴圈結束時執行。\n",
        "> 嘗試弄亂 `for` 迴圈設定。 它是如何變化的？"
      ]
    },
    {
      "cell_type": "markdown",
      "metadata": {},
      "source": [
        "# **Playground：動動手**\n",
        "\n",
        "> 做一個從 10 倒數的迴圈。\n",
        ">\n",
        "> 做一個向前計數乘以 2 的迴圈。\n",
        ">\n",
        "> 做一個從 7 到 22 的迴圈。\n",
        ">\n",
        "> 附加：使用三種迴圈方式進行上述操作。"
      ]
    },
    {
      "cell_type": "code",
      "execution_count": null,
      "metadata": {
        "dotnet_interactive": {
          "language": "csharp"
        },
        "vscode": {
          "languageId": "dotnet-interactive.csharp"
        }
      },
      "outputs": [
        {
          "name": "stdout",
          "output_type": "stream",
          "text": [
            "Playground\r\n"
          ]
        }
      ],
      "source": [
        "Console.WriteLine(\"Playground\");"
      ]
    },
    {
      "cell_type": "markdown",
      "metadata": {},
      "source": [
        "# **進階學習**\n",
        "\n",
        "\n",
        "> [⏩ 上一個學習模組 - 分支和迴圈結合](https://github.com/doggy8088/csharp-notebooks/blob/zh-tw/csharp-101/09-Combining%20Branches%20and%20Loops.ipynb)\n",
        ">\n",
        "> [⏪ 下一個學習模組 - 分支 ( if 語句)](https://github.com/doggy8088/csharp-notebooks/blob/zh-tw/csharp-101/07-Branches%20(if).ipynb)\n",
        ">\n",
        "> [觀看教學影片](https://www.youtube.com/watch?v=z31m5Up_gSQ&list=PLdo4fOcmZ0oVxKLQCHpiUWun7vlJJvUiN&index=10)\n",
        ">\n",
        "> [文件: C# 迴圈語句](https://aka.ms/CSharp.Loop)\n",
        ">\n",
        "> [從頭學起： 什麼是 C# ？](https://www.youtube.com/watch?v=BM4CHBmAPh4&list=PLdo4fOcmZ0oVxKLQCHpiUWun7vlJJvUiN&index=1)\n",
        ">\n",
        "\n",
        "# **其他資源**\n",
        "\n",
        "你可以從以下連結中獲取\n",
        "> [其他 101 系列的教學影片](https://aka.ms/Videos.dotNET)\n",
        ">\n",
        "> [Microsoft Learn](https://aka.ms/Learn.dotNET)\n",
        ">\n",
        "> [C# 文件](https://aka.ms/Docs.CSharp)"
      ]
    }
  ],
  "metadata": {
    "kernelspec": {
      "display_name": ".NET (C#)",
      "language": "C#",
      "name": ".net-csharp"
    },
    "language_info": {
      "file_extension": ".cs",
      "mimetype": "text/x-csharp",
      "name": "C#",
      "pygments_lexer": "csharp",
      "version": "8.0"
    }
  },
  "nbformat": 4,
  "nbformat_minor": 4
}
