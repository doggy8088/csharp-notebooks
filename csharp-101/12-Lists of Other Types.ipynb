{
  "cells": [
    {
      "cell_type": "markdown",
      "metadata": {},
      "source": [
        "# **其他型別清單**\n",
        "\n",
        "觀看該模組的教學影片 [C# 101 video](https://www.youtube.com/watch?v=oIQdb93xewE&list=PLdo4fOcmZ0oVxKLQCHpiUWun7vlJJvUiN&index=14) \n",
        "\n",
        "你一直在練習字串清單，但你可以列出任何東西！ 這是一個數字範例。\n",
        "\n",
        "## **斐波那契數列**\n",
        "\n",
        "斐波那契是一個很酷的數列。 它將最後兩個數字相加得到下一個數字。 你從 1 和 1 開始\n",
        "1 + 1 = 2 (1, 1, 2)\n",
        "1 + 2 = 3 (1, 1, 2, 3)\n",
        "2 + 3 = 5 (1, 1, 2, 3, 5)\n",
        "3 + 5 = 8 (1, 1, 2, 3, 5, 8)\n",
        "等等。 自然界中有很多東西都遵循這個數字序列，如果你想查詢的話，還有很多很酷的東西！\n",
        "\n",
        "> 從基數開始：這是一個只有 1、1 的清單。 執行它，看看會發生什麼。"
      ]
    },
    {
      "cell_type": "code",
      "execution_count": null,
      "metadata": {
        "dotnet_interactive": {
          "language": "csharp"
        },
        "vscode": {
          "languageId": "dotnet-interactive.csharp"
        }
      },
      "outputs": [
        {
          "name": "stdout",
          "output_type": "stream",
          "text": [
            "1\r\n",
            "1\r\n"
          ]
        }
      ],
      "source": [
        "var fibonacciNumbers = new List<int> {1, 1};\n",
        "\n",
        "foreach (var item in fibonacciNumbers)\n",
        "    Console.WriteLine(item);"
      ]
    },
    {
      "cell_type": "markdown",
      "metadata": {},
      "source": [
        "現在，您不希望只有 1,1！ 你想要更多的序列。 在此程式碼中，您使用清單的最後兩個數字，將它們加在一起形成下一個數字，然後將其新增到清單中。\n",
        "\n",
        "> 執行程式碼進行嘗試。"
      ]
    },
    {
      "cell_type": "code",
      "execution_count": null,
      "metadata": {
        "dotnet_interactive": {
          "language": "csharp"
        },
        "vscode": {
          "languageId": "dotnet-interactive.csharp"
        }
      },
      "outputs": [
        {
          "name": "stdout",
          "output_type": "stream",
          "text": [
            "1\r\n",
            "1\r\n",
            "2\r\n"
          ]
        }
      ],
      "source": [
        "var fibonacciNumbers = new List<int> {1, 1}; // Starting the list off with the basics\n",
        "\n",
        "var previous = fibonacciNumbers[fibonacciNumbers.Count - 1]; // Take the last number in the list\n",
        "var previous2 = fibonacciNumbers[fibonacciNumbers.Count - 2]; // Take the second to last number in the list\n",
        "\n",
        "fibonacciNumbers.Add(previous + previous2); // Add the previous numbers together, and attach the sum to the end of the list\n",
        "\n",
        "foreach (var item in fibonacciNumbers) // Print out the list\n",
        "    Console.WriteLine(item);"
      ]
    },
    {
      "cell_type": "markdown",
      "metadata": {},
      "source": [
        "## **Count -1**\n",
        "\n",
        "為什麼需要執行 `fibonacciNumbers.Count -1` 來獲取清單的最後一個數字？ 好吧，`Count` 告訴你清單中有多少專案。 但是，專案的索引從零開始。 因此，如果您的清單中只有一個專案，則計數將為 1，但該專案的索引將為 0。最後一項的索引和計數始終為一個。"
      ]
    },
    {
      "cell_type": "markdown",
      "metadata": {},
      "source": [
        "# **挑戰一下：求斐波那契數列的第 20 個數字**\n",
        "\n",
        "我們已經為您提供了處理斐波那契的程式碼庫。 你能列出前 20 個斐波那契數列嗎？\n",
        "\n",
        "> 製作並列印包含前 20 個斐波那契數字的清單。"
      ]
    },
    {
      "cell_type": "code",
      "execution_count": null,
      "metadata": {
        "dotnet_interactive": {
          "language": "csharp"
        },
        "vscode": {
          "languageId": "dotnet-interactive.csharp"
        }
      },
      "outputs": [
        {
          "name": "stdout",
          "output_type": "stream",
          "text": [
            "Challenge\r\n"
          ]
        }
      ],
      "source": [
        "Console.WriteLine(\"Challenge\");"
      ]
    },
    {
      "cell_type": "markdown",
      "metadata": {},
      "source": [
        "## **技巧和竅門**\n",
        "\n",
        "- 最終數字應為 6765。\n",
        "- 你能做一個『for』迴圈嗎？ 一個『foreach』迴圈？ 一個`while`迴圈？ 您更喜歡哪種迴圈，哪種更有用？\n",
        "- 你接近了，但是一個數字嗎？ 這是一個非常普遍的問題！ 請記住，`>` 和 `>=` 是相似的，但它們最終是相互分離的。 試著測試一下\n",
        "- 請記住，您已經從清單中的兩個專案開始。\n",
        "- 遇到問題？ 觀看此學習模組 [C# 101 影片](https://www.youtube.com/watch?v=oIQdb93xewE&list=PLdo4fOcmZ0oVxKLQCHpiUWun7vlJJvUiN&index=14)。 一旦你有了一個想法，試著暫停一下，然後先嚐試執行一下，再繼續看其他的。"
      ]
    },
    {
      "cell_type": "markdown",
      "metadata": {},
      "source": [
        "# **進階學習**\n",
        "\n",
        "\n",
        "> [⏩ 下一個學習模組 - 物件和類別 ](https://github.com/doggy8088/csharp-notebooks/blob/zh-tw/csharp-101/13-Objects%20and%20Classes.ipynb)\n",
        ">\n",
        "> [⏪ 上一個學習模組 - 搜尋、排序和索引清單](https://github.com/doggy8088/csharp-notebooks/blob/zh-tw/csharp-101/11-%20Search%2C%20Sort%2C%20and%20Index%20Lists.ipynb)\n",
        ">\n",
        "> [觀看教學影片](https://www.youtube.com/watch?v=oIQdb93xewE&list=PLdo4fOcmZ0oVxKLQCHpiUWun7vlJJvUiN&index=14)\n",
        ">\n",
        "> [文件: 陣列、清單和集合](https://aka.ms/CSharp.List)\n",
        ">\n",
        "> [從頭學起： 什麼是 C# ？](https://www.youtube.com/watch?v=BM4CHBmAPh4&list=PLdo4fOcmZ0oVxKLQCHpiUWun7vlJJvUiN&index=1)"
      ]
    },
    {
      "cell_type": "markdown",
      "metadata": {},
      "source": [
        "# **其他資源**\n",
        "\n",
        "你可以從以下連結中獲取\n",
        "> [其他 101 系列的教學影片](https://aka.ms/Videos.dotNET)\n",
        ">\n",
        "> [Microsoft Learn](https://aka.ms/Learn.dotNET)\n",
        ">\n",
        "> [C# 文件](https://aka.ms/Docs.CSharp)"
      ]
    }
  ],
  "metadata": {
    "kernelspec": {
      "display_name": ".NET (C#)",
      "language": "C#",
      "name": ".net-csharp"
    },
    "language_info": {
      "file_extension": ".cs",
      "mimetype": "text/x-csharp",
      "name": "C#",
      "pygments_lexer": "csharp",
      "version": "8.0"
    }
  },
  "nbformat": 4,
  "nbformat_minor": 4
}
