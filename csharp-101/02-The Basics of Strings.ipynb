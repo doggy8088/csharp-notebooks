{
  "cells": [
    {
      "cell_type": "markdown",
      "metadata": {},
      "source": [
        "# **字符串基础**\n",
        "\n",
        "观看该模块的教学视频 [C# 101 video](https://www.youtube.com/watch?v=JSpC7Cz64h0&list=PLdo4fOcmZ0oVxKLQCHpiUWun7vlJJvUiN&index=3)\n",
        "\n",
        "## **什么是字符串**?\n",
        "\n",
        "字符串是一个字符序列。 一个方便的比喻是友谊手镯，您可以通过把字母串在一起去命名。"
      ]
    },
    {
      "cell_type": "markdown",
      "metadata": {},
      "source": [
        "## **字符串和字符串文字**\n",
        "\n",
        "`firstFriend` 和 `secondFriend` 是字符串的变量。 `Console.WriteLine` 中的行也是一个字符串。 这是一个**字符串文字**。 字符串文字是表示常量字符串的文本。\n",
        "\n",
        "> 用下面的代码试试。 按 \"Play\"，看看会发生什么。\n",
        ">\n",
        "> 接下来，尝试更改变量以查看不同的名称。"
      ]
    },
    {
      "cell_type": "code",
      "execution_count": null,
      "metadata": {
        "dotnet_interactive": {
          "language": "csharp"
        },
        "vscode": {
          "languageId": "dotnet-interactive.csharp"
        }
      },
      "outputs": [
        {
          "name": "stdout",
          "output_type": "stream",
          "text": [
            "My friends are Maria and Sophia\r\n"
          ]
        }
      ],
      "source": [
        "string firstFriend = \"Maria\";\n",
        "string secondFriend = \"Sophia\";\n",
        "Console.WriteLine($\"My friends are {firstFriend} and {secondFriend}\");"
      ]
    },
    {
      "cell_type": "markdown",
      "metadata": {},
      "source": [
        "## **字符串属性**\n",
        "\n",
        "随着您对字符串的更多的了解，您会发现字符串不仅仅是字母的集合。 您可以使用 `Length` 找到字符串的长度。 `Length` 是字符串的**属性**，它返回该字符串中的字符数。\n",
        "\n",
        "> 试试看朋友的名字有多长："
      ]
    },
    {
      "cell_type": "code",
      "execution_count": null,
      "metadata": {
        "dotnet_interactive": {
          "language": "csharp"
        },
        "vscode": {
          "languageId": "dotnet-interactive.csharp"
        }
      },
      "outputs": [
        {
          "name": "stdout",
          "output_type": "stream",
          "text": [
            "The name Maria has 5 letters.\r\n",
            "The name Sophia has 6 letters.\r\n"
          ]
        }
      ],
      "source": [
        "Console.WriteLine($\"The name {firstFriend} has {firstFriend.Length} letters.\");\n",
        "Console.WriteLine($\"The name {secondFriend} has {secondFriend.Length} letters.\");"
      ]
    },
    {
      "cell_type": "markdown",
      "metadata": {},
      "source": [
        "# **字符串方法**\n",
        "\n",
        "## **前导和尾随空格**\n",
        "\n",
        "假设您的字符串有您不想显示的前导或尾随空格（也称为**空白**）。 您想修剪字符串中的空格。 `Trim` 方法和相关方法 `TrimStart` 和 `TrimEnd` 完成这项工作。 您可以使用这些方法来删除前导和尾随空格。\n",
        "\n",
        "> 在下面的代码中进行调整。 括号可以帮助您查看字符串包含的所有空白区域。\n"
      ]
    },
    {
      "cell_type": "code",
      "execution_count": null,
      "metadata": {
        "dotnet_interactive": {
          "language": "csharp"
        },
        "vscode": {
          "languageId": "dotnet-interactive.csharp"
        }
      },
      "outputs": [
        {
          "name": "stdout",
          "output_type": "stream",
          "text": [
            "[      Hello World!       ]\r\n",
            "[Hello World!       ]\r\n",
            "[      Hello World!]\r\n",
            "[Hello World!]\r\n"
          ]
        }
      ],
      "source": [
        "string greeting = \"      Hello World!       \";\n",
        "Console.WriteLine($\"[{greeting}]\");\n",
        "\n",
        "string trimmedGreeting = greeting.TrimStart();\n",
        "Console.WriteLine($\"[{trimmedGreeting}]\");\n",
        "\n",
        "trimmedGreeting = greeting.TrimEnd();\n",
        "Console.WriteLine($\"[{trimmedGreeting}]\");\n",
        "\n",
        "trimmedGreeting = greeting.Trim();\n",
        "Console.WriteLine($\"[{trimmedGreeting}]\");"
      ]
    },
    {
      "cell_type": "markdown",
      "metadata": {},
      "source": [
        "## **替换**\n",
        "\n",
        "您还可以将子字符串替换为其他值。 例如，在下面的代码中，您可以使用“Hello World！” 并将“Hello”替换为“Greetings”，制作“Greetings World！”\n",
        "\n",
        "> 动动手，你还能用什么来代替“Hello”？"
      ]
    },
    {
      "cell_type": "code",
      "execution_count": null,
      "metadata": {
        "dotnet_interactive": {
          "language": "csharp"
        },
        "vscode": {
          "languageId": "dotnet-interactive.csharp"
        }
      },
      "outputs": [
        {
          "name": "stdout",
          "output_type": "stream",
          "text": [
            "Hello World!\r\n",
            "Greetings World!\r\n"
          ]
        }
      ],
      "source": [
        "string sayHello = \"Hello World!\";\n",
        "Console.WriteLine(sayHello);\n",
        "sayHello = sayHello.Replace(\"Hello\", \"Greetings\");\n",
        "Console.WriteLine(sayHello);"
      ]
    },
    {
      "cell_type": "markdown",
      "metadata": {},
      "source": [
        "## **大小写转换**\n",
        "\n",
        "有时您需要您的字符串全部为大写或全部小写。 `ToUpper` 和 `ToLower` 就是这样做的。\n",
        "> 下面的例子似乎有点混乱。 你能把它改成“whisper”全是小写，“shout”全是大写吗？"
      ]
    },
    {
      "cell_type": "code",
      "execution_count": null,
      "metadata": {
        "dotnet_interactive": {
          "language": "csharp"
        },
        "vscode": {
          "languageId": "dotnet-interactive.csharp"
        }
      },
      "outputs": [
        {
          "name": "stdout",
          "output_type": "stream",
          "text": [
            "WHISPER\r\n",
            "shout\r\n"
          ]
        }
      ],
      "source": [
        "Console.WriteLine(\"WhiSPer\".ToUpper());\n",
        "Console.WriteLine(\"sHoUt\".ToLower());"
      ]
    },
    {
      "cell_type": "markdown",
      "metadata": {},
      "source": [
        "# **Playground：动动手**\n",
        "\n",
        "练习一下：\n",
        "> 创建三个变量代表三个人的姓名。\n",
        ">\n",
        "> 找出第一个人名字的长度，第二个人的名字转换为全部大写，第三个人的名字转换为全部小写。\n",
        ">\n",
        "> “supercalifragilisticexpialidocious”中含有多少个字母？\n",
        ">\n",
        "> 字符串通过“       friendship bracelet    ”调用 Trim 方法时取出了多少个字符？ Trim 会把中间的控件替换掉吗？\n",
        ">"
      ]
    },
    {
      "cell_type": "code",
      "execution_count": null,
      "metadata": {
        "dotnet_interactive": {
          "language": "csharp"
        },
        "vscode": {
          "languageId": "dotnet-interactive.csharp"
        }
      },
      "outputs": [
        {
          "name": "stdout",
          "output_type": "stream",
          "text": [
            "Playground\r\n",
            "supercalifragilisticexpialidocious\r\n",
            "       friendship bracelet     \r\n"
          ]
        }
      ],
      "source": [
        "Console.WriteLine(\"Playground\");\n",
        "Console.WriteLine(\"supercalifragilisticexpialidocious\");\n",
        "Console.WriteLine(\"       friendship bracelet     \");"
      ]
    },
    {
      "cell_type": "markdown",
      "metadata": {},
      "source": [
        "# **进阶学习**\n",
        "\n",
        "有非常多的资源给大家学习，不要错过!\n",
        "> [⏩ 下一个学习模块 - 查找字符串](https://ntbk.io/csharp101-notebook03)\n",
        ">\n",
        "> [⏪ 上一个学习模块 - Hello World](https://ntbk.io/csharp101-notebook01)\n",
        ">\n",
        "> [观看教学视频](https://www.youtube.com/watch?v=JSpC7Cz64h0&list=PLdo4fOcmZ0oVxKLQCHpiUWun7vlJJvUiN&index=3)\n",
        ">\n",
        "> [文档: C# 介绍](https://docs.microsoft.com/dotnet/csharp/tour-of-csharp/tutorials/hello-world?WT.mc_id=csharpnotebook-35129-website)\n",
        ">\n",
        "> [从头说起： 什么是 C# ？](https://www.youtube.com/watch?v=BM4CHBmAPh4&list=PLdo4fOcmZ0oVxKLQCHpiUWun7vlJJvUiN&index=1)"
      ]
    },
    {
      "cell_type": "markdown",
      "metadata": {},
      "source": [
        "# **其他学习资源**\n",
        "\n",
        "你可以从以下链接中获取\n",
        "> [其他 101 系列的教学视频](https://dotnet.microsoft.com/learn/videos?WT.mc_id=csharpnotebook-35129-website)\n",
        ">\n",
        "> [Microsoft Learn](https://docs.microsoft.com/learn/dotnet/?WT.mc_id=csharpnotebook-35129-website)\n",
        ">\n",
        "> [C# 文档](https://docs.microsoft.com/dotnet/csharp/?WT.mc_id=csharpnotebook-35129-website)"
      ]
    }
  ],
  "metadata": {
    "kernelspec": {
      "display_name": ".NET (C#)",
      "language": "C#",
      "name": ".net-csharp"
    },
    "language_info": {
      "file_extension": ".cs",
      "mimetype": "text/x-csharp",
      "name": "C#",
      "pygments_lexer": "csharp",
      "version": "8.0"
    }
  },
  "nbformat": 4,
  "nbformat_minor": 4
}
