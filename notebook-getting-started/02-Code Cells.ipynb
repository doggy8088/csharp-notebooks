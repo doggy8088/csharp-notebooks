{
  "cells": [
    {
      "cell_type": "markdown",
      "metadata": {},
      "source": [
        "# **Code Cells 介绍**\n",
        "  \n",
        "这个 notebok 主要涵盖利用 Code Cells 更新输出、引用 NuGet 等场景\n",
        "\n",
        "要学习 C# 请访问我们的 C# 101 教程 -  [第一个学习模块 - Hello World](https://ntbk.io/csharp101-notebook01)!"
      ]
    },
    {
      "cell_type": "markdown",
      "metadata": {},
      "source": [
        "### **引用 NuGets** "
      ]
    },
    {
      "cell_type": "code",
      "execution_count": 1,
      "metadata": {
        "dotnet_interactive": {
          "language": "csharp"
        },
        "vscode": {
          "languageId": "dotnet-interactive.csharp"
        }
      },
      "outputs": [
        {
          "data": {
            "text/html": [
              "<div><div></div><div></div><div><strong>Installed Packages</strong><ul><li><span>System.Text.Json, 6.0.4</span></li></ul></div></div>"
            ]
          },
          "execution_count": 1,
          "metadata": {},
          "output_type": "execute_result"
        }
      ],
      "source": [
        "#r \"nuget:System.Text.Json\""
      ]
    },
    {
      "cell_type": "markdown",
      "metadata": {},
      "source": [
        "学习更多内容 - [Nuget 概述](https://github.com/dotnet/interactive/blob/main/docs/nuget-overview.md)"
      ]
    },
    {
      "cell_type": "markdown",
      "metadata": {},
      "source": [
        "## **引用 Assemblies**"
      ]
    },
    {
      "cell_type": "code",
      "execution_count": 1,
      "metadata": {
        "dotnet_interactive": {
          "language": "csharp"
        },
        "vscode": {
          "languageId": "dotnet-interactive.csharp"
        }
      },
      "outputs": [],
      "source": [
        "#r \"<path to .dll>\""
      ]
    },
    {
      "cell_type": "markdown",
      "metadata": {},
      "source": [
        "## **显示和更新值**"
      ]
    },
    {
      "cell_type": "markdown",
      "metadata": {},
      "source": [
        "通过 Code Cells 显示值有几种方法\n",
        "\n",
        "### **Console.WriteLine**\n",
        "\n",
        "您可以像使用控制台应用程序一样使用 Console.WriteLine，并且显示输出结果。"
      ]
    },
    {
      "cell_type": "code",
      "execution_count": null,
      "metadata": {
        "dotnet_interactive": {
          "language": "csharp"
        },
        "vscode": {
          "languageId": "dotnet-interactive.csharp"
        }
      },
      "outputs": [
        {
          "name": "stdout",
          "output_type": "stream",
          "text": [
            "Hello Console.WriteLine\n"
          ]
        }
      ],
      "source": [
        "Console.WriteLine(\"Hello Console.WriteLine\");"
      ]
    },
    {
      "cell_type": "markdown",
      "metadata": {},
      "source": [
        "### **把值放在 Code Cell 的最后一行**\n",
        "如果 Code Cell 的最后一行是变量、对象或文字，那么它的值将被显示。"
      ]
    },
    {
      "cell_type": "code",
      "execution_count": 1,
      "metadata": {
        "dotnet_interactive": {
          "language": "csharp"
        },
        "vscode": {
          "languageId": "dotnet-interactive.csharp"
        }
      },
      "outputs": [
        {
          "data": {
            "text/plain": [
              "This will work!"
            ]
          },
          "execution_count": 1,
          "metadata": {},
          "output_type": "execute_result"
        }
      ],
      "source": [
        "\"This will work!\""
      ]
    },
    {
      "cell_type": "code",
      "execution_count": 1,
      "metadata": {
        "dotnet_interactive": {
          "language": "csharp"
        },
        "vscode": {
          "languageId": "dotnet-interactive.csharp"
        }
      },
      "outputs": [
        {
          "data": {
            "text/plain": [
              "This will work too"
            ]
          },
          "execution_count": 1,
          "metadata": {},
          "output_type": "execute_result"
        }
      ],
      "source": [
        "var x =  \"This will work too\";\n",
        "x"
      ]
    },
    {
      "cell_type": "markdown",
      "metadata": {},
      "source": [
        "### **内置显示功能**\n",
        "使用内置的显示功能是另一种选择，它允许您更新显示的值。 这是在长时间运行的任务期间显示和更新信息的最好方法。"
      ]
    },
    {
      "cell_type": "code",
      "execution_count": 1,
      "metadata": {
        "dotnet_interactive": {
          "language": "csharp"
        },
        "vscode": {
          "languageId": "dotnet-interactive.csharp"
        }
      },
      "outputs": [
        {
          "data": {
            "text/html": [
              "<div class=\"dni-plaintext\">10</div>"
            ]
          },
          "execution_count": 1,
          "metadata": {},
          "output_type": "execute_result"
        }
      ],
      "source": [
        "var displayedValue = 0.Display();\n",
        "\n",
        "for (int x = 0; x<=10; x++)\n",
        "{\n",
        "\tawait Task.Delay(1000);\n",
        "\tdisplayedValue.Update(x);\n",
        "}"
      ]
    }
  ],
  "metadata": {
    "kernelspec": {
      "display_name": ".NET (C#)",
      "language": "C#",
      "name": ".net-csharp"
    },
    "language_info": {
      "file_extension": ".cs",
      "mimetype": "text/x-csharp",
      "name": "C#",
      "pygments_lexer": "csharp",
      "version": "8.0"
    }
  },
  "nbformat": 4,
  "nbformat_minor": 4
}
