{
  "cells": [
    {
      "cell_type": "markdown",
      "metadata": {},
      "source": [
        "# **搜索、排序和索引列表**\n",
        "\n",
        "观看该模块的教学视频 [C# 101 video](https://www.youtube.com/watch?v=NJ5ghiutzfY&list=PLdo4fOcmZ0oVxKLQCHpiUWun7vlJJvUiN&index=13) "
      ]
    },
    {
      "cell_type": "markdown",
      "metadata": {},
      "source": [
        "## **搜索**\n",
        "\n",
        "在上一个笔记本中，您学习了如何查找存储在特定索引处的项目。 现在，给定一个项目，找出它的索引。\n",
        "\n",
        "> 运行代码\n",
        ">\n",
        "> 索菲亚的索引是多少？\n",
        ">\n",
        "> “斯科特”的索引是什麼？"
      ]
    },
    {
      "cell_type": "code",
      "execution_count": null,
      "metadata": {
        "dotnet_interactive": {
          "language": "csharp"
        },
        "vscode": {
          "languageId": "csharp"
        }
      },
      "outputs": [
        {
          "name": "stdout",
          "output_type": "stream",
          "text": [
            "Found Ana at 1\r\n"
          ]
        }
      ],
      "source": [
        "using System;\n",
        "using System.Collections.Generic;\n",
        "var names = new List<string> { \"Sophia\", \"Ana\", \"Jayme\", \"Bill\" };\n",
        "string name = \"Ana\";\n",
        "var index = names.IndexOf(name);\n",
        "Console.WriteLine($\"Found {name} at {index}\");"
      ]
    },
    {
      "cell_type": "markdown",
      "metadata": {},
      "source": [
        "## **返回 -1 是什么意思**\n",
        "\n",
        "如果 `IndexOf()` 返回 -1，则意味着它无法在列表中找到该项目。 事实上，你可以做一些 if 语句来解决找不到项目的问题：\n",
        "\n",
        "> 运行代码。\n",
        ">\n",
        "> 尝试几个不同的名称。"
      ]
    },
    {
      "cell_type": "code",
      "execution_count": null,
      "metadata": {
        "dotnet_interactive": {
          "language": "csharp"
        },
        "vscode": {
          "languageId": "csharp"
        }
      },
      "outputs": [
        {
          "name": "stdout",
          "output_type": "stream",
          "text": [
            "Scott not found\r\n"
          ]
        }
      ],
      "source": [
        "var names = new List<string> { \"Sophia\", \"Ana\", \"Jayme\", \"Bill\" };\n",
        "string name = \"Scott\";\n",
        "var index = names.IndexOf(name);\n",
        "if(index == -1){\n",
        "    Console.WriteLine($\"{name} not found\");\n",
        "} else {\n",
        "    Console.WriteLine($\"Found {names[index]} at {index}\");\n",
        "}"
      ]
    },
    {
      "cell_type": "markdown",
      "metadata": {},
      "source": [
        "## **排序**\n",
        "\n",
        "到目前为止，您只是按随机顺序输入名称。 但有时对列表进行排序会很好。 `Sort()` 获取一个列表并对其进行组织。 它查看变量类型并以它所能看到的最合理的方式组织 - 如果是字符串，它会按字母顺序排序，如果是数字，它会从最小到最大组织。\n",
        "\n",
        "注意你不需要写`sortedList = names.Sort()`，你只需要写`names.Sort()`。 `Sort()` 更改列表本身，您不必将操作保存到新对象。\n",
        "\n",
        "> 运行代码！\n",
        ">\n",
        "> 随意添加任何其他名称以查看它们是否被排序。"
      ]
    },
    {
      "cell_type": "code",
      "execution_count": null,
      "metadata": {
        "dotnet_interactive": {
          "language": "csharp"
        },
        "vscode": {
          "languageId": "csharp"
        }
      },
      "outputs": [
        {
          "name": "stdout",
          "output_type": "stream",
          "text": [
            "Pre Sorting:\r\n",
            "Sophia\r\n",
            "Ana\r\n",
            "Jayme\r\n",
            "Bill\r\n",
            "\r\n",
            "Post Sorting:\r\n",
            "Ana\r\n",
            "Bill\r\n",
            "Jayme\r\n",
            "Sophia\r\n"
          ]
        }
      ],
      "source": [
        "var names = new List<string> { \"Sophia\", \"Ana\", \"Jayme\", \"Bill\" };\n",
        "Console.WriteLine(\"Pre Sorting:\");\n",
        "foreach(var name in names )\n",
        "{\n",
        "    Console.WriteLine(name);\n",
        "}\n",
        "\n",
        "names.Sort();\n",
        "\n",
        "Console.WriteLine();\n",
        "Console.WriteLine(\"Post Sorting:\");\n",
        "foreach(var name in names )\n",
        "{\n",
        "    Console.WriteLine(name);\n",
        "}"
      ]
    },
    {
      "cell_type": "markdown",
      "metadata": {},
      "source": [
        "# **Playground：动动手**\n",
        "\n",
        "> 列出杂货清单，然后分类！ “胡萝卜”的索引是多少？\n",
        ">\n",
        "> 尝试制作一个数字列表！ 它们是否按照您期望的方式排序？\n",
        ">\n",
        "> 打印出您制作的列表。"
      ]
    },
    {
      "cell_type": "code",
      "execution_count": null,
      "metadata": {
        "dotnet_interactive": {
          "language": "csharp"
        },
        "vscode": {
          "languageId": "csharp"
        }
      },
      "outputs": [
        {
          "name": "stdout",
          "output_type": "stream",
          "text": [
            "Playground\r\n"
          ]
        }
      ],
      "source": [
        "Console.WriteLine(\"Playground\");"
      ]
    },
    {
      "cell_type": "markdown",
      "metadata": {},
      "source": [
        "# **进阶学习**\n",
        "\n",
        "\n",
        "> [⏩ 下一个学习模块 - 其他类型列表](https://github.com/kinfey/csharp-notebooks/blob/main/csharp-101/12-Lists%20of%20Other%20Types.ipynb)\n",
        ">\n",
        "> [⏪ 上一个学习模块 - 数组、列表和集合](https://github.com/kinfey/csharp-notebooks/blob/main/csharp-101/10-Arrays%2C%20Lists%2C%20and%20Collections.ipynb)\n",
        ">\n",
        "> [观看教学视频](https://www.youtube.com/watch?v=NJ5ghiutzfY&list=PLdo4fOcmZ0oVxKLQCHpiUWun7vlJJvUiN&index=13)\n",
        ">\n",
        "> [文档: 数组、列表和集合](https://docs.microsoft.com/dotnet/csharp/tour-of-csharp/tutorials/arrays-and-collections?WT.mc_id=Educationalcsharp-c9-scottha)\n",
        ">\n",
        "> [从头学起： 什么是 C# ？](https://www.youtube.com/watch?v=BM4CHBmAPh4&list=PLdo4fOcmZ0oVxKLQCHpiUWun7vlJJvUiN&index=1)"
      ]
    },
    {
      "cell_type": "markdown",
      "metadata": {},
      "source": [
        "# **其他学习资源**\n",
        "\n",
        "你可以从以下链接中获取\n",
        "> [其他 101 系列的教学视频](https://dotnet.microsoft.com/learn/videos?WT.mc_id=csharpnotebook-35129-website)\n",
        ">\n",
        "> [Microsoft Learn](https://docs.microsoft.com/learn/dotnet/?WT.mc_id=csharpnotebook-35129-website)\n",
        ">\n",
        "> [C# 文档](https://docs.microsoft.com/dotnet/csharp/?WT.mc_id=csharpnotebook-35129-website)"
      ]
    }
  ],
  "metadata": {
    "kernelspec": {
      "display_name": ".NET (C#)",
      "language": "C#",
      "name": ".net-csharp"
    },
    "language_info": {
      "file_extension": ".cs",
      "mimetype": "text/x-csharp",
      "name": "C#",
      "pygments_lexer": "csharp",
      "version": "8.0"
    }
  },
  "nbformat": 4,
  "nbformat_minor": 4
}
