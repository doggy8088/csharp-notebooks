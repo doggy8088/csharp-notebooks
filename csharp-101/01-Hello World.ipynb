{
  "cells": [
    {
      "cell_type": "markdown",
      "metadata": {},
      "source": [
        "# **Hello World ,你的第一个 C# 程序**\n",
        "\n",
        "观看该模块的教学视频 [C# 101 video](https://www.youtube.com/watch?v=KT2VR7m19So&list=PLdo4fOcmZ0oVxKLQCHpiUWun7vlJJvUiN&index=2) \n",
        "\n",
        "## **通过 Notebooks 将会学习到什么？**\n",
        "\n",
        "这些 Notebooks 可以帮助你学习到 C# 编程的技巧，具体要求\n",
        "\n",
        "- 独立运行完成这些 Notebooks。\n",
        "- 通过观看 C# 101 视频边看边练。\n",
        "- 利用这些 Notebooks 提及到的内容在 Visual Studio 中编写自己的代码。\n",
        "\n",
        "## **什么是C#?**\n",
        "\n",
        "C# 是一种功能强大且使用广泛的编程语言，可用于制作网站、游戏、移动应用程序、桌面应用程序、机器学习、云计算、大数据等。 C# 是 .NET 平台的一部分，其中包括所有应用程序库。 我们一起来学习 C#\n",
        "\n",
        "## **C#: Hello World**\n",
        "\n",
        "编写你的第一个 C# 程序！ 它将字符串“Hello World”输出到控制台。\n",
        "> 将鼠标悬停在以下代码上。 在左侧，应该会出现一个小的 “Play” 图标。 单击它，代码将会被执行！"
      ]
    },
    {
      "cell_type": "code",
      "execution_count": null,
      "metadata": {
        "dotnet_interactive": {
          "language": "csharp"
        },
        "vscode": {
          "languageId": "dotnet-interactive.csharp"
        }
      },
      "outputs": [
        {
          "name": "stdout",
          "output_type": "stream",
          "text": [
            "Hello World!\n"
          ]
        }
      ],
      "source": [
        "Console.WriteLine(\"Hello World!\");"
      ]
    },
    {
      "cell_type": "markdown",
      "metadata": {},
      "source": [
        "`Console.WriteLine` 是一种用于将消息打印到文本控制台的方法。 在这个例子中，将把“Hello World”输出。\n",
        "\n",
        "# **声明和使用变量**\n",
        "\n",
        "**variable** 是一个符号，可用于运行具有不同值的相同代码。 例如，您可以声明一个名为 `aFriend` 的新变量，您可以将其与 `Console.WriteLine` 一起使用去输出字符串。 可以通过使用`string`类型或使用`var`关键字来声明这个变量，`var`会自动找出对应类型。\n",
        "\n",
        "> 继续运行以下代码以查看 **Jayme** 的输出。\n",
        ">\n",
        "> 接下来，更改变量中的名称并再次运行它以查看不同的内容。"
      ]
    },
    {
      "cell_type": "code",
      "execution_count": null,
      "metadata": {
        "dotnet_interactive": {
          "language": "csharp"
        },
        "vscode": {
          "languageId": "dotnet-interactive.csharp"
        }
      },
      "outputs": [
        {
          "name": "stdout",
          "output_type": "stream",
          "text": [
            "Jayme\r\n"
          ]
        }
      ],
      "source": [
        "var aFriend = \"Jayme\";\n",
        "Console.WriteLine(aFriend);"
      ]
    },
    {
      "cell_type": "markdown",
      "metadata": {},
      "source": [
        "# **组合字符串**\n",
        "\n",
        "您可能已经注意到最后一个代码块中缺少“Hello”一词。 您可以通过使用 `+` 将多个字符串组合在一起来创建一个输出到控制台的新字符串来修复它。\n",
        "\n",
        "> 运行代码写出Hello的欢迎词！"
      ]
    },
    {
      "cell_type": "code",
      "execution_count": null,
      "metadata": {
        "dotnet_interactive": {
          "language": "csharp"
        },
        "vscode": {
          "languageId": "dotnet-interactive.csharp"
        }
      },
      "outputs": [
        {
          "name": "stdout",
          "output_type": "stream",
          "text": [
            "Hello Jayme!\r\n"
          ]
        }
      ],
      "source": [
        "Console.WriteLine(\"Hello \" + aFriend + \"!\");"
      ]
    },
    {
      "cell_type": "markdown",
      "metadata": {},
      "source": [
        "# **字符串插值**\n",
        "\n",
        "您刚刚使用 `+` 从 **variable** 和 **constant** 构建了一个新字符串。 有一个更好的方法来做到这一点，将变量放在 `{` 和 `}` 之间，告诉 C# 用变量的值替换该文本。 这称为**字符串插值**。 然后，您可以在开始引号之前添加一个 `$` 以启用字符串的字符串插值。"
      ]
    },
    {
      "cell_type": "code",
      "execution_count": null,
      "metadata": {
        "dotnet_interactive": {
          "language": "csharp"
        },
        "vscode": {
          "languageId": "dotnet-interactive.csharp"
        }
      },
      "outputs": [
        {
          "name": "stdout",
          "output_type": "stream",
          "text": [
            "Hello string interpolation!\r\n"
          ]
        }
      ],
      "source": [
        "aFriend = \"string interpolation\";\n",
        "Console.WriteLine($\"Hello {aFriend}!\");"
      ]
    },
    {
      "cell_type": "markdown",
      "metadata": {},
      "source": [
        "恭喜您！您刚刚成功创建了您的第一个 C# 应用程序，并了解了如何将字符串与字符串插值相结合的方法。"
      ]
    },
    {
      "cell_type": "markdown",
      "metadata": {},
      "source": [
        "# **Playground：动动手**\n",
        "\n",
        "每个模块最后都会有一个小“Playground”的内容，让您尝试自己编写代码。\n",
        "\n",
        "尝试打印单词和变量！ 这里有一些提示可以尝试：\n",
        "> 打印个人座右铭。\n",
        ">\n",
        "> 用你最喜欢的食物做一些变量，然后写一个涉及它们的小故事。\n",
        ">\n",
        "> **挑战一下**\n",
        ">\n",
        "> 制作你自己的疯狂图书馆！ 做一些动词、名词等变量，然后在你写故事时使用它们。 让朋友决定每个变量的值，然后读给他们笑！"
      ]
    },
    {
      "cell_type": "code",
      "execution_count": null,
      "metadata": {
        "dotnet_interactive": {
          "language": "csharp"
        },
        "vscode": {
          "languageId": "dotnet-interactive.csharp"
        }
      },
      "outputs": [
        {
          "name": "stdout",
          "output_type": "stream",
          "text": [
            "Playground\r\n"
          ]
        }
      ],
      "source": [
        "Console.WriteLine(\"Playground\");"
      ]
    },
    {
      "cell_type": "markdown",
      "metadata": {},
      "source": [
        "# **进阶学习**\n",
        "\n",
        "有非常多的资源给大家学习，不要错过!\n",
        ">> [⏩ 下一个模块 - 字符串基础](https://ntbk.io/csharp101-notebook02)\n",
        ">\n",
        "> [教学视频](https://www.youtube.com/watch?v=KT2VR7m19So&list=PLdo4fOcmZ0oVxKLQCHpiUWun7vlJJvUiN&index=2)\n",
        ">\n",
        "> [文档：C# 介绍](https://docs.microsoft.com/dotnet/csharp/tour-of-csharp/tutorials/hello-world?WT.mc_id=csharpnotebook-35129-website)"
      ]
    },
    {
      "cell_type": "markdown",
      "metadata": {},
      "source": [
        "# **其他资源**\n",
        "\n",
        "你可以从以下链接中获取\n",
        "> [其他 101 系列的教学视频](https://dotnet.microsoft.com/learn/videos?WT.mc_id=csharpnotebook-35129-website)\n",
        ">\n",
        "> [Microsoft Learn](https://docs.microsoft.com/learn/dotnet/?WT.mc_id=csharpnotebook-35129-website)\n",
        ">\n",
        "> [C# 文档](https://docs.microsoft.com/dotnet/csharp/?WT.mc_id=csharpnotebook-35129-website)"
      ]
    }
  ],
  "metadata": {
    "kernelspec": {
      "display_name": ".NET (C#)",
      "language": "C#",
      "name": ".net-csharp"
    },
    "language_info": {
      "file_extension": ".cs",
      "mimetype": "text/x-csharp",
      "name": "C#",
      "pygments_lexer": "csharp",
      "version": "8.0"
    }
  },
  "nbformat": 4,
  "nbformat_minor": 4
}
