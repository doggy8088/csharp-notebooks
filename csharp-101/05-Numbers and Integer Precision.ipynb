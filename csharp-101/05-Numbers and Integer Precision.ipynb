{
  "cells": [
    {
      "cell_type": "markdown",
      "metadata": {},
      "source": [
        "# **雙精度型別介紹**\n",
        "\n",
        "觀看該模組的教學影片 [C# 101 video](https://www.youtube.com/watch?v=31EmPADtv4w&list=PLdo4fOcmZ0oVxKLQCHpiUWun7vlJJvUiN&index=6) \n",
        "\n",
        "就像您在上一個模組中學到的那樣，在使用整數進行數學運算時，您只會得到整數，沒有小數或分數。 這些數字被『truncated截斷』，這只是意味著剩餘部分被截斷。 您可以使用餘數運算符 `%` 找到餘數。 餘數是除法問題的剩餘量。\n",
        "> 讓我們試試吧！"
      ]
    },
    {
      "cell_type": "code",
      "execution_count": null,
      "metadata": {
        "dotnet_interactive": {
          "language": "csharp"
        },
        "vscode": {
          "languageId": "dotnet-interactive.csharp"
        }
      },
      "outputs": [
        {
          "name": "stdout",
          "output_type": "stream",
          "text": [
            "quotient: 3\r\n",
            "remainder: 2\r\n"
          ]
        }
      ],
      "source": [
        "int a = 7;\n",
        "int b = 4;\n",
        "int c = 3;\n",
        "int d = (a + b) / c;\n",
        "int e = (a + b) % c;\n",
        "Console.WriteLine($\"quotient: {d}\");\n",
        "Console.WriteLine($\"remainder: {e}\");"
      ]
    },
    {
      "cell_type": "markdown",
      "metadata": {},
      "source": [
        "3 是商，2 是餘數\n",
        "\n",
        "## **最小和最大整數型別大小**\n",
        "\n",
        "由於整數型別在編碼中的結構方式，它們的大小是有限制的。\n",
        "> 透過執行以下程式碼找出結果！"
      ]
    },
    {
      "cell_type": "code",
      "execution_count": null,
      "metadata": {
        "dotnet_interactive": {
          "language": "csharp"
        },
        "vscode": {
          "languageId": "dotnet-interactive.csharp"
        }
      },
      "outputs": [
        {
          "name": "stdout",
          "output_type": "stream",
          "text": [
            "The range of integers is -2147483648 to 2147483647\r\n"
          ]
        }
      ],
      "source": [
        "int max = int.MaxValue;\n",
        "int min = int.MinValue;\n",
        "Console.WriteLine($\"The range of integers is {min} to {max}\");"
      ]
    },
    {
      "cell_type": "markdown",
      "metadata": {},
      "source": [
        "這仍然是一個很大的範圍！\n",
        "> 但是如果你試圖超越會發生什麼？"
      ]
    },
    {
      "cell_type": "code",
      "execution_count": null,
      "metadata": {
        "dotnet_interactive": {
          "language": "csharp"
        },
        "vscode": {
          "languageId": "dotnet-interactive.csharp"
        }
      },
      "outputs": [
        {
          "name": "stdout",
          "output_type": "stream",
          "text": [
            "An example of overflow: -2147483646\r\n"
          ]
        }
      ],
      "source": [
        "int what = max + 3;\n",
        "Console.WriteLine($\"An example of overflow: {what}\");"
      ]
    },
    {
      "cell_type": "markdown",
      "metadata": {},
      "source": [
        "這個本該很大的數字，現在已經接近最小值了！ 這是因為『溢位』『包裹』，回到最小值，然後繼續計數。\n",
        "\n",
        "## **Double 型別**\n",
        "\n",
        "Double 是數字表達的另一種型別。 他們可以保持浮點數。\n",
        "> 從頭開始重複相同的程式碼，看看 double 的不同之處。"
      ]
    },
    {
      "cell_type": "code",
      "execution_count": null,
      "metadata": {
        "dotnet_interactive": {
          "language": "csharp"
        },
        "vscode": {
          "languageId": "dotnet-interactive.csharp"
        }
      },
      "outputs": [
        {
          "name": "stdout",
          "output_type": "stream",
          "text": [
            "3.6666666666666665\r\n"
          ]
        }
      ],
      "source": [
        "double a = 7;\n",
        "double b = 4;\n",
        "double c = 3;\n",
        "double d = (a + b) / c;\n",
        "Console.WriteLine(d);"
      ]
    },
    {
      "cell_type": "markdown",
      "metadata": {},
      "source": [
        "> 這裡有一個更復雜的表示式可以嘗試:"
      ]
    },
    {
      "cell_type": "code",
      "execution_count": null,
      "metadata": {
        "dotnet_interactive": {
          "language": "csharp"
        },
        "vscode": {
          "languageId": "dotnet-interactive.csharp"
        }
      },
      "outputs": [
        {
          "name": "stdout",
          "output_type": "stream",
          "text": [
            "5.25\r\n"
          ]
        }
      ],
      "source": [
        "double a = 19;\n",
        "double b = 23;\n",
        "double c = 8;\n",
        "double d = (a + b) / c;\n",
        "Console.WriteLine(d);"
      ]
    },
    {
      "cell_type": "markdown",
      "metadata": {},
      "source": [
        "> 找出 double 的範圍："
      ]
    },
    {
      "cell_type": "code",
      "execution_count": null,
      "metadata": {
        "dotnet_interactive": {
          "language": "csharp"
        },
        "vscode": {
          "languageId": "dotnet-interactive.csharp"
        }
      },
      "outputs": [
        {
          "name": "stdout",
          "output_type": "stream",
          "text": [
            "The range of double is -1.7976931348623157E+308 to 1.7976931348623157E+308\r\n"
          ]
        }
      ],
      "source": [
        "double max = double.MaxValue;\n",
        "double min = double.MinValue;\n",
        "Console.WriteLine($\"The range of double is {min} to {max}\");"
      ]
    },
    {
      "cell_type": "markdown",
      "metadata": {},
      "source": [
        "這是相當大的！ 比整數型別大得多。\n",
        "\n",
        "當然，double 並不完美。 他們也有四捨五入的錯誤。\n",
        "> 看看這個四捨五入："
      ]
    },
    {
      "cell_type": "code",
      "execution_count": null,
      "metadata": {
        "dotnet_interactive": {
          "language": "csharp"
        },
        "vscode": {
          "languageId": "dotnet-interactive.csharp"
        }
      },
      "outputs": [
        {
          "name": "stdout",
          "output_type": "stream",
          "text": [
            "0.3333333333333333\r\n"
          ]
        }
      ],
      "source": [
        "double third = 1.0 / 3.0;\n",
        "Console.WriteLine(third);"
      ]
    },
    {
      "cell_type": "markdown",
      "metadata": {},
      "source": [
        "從技術上講，轉換為十進位的 1/3 應該是 3 無限重複，但這在編碼中不實用。 不過，如果您正在處理極其精確的變數，請注意這一點。"
      ]
    },
    {
      "cell_type": "markdown",
      "metadata": {},
      "source": [
        "# **Playground：動動手**\n",
        "\n",
        "\n",
        "> 有需要做數學的作業或專案嗎？ 嘗試使用程式碼代替計算器。\n",
        ">\n",
        "> 月球距離地球 238,855 英里。 如果您在編碼問題中使用到月球的距離，您需要使用整數型別還是 double 型？ 如果你用英寸來測量呢？ 太陽呢？ 它距離我們 92,955,828 英里。\n",
        ">\n",
        "> 如何用混合分數格式列印出除法問題？"
      ]
    },
    {
      "cell_type": "code",
      "execution_count": null,
      "metadata": {
        "dotnet_interactive": {
          "language": "csharp"
        },
        "vscode": {
          "languageId": "dotnet-interactive.csharp"
        }
      },
      "outputs": [
        {
          "name": "stdout",
          "output_type": "stream",
          "text": [
            "Playground\r\n"
          ]
        }
      ],
      "source": [
        "Console.WriteLine(\"Playground\");"
      ]
    },
    {
      "cell_type": "markdown",
      "metadata": {},
      "source": [
        "# **進階學習**\n",
        "\n",
        "> [⏩ 下一個學習模組 - 小數型別介紹](https://github.com/doggy8088/csharp-notebooks/blob/zh-tw/csharp-101/06-Numbers%20and%20Decimals.ipynb)\n",
        ">\n",
        "> [⏪ 上一個學習模組 - 整數型別介紹](https://github.com/doggy8088/csharp-notebooks/blob/zh-tw/csharp-101/04-Numbers%20and%20Integer%20Math.ipynb)\n",
        ">\n",
        "> [觀看教學影片](https://www.youtube.com/watch?v=jEE0pWTq54U&list=PLdo4fOcmZ0oVxKLQCHpiUWun7vlJJvUiN&index=5)\n",
        ">\n",
        "> [文件: C# 整數和浮點數](https://aka.ms/CSharp.Numbers)\n",
        ">\n",
        "> [從頭學起： 什麼是 C# ？](https://www.youtube.com/watch?v=BM4CHBmAPh4&list=PLdo4fOcmZ0oVxKLQCHpiUWun7vlJJvUiN&index=1)"
      ]
    },
    {
      "cell_type": "markdown",
      "metadata": {},
      "source": [
        "# **其他資源**\n",
        "\n",
        "你可以從以下連結中獲取\n",
        "> [其他 101 系列的教學影片](https://aka.ms/Videos.dotNET)\n",
        ">\n",
        "> [Microsoft Learn](https://aka.ms/Learn.dotNET)\n",
        ">\n",
        "> [C# 文件](https://aka.ms/Docs.CSharp)"
      ]
    }
  ],
  "metadata": {
    "kernelspec": {
      "display_name": ".NET (C#)",
      "language": "C#",
      "name": ".net-csharp"
    },
    "language_info": {
      "file_extension": ".cs",
      "mimetype": "text/x-csharp",
      "name": "C#",
      "pygments_lexer": "csharp",
      "version": "8.0"
    }
  },
  "nbformat": 4,
  "nbformat_minor": 4
}
