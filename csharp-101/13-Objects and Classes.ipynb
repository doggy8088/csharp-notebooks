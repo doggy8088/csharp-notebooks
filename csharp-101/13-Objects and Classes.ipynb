{
  "cells": [
    {
      "cell_type": "markdown",
      "metadata": {},
      "source": [
        "# **物件和類別**\n",
        "\n",
        "觀看該模組的教學影片 [C# 101 video](https://www.youtube.com/watch?v=TzgxcAiHCWA&list=PLdo4fOcmZ0oVxKLQCHpiUWun7vlJJvUiN&index=16) "
      ]
    },
    {
      "cell_type": "markdown",
      "metadata": {},
      "source": [
        "## **物件導向程式設計**\n",
        "\n",
        "物件是在編碼中模仿現實世界的一種方式。 如果你拿一個人的概念，他們可以有名字、地址、身高，所有這些屬性都會因人而異。 物件導向的編碼封裝了該類別型的訊息，因此您可以輕鬆地製作具有所有這些細節的人。 "
      ]
    },
    {
      "cell_type": "markdown",
      "metadata": {},
      "source": [
        "## **例子：建立銀行**\n",
        "\n",
        "在接下來的幾個模組中，您將建立一個具有以下屬性的銀行帳戶物件：\n",
        "\n",
        "> 它有一個唯一標識銀行賬戶的 10 位數字。\n",
        ">\n",
        "> 它有一個儲存所有者姓名的字串。\n",
        ">\n",
        "> 可以取回餘額。\n",
        ">\n",
        "> 它接受存款。\n",
        ">\n",
        "> 它接受提款。\n",
        ">\n",
        "> 初始餘額必須為正數。\n",
        ">\n",
        "> 提款不會導致負餘額。\n",
        ">\n",
        "\n",
        "您可以對這些目標進行分類：\n",
        "\n",
        "- **屬性**：有關物件的詳細訊息（它有多少錢，帳戶名稱）。\n",
        "- **Actions**：物件可以做的事情（接受存款和取款）。\n",
        "- **規則**：物件的指導方針，使其不會嘗試做不可能的事情（確保帳戶永遠不會變成負數）。"
      ]
    },
    {
      "cell_type": "markdown",
      "metadata": {},
      "source": [
        "## **動動手**\n",
        "\n",
        "下面是您要建立的空白『BankAccount』物件。 您將逐步新增程式碼。"
      ]
    },
    {
      "cell_type": "markdown",
      "metadata": {},
      "source": [
        "## **#1：屬性**\n",
        "\n",
        "屬性是每個物件擁有的值的一個佔位符。\n",
        "`get` 和 `set`：有時你只想讓使用者看到一個變數而不是改變它。 其他時候，您希望使用者能夠更改變數。 `get` 讓你看到變數，`set` 讓你改變它。 （正確的？）\n",
        "\n",
        "> 複製下面的程式碼並將其貼上到 `//Properties` 下的 `BankAccount` 物件中\n",
        "\n",
        "```csharp\n",
        "    public string Number { get; }\n",
        "    public string Owner { get; set; }\n",
        "    public decimal Balance { get; }\n",
        "```"
      ]
    },
    {
      "cell_type": "code",
      "execution_count": null,
      "metadata": {
        "dotnet_interactive": {
          "language": "csharp"
        },
        "vscode": {
          "languageId": "dotnet-interactive.csharp"
        }
      },
      "outputs": [],
      "source": [
        "public class BankAccount\n",
        "{\n",
        "    // Properties (paste under here)\n",
        "\n",
        "    // Constructor\n",
        "\n",
        "    // Functions\n",
        "}"
      ]
    },
    {
      "cell_type": "markdown",
      "metadata": {},
      "source": [
        "## **#2：建構式函式**\n",
        "\n",
        "此方法用於建立物件的特定實例。 像您現在所做的那樣，建立一個 `BankAccount` 類別就像為所有銀行帳戶建立一個樣板。 這不是一個單一的個人帳戶。 建構式函式將建立一個單獨的帳戶，其中包含所有人員的實際詳細訊息。 您為建構式函式提供特定帳戶所需的所有詳細訊息，並將詳細訊息分配給新物件的屬性。\n",
        "\n",
        "`this` 是一個樣式選擇。 它明確表明變數『所有者』是該特定實例的變數。 將來，您將有一個物件的兩個實例進行互動，並且 `this` 將變得更加明確有用。 如果你願意，你也可以寫 `Owner` 而不是 `this.Owner`！\n",
        "\n",
        "您正在使用變數 `name` 和 `initialBalance` 並建立一個包含這些變數的銀行帳戶。\n",
        "\n",
        "> 將建構式函式複製貼上到下面的 `BankAccount` 中，在 `//Constructor` 下\n",
        "\n",
        "```csharp\n",
        "public BankAccount(string name, decimal initialBalance)\n",
        "{\n",
        "    this.Owner = name;\n",
        "    this.Balance = initialBalance;\n",
        "}\n",
        "```"
      ]
    },
    {
      "cell_type": "code",
      "execution_count": null,
      "metadata": {
        "dotnet_interactive": {
          "language": "csharp"
        },
        "vscode": {
          "languageId": "dotnet-interactive.csharp"
        }
      },
      "outputs": [],
      "source": [
        "public class BankAccount\n",
        "{\n",
        "    // Properties\n",
        "    public string Number { get; }\n",
        "    public string Owner { get; set; }\n",
        "    public decimal Balance { get; }\n",
        "\n",
        "    // Constructor (Paste here!)\n",
        "\n",
        "    // Functions\n",
        "}"
      ]
    },
    {
      "cell_type": "markdown",
      "metadata": {},
      "source": [
        "## **#3：建立一個實例**\n",
        "\n",
        "現在你已經寫好了程式碼，看看如果你建立一個 `BankAccount` 會發生什麼！\n",
        "\n",
        "> 執行下面的兩個程式碼單元以建立特定的銀行帳戶。 它是否符合您的預期？\n",
        ">\n",
        "> 更改程式碼為自己建立一個銀行帳戶。 你想在你的銀行賬戶裡存多少錢？"
      ]
    },
    {
      "cell_type": "code",
      "execution_count": null,
      "metadata": {
        "dotnet_interactive": {
          "language": "csharp"
        },
        "vscode": {
          "languageId": "dotnet-interactive.csharp"
        }
      },
      "outputs": [],
      "source": [
        "public class BankAccount\n",
        "{\n",
        "    // Properties\n",
        "    public string Number { get; }\n",
        "    public string Owner { get; set; }\n",
        "    public decimal Balance { get; }\n",
        "\n",
        "    // Constructor\n",
        "    public BankAccount(string name, decimal initialBalance)\n",
        "    {\n",
        "        this.Owner = name;\n",
        "        this.Balance = initialBalance;\n",
        "    }\n",
        "    // Functions\n",
        "}"
      ]
    },
    {
      "cell_type": "code",
      "execution_count": null,
      "metadata": {
        "dotnet_interactive": {
          "language": "csharp"
        },
        "vscode": {
          "languageId": "dotnet-interactive.csharp"
        }
      },
      "outputs": [
        {
          "name": "stdout",
          "output_type": "stream",
          "text": [
            "Account was created for Kendra with 1000 dollars\r\n"
          ]
        }
      ],
      "source": [
        "var account = new BankAccount(\"Kendra\", 1000);\n",
        "Console.WriteLine($\"Account{account.Number} was created for {account.Owner} with {account.Balance} dollars\");"
      ]
    },
    {
      "cell_type": "markdown",
      "metadata": {},
      "source": [
        "## `account.Number` 呢？\n",
        "\n",
        "您可能已經注意到程式碼沒有列印出任何關於 `account.Number` 的內容。 沒關係！ 你還沒有在裡面放任何東西。 您將在下一個模組中瞭解它。"
      ]
    },
    {
      "cell_type": "markdown",
      "metadata": {},
      "source": [
        "## #4: Functions\n",
        "\n",
        "Functions exist to do actions with an object or change the object variables. These two functions will make a deposit (add money) and make a withdrawal (take out money). You'll be adding stuff in the methods later, but for now you just want to add the empty versions.\n",
        "\n",
        "> copy the functions below and add them to `BankAccount` under `//Functions`\n",
        "\n",
        "```csharp\n",
        "public void MakeDeposit(decimal amount, DateTime date, string note)\n",
        "{\n",
        "}\n",
        "\n",
        "public void MakeWithdrawal(decimal amount, DateTime date, string note)\n",
        "{\n",
        "}\n",
        "```"
      ]
    },
    {
      "cell_type": "code",
      "execution_count": null,
      "metadata": {
        "dotnet_interactive": {
          "language": "csharp"
        },
        "vscode": {
          "languageId": "dotnet-interactive.csharp"
        }
      },
      "outputs": [],
      "source": [
        "public class BankAccount\n",
        "{\n",
        "    // Properties\n",
        "    public string Number { get; }\n",
        "    public string Owner { get; set; }\n",
        "    public decimal Balance { get; }\n",
        "\n",
        "    // Constructor\n",
        "    public BankAccount(string name, decimal initialBalance)\n",
        "    {\n",
        "        this.Owner = name;\n",
        "        this.Balance = initialBalance;\n",
        "    }\n",
        "\n",
        "    // Functions (paste here!)\n",
        "}"
      ]
    },
    {
      "cell_type": "markdown",
      "metadata": {},
      "source": [
        "# **回顧一下**\n",
        "\n",
        "這是您在此模組中最終使用的 `BankAccount` 的版本。 您將在下一個模組中新增更多內容，但您為什麼不嘗試一些東西，看看您需要學習什麼？\n",
        "\n",
        "> 可以新增 10 位程式碼嗎？ 你的物件需要知道什麼來確保程式碼是唯一的？\n",
        ">\n",
        "> 試試新增存款功能吧！ 你想讓它做什麼？\n",
        ">\n",
        "> 您如何檢查初始餘額是否為正？"
      ]
    },
    {
      "cell_type": "code",
      "execution_count": null,
      "metadata": {
        "dotnet_interactive": {
          "language": "csharp"
        },
        "vscode": {
          "languageId": "dotnet-interactive.csharp"
        }
      },
      "outputs": [],
      "source": [
        "public class BankAccount\n",
        "{\n",
        "    // Variables (#1)\n",
        "    public string Number { get; }\n",
        "    public string Owner { get; set; }\n",
        "    public decimal Balance { get; }\n",
        "\n",
        "    // Constructor (#2)\n",
        "    public BankAccount(string name, decimal initialBalance)\n",
        "    {\n",
        "        this.Owner = name;\n",
        "        this.Balance = initialBalance;\n",
        "    }\n",
        "\n",
        "    // Functions (#4)\n",
        "    public void MakeDeposit(decimal amount, DateTime date, string note)\n",
        "    {\n",
        "    }\n",
        "\n",
        "    public void MakeWithdrawal(decimal amount, DateTime date, string note)\n",
        "    {\n",
        "    }\n",
        "}"
      ]
    },
    {
      "cell_type": "code",
      "execution_count": null,
      "metadata": {
        "dotnet_interactive": {
          "language": "csharp"
        },
        "vscode": {
          "languageId": "dotnet-interactive.csharp"
        }
      },
      "outputs": [
        {
          "name": "stdout",
          "output_type": "stream",
          "text": [
            "Account was created for Kendra with 1000 dollars\r\n"
          ]
        }
      ],
      "source": [
        "//Make an instance (#3)\n",
        "var account = new BankAccount(\"Kendra\", 1000);\n",
        "Console.WriteLine($\"Account{account.Number} was created for {account.Owner} with {account.Balance} dollars\");"
      ]
    },
    {
      "cell_type": "markdown",
      "metadata": {},
      "source": [
        "# **進階學習**\n",
        "\n",
        "> [⏩ 下一個學習模組 - 物件和類別](https://github.com/doggy8088/csharp-notebooks/blob/zh-tw/csharp-101/14-Methods%20and%20Members.ipynb)\n",
        ">\n",
        "> [⏪ 上一個學習模組 - 其他型別清單](https://github.com/doggy8088/csharp-notebooks/blob/zh-tw/csharp-101/12-Lists%20of%20Other%20Types.ipynb)\n",
        ">\n",
        "> [觀看教學影片](https://www.youtube.com/watch?v=TzgxcAiHCWA&list=PLdo4fOcmZ0oVxKLQCHpiUWun7vlJJvUiN&index=16)\n",
        ">\n",
        "> [文件: C# 物件導向程式設計](https://aka.ms/CSharp.OO)\n",
        ">\n",
        "> [從頭學起： 什麼是 C# ？](https://www.youtube.com/watch?v=BM4CHBmAPh4&list=PLdo4fOcmZ0oVxKLQCHpiUWun7vlJJvUiN&index=1)"
      ]
    },
    {
      "cell_type": "markdown",
      "metadata": {},
      "source": [
        "# **其他資源**\n",
        "\n",
        "你可以從以下連結中獲取\n",
        "> [其他 101 系列的教學影片](https://aka.ms/Videos.dotNET)\n",
        ">\n",
        "> [Microsoft Learn](https://aka.ms/Learn.dotNET)\n",
        ">\n",
        "> [C# 文件](https://aka.ms/Docs.CSharp)"
      ]
    }
  ],
  "metadata": {
    "kernelspec": {
      "display_name": ".NET (C#)",
      "language": "C#",
      "name": ".net-csharp"
    },
    "language_info": {
      "file_extension": ".cs",
      "mimetype": "text/x-csharp",
      "name": "C#",
      "pygments_lexer": "csharp",
      "version": "8.0"
    }
  },
  "nbformat": 4,
  "nbformat_minor": 4
}
