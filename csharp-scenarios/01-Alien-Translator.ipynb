{
 "cells": [
  {
   "cell_type": "markdown",
   "metadata": {},
   "source": [
    "# **翻譯外星人訊息**\n",
    "\n",
    "## **介紹**\n",
    "在這個適合初學者的編碼挑戰中，您將瞭解所有關於字串以及字元如何串在一起形成字串的知識！ 字串是軟件開發人員每天使用的一種重要資料型別。 今天，我們將使用 C#（發音為 see-sharp）語言將外星人的訊息翻譯成英語！\n",
    "\n",
    "### **學習目標**\n",
    "1. 瞭解什麼是字串\n",
    "1.建立字串資料\n",
    "1. 將字串資料透過連線和內嵌處理成一個新的字串\n",
    "\n",
    "### 本筆記本中使用的有用術語的快速概覽\n",
    "1. [字串](https://docs.microsoft.com/dotnet/api/system.string?view=net-6.0)\n",
    "2. [字元](https://docs.microsoft.com/dotnet/api/system.char?view=net-6.0) \n",
    "3. [變數](https://docs.microsoft.com/dotnet/csharp/language-reference/language-specification/variables)\n",
    "4. [控制台](https://docs.microsoft.com/windows/console/consoles)\n",
    "5. [Switch 語句](https://docs.microsoft.com/dotnet/csharp/language-reference/operators/switch-expression)\n",
    "6. [foreach 迴圈](https://docs.microsoft.com/dotnet/csharp/language-reference/statements/iteration-statements#the-foreach-statement)\n",
    "7. [字串內嵌](https://docs.microsoft.com/dotnet/csharp/language-reference/tokens/interpolated?msclkid=1b008d82d0b611ec96aa6fdaf77cbe48)"
   ]
  },
  {
   "cell_type": "markdown",
   "metadata": {},
   "source": [
    "![Alien Image](https://raw.githubusercontent.com/katiesavage/csharp-notebooks/main/csharp-scenarios/images/alien-ship.png)"
   ]
  },
  {
   "cell_type": "markdown",
   "metadata": {},
   "source": [
    "## **場景**\n",
    "\n",
    "想象一下，你是政府僱傭的計算語言學家，幫助與最近登入地球的一群外星人交流。 這些外星人講一種非人類語言，稱為語言 X（外星人）。 幸運的是，您的語言學夥伴比您先到達現場，並且能夠為 X 語言的一些基本單詞生成英文翻譯。她已經確定外星人想要向人類傳達訊息。 作為她的計算語言學家，您的工作是**使用程式碼將語言 X 中較長的訊息翻譯成英語**。\n",
    "\n",
    "**計算語言學家**使用計算和人工智慧來研究自然語言和自然語言模式。 這些語言學家利用語言資料對不同的語言進行建模，他們可以以多種不同的方式應用這些模型。 聊天機器人、語音識別系統和搜尋引擎等工具都是在計算語言學的幫助下建立的。"
   ]
  },
  {
   "cell_type": "markdown",
   "metadata": {},
   "source": [
    "## **Console.WriteLine**\n",
    "### **向外星人介紹自己**\n",
    "\n",
    "當您第一次到達現場時，您的語言夥伴會鼓勵您向外星人介紹自己。 因為這將是一個快速的介紹，所以她會為您翻譯此宣告。\n",
    "\n",
    "為此，您需要編寫一個顯示到控制台的字串。\n",
    "\n",
    "**string** 是一個字元序列。 字串是一種特別有用的資料型別，它允許您與程式的使用者進行互動。 在 C# 中，字串以引號開頭和結尾。 例如，『這是一個字串』。\n",
    "\n",
    "要問候外星人，請將以下程式碼中的 *myName* 替換為您的姓名。 然後，執行程式碼。   "
   ]
  },
  {
   "cell_type": "code",
   "execution_count": null,
   "metadata": {
    "dotnet_interactive": {
     "language": "csharp"
    },
    "vscode": {
     "languageId": "dotnet-interactive.csharp"
    }
   },
   "outputs": [],
   "source": [
    "Console.WriteLine(\"Hi extraterrestrials, my name is myName.\");"
   ]
  },
  {
   "cell_type": "markdown",
   "metadata": {},
   "source": [
    "*Console.WriteLine()* [語句](https://docs.microsoft.com/dotnet/csharp/programming-guide/statements-expressions-operators/statements) 允許我們將字串寫入控制台。 讓我們分解一下。\n",
    "\n",
    "> * [Console](https://docs.microsoft.com/dotnet/api/system.console?view=net-6.0) 可用於輸出字串。\n",
    "> * [WriteLine() 方法](https://docs.microsoft.com/dotnet/api/system.console.writeline?view=net-6.0) 將您在括號中指定的任何資料寫入輸出。"
   ]
  },
  {
   "cell_type": "markdown",
   "metadata": {},
   "source": [
    "## **使用帶字串的變數**\n",
    "### **告訴外星人更多關於你自己的訊息**\n",
    "了不起的工作！ 你的語言夥伴說你應該多介紹一下自己，這樣外星人就知道你在做什麼。 但是，她說只用你的名字而不是像我這樣的代詞來指代你自己，因為她還不能翻譯代詞。 用你的名字替換 *myName* 的所有實例並點選執行。"
   ]
  },
  {
   "cell_type": "code",
   "execution_count": null,
   "metadata": {
    "dotnet_interactive": {
     "language": "csharp"
    },
    "vscode": {
     "languageId": "dotnet-interactive.csharp"
    }
   },
   "outputs": [],
   "source": [
    "Console.WriteLine(\"Hi extraterrestrials, my name is myName.\"); \n",
    "Console.WriteLine(\"myName is a researcher.\"); \n",
    "Console.WriteLine(\"myName studies language.\"); "
   ]
  },
  {
   "cell_type": "markdown",
   "metadata": {},
   "source": [
    "### **將外星人介紹給其他人**\n",
    "很好！現在，您的研究團隊的其他成員想要使用您的程式碼進行自我介紹。但是，用每個研究人員的名字遍歷和更改所有 *myName*s 是乏味的，並且可能會導致錯誤。注意在我們想要輸出的字串中，唯一改變的是 myName。簡化程式碼並減少出錯空間的一種方法是使用變數和字串內嵌。 **variable** 是一個符號，可用於執行具有不同值的相同程式碼。\n",
    "\n",
    "讓我們建立一個名為 name 的字串變數，而不是替換每個 *myName*，我們可以一次將其分配給不同的名稱，它將在整個介紹過程中更新所有 myNames！\n",
    "\n",
    "我們還需要使用**字串內嵌**來使用我們字串中的變數。這允許您從包含嵌入式程式碼的字串構造單個結果字串。每個內插字串都有兩部分。\n",
    "1. 字串以 `$` 開頭，緊接在左引號之前。\n",
    "2. 至少一個內插表示式。您必須將這些內嵌表示式包裹在花括號 `{` `}` 中。您可以將任何回傳值的 C# 表示式放在大括號內。在本練習中，我們使用的是字串。\n",
    "\n",
    "嘗試執行下面的範例，看看它是如何工作的。"
   ]
  },
  {
   "cell_type": "code",
   "execution_count": null,
   "metadata": {
    "dotnet_interactive": {
     "language": "csharp"
    },
    "vscode": {
     "languageId": "dotnet-interactive.csharp"
    }
   },
   "outputs": [
    {
     "name": "stdout",
     "output_type": "stream",
     "text": [
      "For more help, please call 123456789\r\n"
     ]
    }
   ],
   "source": [
    "var phoneNumber = 123456789;\n",
    "Console.WriteLine($\"For more help, please call {phoneNumber}\");"
   ]
  },
  {
   "cell_type": "markdown",
   "metadata": {},
   "source": [
    "在此範例中，phoneNumber 變數被嵌入到字串中。\n",
    "\n",
    "現在讓我們用我們給外星人的訊息來試試這個。 在下面的程式碼中，建立一個名為 `name` 的變數並將其賦值為『myName』。 然後，使用 `$`、`{` 和 `}`，將這三個語句轉換為內嵌表示式。"
   ]
  },
  {
   "cell_type": "code",
   "execution_count": null,
   "metadata": {
    "dotnet_interactive": {
     "language": "csharp"
    },
    "vscode": {
     "languageId": "dotnet-interactive.csharp"
    }
   },
   "outputs": [
    {
     "name": "stdout",
     "output_type": "stream",
     "text": [
      "Hi extraterrestrials, my name is myName.\r\n",
      "myName is a researcher.\r\n",
      "myName studies language.\r\n"
     ]
    }
   ],
   "source": [
    "Console.WriteLine(\"Hi extraterrestrials, my name is myName.\"); \n",
    "Console.WriteLine(\"myName is a researcher.\"); \n",
    "Console.WriteLine(\"myName studies language.\"); "
   ]
  },
  {
   "cell_type": "markdown",
   "metadata": {},
   "source": [
    "現在，您可以將名稱設定為被介紹人的姓名。 嘗試用名字 Joon 替換 *myName* 並執行它。\n",
    "\n",
    "上面帶有 Console.WriteLine 的行是**字串文字**，這意味著它是表示常數字串的文字。"
   ]
  },
  {
   "cell_type": "markdown",
   "metadata": {},
   "source": [
    "## **讓我們翻譯一條訊息**\n",
    "是時候開始翻譯了。 您的語言夥伴為您提供了下圖，其中包括她能夠翻譯成語言 X 的所有單詞及其英語翻譯。 我們將使用這些資料來翻譯外星人的訊息。\n",
    "\n",
    "### **語言資料**\n",
    "這些資料被組織成一個 [switch 語句](https://docs.microsoft.com/dotnet/csharp/language-reference/operators/switch-expression)。 這個 **switch 表示式** 將一個外來詞作為輸入，並輸出英文翻譯。 通常，switch 表示式將輸入與一系列案例進行對應，而輸出取決於對應的案例。 為了翻譯訊息，我們將使用這個 switch 表示式來幫助我們對應外來詞並接收正確的英文單詞。"
   ]
  },
  {
   "cell_type": "code",
   "execution_count": null,
   "metadata": {
    "dotnet_interactive": {
     "language": "csharp"
    },
    "vscode": {
     "languageId": "dotnet-interactive.csharp"
    }
   },
   "outputs": [],
   "source": [
    "string ToEnglish(string word) => word switch\n",
    "{\n",
    "    \"yoish\"     => \"the aliens\",\n",
    "    \"ceroyash\"  => \"Earth\",\n",
    "    \"nomshce\"   => \"want\",\n",
    "    \"warshel\"   => \"please\",\n",
    "    \"yoishel\"   => \"Alien planet\",\n",
    "    \"oppor\"     => \"need\",\n",
    "    \"afala\"     => \"trees\",\n",
    "    \"eshteve\"   => \"walk\",\n",
    "    \"blarg\"     => \"speak\",\n",
    "    \"shioy\"     => \"humans\",\n",
    "    \"abree\"     => \"help\",\n",
    "    \"shwaye\"    => \"crashed\",\n",
    "    \"ni\"        => \"on\",\n",
    "    \"coierm\"    => \"to go\",\n",
    "    \"lleog\"     => \"dirt\",\n",
    "    \"efellesh\"  => \"peace\",\n",
    "    \"veiesht\"   => \"home\",\n",
    "    \"shir\"      => \"can\",\n",
    "    \"argsha\"    => \"spaceship\",\n",
    "    _           => \"Unknown\"\n",
    "};"
   ]
  },
  {
   "cell_type": "markdown",
   "metadata": {},
   "source": [
    "如您所見，上面的每個 Language X 單詞都對映到英語中的單詞。 例如，『Yoish』的意思是『外星人』"
   ]
  },
  {
   "cell_type": "markdown",
   "metadata": {},
   "source": [
    "看起來外星人正在傳送他們的第一條訊息：\n",
    "### **\"warshel abree yoish\"**"
   ]
  },
  {
   "cell_type": "markdown",
   "metadata": {},
   "source": [
    "對於我們的第一個翻譯，讓我們用對應的英語單詞替換每種語言 X 單詞。 為此，我們將使用 [String.Replace 方法](https://docs.microsoft.com/dotnet/api/system.string.replace?view=net-6.0)。 要正確使用此方法，我們傳入要替換的字串和替換字串。 執行下面的單元格，看看它是如何工作的。\n",
    "\n",
    "這是一個例子："
   ]
  },
  {
   "cell_type": "code",
   "execution_count": null,
   "metadata": {
    "dotnet_interactive": {
     "language": "csharp"
    },
    "vscode": {
     "languageId": "dotnet-interactive.csharp"
    }
   },
   "outputs": [
    {
     "name": "stdout",
     "output_type": "stream",
     "text": [
      "She is cool\r\n"
     ]
    }
   ],
   "source": [
    "var stringName = \"He is cold\"; \n",
    "\n",
    "// Below, we replace \"He\" with \"She\" and \"cold\" with \"cool\"\n",
    "stringName = stringName.Replace(\"He\", \"She\").Replace(\"cold\",\"cool\"); \n",
    "\n",
    "Console.WriteLine(stringName);"
   ]
  },
  {
   "cell_type": "markdown",
   "metadata": {},
   "source": [
    ">注意如何在一個語句中放置多個替換\n",
    "\n",
    "現在，讓我們用外星人的訊息來試試這個。"
   ]
  },
  {
   "cell_type": "code",
   "execution_count": null,
   "metadata": {
    "dotnet_interactive": {
     "language": "csharp"
    },
    "vscode": {
     "languageId": "dotnet-interactive.csharp"
    }
   },
   "outputs": [
    {
     "name": "stdout",
     "output_type": "stream",
     "text": [
      "Warshel abree yoish\r\n"
     ]
    }
   ],
   "source": [
    "// here」s the alien message \n",
    "\n",
    "var message = \"Warshel abree yoish\";\n",
    "\n",
    "// try replacing the words in language x with their English counterparts using the Replace method \n",
    "\n",
    "// print the message\n",
    "Console.WriteLine(message);"
   ]
  },
  {
   "cell_type": "markdown",
   "metadata": {},
   "source": [
    "## **讓我們使用迴圈**\n",
    "\n",
    "看起來第二條外星人訊息正在傳入：\n",
    "### **Yoish shwaye ni ceroyash。 Yoish oppor shioy abree coierm veiesht。 Shioy abree yoish？**\n",
    "對於像這樣較長的訊息，逐個替換單詞有點乏味。 我們可以讓這個過程更有效率。 想象一下，如果我們可以編寫一段程式碼，逐字檢查未知的外星人訊息，找到每個單詞的英文翻譯，然後輸出翻譯後的英文訊息。 幸運的是，我們可以使用迴圈。 **迴圈**是一種重複動作多次的方式。\n",
    "\n",
    "我們將使用上面的 ToEnglish **switch 表示式** 將外星人訊息中的每個 Language X 單詞翻譯成英語。"
   ]
  },
  {
   "cell_type": "markdown",
   "metadata": {},
   "source": [
    "在我們可以迴圈句子中的單詞之前，我們需要將訊息字串分解為單詞。 為此，我們將使用 [String.Split()](https://docs.microsoft.com/dotnet/api/system.string.split?view=net-6.0) 方法。 我們向 String.Split() 方法傳遞一個描述字元，該方法將使用該字元將字串拆分為子字串。 在句子的情況下，我們可以選擇一個空格''作為分隔符，因為每個單詞都用空格分隔。 在下面的單元格中，使用 String.Split() 將句子字串拆分為單詞子字串。"
   ]
  },
  {
   "cell_type": "markdown",
   "metadata": {},
   "source": [
    "![Split Method Image](https://raw.githubusercontent.com/katiesavage/csharp-notebooks/main/csharp-scenarios/images/split-method.png)"
   ]
  },
  {
   "cell_type": "markdown",
   "metadata": {},
   "source": [
    "現在我們可以將句子字串拆分為單詞子字串，是時候遍歷它們並進行翻譯了！ 為此，我們將使用 [foreach 迴圈](https://docs.microsoft.com/dotnet/csharp/language-reference/statements/iteration-statements#the-foreach-statement)。 這是一種特殊型別的迴圈，它為該類別型元素組中的每個元素執行一條語句。\n",
    "\n",
    "語法是這樣的："
   ]
  },
  {
   "cell_type": "code",
   "execution_count": null,
   "metadata": {
    "dotnet_interactive": {
     "language": "csharp"
    },
    "vscode": {
     "languageId": "dotnet-interactive.csharp"
    }
   },
   "outputs": [
    {
     "name": "stdout",
     "output_type": "stream",
     "text": [
      "this is an example "
     ]
    }
   ],
   "source": [
    "var sentence = \"this is an example\";\n",
    "\n",
    "// split the string into substrings\n",
    "string[] variableCollection = sentence.Split(' ');\n",
    "\n",
    "foreach(var variableName in variableCollection) \n",
    "{ \n",
    "     // statements to be executed \n",
    "     Console.Write(variableName + \" \");\n",
    "} "
   ]
  },
  {
   "cell_type": "markdown",
   "metadata": {},
   "source": [
    ">在我們的例子中，**資料型別**是字串。 **變數名**可以是任何東西，但為了確保我們的程式碼易於理解，我們將其命名為 word。 **集合變數**將是我們的語言 X 單詞清單。 要執行的語句必須用大括號括起來。\n",
    "\n",
    "現在您可以將外星人的句子字串拆分為單詞子字串，並且我們知道如何迴圈這些字串，是時候翻譯外星人的訊息了！"
   ]
  },
  {
   "cell_type": "code",
   "execution_count": null,
   "metadata": {
    "dotnet_interactive": {
     "language": "csharp"
    },
    "vscode": {
     "languageId": "dotnet-interactive.csharp"
    }
   },
   "outputs": [
    {
     "name": "stdout",
     "output_type": "stream",
     "text": [
      "yoish shwaye ni ceroyash yoish oppor shioy abree coierm veiesht shir shioy abree yoish\r\n"
     ]
    }
   ],
   "source": [
    "var alienMessage = \"yoish shwaye ni ceroyash yoish oppor shioy abree coierm veiesht shir shioy abree yoish\"; \n",
    "\n",
    "// split alienMessage into word substrings and store it in a variable called words \n",
    "string[] words = alienMessage.Split(' '); \n",
    "\n",
    "// Here is where we will loop through each word in words and translate them  \n",
    "foreach(var word in words) \n",
    "{ \n",
    "    // pass the word to the switch expression here \n",
    "    \n",
    "} \n",
    "\n",
    "// turn the English word back into a string using the Join method\n",
    "var englishMessage = string.Join(\" \", words);\n",
    "Console.WriteLine(englishMessage);"
   ]
  },
  {
   "cell_type": "markdown",
   "metadata": {},
   "source": [
    "很好！ 您現在可以將此訊息以及您的翻譯工具轉發給外星人回應小組，以便他們將外星人帶回家。 任務成功！"
   ]
  }
 ],
 "metadata": {
  "kernelspec": {
   "display_name": ".NET (C#)",
   "language": "C#",
   "name": ".net-csharp"
  },
  "language_info": {
   "file_extension": ".cs",
   "mimetype": "text/x-csharp",
   "name": "C#",
   "pygments_lexer": "csharp",
   "version": "9.0"
  },
  "orig_nbformat": 4
 },
 "nbformat": 4,
 "nbformat_minor": 2
}
