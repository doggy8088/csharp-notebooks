{
  "cells": [
    {
      "cell_type": "markdown",
      "metadata": {},
      "source": [
        "# **陣列、清單和集合**\n",
        "\n",
        "觀看該模組的教學影片 [C# 101 video](https://www.youtube.com/watch?v=qLeF_wpnVto&list=PLdo4fOcmZ0oVxKLQCHpiUWun7vlJJvUiN&index=12) "
      ]
    },
    {
      "cell_type": "markdown",
      "metadata": {},
      "source": [
        "陣列、清單和集合非常有用。 嘗試檢視清單：\n",
        "> 執行以下程式碼。 它列印出您的預期嗎？"
      ]
    },
    {
      "cell_type": "code",
      "execution_count": null,
      "metadata": {
        "dotnet_interactive": {
          "language": "csharp"
        },
        "vscode": {
          "languageId": "dotnet-interactive.csharp"
        }
      },
      "outputs": [
        {
          "name": "stdout",
          "output_type": "stream",
          "text": [
            "Hello <NAME>!\r\n",
            "Hello ANA!\r\n",
            "Hello FELIPE!\r\n"
          ]
        }
      ],
      "source": [
        "using System;\n",
        "using System.Collections.Generic;\n",
        "\n",
        "var names = new List<string> { \"<name>\", \"Ana\", \"Felipe\" };\n",
        "foreach (var name in names)\n",
        "{\n",
        "    Console.WriteLine($\"Hello {name.ToUpper()}!\");\n",
        "}"
      ]
    },
    {
      "cell_type": "markdown",
      "metadata": {},
      "source": [
        "## **那麼這段程式碼是什麼意思呢？**\n",
        "\n",
        "- **System.collections.Generic**：這是一個包含清單的命名空間。 如果您不告訴程式碼您正在使用它，則每次要使用清單時都必須寫『Systems.Collections.Generic.List』。 這節省了一些打字！\n",
        "- **var**：當你有一個變數時你設定的，但不關心變數型別是什麼。\n",
        "- **List<string\\>**：這意味著您正在製作一個字串清單。 代替 `string`，您可以放入 `int`、`double` 或任何其他變數。\n",
        "- **foreach**：這是另一個 for 迴圈！ 它遍歷清單中的每個專案。\n",
        "- **名字中的名字**：這是很多人喜歡的風格。 `names` 是包含複數名稱的整個清單。 `name` 是 `names` 中的一個單獨的專案。"
      ]
    },
    {
      "cell_type": "markdown",
      "metadata": {},
      "source": [
        "## **替代方法**\n",
        "\n",
        "前面的程式碼比下面的程式碼更易於人類閱讀，但下面的程式碼有一些更容易識別的程式碼。\n",
        "這些實際上只是編寫相同程式碼的兩種不同風格。 你可以選擇你更為習慣的方式\n",
        "> 執行以下程式碼。\n",
        ">\n",
        "> 你能在兩種不同的方法之間識別出相似的程式碼部分嗎？\n",
        ">\n",
        "> 你更喜歡哪種方法？"
      ]
    },
    {
      "cell_type": "code",
      "execution_count": null,
      "metadata": {
        "dotnet_interactive": {
          "language": "csharp"
        },
        "vscode": {
          "languageId": "dotnet-interactive.csharp"
        }
      },
      "outputs": [
        {
          "name": "stdout",
          "output_type": "stream",
          "text": [
            "Hello <NAME>\r\n",
            "Hello ANA\r\n",
            "Hello FELIPE\r\n"
          ]
        }
      ],
      "source": [
        "using System;\n",
        "using System.Collections.Generic;\n",
        "\n",
        "var names = new List<string> { \"<name>\", \"Ana\", \"Felipe\" };\n",
        "for (int i = 0;i < names.Count; i++)\n",
        "{\n",
        "    Console.WriteLine($\"Hello {names[i].ToUpper()}\");\n",
        "}"
      ]
    },
    {
      "cell_type": "markdown",
      "metadata": {},
      "source": [
        "## **新增**\n",
        "\n",
        "您可以很容易地將名稱新增到清單中。 清單有方法 `Add()`，它將一個新專案新增到清單的末尾。\n",
        "> 執行程式碼。\n",
        ">\n",
        "> 然後嘗試新增您自己的名字。"
      ]
    },
    {
      "cell_type": "code",
      "execution_count": null,
      "metadata": {
        "dotnet_interactive": {
          "language": "csharp"
        },
        "vscode": {
          "languageId": "dotnet-interactive.csharp"
        }
      },
      "outputs": [
        {
          "name": "stdout",
          "output_type": "stream",
          "text": [
            "Hello <NAME>!\r\n",
            "Hello ANA!\r\n",
            "Hello FELIPE!\r\n",
            "Hello SOPHIA!\r\n"
          ]
        }
      ],
      "source": [
        "var names = new List<string> { \"<name>\", \"Ana\", \"Felipe\" };\n",
        "\n",
        "names.Add(\"Sophia\");\n",
        "\n",
        "foreach (var name in names)\n",
        "{\n",
        "    Console.WriteLine($\"Hello {name.ToUpper()}!\");\n",
        "}"
      ]
    },
    {
      "cell_type": "markdown",
      "metadata": {},
      "source": [
        "## **移除**\n",
        "\n",
        "您還可以刪除名稱。 試試看：\n",
        "\n",
        "> 執行程式碼。\n",
        ">\n",
        "> 然後選擇要刪除的名稱。\n",
        ">\n",
        "> 當您嘗試刪除不存在的東西時會發生什麼？"
      ]
    },
    {
      "cell_type": "code",
      "execution_count": null,
      "metadata": {
        "dotnet_interactive": {
          "language": "csharp"
        },
        "vscode": {
          "languageId": "dotnet-interactive.csharp"
        }
      },
      "outputs": [
        {
          "name": "stdout",
          "output_type": "stream",
          "text": [
            "Hello ANA\r\n",
            "Hello FELIPE\r\n"
          ]
        }
      ],
      "source": [
        "var names = new List<string> { \"<name>\", \"Ana\", \"Felipe\" };\n",
        "\n",
        "names.Remove(\"<name>\");\n",
        "\n",
        "for (int i = 0;i < names.Count; i++)\n",
        "{\n",
        "    Console.WriteLine($\"Hello {names[i].ToUpper()}\");\n",
        "}"
      ]
    },
    {
      "cell_type": "markdown",
      "metadata": {},
      "source": [
        "## **列印特定專案**\n",
        "\n",
        "如果您不想列印所有怎麼辦？ 如果你只想列印一個怎麼辦？ 這就是括號的用武之地。\n",
        "> 執行程式碼。\n",
        ">\n",
        "> 嘗試列印清單中的不同位置。\n",
        ">\n",
        "> 您需要 0 還是 1 來列印清單中的第一項？"
      ]
    },
    {
      "cell_type": "code",
      "execution_count": null,
      "metadata": {
        "dotnet_interactive": {
          "language": "csharp"
        },
        "vscode": {
          "languageId": "dotnet-interactive.csharp"
        }
      },
      "outputs": [
        {
          "name": "stdout",
          "output_type": "stream",
          "text": [
            "Sophia\r\n"
          ]
        }
      ],
      "source": [
        "var names = new List<string> { \"<name>\", \"Sophia\", \"Felipe\" };\n",
        "Console.WriteLine(names[1]);"
      ]
    },
    {
      "cell_type": "markdown",
      "metadata": {},
      "source": [
        "Don't forget that lists are \"0\" based. The first spot is the \"0th\" spot."
      ]
    },
    {
      "cell_type": "markdown",
      "metadata": {},
      "source": [
        "# **Playground：動動手**\n",
        "\n",
        "> 列出您需要的雜貨清單，稱為『groceries』。\n",
        ">\n",
        "> 你能列印出『buy\\<grocery\\>！』嗎？ 每個專案？\n",
        ">\n",
        "> 清單的第三項是什麼？ 這和『groceries[3]』一樣嗎？\n",
        ">\n",
        "> 新增『牙膏』。\n",
        ">\n",
        "> 刪除您最不喜歡的專案。\n",
        ">\n",
        "> 現在名單上的第三個是什麼？"
      ]
    },
    {
      "cell_type": "code",
      "execution_count": null,
      "metadata": {
        "dotnet_interactive": {
          "language": "csharp"
        },
        "vscode": {
          "languageId": "dotnet-interactive.csharp"
        }
      },
      "outputs": [
        {
          "name": "stdout",
          "output_type": "stream",
          "text": [
            "Playground\r\n"
          ]
        }
      ],
      "source": [
        "Console.WriteLine(\"Playground\");"
      ]
    },
    {
      "cell_type": "markdown",
      "metadata": {},
      "source": [
        "# **進階學習**\n",
        "\n",
        "> [⏩ 下一個學習模組 - 搜尋、排序和索引清單](https://github.com/doggy8088/csharp-notebooks/blob/zh-tw/csharp-101/11-%20Search%2C%20Sort%2C%20and%20Index%20Lists.ipynb)\n",
        ">\n",
        "> [⏪ 上一個學習模組 -  分支和迴圈結合](https://github.com/doggy8088/csharp-notebooks/blob/zh-tw/csharp-101/09-Combining%20Branches%20and%20Loops.ipynb)\n",
        ">\n",
        "> [觀看影片](https://www.youtube.com/watch?v=qLeF_wpnVto&list=PLdo4fOcmZ0oVxKLQCHpiUWun7vlJJvUiN&index=12)\n",
        ">\n",
        "> [文件: 陣列、清單和集合](https://aka.ms/CSharp.List)\n",
        ">\n",
        "> [從頭學起： 什麼是 C# ？](https://www.youtube.com/watch?v=BM4CHBmAPh4&list=PLdo4fOcmZ0oVxKLQCHpiUWun7vlJJvUiN&index=1)"
      ]
    },
    {
      "cell_type": "markdown",
      "metadata": {},
      "source": [
        "# **其他資源**\n",
        "\n",
        "你可以從以下連結中獲取\n",
        "> [其他 101 系列的教學影片](https://aka.ms/Videos.dotNET)\n",
        ">\n",
        "> [Microsoft Learn](https://aka.ms/Learn.dotNET)\n",
        ">\n",
        "> [C# 文件](https://aka.ms/Docs.CSharp)"
      ]
    }
  ],
  "metadata": {
    "kernelspec": {
      "display_name": ".NET (C#)",
      "language": "C#",
      "name": ".net-csharp"
    },
    "language_info": {
      "file_extension": ".cs",
      "mimetype": "text/x-csharp",
      "name": "C#",
      "pygments_lexer": "csharp",
      "version": "8.0"
    }
  },
  "nbformat": 4,
  "nbformat_minor": 4
}
