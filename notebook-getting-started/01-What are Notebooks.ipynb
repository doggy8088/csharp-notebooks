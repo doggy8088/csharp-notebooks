{
 "cells": [
  {
   "cell_type": "markdown",
   "metadata": {},
   "source": [
    "## **什么是 Notebooks?**\n",
    "Notebooks 是将代码（C#、F#、Python 等）、输出、可视化视图以及文档（Markdown）全部综合在一起的交互式工具。\n",
    "\n",
    "## **Notebooks 的应用场景在哪里?**\n",
    "Notebooks 常用于统计、数据科学和机器学习的场景。 这些场景中 Notebooks 作为一些尝试，修改以及查看输出的工具。 通常用在数据科学和机器学习的实验性或探索性的工作中。\n",
    "\n",
    "## **我们要如何开始?**\n",
    "点击 \"Play\" 按钮 ![Play Button](https://github.com/JakeRadMSFT/csharp-notebooks/raw/main/notebook-getting-started/images/play.png) 运行当前 Code Cell 内容或点击 \"Run All\" ![Run All Button](https://github.com/JakeRadMSFT/csharp-notebooks/raw/main/notebook-getting-started/images/run%20all.png) 运行当前 Code Cell 以下的所有 Code Cells。"
   ]
  },
  {
   "cell_type": "code",
   "execution_count": null,
   "metadata": {
    "dotnet_interactive": {
     "language": "csharp"
    },
    "vscode": {
     "languageId": "dotnet-interactive.csharp"
    }
   },
   "outputs": [
    {
     "name": "stdout",
     "output_type": "stream",
     "text": [
      "Hello Notebooks!\n"
     ]
    }
   ],
   "source": [
    "Console.WriteLine(\"Hello Notebooks!\");"
   ]
  },
  {
   "cell_type": "markdown",
   "metadata": {},
   "source": [
    "要添加更多 Code Cell ，您可以将鼠标悬停在 Code Cell 的上方或下方，再点击显示的添加按钮 ![Play Button](https://github.com/JakeRadMSFT/csharp-notebooks/blob/main/notebook-getting-started/images/hover%20buttons.png).\n",
    "\n",
    "快捷键支持: [请参考快捷键使用的 NoteBooks ](https://raw.githubusercontent.com/JakeRadMSFT/csharp-notebooks/main/notebook-getting-started/REF-VS%20Keyboard%20Shortcuts.ipynb)"
   ]
  },
  {
   "cell_type": "markdown",
   "metadata": {},
   "source": [
    "## **Code Cells**\n",
    "\n",
    "Code Cells 具有 C# 的所有强大功能。 下面是执行两行 Code Cells 的简单示例，显示了如何访问 Code Cells 和传递变量值。\n",
    "\n",
    "大家可以尝试在第二个 Code Cell 中多次点击 \"Play\"！"
   ]
  },
  {
   "cell_type": "code",
   "execution_count": null,
   "metadata": {
    "dotnet_interactive": {
     "language": "csharp"
    },
    "vscode": {
     "languageId": "dotnet-interactive.csharp"
    }
   },
   "outputs": [
    {
     "data": {
      "text/html": [
       "<div class=\"dni-plaintext\">5</div>"
      ]
     },
     "metadata": {},
     "output_type": "display_data"
    }
   ],
   "source": [
    "var x = 5;\n",
    "x"
   ]
  },
  {
   "cell_type": "code",
   "execution_count": null,
   "metadata": {
    "dotnet_interactive": {
     "language": "csharp"
    },
    "vscode": {
     "languageId": "dotnet-interactive.csharp"
    }
   },
   "outputs": [
    {
     "data": {
      "text/html": [
       "<div class=\"dni-plaintext\">45</div>"
      ]
     },
     "metadata": {},
     "output_type": "display_data"
    }
   ],
   "source": [
    "x = x + 10;\n",
    "x"
   ]
  },
  {
   "cell_type": "markdown",
   "metadata": {},
   "source": [
    "想更深入学习 Code Cells 的知识可以直接点击访问该 NoteBooks - [Code Cells](https://github.com/JakeRadMSFT/csharp-notebooks/blob/main/notebook-getting-started/02-Code%20Cells.ipynb)"
   ]
  },
  {
   "cell_type": "markdown",
   "metadata": {},
   "source": [
    "## **Markdown Cells**\n",
    "\n",
    "Markdown Cells 是文档格式的单元格 ， 每个 Markdown Cell 都有编辑和可视化模式\n",
    "\n",
    "要进入编辑模式，选中相关的 Markdown Cell ，点击 “pencil” 按钮  ![Edit Button](https://github.com/JakeRadMSFT/csharp-notebooks/raw/main/notebook-getting-started/images/edit%20markdown.png) \n",
    "\n",
    "完成编辑后，点击 \"勾\" 按钮查看你修改的内容   ![Submit Button](https://github.com/JakeRadMSFT/csharp-notebooks/raw/main/notebook-getting-started/images/save%20markdown.png) "
   ]
  },
  {
   "cell_type": "markdown",
   "metadata": {},
   "source": [
    "想深入了解 Markdown Cells 相关的内容请点击 - [Markdown Cells](https://github.com/JakeRadMSFT/csharp-notebooks/blob/main/notebook-getting-started/03-Markdown%20Cells.ipynb)"
   ]
  }
 ],
 "metadata": {
  "kernelspec": {
   "display_name": ".NET (C#)",
   "language": "C#",
   "name": ".net-csharp"
  },
  "language_info": {
   "file_extension": ".cs",
   "mimetype": "text/x-csharp",
   "name": "C#",
   "pygments_lexer": "csharp",
   "version": "9.0"
  },
  "orig_nbformat": 4
 },
 "nbformat": 4,
 "nbformat_minor": 2
}
