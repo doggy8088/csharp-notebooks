{
  "cells": [
    {
      "cell_type": "markdown",
      "metadata": {},
      "source": [
        "# 分支 ( if 语句)\n",
        "\n",
        "观看该模块的教学视频 [C# 101 video](https://www.youtube.com/watch?v=y4OTe8LSokg&list=PLdo4fOcmZ0oVxKLQCHpiUWun7vlJJvUiN&index=8) "
      ]
    },
    {
      "cell_type": "markdown",
      "metadata": {},
      "source": [
        "## if 语句基础\n",
        "\n",
        "if 语句帮助做出决定。\n",
        "\n",
        "> 试试我们的第一个 if 语句："
      ]
    },
    {
      "cell_type": "code",
      "execution_count": null,
      "metadata": {
        "dotnet_interactive": {
          "language": "csharp"
        },
        "vscode": {
          "languageId": "dotnet-interactive.csharp"
        }
      },
      "outputs": [
        {
          "name": "stdout",
          "output_type": "stream",
          "text": [
            "The answer is greater than 10.\r\n"
          ]
        }
      ],
      "source": [
        "int a = 5;\n",
        "int b = 6;\n",
        "if (a + b > 10)\n",
        "    Console.WriteLine(\"The answer is greater than 10.\");"
      ]
    },
    {
      "cell_type": "markdown",
      "metadata": {},
      "source": [
        "换句话说，这个 if 语句是说“如果 a 加 b 大于 10，则写下'答案大于 10'”这一行。\n",
        "> 如果 a + b 小于 10 会怎样？ 试着编辑前面的代码看看。\n",
        "\n",
        "什么都没发生吗？ 那太棒了！ 由于不满足 if 语句的**条件**（a + b 大于 10），因此代码没有进入 if 语句，因此没有可打印的内容。"
      ]
    },
    {
      "cell_type": "markdown",
      "metadata": {},
      "source": [
        "##条件是什么？\n",
        "\n",
        "`条件` 是`if` 后面括号中的语句。 “条件”是一个布尔值，这意味着它必须返回真或假。 这意味着使用诸如`>`、`<`、`<=`、`>=`或`==`之类的符号。\n",
        "> 练习布尔语句。 尝试一些不同的符号和数字来查看答案。"
      ]
    },
    {
      "cell_type": "code",
      "execution_count": null,
      "metadata": {
        "dotnet_interactive": {
          "language": "csharp"
        },
        "vscode": {
          "languageId": "dotnet-interactive.csharp"
        }
      },
      "outputs": [
        {
          "name": "stdout",
          "output_type": "stream",
          "text": [
            "This condition is False\r\n"
          ]
        }
      ],
      "source": [
        "bool outcome = 3 > 5;\n",
        "Console.WriteLine(\"This condition is \" + outcome);"
      ]
    },
    {
      "cell_type": "markdown",
      "metadata": {},
      "source": [
        "## Else 语句\n",
        "\n",
        "之前，如果不满足 `if` 语句的条件，则跳过整个 if 语句。 但是，如果您希望在这两种情况下都发生一些事情怎么办？ `else` 是条件结果为假时发生的情况。\n",
        "\n",
        "> 运行此代码并更改条件几次以查看不同的结果。"
      ]
    },
    {
      "cell_type": "code",
      "execution_count": null,
      "metadata": {
        "dotnet_interactive": {
          "language": "csharp"
        },
        "vscode": {
          "languageId": "dotnet-interactive.csharp"
        }
      },
      "outputs": [
        {
          "name": "stdout",
          "output_type": "stream",
          "text": [
            "The answer is not greater than 10\r\n"
          ]
        }
      ],
      "source": [
        "int a = 5;\n",
        "int b = 3;\n",
        "if (a + b > 10)\n",
        "    Console.WriteLine(\"The answer is greater than 10\");\n",
        "else\n",
        "    Console.WriteLine(\"The answer is not greater than 10\");"
      ]
    },
    {
      "cell_type": "markdown",
      "metadata": {},
      "source": [
        "## 多行 If 语句\n",
        "\n",
        "如果您想在 `if` 语句中使用更复杂的代码怎么办？ 太好了，只需在您想要完成的内容周围添加 { } 即可。\n",
        "\n",
        "> 试试看！ 运行以下代码。"
      ]
    },
    {
      "cell_type": "code",
      "execution_count": null,
      "metadata": {
        "dotnet_interactive": {
          "language": "csharp"
        },
        "vscode": {
          "languageId": "dotnet-interactive.csharp"
        }
      },
      "outputs": [
        {
          "name": "stdout",
          "output_type": "stream",
          "text": [
            "The answer is not greater than 10\r\n",
            "Or the first number is not equal to the second\r\n"
          ]
        }
      ],
      "source": [
        "int c = 4;\n",
        "if ((a + b + c > 10) && (a == b))\n",
        "{\n",
        "    Console.WriteLine(\"The answer is greater than 10\");\n",
        "    Console.WriteLine(\"And the first number is equal to the second\");\n",
        "}\n",
        "else\n",
        "{\n",
        "    Console.WriteLine(\"The answer is not greater than 10\");\n",
        "    Console.WriteLine(\"Or the first number is not equal to the second\");\n",
        "}"
      ]
    },
    {
      "cell_type": "markdown",
      "metadata": {},
      "source": [
        "`&&` 表示“和”。 这是一种连接多个条件的方法。 您也可以使用 `||` 作为“或”。\n",
        "\n",
        "   上面的“if”条件检查将 a、b 和 c 相加大于 10 并且 a 等于 b。 如果两者都为真，则进入 `if` 语句； 否则，它进入 `else` 部分。"
      ]
    },
    {
      "cell_type": "markdown",
      "metadata": {},
      "source": [
        "# **Playground：动动手**\n",
        "\n",
        "> 尝试用“或”符号代替前面代码中的“和”。 你需要做什么才能得到真与假？\n",
        ">\n",
        "> 如果将 if 语句放在 if 语句（嵌套的 if 语句）中会怎样？\n",
        ">\n",
        "> 你能画出 if 语句的流程吗？ 嵌套 if 语句？"
      ]
    },
    {
      "cell_type": "code",
      "execution_count": null,
      "metadata": {
        "dotnet_interactive": {
          "language": "csharp"
        },
        "vscode": {
          "languageId": "dotnet-interactive.csharp"
        }
      },
      "outputs": [
        {
          "name": "stdout",
          "output_type": "stream",
          "text": [
            "Playground\r\n"
          ]
        }
      ],
      "source": [
        "Console.WriteLine(\"Playground\");"
      ]
    },
    {
      "cell_type": "markdown",
      "metadata": {},
      "source": [
        "# **进阶学习**\n",
        "\n",
        "> [⏩ 下一个学习模块 - 什么是循环](https://github.com/kinfey/csharp-notebooks/blob/main/csharp-101/08-What%20Are%20Loops.ipynb)\n",
        ">\n",
        "> [⏪ 上一个学习模块 - 小数类型介绍 ](https://github.com/kinfey/csharp-notebooks/blob/main/csharp-101/06-Numbers%20and%20Decimals.ipynb)\n",
        ">\n",
        "> [观看教学视频](https://www.youtube.com/watch?v=KT2VR7m19So&list=PLdo4fOcmZ0oVxKLQCHpiUWun7vlJJvUiN&index=2)\n",
        ">\n",
        "> [文档: C# 介绍](https://docs.microsoft.com/dotnet/csharp/tour-of-csharp/tutorials/numbers-in-csharp?WT.mc_id=Educationalcsharp-c9-scottha)\n",
        ">\n",
        "> [从头学起： 什么是 C# ？](https://www.youtube.com/watch?v=BM4CHBmAPh4&list=PLdo4fOcmZ0oVxKLQCHpiUWun7vlJJvUiN&index=1)"
      ]
    },
    {
      "cell_type": "markdown",
      "metadata": {},
      "source": [
        "# **其他学习资源**\n",
        "\n",
        "你可以从以下链接中获取\n",
        "> [其他 101 系列的教学视频](https://dotnet.microsoft.com/learn/videos?WT.mc_id=csharpnotebook-35129-website)\n",
        ">\n",
        "> [Microsoft Learn](https://docs.microsoft.com/learn/dotnet/?WT.mc_id=csharpnotebook-35129-website)\n",
        ">\n",
        "> [C# 文档](https://docs.microsoft.com/dotnet/csharp/?WT.mc_id=csharpnotebook-35129-website)"
      ]
    }
  ],
  "metadata": {
    "kernelspec": {
      "display_name": ".NET (C#)",
      "language": "C#",
      "name": ".net-csharp"
    },
    "language_info": {
      "file_extension": ".cs",
      "mimetype": "text/x-csharp",
      "name": "C#",
      "pygments_lexer": "csharp",
      "version": "8.0"
    }
  },
  "nbformat": 4,
  "nbformat_minor": 4
}
