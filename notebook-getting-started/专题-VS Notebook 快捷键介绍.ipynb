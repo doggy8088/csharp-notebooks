{
  "cells": [
    {
      "cell_type": "markdown",
      "metadata": {},
      "source": [
        "# **VS Notebook 编辑器快捷键**\n",
        "\n",
        "## **编辑器快捷键**\n",
        "这些快捷方式仅在焦点位于 Code 或 Markdown 编辑器内时才有效。 当焦点位于单元格上时，您可以按 “回车” 将焦点移到编辑器中。\n",
        "\n",
        "| 按键  |  对应指令 |\n",
        "|----------|------|\n",
        "| ESC | 将焦点移到单元格 |\n",
        "| ctrl+shift+- |  拆分 cell|\n",
        "| ctrl+enter |  运行当前 cell|\n",
        "| shift+enter | 运行当前 cell 并向下移动焦点|\n",
        "\n",
        "## **Cell 快捷键**\n",
        "这些快捷方式仅在焦点位于 cell 级别时才有效。 当焦点在编辑器上时，您可以按 ESC 将焦点移动到 cell\n",
        "\n",
        "| 按键 |  对应指令 |\n",
        "|----------|------|\n",
        "| ENTER | 将焦点移至编辑器|\n",
        "| K | 焦点向上移动|\n",
        "| J  | 焦点向下移动|\n",
        "| A | 在上方插入 cell|\n",
        "| B | 在下方插入 cell|\n",
        "| DD | 删除 cell|\n",
        "| Z | 撤销 |\n",
        "| S | 保存 |\n",
        "| C |  复制 Cell |\n",
        "| X | 剪切 Cell |\n",
        "| V | 粘贴 Cell |\n",
        "| L | 切换行号|\n",
        "| O | 切换输出|\n",
        "| II | 停止 cell 执行|\n",
        "| 00 | 重启 kernel|\n",
        "\n"
      ]
    },
    {
      "cell_type": "markdown",
      "metadata": {},
      "source": []
    }
  ],
  "metadata": {
    "kernelspec": {
      "display_name": ".NET (C#)",
      "language": "C#",
      "name": ".net-csharp"
    },
    "language_info": {
      "file_extension": ".cs",
      "mimetype": "text/x-csharp",
      "name": "C#",
      "pygments_lexer": "csharp",
      "version": "8.0"
    }
  },
  "nbformat": 4,
  "nbformat_minor": 4
}
