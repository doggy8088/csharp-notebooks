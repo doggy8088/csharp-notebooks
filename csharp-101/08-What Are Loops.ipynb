{
  "cells": [
    {
      "cell_type": "markdown",
      "metadata": {},
      "source": [
        "# **什么是循环?**\n",
        "观看该模块的教学视频 [C# 101 video](https://www.youtube.com/watch?v=z31m5Up_gSQ&list=PLdo4fOcmZ0oVxKLQCHpiUWun7vlJJvUiN&index=10) "
      ]
    },
    {
      "cell_type": "markdown",
      "metadata": {},
      "source": [
        "循环是一种重复动作多次的方式。 您可以使用 `while` 来执行此操作。\n",
        "> 尝试第一个循环："
      ]
    },
    {
      "cell_type": "code",
      "execution_count": null,
      "metadata": {
        "dotnet_interactive": {
          "language": "csharp"
        },
        "vscode": {
          "languageId": "dotnet-interactive.csharp"
        }
      },
      "outputs": [
        {
          "name": "stdout",
          "output_type": "stream",
          "text": [
            "Hello World! The counter is 0\r\n",
            "Hello World! The counter is 1\r\n",
            "Hello World! The counter is 2\r\n",
            "Hello World! The counter is 3\r\n",
            "Hello World! The counter is 4\r\n",
            "Hello World! The counter is 5\r\n",
            "Hello World! The counter is 6\r\n",
            "Hello World! The counter is 7\r\n",
            "Hello World! The counter is 8\r\n",
            "Hello World! The counter is 9\r\n"
          ]
        }
      ],
      "source": [
        "int counter = 0;\n",
        "while (counter < 10)\n",
        "{\n",
        "  Console.WriteLine($\"Hello World! The counter is {counter}\");\n",
        "  counter++;\n",
        "}"
      ]
    },
    {
      "cell_type": "markdown",
      "metadata": {},
      "source": [
        "那么这里发生了什么？ `while` 检查条件（'counter < 10'）是否为真。如果是，它会通过循环。然后再次检查。它将继续循环，直到条件为假。\n",
        "在找出分支和循环时，将代码放入人类语言会很有帮助。这段代码说：“将计数器设置为 0。当计数器小于 10 时，打印‘Hello World！计数器是 {counter}’，然后将计数器加 1”。\n",
        "\n",
        "## ++\n",
        "\n",
        "`++` 是一种快速添加变量的方法。你也可以用`--`来做同样的事情，它从变量中减去一。\n",
        "\n",
        "## **无限循环**\n",
        "\n",
        "很容易造成无限循环。 **编者注：您不能告诉他们创建无限循环，因为笔记本永远不会自行停止**如果您遇到无限循环，您有两种选择：您可以随时退出程序，或者可以按CTRL+C 结束。\n",
        "\n",
        "> 挑战一下：您不能在此笔记本上显示，因为代码不会自行捕捉，但作为挑战，请尝试在 Visual Studio 中进行无限循环！"
      ]
    },
    {
      "cell_type": "markdown",
      "metadata": {},
      "source": [
        "## **do**\n",
        "\n",
        "你也可以用 `do` 做一个循环。\n",
        "> 试试下面的代码，看看它和 `while` 循环之间是否有什么不同。"
      ]
    },
    {
      "cell_type": "code",
      "execution_count": null,
      "metadata": {
        "dotnet_interactive": {
          "language": "csharp"
        },
        "vscode": {
          "languageId": "dotnet-interactive.csharp"
        }
      },
      "outputs": [
        {
          "name": "stdout",
          "output_type": "stream",
          "text": [
            "Hello World! The counter is 0\r\n",
            "Hello World! The counter is 1\r\n",
            "Hello World! The counter is 2\r\n",
            "Hello World! The counter is 3\r\n",
            "Hello World! The counter is 4\r\n",
            "Hello World! The counter is 5\r\n",
            "Hello World! The counter is 6\r\n",
            "Hello World! The counter is 7\r\n",
            "Hello World! The counter is 8\r\n",
            "Hello World! The counter is 9\r\n"
          ]
        }
      ],
      "source": [
        "int counter = 0;\n",
        "do\n",
        "{\n",
        "  Console.WriteLine($\"Hello World! The counter is {counter}\");\n",
        "  counter++;\n",
        "} while (counter < 10);"
      ]
    },
    {
      "cell_type": "markdown",
      "metadata": {},
      "source": [
        "似乎没有什么不同\n",
        "\n",
        "> 尝试在两个代码上将条件更改为 `(counter < 0)`。 会发生什么呢？\n",
        "\n",
        "在 `while` 循环中，什么都不会被打印出来，但在 `do` 循环中，你会得到一个打印输出。 `do` 循环首先执行操作，然后检查条件。 相反，`while` 循环首先检查条件，然后执行操作。"
      ]
    },
    {
      "cell_type": "markdown",
      "metadata": {},
      "source": [
        "## **for 循环**\n",
        "\n",
        "`for` 是最常见的循环之一。 \n",
        "> 在您了解代码的所有细节之前，运行以下 for 循环以查看它是否正常工作："
      ]
    },
    {
      "cell_type": "code",
      "execution_count": null,
      "metadata": {
        "dotnet_interactive": {
          "language": "csharp"
        },
        "vscode": {
          "languageId": "dotnet-interactive.csharp"
        }
      },
      "outputs": [
        {
          "name": "stdout",
          "output_type": "stream",
          "text": [
            "Hello World! The counter is 0\r\n",
            "Hello World! The counter is 1\r\n",
            "Hello World! The counter is 2\r\n",
            "Hello World! The counter is 3\r\n",
            "Hello World! The counter is 4\r\n",
            "Hello World! The counter is 5\r\n",
            "Hello World! The counter is 6\r\n",
            "Hello World! The counter is 7\r\n",
            "Hello World! The counter is 8\r\n",
            "Hello World! The counter is 9\r\n"
          ]
        }
      ],
      "source": [
        "for (int counter = 0; counter < 10; counter++)\n",
        "{\n",
        "  Console.WriteLine($\"Hello World! The counter is {counter}\");\n",
        "}"
      ]
    },
    {
      "cell_type": "markdown",
      "metadata": {},
      "source": [
        "### **括号里是什么？**\n",
        "\n",
        "`for` 循环括号中包含三个部分：`int counter = 0`、`counter < 10` 和 `counter++`。\n",
        "您可以将它们视为起点、终点和步长。\n",
        "`int counter = 0` 只是设置计数器。 你从 0 开始。\n",
        "`counter < 10` 是在每个循环开始时检查的条件。 一旦条件为假（在这种情况下，一旦计数器不小于 10），循环就完成并且代码继续运行。\n",
        "`counter++` 将 counter 加一，离终点更近了一步。 该步骤在每个循环结束时执行。\n",
        "> 尝试弄乱 `for` 循环设置。 它是如何变化的？"
      ]
    },
    {
      "cell_type": "markdown",
      "metadata": {},
      "source": [
        "# **Playground：动动手**\n",
        "\n",
        "> 做一个从 10 倒数的循环。\n",
        ">\n",
        "> 做一个向前计数乘以 2 的循环。\n",
        ">\n",
        "> 做一个从 7 到 22 的循环。\n",
        ">\n",
        "> 附加：使用三种循环方式进行上述操作。"
      ]
    },
    {
      "cell_type": "code",
      "execution_count": null,
      "metadata": {
        "dotnet_interactive": {
          "language": "csharp"
        },
        "vscode": {
          "languageId": "dotnet-interactive.csharp"
        }
      },
      "outputs": [
        {
          "name": "stdout",
          "output_type": "stream",
          "text": [
            "Playground\r\n"
          ]
        }
      ],
      "source": [
        "Console.WriteLine(\"Playground\");"
      ]
    },
    {
      "cell_type": "markdown",
      "metadata": {},
      "source": [
        "# **进阶学习**\n",
        "\n",
        "\n",
        "> [⏩ 上一个学习模块 - 分支和循环结合](https://github.com/kinfey/csharp-notebooks/blob/main/csharp-101/09-Combining%20Branches%20and%20Loops.ipynb)\n",
        ">\n",
        "> [⏪ 下一个学习模块 - 分支 ( if 语句)](https://github.com/kinfey/csharp-notebooks/blob/main/csharp-101/07-Branches%20(if).ipynb)\n",
        ">\n",
        "> [观看教学视频](https://www.youtube.com/watch?v=z31m5Up_gSQ&list=PLdo4fOcmZ0oVxKLQCHpiUWun7vlJJvUiN&index=10)\n",
        ">\n",
        "> [文档: C# 循环语句](https://aka.ms/CSharp.Loop)\n",
        ">\n",
        "> [从头学起： 什么是 C# ？](https://www.youtube.com/watch?v=BM4CHBmAPh4&list=PLdo4fOcmZ0oVxKLQCHpiUWun7vlJJvUiN&index=1)\n",
        ">\n",
        "\n",
        "# **其他学习资源**\n",
        "\n",
        "你可以从以下链接中获取\n",
        "> [其他 101 系列的教学视频](https://dotnet.microsoft.com/learn/videos?WT.mc_id=csharpnotebook-35129-website)\n",
        ">\n",
        "> [Microsoft Learn](https://docs.microsoft.com/learn/dotnet/?WT.mc_id=csharpnotebook-35129-website)\n",
        ">\n",
        "> [C# 文档](https://docs.microsoft.com/dotnet/csharp/?WT.mc_id=csharpnotebook-35129-website)"
      ]
    }
  ],
  "metadata": {
    "kernelspec": {
      "display_name": ".NET (C#)",
      "language": "C#",
      "name": ".net-csharp"
    },
    "language_info": {
      "file_extension": ".cs",
      "mimetype": "text/x-csharp",
      "name": "C#",
      "pygments_lexer": "csharp",
      "version": "8.0"
    }
  },
  "nbformat": 4,
  "nbformat_minor": 4
}
