{
  "cells": [
    {
      "cell_type": "markdown",
      "metadata": {},
      "source": [
        "# **方法和异常处理**\n",
        "\n",
        "观看该模块的教学视频 [C# 101 video](https://www.youtube.com/watch?v=8YsoBBiVVzQ&list=PLdo4fOcmZ0oVxKLQCHpiUWun7vlJJvUiN&index=18) \n",
        "\n",
        "以下是您到目前为止所做的代码。 余额是通过汇总交易列表获得的，但您还没有编写添加交易的方法。 这在编码中发生了很多次，在哪里使一些东西功能更强大，你先退后一步看看。\n",
        "\n",
        "> 运行下面的代码单元。"
      ]
    },
    {
      "cell_type": "code",
      "execution_count": null,
      "metadata": {
        "dotnet_interactive": {
          "language": "csharp"
        },
        "vscode": {
          "languageId": "dotnet-interactive.csharp"
        }
      },
      "outputs": [],
      "source": [
        "public class Transaction\n",
        "{\n",
        "    // Properties\n",
        "    public decimal Amount { get; }\n",
        "    public DateTime Date { get; }\n",
        "    public string Notes\n",
        "    {\n",
        "        get;\n",
        "\n",
        "    }\n",
        "\n",
        "    // Constructor\n",
        "    public Transaction(decimal amount, DateTime date, string note)\n",
        "    {\n",
        "        this.Amount = amount;\n",
        "        this.Date = date;\n",
        "        this.Notes = note;\n",
        "    }\n",
        "}"
      ]
    },
    {
      "cell_type": "code",
      "execution_count": null,
      "metadata": {
        "dotnet_interactive": {
          "language": "csharp"
        },
        "vscode": {
          "languageId": "dotnet-interactive.csharp"
        }
      },
      "outputs": [],
      "source": [
        "using System.Collections.Generic;\n",
        "\n",
        "public class BankAccount\n",
        "{\n",
        "    // Properties\n",
        "    public string Number { get; }\n",
        "    public string Owner { get; set; }\n",
        "    public decimal Balance\n",
        "    {\n",
        "        get\n",
        "\n",
        "        {\n",
        "            decimal balance = 0;\n",
        "            foreach (var item in allTransactions)\n",
        "            {\n",
        "                balance += item.Amount;\n",
        "            }\n",
        "\n",
        "            return balance;\n",
        "        }\n",
        "\n",
        "    }\n",
        "    private static int accountNumberSeed = 1234567890;\n",
        "    private List<Transaction> allTransactions = new List<Transaction>();\n",
        "\n",
        "    // Constructor\n",
        "    public BankAccount(string name, decimal initialBalance)\n",
        "    {\n",
        "        this.Owner = name;\n",
        "        this.Number = accountNumberSeed.ToString();\n",
        "        accountNumberSeed++;\n",
        "\n",
        "    }\n",
        "\n",
        "    // Functions\n",
        "    public void MakeDeposit(decimal amount, DateTime date, string note)\n",
        "    {\n",
        "    }\n",
        "\n",
        "    public void MakeWithdrawal(decimal amount, DateTime date, string note)\n",
        "    {\n",
        "    }\n",
        "}"
      ]
    },
    {
      "cell_type": "code",
      "execution_count": null,
      "metadata": {
        "dotnet_interactive": {
          "language": "csharp"
        },
        "vscode": {
          "languageId": "dotnet-interactive.csharp"
        }
      },
      "outputs": [
        {
          "name": "stdout",
          "output_type": "stream",
          "text": [
            "Account 1234567890 was created for Kendra with 0 dollars\r\n"
          ]
        }
      ],
      "source": [
        "// Testing Code\n",
        "\n",
        "var account = new BankAccount(\"Kendra\", 1000);\n",
        "Console.WriteLine($\"Account {account.Number} was created for {account.Owner} with {account.Balance} dollars\");"
      ]
    },
    {
      "cell_type": "markdown",
      "metadata": {},
      "source": [
        "## **#1: 添加存款**\n",
        "\n",
        "首先，是时候进行存款功能了。 此添加将进行交易，列出您存入的金额、日期和备注，然后将其添加到交易列表中。\n",
        "\n",
        "> 在 MakeDeposit 中添加此代码。\n",
        "\n",
        "```csharp\n",
        "    var deposit = new Transaction(amount, date, note);\n",
        "    allTransactions.Add(deposit);\n",
        "```"
      ]
    },
    {
      "cell_type": "code",
      "execution_count": null,
      "metadata": {
        "dotnet_interactive": {
          "language": "csharp"
        },
        "vscode": {
          "languageId": "dotnet-interactive.csharp"
        }
      },
      "outputs": [],
      "source": [
        "using System.Collections.Generic;\n",
        "\n",
        "public class BankAccount\n",
        "{\n",
        "    // Properties\n",
        "    public string Number { get; }\n",
        "    public string Owner { get; set; }\n",
        "    public decimal Balance\n",
        "    {\n",
        "        get\n",
        "\n",
        "        {\n",
        "            decimal balance = 0;\n",
        "            foreach (var item in allTransactions)\n",
        "            {\n",
        "                balance += item.Amount;\n",
        "            }\n",
        "\n",
        "            return balance;\n",
        "        }\n",
        "\n",
        "\n",
        "    }\n",
        "    private static int accountNumberSeed = 1234567890;\n",
        "    private List<Transaction> allTransactions = new List<Transaction>();\n",
        "\n",
        "    // Constructor\n",
        "    public BankAccount(string name, decimal initialBalance)\n",
        "    {\n",
        "        this.Owner = name;\n",
        "        this.Number = accountNumberSeed.ToString();\n",
        "        accountNumberSeed++;\n",
        "\n",
        "    }\n",
        "\n",
        "    // Functions\n",
        "    public void MakeDeposit(decimal amount, DateTime date, string note)\n",
        "    {\n",
        "        //Add code here!\n",
        "    }\n",
        "\n",
        "    public void MakeWithdrawal(decimal amount, DateTime date, string note)\n",
        "    {\n",
        "    }\n",
        "}"
      ]
    },
    {
      "cell_type": "markdown",
      "metadata": {},
      "source": []
    },
    {
      "cell_type": "markdown",
      "metadata": {},
      "source": [
        "## **#2: 异常处理**\n",
        "\n",
        "但是，如果有人试图存入负数怎么办？ 这没有逻辑意义，但目前该方法允许这样做。 你能做的就是破例。 在做任何事情之前，您检查存入的金额是否大于 0。如果是，太棒了，代码继续添加交易。 如果不是，代码会引发异常，在此停止代码并打印出问题。\n",
        "\n",
        "> 将此代码放在 `MakeDeposit` 方法的最开头。\n",
        "\n",
        "```\n",
        "if (amount <= 0)\n",
        "    {\n",
        "        throw new ArgumentOutOfRangeException(nameof(amount), \"Amount of deposit must be positive\");\n",
        "    }\n",
        "```"
      ]
    },
    {
      "cell_type": "code",
      "execution_count": null,
      "metadata": {
        "dotnet_interactive": {
          "language": "csharp"
        },
        "vscode": {
          "languageId": "dotnet-interactive.csharp"
        }
      },
      "outputs": [],
      "source": [
        "using System.Collections.Generic;\n",
        "\n",
        "public class BankAccount\n",
        "{\n",
        "    // Properties\n",
        "    public string Number { get; }\n",
        "    public string Owner { get; set; }\n",
        "    public decimal Balance\n",
        "    {\n",
        "        get\n",
        "\n",
        "        {\n",
        "            decimal balance = 0;\n",
        "            foreach (var item in allTransactions)\n",
        "            {\n",
        "                balance += item.Amount;\n",
        "            }\n",
        "\n",
        "            return balance;\n",
        "        }\n",
        "\n",
        "    }\n",
        "    private static int accountNumberSeed = 1234567890;\n",
        "    private List<Transaction> allTransactions = new List<Transaction>();\n",
        "\n",
        "    // Constructor\n",
        "    public BankAccount(string name, decimal initialBalance)\n",
        "    {\n",
        "        this.Owner = name;\n",
        "        this.Number = accountNumberSeed.ToString();\n",
        "        accountNumberSeed++;\n",
        "\n",
        "    }\n",
        "\n",
        "    // Functions\n",
        "    public void MakeDeposit(decimal amount, DateTime date, string note)\n",
        "    {\n",
        "        //Add Code here!\n",
        "\n",
        "        var deposit = new Transaction(amount, date, note);\n",
        "        allTransactions.Add(deposit);\n",
        "    }\n",
        "\n",
        "    public void MakeWithdrawal(decimal amount, DateTime date, string note)\n",
        "    {\n",
        "    }\n",
        "}"
      ]
    },
    {
      "cell_type": "markdown",
      "metadata": {},
      "source": [
        "## #3: 添加提款\n",
        "现在您需要为提款做同样的事情！\n",
        "> 将此代码添加到取款。\n",
        "\n",
        "```csharp\n",
        "if (amount <= 0)\n",
        "    {\n",
        "        throw new ArgumentOutOfRangeException(nameof(amount), \"Amount of withdrawal must be positive\");\n",
        "    }\n",
        "    if (Balance - amount < 0)\n",
        "    {\n",
        "        throw new InvalidOperationException(\"Not sufficient funds for this withdrawal\");\n",
        "    }\n",
        "    var withdrawal = new Transaction(-amount, date, note);\n",
        "    allTransactions.Add(withdrawal);\n",
        "```"
      ]
    },
    {
      "cell_type": "code",
      "execution_count": null,
      "metadata": {
        "dotnet_interactive": {
          "language": "csharp"
        },
        "vscode": {
          "languageId": "dotnet-interactive.csharp"
        }
      },
      "outputs": [],
      "source": [
        "using System.Collections.Generic;\n",
        "\n",
        "public class BankAccount\n",
        "{\n",
        "    // Properties\n",
        "    public string Number { get; }\n",
        "    public string Owner { get; set; }\n",
        "    public decimal Balance\n",
        "    {\n",
        "        get\n",
        "\n",
        "        {\n",
        "            decimal balance = 0;\n",
        "            foreach (var item in allTransactions)\n",
        "            {\n",
        "                balance += item.Amount;\n",
        "            }\n",
        "\n",
        "            return balance;\n",
        "        }\n",
        "\n",
        "\n",
        "    }\n",
        "    private static int accountNumberSeed = 1234567890;\n",
        "    private List<Transaction> allTransactions = new List<Transaction>();\n",
        "\n",
        "    // Constructor\n",
        "    public BankAccount(string name, decimal initialBalance)\n",
        "    {\n",
        "        this.Owner = name;\n",
        "        this.Number = accountNumberSeed.ToString();\n",
        "        accountNumberSeed++;\n",
        "\n",
        "    }\n",
        "\n",
        "    // Functions\n",
        "    public void MakeDeposit(decimal amount, DateTime date, string note)\n",
        "    {\n",
        "        if (amount <= 0)\n",
        "        {\n",
        "            throw new ArgumentOutOfRangeException(nameof(amount), \"Amount of deposit must be positive\");\n",
        "        }\n",
        "        var deposit = new Transaction(amount, date, note);\n",
        "        allTransactions.Add(deposit);\n",
        "    }\n",
        "\n",
        "    public void MakeWithdrawal(decimal amount, DateTime date, string note)\n",
        "    {\n",
        "        //Add code here!\n",
        "    }\n",
        "}"
      ]
    },
    {
      "cell_type": "markdown",
      "metadata": {},
      "source": [
        "## **#创建初始存款**\n",
        "\n",
        "现在您有了存款和取款，您终于可以再次进行初始存款。 你要做的是在你第一次建立银行账户时创建一个初始金额的存款。\n",
        "\n",
        "> Add this code to the `BankAccount` constructor.\n",
        "\n",
        "```\n",
        "MakeDeposit(initialBalance, DateTime.Now, \"Initial balance\");\n",
        "```"
      ]
    },
    {
      "cell_type": "code",
      "execution_count": null,
      "metadata": {
        "dotnet_interactive": {
          "language": "csharp"
        },
        "vscode": {
          "languageId": "dotnet-interactive.csharp"
        }
      },
      "outputs": [],
      "source": [
        "using System.Collections.Generic;\n",
        "\n",
        "public class BankAccount\n",
        "{\n",
        "    // Properties\n",
        "    public string Number { get; }\n",
        "    public string Owner { get; set; }\n",
        "    public decimal Balance\n",
        "    {\n",
        "        get\n",
        "\n",
        "        {\n",
        "            decimal balance = 0;\n",
        "            foreach (var item in allTransactions)\n",
        "            {\n",
        "                balance += item.Amount;\n",
        "            }\n",
        "\n",
        "            return balance;\n",
        "        }\n",
        "\n",
        "\n",
        "    }\n",
        "    private static int accountNumberSeed = 1234567890;\n",
        "    private List<Transaction> allTransactions = new List<Transaction>();\n",
        "\n",
        "    // Constructor\n",
        "    public BankAccount(string name, decimal initialBalance)\n",
        "    {\n",
        "        this.Owner = name;\n",
        "        this.Number = accountNumberSeed.ToString();\n",
        "        accountNumberSeed++;\n",
        "        //(Paste here!)\n",
        "\n",
        "    }\n",
        "\n",
        "    // Functions\n",
        "    public void MakeDeposit(decimal amount, DateTime date, string note)\n",
        "    {\n",
        "        if (amount <= 0)\n",
        "        {\n",
        "            throw new ArgumentOutOfRangeException(nameof(amount), \"Amount of deposit must be positive\");\n",
        "        }\n",
        "        var deposit = new Transaction(amount, date, note);\n",
        "        allTransactions.Add(deposit);\n",
        "    }\n",
        "\n",
        "    public void MakeWithdrawal(decimal amount, DateTime date, string note)\n",
        "    {\n",
        "        if (amount <= 0)\n",
        "        {\n",
        "            throw new ArgumentOutOfRangeException(nameof(amount), \"Amount of withdrawal must be positive\");\n",
        "        }\n",
        "        if (Balance - amount < 0)\n",
        "        {\n",
        "            throw new InvalidOperationException(\"Not sufficient funds for this withdrawal\");\n",
        "        }\n",
        "        var withdrawal = new Transaction(-amount, date, note);\n",
        "        allTransactions.Add(withdrawal);\n",
        "        }\n",
        "}"
      ]
    },
    {
      "cell_type": "markdown",
      "metadata": {},
      "source": [
        "# **检查和测试你的工作**\n",
        "\n",
        "测试代码中添加了一些行，因为您现在可以进行存款和取款。 测试一下！\n",
        "\n",
        "> 运行以下单元格，包括测试代码中的新内容。\n",
        ">\n",
        "> 进行自己的存款和取款。"
      ]
    },
    {
      "cell_type": "code",
      "execution_count": null,
      "metadata": {
        "dotnet_interactive": {
          "language": "csharp"
        },
        "vscode": {
          "languageId": "dotnet-interactive.csharp"
        }
      },
      "outputs": [],
      "source": [
        "public class Transaction\n",
        "{\n",
        "    // Properties\n",
        "    public decimal Amount { get; }\n",
        "    public DateTime Date { get; }\n",
        "    public string Notes { get; }\n",
        "\n",
        "    // Constructor\n",
        "    public Transaction(decimal amount, DateTime date, string note)\n",
        "    {\n",
        "        this.Amount = amount;\n",
        "        this.Date = date;\n",
        "        this.Notes = note;\n",
        "    }\n",
        "}"
      ]
    },
    {
      "cell_type": "code",
      "execution_count": null,
      "metadata": {
        "dotnet_interactive": {
          "language": "csharp"
        },
        "vscode": {
          "languageId": "dotnet-interactive.csharp"
        }
      },
      "outputs": [],
      "source": [
        "using System.Collections.Generic;\n",
        "\n",
        "public class BankAccount\n",
        "{\n",
        "    // Properties\n",
        "    public string Number { get; }\n",
        "    public string Owner { get; set; }\n",
        "    public decimal Balance\n",
        "    {\n",
        "        get\n",
        "\n",
        "        {\n",
        "            decimal balance = 0;\n",
        "            foreach (var item in allTransactions)\n",
        "            {\n",
        "                balance += item.Amount;\n",
        "            }\n",
        "\n",
        "            return balance;\n",
        "        }\n",
        "\n",
        "\n",
        "    }\n",
        "    private static int accountNumberSeed = 1234567890;\n",
        "    private List<Transaction> allTransactions = new List<Transaction>();\n",
        "\n",
        "    // Constructor\n",
        "    public BankAccount(string name, decimal initialBalance)\n",
        "    {\n",
        "\n",
        "        this.Owner = name;\n",
        "        this.Number = accountNumberSeed.ToString();\n",
        "        accountNumberSeed++;\n",
        "        MakeDeposit(initialBalance, DateTime.Now, \"Initial balance\"); //(#4)\n",
        "\n",
        "    }\n",
        "\n",
        "    // Functions\n",
        "    public void MakeDeposit(decimal amount, DateTime date, string note)\n",
        "    {\n",
        "        //(#2)\n",
        "        if (amount <= 0)\n",
        "        {\n",
        "            throw new ArgumentOutOfRangeException(nameof(amount), \"Amount of deposit must be positive\");\n",
        "        }\n",
        "        //(#1)\n",
        "        var deposit = new Transaction(amount, date, note);\n",
        "        allTransactions.Add(deposit);\n",
        "    }\n",
        "\n",
        "    public void MakeWithdrawal(decimal amount, DateTime date, string note)\n",
        "    {\n",
        "        //(#3)\n",
        "        if (amount <= 0)\n",
        "        {\n",
        "            throw new ArgumentOutOfRangeException(nameof(amount), \"Amount of withdrawal must be positive\");\n",
        "        }\n",
        "        if (Balance - amount < 0)\n",
        "        {\n",
        "            throw new InvalidOperationException(\"Not sufficient funds for this withdrawal\");\n",
        "        }\n",
        "        var withdrawal = new Transaction(-amount, date, note);\n",
        "        allTransactions.Add(withdrawal);\n",
        "    }\n",
        "}"
      ]
    },
    {
      "cell_type": "code",
      "execution_count": null,
      "metadata": {
        "dotnet_interactive": {
          "language": "csharp"
        },
        "vscode": {
          "languageId": "dotnet-interactive.csharp"
        }
      },
      "outputs": [
        {
          "name": "stdout",
          "output_type": "stream",
          "text": [
            "Account 1234567890 was created for Kendra with 1000 dollars\r\n",
            "500\r\n",
            "600\r\n"
          ]
        }
      ],
      "source": [
        "var account = new BankAccount(\"Kendra\", 1000);\n",
        "Console.WriteLine($\"Account {account.Number} was created for {account.Owner} with {account.Balance} dollars\");\n",
        "\n",
        "account.MakeWithdrawal(500, DateTime.Now, \"Rent payment\");  //Added test code\n",
        "Console.WriteLine(account.Balance);\n",
        "account.MakeDeposit(100, DateTime.Now, \"Friend paid me back\");\n",
        "Console.WriteLine(account.Balance);"
      ]
    },
    {
      "cell_type": "markdown",
      "metadata": {},
      "source": [
        "# **回顾一下**\n",
        "\n",
        "你做到了！ 您现在已经成功创建了一个具有以下属性的银行帐户类：\n",
        "\n",
        "> 它有一个唯一标识银行账户的 10 位数字。\n",
        ">\n",
        "> 它有一个存储所有者姓名的字符串。\n",
        ">\n",
        "> 可以取回余额。\n",
        ">\n",
        "> 它接受存款。\n",
        ">\n",
        "> 它接受提款。\n",
        ">\n",
        "> 初始余额必须为正数。\n",
        ">\n",
        "> 提款不会导致负余额。\n",
        ">\n",
        "\n",
        "## 附加任务\n",
        "\n",
        "现在您已经创建了一个银行帐户类，您可以使用它！ 这是一个挑战任务：\n",
        "> 创建一种列出交易清单的方式，包括时间和注释。"
      ]
    },
    {
      "cell_type": "markdown",
      "metadata": {},
      "source": [
        "# **进阶学习**\n",
        "\n",
        "恭喜你，你终于完成本次课程的学习了\n",
        "> [⏪ 上一个学习模块 - 方法和成员](https://github.com/kinfey/csharp-notebooks/blob/main/csharp-101/14-Methods%20and%20Members.ipynb)\n",
        ">\n",
        "> [观看教学视频](https://www.youtube.com/watch?v=8YsoBBiVVzQ&list=PLdo4fOcmZ0oVxKLQCHpiUWun7vlJJvUiN&index=18)\n",
        ">\n",
        "> [文档: C#面相对象编程](https://aka.ms/CSharp.OO）\n",
        ">\n",
        "> [从头学起： 什么是 C# ？](https://www.youtube.com/watch?v=BM4CHBmAPh4&list=PLdo4fOcmZ0oVxKLQCHpiUWun7vlJJvUiN&index=1)"
      ]
    },
    {
      "cell_type": "markdown",
      "metadata": {},
      "source": [
        "# **其他资源**\n",
        "\n",
        "你可以从以下链接中获取\n",
        "> [其他 101 系列的教学视频](https://aka.ms/Videos.dotNET)\n",
        ">\n",
        "> [Microsoft Learn](https://aka.ms/Learn.dotNET)\n",
        ">\n",
        "> [C# 文档](https://aka.ms/Docs.CSharp)"
      ]
    }
  ],
  "metadata": {
    "kernelspec": {
      "display_name": ".NET (C#)",
      "language": "C#",
      "name": ".net-csharp"
    },
    "language_info": {
      "file_extension": ".cs",
      "mimetype": "text/x-csharp",
      "name": "C#",
      "pygments_lexer": "csharp",
      "version": "8.0"
    }
  },
  "nbformat": 4,
  "nbformat_minor": 4
}
