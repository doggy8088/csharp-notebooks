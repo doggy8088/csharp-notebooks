{
 "cells": [
  {
   "cell_type": "markdown",
   "metadata": {},
   "source": [
    "# **翻译外星人消息**\n",
    "\n",
    "## **介绍**\n",
    "在这个适合初学者的编码挑战中，您将了解所有关于字符串以及字符如何串在一起形成字符串的知识！ 字符串是软件开发人员每天使用的一种重要数据类型。 今天，我们将使用 C#（发音为 see-sharp）语言将外星人的信息翻译成英语！\n",
    "\n",
    "### **学习目标**\n",
    "1. 了解什么是字符串\n",
    "1.创建字符串数据\n",
    "1. 将字符串数据通过连接和插值处理成一个新的字符串\n",
    "\n",
    "### 本笔记本中使用的有用术语的快速概览\n",
    "1. [字符串](https://docs.microsoft.com/dotnet/api/system.string?view=net-6.0)\n",
    "2. [字符](https://docs.microsoft.com/dotnet/api/system.char?view=net-6.0) \n",
    "3. [变量](https://docs.microsoft.com/dotnet/csharp/language-reference/language-specification/variables)\n",
    "4. [控制台](https://docs.microsoft.com/windows/console/consoles)\n",
    "5. [Switch 语句](https://docs.microsoft.com/dotnet/csharp/language-reference/operators/switch-expression)\n",
    "6. [foreach 循环](https://docs.microsoft.com/dotnet/csharp/language-reference/statements/iteration-statements#the-foreach-statement)\n",
    "7. [字符串插值](https://docs.microsoft.com/dotnet/csharp/language-reference/tokens/interpolated?msclkid=1b008d82d0b611ec96aa6fdaf77cbe48)"
   ]
  },
  {
   "cell_type": "markdown",
   "metadata": {},
   "source": [
    "![Alien Image](https://raw.githubusercontent.com/katiesavage/csharp-notebooks/main/csharp-scenarios/images/alien-ship.png)"
   ]
  },
  {
   "cell_type": "markdown",
   "metadata": {},
   "source": [
    "## **场景**\n",
    "\n",
    "想象一下，你是政府雇佣的计算语言学家，帮助与最近登陆地球的一群外星人交流。 这些外星人讲一种非人类语言，称为语言 X（外星人）。 幸运的是，您的语言学伙伴比您先到达现场，并且能够为 X 语言的一些基本单词生成英文翻译。她已经确定外星人想要向人类传达信息。 作为她的计算语言学家，您的工作是**使用代码将语言 X 中较长的消息翻译成英语**。\n",
    "\n",
    "**计算语言学家**使用计算和人工智能来研究自然语言和自然语言模式。 这些语言学家利用语言数据对不同的语言进行建模，他们可以以多种不同的方式应用这些模型。 聊天机器人、语音识别系统和搜索引擎等工具都是在计算语言学的帮助下构建的。"
   ]
  },
  {
   "cell_type": "markdown",
   "metadata": {},
   "source": [
    "## **Console.WriteLine**\n",
    "### **向外星人介绍自己**\n",
    "\n",
    "当您第一次到达现场时，您的语言伙伴会鼓励您向外星人介绍自己。 因为这将是一个快速的介绍，所以她会为您翻译此声明。\n",
    "\n",
    "为此，您需要编写一个显示到控制台的字符串。\n",
    "\n",
    "**string** 是一个字符序列。 字符串是一种特别有用的数据类型，它允许您与程序的用户进行交互。 在 C# 中，字符串以引号开头和结尾。 例如，“这是一个字符串”。\n",
    "\n",
    "要问候外星人，请将以下代码中的 *myName* 替换为您的姓名。 然后，运行代码。   "
   ]
  },
  {
   "cell_type": "code",
   "execution_count": null,
   "metadata": {
    "dotnet_interactive": {
     "language": "csharp"
    },
    "vscode": {
     "languageId": "dotnet-interactive.csharp"
    }
   },
   "outputs": [],
   "source": [
    "Console.WriteLine(\"Hi extraterrestrials, my name is myName.\");"
   ]
  },
  {
   "cell_type": "markdown",
   "metadata": {},
   "source": [
    "*Console.WriteLine()* [语句](https://docs.microsoft.com/dotnet/csharp/programming-guide/statements-expressions-operators/statements) 允许我们将字符串写入控制台。 让我们分解一下。\n",
    "\n",
    "> * [Console](https://docs.microsoft.com/dotnet/api/system.console?view=net-6.0) 可用于输出字符串。\n",
    "> * [WriteLine() 方法](https://docs.microsoft.com/dotnet/api/system.console.writeline?view=net-6.0) 将您在括号中指定的任何数据写入输出。"
   ]
  },
  {
   "cell_type": "markdown",
   "metadata": {},
   "source": [
    "## **使用带字符串的变量**\n",
    "### **告诉外星人更多关于你自己的信息**\n",
    "了不起的工作！ 你的语言伙伴说你应该多介绍一下自己，这样外星人就知道你在做什么。 但是，她说只用你的名字而不是像我这样的代词来指代你自己，因为她还不能翻译代词。 用你的名字替换 *myName* 的所有实例并点击运行。"
   ]
  },
  {
   "cell_type": "code",
   "execution_count": null,
   "metadata": {
    "dotnet_interactive": {
     "language": "csharp"
    },
    "vscode": {
     "languageId": "dotnet-interactive.csharp"
    }
   },
   "outputs": [],
   "source": [
    "Console.WriteLine(\"Hi extraterrestrials, my name is myName.\"); \n",
    "Console.WriteLine(\"myName is a researcher.\"); \n",
    "Console.WriteLine(\"myName studies language.\"); "
   ]
  },
  {
   "cell_type": "markdown",
   "metadata": {},
   "source": [
    "### **将外星人介绍给其他人**\n",
    "很好！现在，您的研究团队的其他成员想要使用您的代码进行自我介绍。但是，用每个研究人员的名字遍历和更改所有 *myName*s 是乏味的，并且可能会导致错误。注意在我们想要输出的字符串中，唯一改变的是 myName。简化代码并减少出错空间的一种方法是使用变量和字符串插值。 **variable** 是一个符号，可用于运行具有不同值的相同代码。\n",
    "\n",
    "让我们创建一个名为 name 的字符串变量，而不是替换每个 *myName*，我们可以一次将其分配给不同的名称，它将在整个介绍过程中更新所有 myNames！\n",
    "\n",
    "我们还需要使用**字符串插值**来使用我们字符串中的变量。这允许您从包含嵌入式代码的字符串构造单个结果字符串。每个内插字符串都有两部分。\n",
    "1. 字符串以 `$` 开头，紧接在左引号之前。\n",
    "2. 至少一个内插表达式。您必须将这些插值表达式包裹在花括号 `{` `}` 中。您可以将任何返回值的 C# 表达式放在大括号内。在本练习中，我们使用的是字符串。\n",
    "\n",
    "尝试运行下面的示例，看看它是如何工作的。"
   ]
  },
  {
   "cell_type": "code",
   "execution_count": null,
   "metadata": {
    "dotnet_interactive": {
     "language": "csharp"
    },
    "vscode": {
     "languageId": "dotnet-interactive.csharp"
    }
   },
   "outputs": [
    {
     "name": "stdout",
     "output_type": "stream",
     "text": [
      "For more help, please call 123456789\r\n"
     ]
    }
   ],
   "source": [
    "var phoneNumber = 123456789;\n",
    "Console.WriteLine($\"For more help, please call {phoneNumber}\");"
   ]
  },
  {
   "cell_type": "markdown",
   "metadata": {},
   "source": [
    "在此示例中，phoneNumber 变量被嵌入到字符串中。\n",
    "\n",
    "现在让我们用我们给外星人的信息来试试这个。 在下面的代码中，创建一个名为 `name` 的变量并将其赋值为“myName”。 然后，使用 `$`、`{` 和 `}`，将这三个语句转换为插值表达式。"
   ]
  },
  {
   "cell_type": "code",
   "execution_count": null,
   "metadata": {
    "dotnet_interactive": {
     "language": "csharp"
    },
    "vscode": {
     "languageId": "dotnet-interactive.csharp"
    }
   },
   "outputs": [
    {
     "name": "stdout",
     "output_type": "stream",
     "text": [
      "Hi extraterrestrials, my name is myName.\r\n",
      "myName is a researcher.\r\n",
      "myName studies language.\r\n"
     ]
    }
   ],
   "source": [
    "Console.WriteLine(\"Hi extraterrestrials, my name is myName.\"); \n",
    "Console.WriteLine(\"myName is a researcher.\"); \n",
    "Console.WriteLine(\"myName studies language.\"); "
   ]
  },
  {
   "cell_type": "markdown",
   "metadata": {},
   "source": [
    "现在，您可以将名称设置为被介绍人的姓名。 尝试用名字 Joon 替换 *myName* 并运行它。\n",
    "\n",
    "上面带有 Console.WriteLine 的行是**字符串文字**，这意味着它是表示常量字符串的文本。"
   ]
  },
  {
   "cell_type": "markdown",
   "metadata": {},
   "source": [
    "## **让我们翻译一条消息**\n",
    "是时候开始翻译了。 您的语言伙伴为您提供了下图，其中包括她能够翻译成语言 X 的所有单词及其英语翻译。 我们将使用这些数据来翻译外星人的信息。\n",
    "\n",
    "### **语言数据**\n",
    "这些数据被组织成一个 [switch 语句](https://docs.microsoft.com/dotnet/csharp/language-reference/operators/switch-expression)。 这个 **switch 表达式** 将一个外来词作为输入，并输出英文翻译。 通常，switch 表达式将输入与一系列案例进行匹配，而输出取决于匹配的案例。 为了翻译消息，我们将使用这个 switch 表达式来帮助我们匹配外来词并接收正确的英文单词。"
   ]
  },
  {
   "cell_type": "code",
   "execution_count": null,
   "metadata": {
    "dotnet_interactive": {
     "language": "csharp"
    },
    "vscode": {
     "languageId": "dotnet-interactive.csharp"
    }
   },
   "outputs": [],
   "source": [
    "string ToEnglish(string word) => word switch\n",
    "{\n",
    "    \"yoish\"     => \"the aliens\",\n",
    "    \"ceroyash\"  => \"Earth\",\n",
    "    \"nomshce\"   => \"want\",\n",
    "    \"warshel\"   => \"please\",\n",
    "    \"yoishel\"   => \"Alien planet\",\n",
    "    \"oppor\"     => \"need\",\n",
    "    \"afala\"     => \"trees\",\n",
    "    \"eshteve\"   => \"walk\",\n",
    "    \"blarg\"     => \"speak\",\n",
    "    \"shioy\"     => \"humans\",\n",
    "    \"abree\"     => \"help\",\n",
    "    \"shwaye\"    => \"crashed\",\n",
    "    \"ni\"        => \"on\",\n",
    "    \"coierm\"    => \"to go\",\n",
    "    \"lleog\"     => \"dirt\",\n",
    "    \"efellesh\"  => \"peace\",\n",
    "    \"veiesht\"   => \"home\",\n",
    "    \"shir\"      => \"can\",\n",
    "    \"argsha\"    => \"spaceship\",\n",
    "    _           => \"Unknown\"\n",
    "};"
   ]
  },
  {
   "cell_type": "markdown",
   "metadata": {},
   "source": [
    "如您所见，上面的每个 Language X 单词都映射到英语中的单词。 例如，“Yoish”的意思是“外星人”"
   ]
  },
  {
   "cell_type": "markdown",
   "metadata": {},
   "source": [
    "看起来外星人正在发送他们的第一条信息：\n",
    "### **\"warshel abree yoish\"**"
   ]
  },
  {
   "cell_type": "markdown",
   "metadata": {},
   "source": [
    "对于我们的第一个翻译，让我们用对应的英语单词替换每种语言 X 单词。 为此，我们将使用 [String.Replace 方法](https://docs.microsoft.com/dotnet/api/system.string.replace?view=net-6.0)。 要正确使用此方法，我们传入要替换的字符串和替换字符串。 运行下面的单元格，看看它是如何工作的。\n",
    "\n",
    "这是一个例子："
   ]
  },
  {
   "cell_type": "code",
   "execution_count": null,
   "metadata": {
    "dotnet_interactive": {
     "language": "csharp"
    },
    "vscode": {
     "languageId": "dotnet-interactive.csharp"
    }
   },
   "outputs": [
    {
     "name": "stdout",
     "output_type": "stream",
     "text": [
      "She is cool\r\n"
     ]
    }
   ],
   "source": [
    "var stringName = \"He is cold\"; \n",
    "\n",
    "// Below, we replace \"He\" with \"She\" and \"cold\" with \"cool\"\n",
    "stringName = stringName.Replace(\"He\", \"She\").Replace(\"cold\",\"cool\"); \n",
    "\n",
    "Console.WriteLine(stringName);"
   ]
  },
  {
   "cell_type": "markdown",
   "metadata": {},
   "source": [
    ">注意如何在一个语句中放置多个替换\n",
    "\n",
    "现在，让我们用外星人的消息来试试这个。"
   ]
  },
  {
   "cell_type": "code",
   "execution_count": null,
   "metadata": {
    "dotnet_interactive": {
     "language": "csharp"
    },
    "vscode": {
     "languageId": "dotnet-interactive.csharp"
    }
   },
   "outputs": [
    {
     "name": "stdout",
     "output_type": "stream",
     "text": [
      "Warshel abree yoish\r\n"
     ]
    }
   ],
   "source": [
    "// here’s the alien message \n",
    "\n",
    "var message = \"Warshel abree yoish\";\n",
    "\n",
    "// try replacing the words in language x with their English counterparts using the Replace method \n",
    "\n",
    "// print the message\n",
    "Console.WriteLine(message);"
   ]
  },
  {
   "cell_type": "markdown",
   "metadata": {},
   "source": [
    "## **让我们使用循环**\n",
    "\n",
    "看起来第二条外星人消息正在传入：\n",
    "### **Yoish shwaye ni ceroyash。 Yoish oppor shioy abree coierm veiesht。 Shioy abree yoish？**\n",
    "对于像这样较长的消息，逐个替换单词有点乏味。 我们可以让这个过程更有效率。 想象一下，如果我们可以编写一段代码，逐字检查未知的外星人消息，找到每个单词的英文翻译，然后输出翻译后的英文消息。 幸运的是，我们可以使用循环。 **循环**是一种重复动作多次的方式。\n",
    "\n",
    "我们将使用上面的 ToEnglish **switch 表达式** 将外星人消息中的每个 Language X 单词翻译成英语。"
   ]
  },
  {
   "cell_type": "markdown",
   "metadata": {},
   "source": [
    "在我们可以循环句子中的单词之前，我们需要将消息字符串分解为单词。 为此，我们将使用 [String.Split()](https://docs.microsoft.com/dotnet/api/system.string.split?view=net-6.0) 方法。 我们向 String.Split() 方法传递一个描述字符，该方法将使用该字符将字符串拆分为子字符串。 在句子的情况下，我们可以选择一个空格''作为分隔符，因为每个单词都用空格分隔。 在下面的单元格中，使用 String.Split() 将句子字符串拆分为单词子字符串。"
   ]
  },
  {
   "cell_type": "markdown",
   "metadata": {},
   "source": [
    "![Split Method Image](https://raw.githubusercontent.com/katiesavage/csharp-notebooks/main/csharp-scenarios/images/split-method.png)"
   ]
  },
  {
   "cell_type": "markdown",
   "metadata": {},
   "source": [
    "现在我们可以将句子字符串拆分为单词子字符串，是时候遍历它们并进行翻译了！ 为此，我们将使用 [foreach 循环](https://docs.microsoft.com/dotnet/csharp/language-reference/statements/iteration-statements#the-foreach-statement)。 这是一种特殊类型的循环，它为该类型元素组中的每个元素执行一条语句。\n",
    "\n",
    "语法是这样的："
   ]
  },
  {
   "cell_type": "code",
   "execution_count": null,
   "metadata": {
    "dotnet_interactive": {
     "language": "csharp"
    },
    "vscode": {
     "languageId": "dotnet-interactive.csharp"
    }
   },
   "outputs": [
    {
     "name": "stdout",
     "output_type": "stream",
     "text": [
      "this is an example "
     ]
    }
   ],
   "source": [
    "var sentence = \"this is an example\";\n",
    "\n",
    "// split the string into substrings\n",
    "string[] variableCollection = sentence.Split(' ');\n",
    "\n",
    "foreach(var variableName in variableCollection) \n",
    "{ \n",
    "     // statements to be executed \n",
    "     Console.Write(variableName + \" \");\n",
    "} "
   ]
  },
  {
   "cell_type": "markdown",
   "metadata": {},
   "source": [
    ">在我们的例子中，**数据类型**是字符串。 **变量名**可以是任何东西，但为了确保我们的代码易于理解，我们将其命名为 word。 **集合变量**将是我们的语言 X 单词列表。 要执行的语句必须用大括号括起来。\n",
    "\n",
    "现在您可以将外星人的句子字符串拆分为单词子字符串，并且我们知道如何循环这些字符串，是时候翻译外星人的信息了！"
   ]
  },
  {
   "cell_type": "code",
   "execution_count": null,
   "metadata": {
    "dotnet_interactive": {
     "language": "csharp"
    },
    "vscode": {
     "languageId": "dotnet-interactive.csharp"
    }
   },
   "outputs": [
    {
     "name": "stdout",
     "output_type": "stream",
     "text": [
      "yoish shwaye ni ceroyash yoish oppor shioy abree coierm veiesht shir shioy abree yoish\r\n"
     ]
    }
   ],
   "source": [
    "var alienMessage = \"yoish shwaye ni ceroyash yoish oppor shioy abree coierm veiesht shir shioy abree yoish\"; \n",
    "\n",
    "// split alienMessage into word substrings and store it in a variable called words \n",
    "string[] words = alienMessage.Split(' '); \n",
    "\n",
    "// Here is where we will loop through each word in words and translate them  \n",
    "foreach(var word in words) \n",
    "{ \n",
    "    // pass the word to the switch expression here \n",
    "    \n",
    "} \n",
    "\n",
    "// turn the English word back into a string using the Join method\n",
    "var englishMessage = string.Join(\" \", words);\n",
    "Console.WriteLine(englishMessage);"
   ]
  },
  {
   "cell_type": "markdown",
   "metadata": {},
   "source": [
    "很好！ 您现在可以将此消息以及您的翻译工具转发给外星人响应小组，以便他们将外星人带回家。 任务成功！"
   ]
  }
 ],
 "metadata": {
  "kernelspec": {
   "display_name": ".NET (C#)",
   "language": "C#",
   "name": ".net-csharp"
  },
  "language_info": {
   "file_extension": ".cs",
   "mimetype": "text/x-csharp",
   "name": "C#",
   "pygments_lexer": "csharp",
   "version": "9.0"
  },
  "orig_nbformat": 4
 },
 "nbformat": 4,
 "nbformat_minor": 2
}
