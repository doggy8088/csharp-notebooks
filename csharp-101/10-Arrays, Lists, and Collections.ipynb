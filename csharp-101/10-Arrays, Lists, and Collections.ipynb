{
  "cells": [
    {
      "cell_type": "markdown",
      "metadata": {},
      "source": [
        "# **数组、列表和集合**\n",
        "\n",
        "观看该模块的教学视频 [C# 101 video](https://www.youtube.com/watch?v=qLeF_wpnVto&list=PLdo4fOcmZ0oVxKLQCHpiUWun7vlJJvUiN&index=12) "
      ]
    },
    {
      "cell_type": "markdown",
      "metadata": {},
      "source": [
        "数组、列表和集合非常有用。 尝试查看列表：\n",
        "> 运行以下代码。 它打印出您的预期吗？"
      ]
    },
    {
      "cell_type": "code",
      "execution_count": null,
      "metadata": {
        "dotnet_interactive": {
          "language": "csharp"
        },
        "vscode": {
          "languageId": "dotnet-interactive.csharp"
        }
      },
      "outputs": [
        {
          "name": "stdout",
          "output_type": "stream",
          "text": [
            "Hello <NAME>!\r\n",
            "Hello ANA!\r\n",
            "Hello FELIPE!\r\n"
          ]
        }
      ],
      "source": [
        "using System;\n",
        "using System.Collections.Generic;\n",
        "\n",
        "var names = new List<string> { \"<name>\", \"Ana\", \"Felipe\" };\n",
        "foreach (var name in names)\n",
        "{\n",
        "    Console.WriteLine($\"Hello {name.ToUpper()}!\");\n",
        "}"
      ]
    },
    {
      "cell_type": "markdown",
      "metadata": {},
      "source": [
        "## **那么这段代码是什么意思呢？**\n",
        "\n",
        "- **System.collections.Generic**：这是一个包含列表的命名空间。 如果您不告诉代码您正在使用它，则每次要使用列表时都必须写“Systems.Collections.Generic.List”。 这节省了一些打字！\n",
        "- **var**：当你有一个变量时你设定的，但不关心变量类型是什么。\n",
        "- **List\\<string\\>**：这意味着您正在制作一个字符串列表。 代替 `string`，您可以放入 `int`、`double` 或任何其他变量。\n",
        "- **foreach**：这是另一个 for 循环！ 它遍历列表中的每个项目。\n",
        "- **名字中的名字**：这是很多人喜欢的风格。 `names` 是包含复数名称的整个列表。 `name` 是 `names` 中的一个单独的项目。"
      ]
    },
    {
      "cell_type": "markdown",
      "metadata": {},
      "source": [
        "## 替代方法\n",
        "\n",
        "前面的代码比下面的代码更易于人类阅读，但下面的代码有一些更容易识别的代码。\n",
        "这些实际上只是编写相同代码的两种不同风格。 你可以选择你更为习惯的方式\n",
        "> 运行以下代码。\n",
        ">\n",
        "> 你能在两种不同的方法之间识别出相似的代码部分吗？\n",
        ">\n",
        "> 你更喜欢哪种方法？"
      ]
    },
    {
      "cell_type": "code",
      "execution_count": null,
      "metadata": {
        "dotnet_interactive": {
          "language": "csharp"
        },
        "vscode": {
          "languageId": "dotnet-interactive.csharp"
        }
      },
      "outputs": [
        {
          "name": "stdout",
          "output_type": "stream",
          "text": [
            "Hello <NAME>\r\n",
            "Hello ANA\r\n",
            "Hello FELIPE\r\n"
          ]
        }
      ],
      "source": [
        "using System;\n",
        "using System.Collections.Generic;\n",
        "\n",
        "var names = new List<string> { \"<name>\", \"Ana\", \"Felipe\" };\n",
        "for (int i = 0;i < names.Count; i++)\n",
        "{\n",
        "    Console.WriteLine($\"Hello {names[i].ToUpper()}\");\n",
        "}"
      ]
    },
    {
      "cell_type": "markdown",
      "metadata": {},
      "source": [
        "## **添加**\n",
        "\n",
        "您可以很容易地将名称添加到列表中。 列表有方法 `Add()`，它将一个新项目添加到列表的末尾。\n",
        "> 运行代码。\n",
        ">\n",
        "> 然后尝试添加您自己的名字。"
      ]
    },
    {
      "cell_type": "code",
      "execution_count": null,
      "metadata": {
        "dotnet_interactive": {
          "language": "csharp"
        },
        "vscode": {
          "languageId": "dotnet-interactive.csharp"
        }
      },
      "outputs": [
        {
          "name": "stdout",
          "output_type": "stream",
          "text": [
            "Hello <NAME>!\r\n",
            "Hello ANA!\r\n",
            "Hello FELIPE!\r\n",
            "Hello SOPHIA!\r\n"
          ]
        }
      ],
      "source": [
        "var names = new List<string> { \"<name>\", \"Ana\", \"Felipe\" };\n",
        "\n",
        "names.Add(\"Sophia\");\n",
        "\n",
        "foreach (var name in names)\n",
        "{\n",
        "    Console.WriteLine($\"Hello {name.ToUpper()}!\");\n",
        "}"
      ]
    },
    {
      "cell_type": "markdown",
      "metadata": {},
      "source": [
        "## **移除**\n",
        "\n",
        "您还可以删除名称。 试试看：\n",
        "\n",
        "> 运行代码。\n",
        ">\n",
        "> 然后选择要删除的名称。\n",
        ">\n",
        "> 当您尝试删除不存在的东西时会发生什么？"
      ]
    },
    {
      "cell_type": "code",
      "execution_count": null,
      "metadata": {
        "dotnet_interactive": {
          "language": "csharp"
        },
        "vscode": {
          "languageId": "dotnet-interactive.csharp"
        }
      },
      "outputs": [
        {
          "name": "stdout",
          "output_type": "stream",
          "text": [
            "Hello ANA\r\n",
            "Hello FELIPE\r\n"
          ]
        }
      ],
      "source": [
        "var names = new List<string> { \"<name>\", \"Ana\", \"Felipe\" };\n",
        "\n",
        "names.Remove(\"<name>\");\n",
        "\n",
        "for (int i = 0;i < names.Count; i++)\n",
        "{\n",
        "    Console.WriteLine($\"Hello {names[i].ToUpper()}\");\n",
        "}"
      ]
    },
    {
      "cell_type": "markdown",
      "metadata": {},
      "source": [
        "## **打印特定项目**\n",
        "\n",
        "如果您不想打印所有怎么办？ 如果你只想打印一个怎么办？ 这就是括号的用武之地。\n",
        "> 运行代码。\n",
        ">\n",
        "> 尝试打印列表中的不同位置。\n",
        ">\n",
        "> 您需要 0 还是 1 来打印列表中的第一项？"
      ]
    },
    {
      "cell_type": "code",
      "execution_count": null,
      "metadata": {
        "dotnet_interactive": {
          "language": "csharp"
        },
        "vscode": {
          "languageId": "dotnet-interactive.csharp"
        }
      },
      "outputs": [
        {
          "name": "stdout",
          "output_type": "stream",
          "text": [
            "Sophia\r\n"
          ]
        }
      ],
      "source": [
        "var names = new List<string> { \"<name>\", \"Sophia\", \"Felipe\" };\n",
        "Console.WriteLine(names[1]);"
      ]
    },
    {
      "cell_type": "markdown",
      "metadata": {},
      "source": [
        "Don't forget that lists are \"0\" based. The first spot is the \"0th\" spot."
      ]
    },
    {
      "cell_type": "markdown",
      "metadata": {},
      "source": [
        "# **Playground：动动手**\n",
        "\n",
        "> 列出您需要的杂货清单，称为“groceries”。\n",
        ">\n",
        "> 你能打印出“buy\\<grocery\\>！”吗？ 每个项目？\n",
        ">\n",
        "> 清单的第三项是什么？ 这和“groceries[3]”一样吗？\n",
        ">\n",
        "> 添加“牙膏”。\n",
        ">\n",
        "> 删除您最不喜欢的项目。\n",
        ">\n",
        "> 现在名单上的第三个是什么？"
      ]
    },
    {
      "cell_type": "code",
      "execution_count": null,
      "metadata": {
        "dotnet_interactive": {
          "language": "csharp"
        },
        "vscode": {
          "languageId": "dotnet-interactive.csharp"
        }
      },
      "outputs": [
        {
          "name": "stdout",
          "output_type": "stream",
          "text": [
            "Playground\r\n"
          ]
        }
      ],
      "source": [
        "Console.WriteLine(\"Playground\");"
      ]
    },
    {
      "cell_type": "markdown",
      "metadata": {},
      "source": [
        "# Continue learning\n",
        "\n",
        "There are plenty more resources out there to learn!\n",
        "> [⏩ 下一个学习模块 - 搜索、排序和索引列表](https://github.com/kinfey/csharp-notebooks/blob/main/csharp-101/11-%20Search%2C%20Sort%2C%20and%20Index%20Lists.ipynb)\n",
        ">\n",
        "> [⏪ 上一个学习模块 -  分支和循环结合](https://github.com/kinfey/csharp-notebooks/blob/main/csharp-101/09-Combining%20Branches%20and%20Loops.ipynb)\n",
        ">\n",
        "> [观看视频](https://www.youtube.com/watch?v=qLeF_wpnVto&list=PLdo4fOcmZ0oVxKLQCHpiUWun7vlJJvUiN&index=12)\n",
        ">\n",
        "> [文档: 数组、列表和集合](https://docs.microsoft.com/dotnet/csharp/tour-of-csharp/tutorials/arrays-and-collections?WT.mc_id=Educationalcsharp-c9-scottha)\n",
        ">\n",
        "> [从头学起： 什么是 C# ？](https://www.youtube.com/watch?v=BM4CHBmAPh4&list=PLdo4fOcmZ0oVxKLQCHpiUWun7vlJJvUiN&index=1)"
      ]
    },
    {
      "cell_type": "markdown",
      "metadata": {},
      "source": [
        "# **其他学习资源**\n",
        "\n",
        "你可以从以下链接中获取\n",
        "> [其他 101 系列的教学视频](https://dotnet.microsoft.com/learn/videos?WT.mc_id=csharpnotebook-35129-website)\n",
        ">\n",
        "> [Microsoft Learn](https://docs.microsoft.com/learn/dotnet/?WT.mc_id=csharpnotebook-35129-website)\n",
        ">\n",
        "> [C# 文档](https://docs.microsoft.com/dotnet/csharp/?WT.mc_id=csharpnotebook-35129-website)"
      ]
    }
  ],
  "metadata": {
    "kernelspec": {
      "display_name": ".NET (C#)",
      "language": "C#",
      "name": ".net-csharp"
    },
    "language_info": {
      "file_extension": ".cs",
      "mimetype": "text/x-csharp",
      "name": "C#",
      "pygments_lexer": "csharp",
      "version": "8.0"
    }
  },
  "nbformat": 4,
  "nbformat_minor": 4
}
