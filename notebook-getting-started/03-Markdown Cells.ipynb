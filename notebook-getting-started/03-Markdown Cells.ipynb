{
  "cells": [
    {
      "cell_type": "markdown",
      "metadata": {},
      "source": [
        "# **Markdown Cells**\n",
        "\n",
        "Markdown 單元可以與程式碼單元混合，將 Notebooks 變成教程，或者只是為一段程式碼提供說明。 如需完整的 Markdown 文件集，請檢視 [markdownguide.org](https://www.markdownguide.org/)\n",
        "\n",
        "點選以下 Markdown Cells 的編輯按鈕檢視相關功能的表示方式 ![Edit Button](https://github.com/JakeRadMSFT/csharp-notebooks/raw/main/notebook-getting-started/images/edit%20markdown.png) \n"
      ]
    },
    {
      "cell_type": "markdown",
      "metadata": {},
      "source": [
        "# **標題**\n",
        "# H1  \n",
        "## H2  \n",
        "### H3  \n",
        "#### H4  \n",
        "##### H5  \n",
        "###### H6  "
      ]
    },
    {
      "cell_type": "markdown",
      "metadata": {},
      "source": [
        "# **段落**\n",
        "\n",
        "這是段落中的一行。\n",
        "\n",
        "這是下一段！"
      ]
    },
    {
      "cell_type": "markdown",
      "metadata": {},
      "source": [
        "# **換行符**\n",
        "一行末尾的兩個空格有效。  \n",
        "第二行。"
      ]
    },
    {
      "cell_type": "markdown",
      "metadata": {},
      "source": [
        "# 重點提示\n",
        "這是 **加粗文字**.  \n",
        "這是 *斜體文字*.  \n",
        "這是 ~~刪除線文字~~.  \n",
        "這是 ==突出顯示的文字==.  \n",
        "這是水的表示方式 - H~2~0  \n",
        "這是 x * x 的表示方式 - X^2^\n"
      ]
    },
    {
      "cell_type": "markdown",
      "metadata": {},
      "source": [
        "# 區塊引用\n",
        "\n",
        "> 所有這些文字都將被引用。\n",
        ">\n",
        "> 這將在同一個區塊引用中。\n",
        ">\n",
        ">> 這將是一個巢狀的區塊引用。"
      ]
    },
    {
      "cell_type": "markdown",
      "metadata": {},
      "source": [
        "# **清單***\n",
        "\n",
        "## **有序清單**\n",
        "\n",
        "1. First item\n",
        "1. Second item\n",
        "1. Third item\n",
        "1. Fourth item\n",
        "\n",
        "## **無序清單**\n",
        "- First item\n",
        "- Second item\n",
        "- Third item\n",
        "- Fourth item\n",
        "\n",
        "## **巢狀清單**\n",
        "\n",
        "1. First item\n",
        "    - First item\n",
        "    - Second item\n",
        "    - Third item\n",
        "    - Fourth item\n",
        "1. Second item\n",
        "1. Third item\n",
        "1. Fourth item"
      ]
    },
    {
      "cell_type": "markdown",
      "metadata": {},
      "source": [
        "# **程式碼**\n",
        "\n",
        "`var x = 5;`\n",
        "\n",
        "To output text try `Console.WriteLine`\n",
        "\n",
        "```\n",
        "{\n",
        "  \"firstName\": \"Hello\",\n",
        "  \"lastName\": \"World\",\n",
        "}\n",
        "```"
      ]
    },
    {
      "cell_type": "markdown",
      "metadata": {},
      "source": [
        "# **水平規則**\n",
        "\n",
        "***\n",
        "---\n",
        "________________"
      ]
    },
    {
      "cell_type": "markdown",
      "metadata": {},
      "source": [
        "# **超連結**\n",
        "\n",
        "[This Notebook](https://github.com/JakeRadMSFT/csharp-notebooks/blob/main/notebook-getting-started/03-Markdown%20Cells.ipynb)"
      ]
    },
    {
      "cell_type": "markdown",
      "metadata": {},
      "source": [
        "# **圖片**\n",
        "\n",
        "Play Button: ![Play Button](https://github.com/JakeRadMSFT/csharp-notebooks/raw/main/notebook-getting-started/images/play.png)"
      ]
    },
    {
      "cell_type": "markdown",
      "metadata": {},
      "source": [
        "# **表格**\n",
        "\n",
        "| Column 1 (Aligned Left) | Column 2 (Aligned Center) | Column 3 (Aligned Right)     |\n",
        "| :---        |    :----:   |          ---: |\n",
        "| Row 1 | Value       | Value   |\n",
        "| Row 2 | Value      | Value      |"
      ]
    }
  ],
  "metadata": {
    "kernelspec": {
      "display_name": ".NET (C#)",
      "language": "C#",
      "name": ".net-csharp"
    },
    "language_info": {
      "file_extension": ".cs",
      "mimetype": "text/x-csharp",
      "name": "C#",
      "pygments_lexer": "csharp",
      "version": "8.0"
    }
  },
  "nbformat": 4,
  "nbformat_minor": 4
}
