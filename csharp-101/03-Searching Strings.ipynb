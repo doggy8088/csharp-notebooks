{
  "cells": [
    {
      "cell_type": "markdown",
      "metadata": {},
      "source": [
        "# **查找字符串**\n",
        "\n",
        "观看该模块的教学视频 [C# 101 video](https://www.youtube.com/watch?v=JL30gSE3WaQ&list=PLdo4fOcmZ0oVxKLQCHpiUWun7vlJJvUiN&index=4)"
      ]
    },
    {
      "cell_type": "markdown",
      "metadata": {},
      "source": [
        "## **包含**\n",
        "\n",
        "您的字符串中是否包含另一个字符串？ 您可以使用 `Contains` 来找出答案！\n",
        "`Contains` 方法返回一个 *boolean*。 这是一种由关键字 `bool` 表示的类型，它可以包含两个值：`true` 或 `false`。 在这种情况下，当找到寻找的字符串时，该方法返回“true”，如果没有找到，则返回“false”。\n",
        "> 运行以下代码。\n",
        ">\n",
        "> 有什么会或不会被包含？\n",
        ">\n",
        "> 有没有特别的情况？\n",
        ">\n",
        "> 你能存储 `Contains` 方法的返回值吗> 记住结果的类型是 `bool`。"
      ]
    },
    {
      "cell_type": "code",
      "execution_count": null,
      "metadata": {
        "dotnet_interactive": {
          "language": "csharp"
        },
        "vscode": {
          "languageId": "dotnet-interactive.csharp"
        }
      },
      "outputs": [
        {
          "name": "stdout",
          "output_type": "stream",
          "text": [
            "True\r\n",
            "False\r\n"
          ]
        }
      ],
      "source": [
        "string songLyrics = \"You say goodbye, and I say hello\";\n",
        "Console.WriteLine(songLyrics.Contains(\"goodbye\"));\n",
        "Console.WriteLine(songLyrics.Contains(\"greetings\"));"
      ]
    },
    {
      "cell_type": "markdown",
      "metadata": {},
      "source": [
        "## **开头与结尾的检查**\n",
        "\n",
        "`StartsWith` 和 `EndsWith` 是类似于 `Contains` 的方法，但更具体。 它们会告诉您字符串是否以您正在检查的字符串开头或结尾。 它与 `Contains` 具有相同的结构，即：`bigstring.StartsWith(substring)`\n",
        "> 在下面的代码中，尝试搜索该行以查看它是以“you”还是“I”开头的。\n",
        "> 接下来看看代码是以“hello”还是“goodbye”结尾的。"
      ]
    },
    {
      "cell_type": "code",
      "execution_count": null,
      "metadata": {
        "dotnet_interactive": {
          "language": "csharp"
        },
        "vscode": {
          "languageId": "dotnet-interactive.csharp"
        }
      },
      "outputs": [],
      "source": [
        "string songLyrics = \"You say goodbye, and I say hello\";"
      ]
    },
    {
      "cell_type": "markdown",
      "metadata": {},
      "source": [
        "# **Playground：动动手**\n",
        "\n",
        "练习一下：\n",
        "> 有哪些行包含了\"hello\"？\n",
        "> 哪些行以“你”开头？\n",
        "> 哪些行以“否”结尾？\n",
        "> 回想上一个模块。 你能把一些行全大写，一些行全小写吗？\n",
        "> 如果你改变大小写，这对“Contains”有什么影响？"
      ]
    },
    {
      "cell_type": "code",
      "execution_count": null,
      "metadata": {
        "dotnet_interactive": {
          "language": "csharp"
        },
        "vscode": {
          "languageId": "dotnet-interactive.csharp"
        }
      },
      "outputs": [
        {
          "name": "stdout",
          "output_type": "stream",
          "text": [
            "Playground\r\n"
          ]
        }
      ],
      "source": [
        "Console.WriteLine(\"Playground\");\n",
        "String line1 = \"You say yes, I say no\";\n",
        "String line2 = \"You say stop and I say go, go, go\";\n",
        "String line3 = \"Oh, no\";\n",
        "String line4 = \"You say goodbye and I say hello\";\n",
        "String line5 = \"Hello, hello\";\n",
        "String line6 = \"I don't know why you say goodbye, I say hello\";"
      ]
    },
    {
      "cell_type": "markdown",
      "metadata": {},
      "source": [
        "# **进阶学习**\n",
        "\n",
        "有非常多的资源给大家学习，不要错过!\n",
        "> [⏩ 下一个学习模块 - 整形介绍](https://github.com/kinfey/csharp-notebooks/blob/main/csharp-101/04-Numbers%20and%20Integer%20Math.ipynb)\n",
        ">\n",
        "> [⏪ 上一个学习模块 - 字符串基础](https://github.com/kinfey/csharp-notebooks/blob/main/csharp-101/02-The%20Basics%20of%20Strings.ipynb)\n",
        ">\n",
        "> [观看教学视频](https://www.youtube.com/watch?v=JL30gSE3WaQ&list=PLdo4fOcmZ0oVxKLQCHpiUWun7vlJJvUiN&index=4)\n",
        ">\n",
        "> [文档: C# 介绍](https://docs.microsoft.com/dotnet/csharp/tour-of-csharp/tutorials/hello-world?WT.mc_id=csharpnotebook-35129-website)\n",
        ">\n",
        "> [从头学起： 什么是 C# ？](https://www.youtube.com/watch?v=BM4CHBmAPh4&list=PLdo4fOcmZ0oVxKLQCHpiUWun7vlJJvUiN&index=1)"
      ]
    },
    {
      "cell_type": "markdown",
      "metadata": {},
      "source": [
        "# **其他资源**\n",
        "\n",
        "你可以从以下链接中获取\n",
        "> [其他 101 系列的教学视频](https://aka.ms/Videos.dotNET)\n",
        ">\n",
        "> [Microsoft Learn](https://aka.ms/Learn.dotNET)\n",
        ">\n",
        "> [C# 文档](https://aka.ms/Docs.CSharp)"
      ]
    }
  ],
  "metadata": {
    "kernelspec": {
      "display_name": ".NET (C#)",
      "language": "C#",
      "name": ".net-csharp"
    },
    "language_info": {
      "file_extension": ".cs",
      "mimetype": "text/x-csharp",
      "name": "C#",
      "pygments_lexer": "csharp",
      "version": "8.0"
    }
  },
  "nbformat": 4,
  "nbformat_minor": 4
}
