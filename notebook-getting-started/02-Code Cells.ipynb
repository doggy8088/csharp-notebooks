{
  "cells": [
    {
      "cell_type": "markdown",
      "metadata": {},
      "source": [
        "# **Code Cells 介紹**\n",
        "  \n",
        "這個 notebok 主要涵蓋利用 Code Cells 更新輸出、引用 NuGet 等場景\n",
        "\n",
        "要學習 C# 請訪問我們的 C# 101 教程 -  [第一個學習模組 - Hello World](https://ntbk.io/csharp101-notebook01)!"
      ]
    },
    {
      "cell_type": "markdown",
      "metadata": {},
      "source": [
        "### **引用 NuGets** "
      ]
    },
    {
      "cell_type": "code",
      "execution_count": 1,
      "metadata": {
        "dotnet_interactive": {
          "language": "csharp"
        },
        "vscode": {
          "languageId": "dotnet-interactive.csharp"
        }
      },
      "outputs": [
        {
          "data": {
            "text/html": [
              "<div><div></div><div></div><div><strong>Installed Packages</strong><ul><li><span>System.Text.Json, 6.0.4</span></li></ul></div></div>"
            ]
          },
          "execution_count": 1,
          "metadata": {},
          "output_type": "execute_result"
        }
      ],
      "source": [
        "#r \"nuget:System.Text.Json\""
      ]
    },
    {
      "cell_type": "markdown",
      "metadata": {},
      "source": [
        "學習更多內容 - [Nuget 概述](https://github.com/dotnet/interactive/blob/main/docs/nuget-overview.md)"
      ]
    },
    {
      "cell_type": "markdown",
      "metadata": {},
      "source": [
        "## **引用 Assemblies**"
      ]
    },
    {
      "cell_type": "code",
      "execution_count": 1,
      "metadata": {
        "dotnet_interactive": {
          "language": "csharp"
        },
        "vscode": {
          "languageId": "dotnet-interactive.csharp"
        }
      },
      "outputs": [],
      "source": [
        "#r \"<path to .dll>\""
      ]
    },
    {
      "cell_type": "markdown",
      "metadata": {},
      "source": [
        "## **顯示和更新值**"
      ]
    },
    {
      "cell_type": "markdown",
      "metadata": {},
      "source": [
        "透過 Code Cells 顯示值有幾種方法\n",
        "\n",
        "### **Console.WriteLine**\n",
        "\n",
        "您可以像使用控制台應用程式一樣使用 Console.WriteLine，並且顯示輸出結果。"
      ]
    },
    {
      "cell_type": "code",
      "execution_count": null,
      "metadata": {
        "dotnet_interactive": {
          "language": "csharp"
        },
        "vscode": {
          "languageId": "dotnet-interactive.csharp"
        }
      },
      "outputs": [
        {
          "name": "stdout",
          "output_type": "stream",
          "text": [
            "Hello Console.WriteLine\n"
          ]
        }
      ],
      "source": [
        "Console.WriteLine(\"Hello Console.WriteLine\");"
      ]
    },
    {
      "cell_type": "markdown",
      "metadata": {},
      "source": [
        "### **把值放在 Code Cell 的最後一行**\n",
        "如果 Code Cell 的最後一行是變數、物件或文字，那麼它的值將被顯示。"
      ]
    },
    {
      "cell_type": "code",
      "execution_count": 1,
      "metadata": {
        "dotnet_interactive": {
          "language": "csharp"
        },
        "vscode": {
          "languageId": "dotnet-interactive.csharp"
        }
      },
      "outputs": [
        {
          "data": {
            "text/plain": [
              "This will work!"
            ]
          },
          "execution_count": 1,
          "metadata": {},
          "output_type": "execute_result"
        }
      ],
      "source": [
        "\"This will work!\""
      ]
    },
    {
      "cell_type": "code",
      "execution_count": 1,
      "metadata": {
        "dotnet_interactive": {
          "language": "csharp"
        },
        "vscode": {
          "languageId": "dotnet-interactive.csharp"
        }
      },
      "outputs": [
        {
          "data": {
            "text/plain": [
              "This will work too"
            ]
          },
          "execution_count": 1,
          "metadata": {},
          "output_type": "execute_result"
        }
      ],
      "source": [
        "var x =  \"This will work too\";\n",
        "x"
      ]
    },
    {
      "cell_type": "markdown",
      "metadata": {},
      "source": [
        "### **內建顯示功能**\n",
        "使用內建的顯示功能是另一種選擇，它允許您更新顯示的值。 這是在長時間執行的任務期間顯示和更新訊息的最好方法。"
      ]
    },
    {
      "cell_type": "code",
      "execution_count": 1,
      "metadata": {
        "dotnet_interactive": {
          "language": "csharp"
        },
        "vscode": {
          "languageId": "dotnet-interactive.csharp"
        }
      },
      "outputs": [
        {
          "data": {
            "text/html": [
              "<div class=\"dni-plaintext\">10</div>"
            ]
          },
          "execution_count": 1,
          "metadata": {},
          "output_type": "execute_result"
        }
      ],
      "source": [
        "var displayedValue = 0.Display();\n",
        "\n",
        "for (int x = 0; x<=10; x++)\n",
        "{\n",
        "\tawait Task.Delay(1000);\n",
        "\tdisplayedValue.Update(x);\n",
        "}"
      ]
    }
  ],
  "metadata": {
    "kernelspec": {
      "display_name": ".NET (C#)",
      "language": "C#",
      "name": ".net-csharp"
    },
    "language_info": {
      "file_extension": ".cs",
      "mimetype": "text/x-csharp",
      "name": "C#",
      "pygments_lexer": "csharp",
      "version": "8.0"
    }
  },
  "nbformat": 4,
  "nbformat_minor": 4
}
