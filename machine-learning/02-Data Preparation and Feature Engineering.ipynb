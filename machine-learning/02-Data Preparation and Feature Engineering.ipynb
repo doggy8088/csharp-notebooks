{
  "cells": [
    {
      "cell_type": "markdown",
      "metadata": {},
      "source": [
        "# **資料準備和特徵工程**\n",
        "\n",
        "資料對於訓練和準備模型至關重要。 在本 Notebook 中，我們將介紹如何將資料載入到 ML.NET 中並確保其格式正確，以便 ML.NET 可以使用它。\n",
        "\n",
        "在本 Notebook 中，您將學習如何...\n",
        "\n",
        "- 將資料載入到 ML.NET\n",
        "- 應用資料轉換來幫助 ML.NET 理解資料"
      ]
    },
    {
      "cell_type": "markdown",
      "metadata": {},
      "source": [
        "## **ML.NET載入資料**"
      ]
    },
    {
      "cell_type": "markdown",
      "metadata": {},
      "source": [
        "### 什麼是 IDataView？\n",
        "\n",
        "[IDataView](https://docs.microsoft.com/dotnet/api/microsoft.ml.idataview?view=ml-dotnet) 是 ML.NET 為訓練載入的資料格式。 它是一組介面和元件，可為機器學習和高階分析應用程式提供模式化資料的高效組合處理。 它旨在優雅高效地處理高維資料和大型資料集。\n",
        "\n",
        "IDataView 具有一般模式支援，因為檢視可以有任意數量的列，每列都有關聯的名稱、索引、資料型別和可選註解。"
      ]
    },
    {
      "cell_type": "markdown",
      "metadata": {},
      "source": [
        "### **如何建立 IDataView**\n",
        "\n",
        "您可以使用任何載入資料的方法來建立 IDataView：\n",
        "\n",
        "- 文字載入器\n",
        "- LoadFromEnumerable\n",
        "- 資料庫載入器\n",
        "- LoadFromTextFile\n",
        "\n",
        "有關更多文件和範例，請參閱[從檔案和其他來源載入資料](https://docs.microsoft.com/dotnet/machine-learning/how-to-guides/load-data-ml-net)。"
      ]
    },
    {
      "cell_type": "code",
      "execution_count": 1,
      "metadata": {
        "dotnet_interactive": {
          "language": "csharp"
        },
        "vscode": {
          "languageId": "dotnet-interactive.csharp"
        }
      },
      "outputs": [
        {
          "data": {
            "text/html": [
              "<div><div></div><div></div><div><strong>Installed Packages</strong><ul><li><span>Microsoft.ML, 2.0.0-preview.22313.1</span></li></ul></div></div>"
            ]
          },
          "execution_count": 1,
          "metadata": {},
          "output_type": "execute_result"
        }
      ],
      "source": [
        "#i \"nuget:https://pkgs.dev.azure.com/dnceng/public/_packaging/MachineLearning/nuget/v3/index.json\"\n",
        "#r \"nuget: Microsoft.ML, 2.0.0-preview.22356.1\""
      ]
    },
    {
      "cell_type": "code",
      "execution_count": 1,
      "metadata": {
        "dotnet_interactive": {
          "language": "csharp"
        },
        "vscode": {
          "languageId": "dotnet-interactive.csharp"
        }
      },
      "outputs": [],
      "source": [
        "using Microsoft.ML;\n",
        "using Microsoft.ML.Data;\n",
        "using Microsoft.ML.Transforms; "
      ]
    },
    {
      "cell_type": "markdown",
      "metadata": {},
      "source": [
        "## **下載或查詢資料**\n",
        "以下程式碼嘗試在幾個已知位置找到資料檔案，或者它將從已知的 GitHub 位置下載它。"
      ]
    },
    {
      "cell_type": "code",
      "execution_count": 1,
      "metadata": {
        "dotnet_interactive": {
          "language": "csharp"
        },
        "vscode": {
          "languageId": "dotnet-interactive.csharp"
        }
      },
      "outputs": [],
      "source": [
        "using System;\n",
        "using System.IO;\n",
        "using System.Net;\n",
        "\n",
        "string EnsureDataSetDownloaded(string fileName)\n",
        "{\n",
        "\n",
        "\t// This is the path if the repo has been checked out.\n",
        "\tvar filePath = Path.Combine(Directory.GetCurrentDirectory(),\"data\", fileName);\n",
        "\n",
        "\tif (!File.Exists(filePath))\n",
        "\t{\n",
        "\t\t// This is the path if the file has already been downloaded.\n",
        "\t\tfilePath = Path.Combine(Directory.GetCurrentDirectory(), fileName);\n",
        "\t}\n",
        "\n",
        "\tif (!File.Exists(filePath))\n",
        "\t{\n",
        "\t\tusing (var client = new WebClient())\n",
        "\t\t{\n",
        "\t\t\tclient.DownloadFile($\"https://raw.githubusercontent.com/dotnet/csharp-notebooks/main/machine-learning/data/{fileName}\", filePath);\n",
        "\t\t}\n",
        "\t\tConsole.WriteLine($\"Downloaded {fileName}  to : {filePath}\");\n",
        "\t}\n",
        "\telse\n",
        "\t{\n",
        "\t\tConsole.WriteLine($\"{fileName} found here: {filePath}\");\n",
        "\t}\n",
        "\n",
        "\treturn filePath;\n",
        "}"
      ]
    },
    {
      "cell_type": "markdown",
      "metadata": {},
      "source": [
        "#### 從檔案載入\n",
        "\n",
        "[TextLoader](https://docs.microsoft.com/dotnet/api/microsoft.ml.data.textloader?view=ml-dotnet) 可以將結構化檔案載入到 IDataView 中。 結構化訊息表示為數據的列和行。"
      ]
    },
    {
      "cell_type": "markdown",
      "metadata": {},
      "source": [
        "IDataView 具有一般模式支援，因為檢視可以有任意數量的列，每列都有關聯的名稱、索引、資料型別和可選註解。 您可以使用 Plain-Old-CLR-Objects (POCO) 或類為您的資料定義架構。\n",
        "\n",
        "關於 ModelInput 類別的一些注意事項。\n",
        "- `LoadColumn` 屬性指定列索引。 這是從檔案載入時的必要屬性。\n",
        "- `ColumnName` 屬性用於將列的名稱設定為屬性名稱以外的名稱。 記憶體中的物件使用屬性名稱。 但是，對於資料處理和建立機器學習模型，ML.NET 會使用 ColumnName 屬性中提供的值覆蓋和引用該屬性。"
      ]
    },
    {
      "cell_type": "code",
      "execution_count": 1,
      "metadata": {
        "dotnet_interactive": {
          "language": "csharp"
        },
        "vscode": {
          "languageId": "dotnet-interactive.csharp"
        }
      },
      "outputs": [],
      "source": [
        "public class ModelInput\n",
        "{\n",
        "    [LoadColumn(0)]\n",
        "    [ColumnName(@\"vendor_id\")]\n",
        "    public string Vendor_id { get; set; }\n",
        "\n",
        "    [LoadColumn(1)]\n",
        "    [ColumnName(@\"rate_code\")]\n",
        "    public float Rate_code { get; set; }\n",
        "\n",
        "    [LoadColumn(2)]\n",
        "    [ColumnName(@\"passenger_count\")]\n",
        "    public float Passenger_count { get; set; }\n",
        "\n",
        "    [LoadColumn(3)]\n",
        "    [ColumnName(@\"trip_time_in_secs\")]\n",
        "    public float Trip_time_in_secs { get; set; }\n",
        "\n",
        "    [LoadColumn(4)]\n",
        "    [ColumnName(@\"trip_distance\")]\n",
        "    public float Trip_distance { get; set; }\n",
        "\n",
        "    [LoadColumn(5)]\n",
        "    [ColumnName(@\"payment_type\")]\n",
        "    public string Payment_type { get; set; }\n",
        "\n",
        "    [LoadColumn(6)]\n",
        "    [ColumnName(@\"fare_amount\")]\n",
        "    public float Fare_amount { get; set; }\n",
        "\n",
        "}"
      ]
    },
    {
      "cell_type": "markdown",
      "metadata": {},
      "source": [
        "所有 ML.NET 操作都從 [MLContext](https://docs.microsoft.com/dotnet/api/microsoft.ml.mlcontext) 類開始。 初始化 mlContext 會建立一個新的 ML.NET 環境，該環境可以在模型建立工作流物件之間共享。 它在概念上類似於實體框架中的 DBContext。"
      ]
    },
    {
      "cell_type": "code",
      "execution_count": 1,
      "metadata": {
        "dotnet_interactive": {
          "language": "csharp"
        },
        "vscode": {
          "languageId": "dotnet-interactive.csharp"
        }
      },
      "outputs": [],
      "source": [
        "//Create MLContext\n",
        "MLContext mlContext = new MLContext();"
      ]
    },
    {
      "cell_type": "markdown",
      "metadata": {},
      "source": [
        "根據 ModelInput 型別建立一個 [TextLoader](https://docs.microsoft.com/dotnet/api/microsoft.ml.data.textloader?view=ml-dotnet)。 然後使用文字載入器從資料檔案中載入。 至少，載入程式需要被告知檔案是否有標題，以及檔案使用的分隔符。\n",
        "\n",
        "您也可以使用直接方法 [LoadFromTextFile](https://docs.microsoft.com/dotnet/api/microsoft.ml.textloadersavercatalog.loadfromtextfile?view=ml-dotnet)。 TextLoader 的優點是它提供了從不同位置的多個檔案載入檔案的選項。"
      ]
    },
    {
      "cell_type": "code",
      "execution_count": 1,
      "metadata": {
        "dotnet_interactive": {
          "language": "csharp"
        },
        "vscode": {
          "languageId": "dotnet-interactive.csharp"
        }
      },
      "outputs": [],
      "source": [
        "var trainDataPath = EnsureDataSetDownloaded(\"taxi-fare.csv\");\n",
        "\n",
        "// Create TextLoader based on the Model Input type. \n",
        "TextLoader textLoader = mlContext.Data.CreateTextLoader<ModelInput>(separatorChar: ',', hasHeader: true);\n",
        "\n",
        "// Load the data into an IDataView. Load() method can support multiple files. \n",
        "// Files must they have the same separator character, header, column names, etc. \n",
        "IDataView data = textLoader.Load(trainDataPath);\n",
        "\n",
        "data.Preview(1); "
      ]
    },
    {
      "cell_type": "markdown",
      "metadata": {},
      "source": [
        "#### **在記憶體集合中載入**\n",
        "\n",
        "ML.NET 支援從記憶體集合中載入資料。 這使得使用 C# 從 JSON 或 XML 檔案載入變得容易。 瞭解如何 [使用 C# 反序列化 JSON](https://docs.microsoft.com/dotnet/standard/serialization/system-text-json-how-to?pivots=dotnet-6-0#how-to-read-json-as-net-objects-deserialize) 或使用 [XML 序列化程式](https://docs.microsoft.com/dotnet/api/system.xml.serialization?view=net-6.0) 將這些檔案放入記憶體。\n",
        "\n",
        "在記憶體中收集資料後，您可以使用 [LoadFromEnumerable](https://docs.microsoft.com/dotnet/api/microsoft.ml.dataoperationscatalog.loadfromenumerable?view=ml-dotnet) 將其載入到 ML.NET ） 方法。"
      ]
    },
    {
      "cell_type": "code",
      "execution_count": 1,
      "metadata": {
        "dotnet_interactive": {
          "language": "csharp"
        },
        "vscode": {
          "languageId": "dotnet-interactive.csharp"
        }
      },
      "outputs": [],
      "source": [
        "ModelInput[] inMemoryCollection = new ModelInput[]\n",
        "{\n",
        "    new ModelInput\n",
        "    {\n",
        "        Vendor_id = \"CMT\",\n",
        "        Rate_code = 1,\n",
        "        Passenger_count = 1,\n",
        "        Trip_time_in_secs = 1271,\n",
        "        Trip_distance = 3.8f,\n",
        "        Payment_type = \"CRD\",\n",
        "        Fare_amount = 17.5f,\n",
        "    },\n",
        "    new ModelInput\n",
        "    {\n",
        "        Vendor_id = \"VST\",\n",
        "        // missing Rate_code\n",
        "        Passenger_count = 1,\n",
        "        Trip_time_in_secs = 474,\n",
        "        Trip_distance = 1.5f,\n",
        "        Payment_type = \"CSH\",\n",
        "        Fare_amount = 8, \n",
        "    }\n",
        "};"
      ]
    },
    {
      "cell_type": "code",
      "execution_count": 1,
      "metadata": {
        "dotnet_interactive": {
          "language": "csharp"
        },
        "vscode": {
          "languageId": "dotnet-interactive.csharp"
        }
      },
      "outputs": [],
      "source": [
        "// Create MLContext\n",
        "MLContext mlContext = new MLContext();\n",
        "\n",
        "//Load Data\n",
        "IDataView data = mlContext.Data.LoadFromEnumerable<ModelInput>(inMemoryCollection);\n",
        "\n",
        "data.Preview(1);"
      ]
    },
    {
      "cell_type": "markdown",
      "metadata": {},
      "source": [
        "### **DataFrame 和 IDataView 有什麼區別？**\n",
        "\n",
        "您可能聽說過 [DataFrame](https://docs.microsoft.com/dotnet/api/microsoft.data.analysis.dataframe?view=ml-dotnet-preview) 型別。它是另一種用於載入、檢視和操作筆記型電腦常用資料的工具。它實現了一個 IDataView，因此可以輕鬆地將其傳遞給 ML.NET。\n",
        "\n",
        "DataFrame 和 IDataView 在某種意義上非常相似，它們都是以表格格式表示資料併為其應用轉換的方式。一些關鍵區別：\n",
        "\n",
        "- DataFrame 僅支援載入分隔檔案。\n",
        "- DataFrame 在記憶體上執行，因此受限於 PC 上的記憶體量。\n",
        "\n",
        "在對資料樣本執行探索性資料分析等任務時，建議使用 DataFrame。檢視參考筆記本 [REF-資料處理](https://github.com/dotnet/csharp-notebooks/blob/main/machine-learning/REF-Data%20Processing.ipynb) 中使用 Data Frames 的範例操作數據檔案進行訓練。\n",
        "\n",
        "建議使用 IDataView 對較大的資料集進行訓練，以及本筆記本中的範例所使用的內容。在這種情況下，較大的資料集被定義為無法放入記憶體的資料集。"
      ]
    },
    {
      "cell_type": "markdown",
      "metadata": {},
      "source": [
        "## **資料轉換**\n",
        "\n",
        "ML.NET 支援多種資料轉換，可將資料轉換為所需格式並幫助您更正資料。 一些常見的操作是操作列、規範化值、替換缺失值、轉換值等等。\n",
        "\n",
        "有關詳細訊息，請參閱 [資料轉換](https://docs.microsoft.com/dotnet/machine-learning/resources/transforms)。\n",
        "\n",
        "以下是一些常見的轉換。"
      ]
    },
    {
      "cell_type": "markdown",
      "metadata": {},
      "source": [
        "### **分類資料**\n",
        "\n",
        "One Hot 編碼是對包含類別的資料的重要轉換。 ML 演算法要求資料是數字的，它不知道如何處理表示類別的字串。 vendor_id 和 payment_type 列是分類的，vendor 可以是『CMD』或『VST』，payment 可以是『CReDit』或『CaSH』。 One Hot  採用傳入的字串值並將它們轉換為數字資料。"
      ]
    },
    {
      "cell_type": "code",
      "execution_count": 1,
      "metadata": {
        "dotnet_interactive": {
          "language": "csharp"
        },
        "vscode": {
          "languageId": "dotnet-interactive.csharp"
        }
      },
      "outputs": [],
      "source": [
        "var pipeline = mlContext.Transforms.Categorical.OneHotEncoding(\n",
        "    new[] \n",
        "    { new InputOutputColumnPair(@\"vendor_id\"), \n",
        "    new InputOutputColumnPair(@\"payment_type\")},\n",
        "    OneHotEncodingEstimator.OutputKind.Binary); "
      ]
    },
    {
      "cell_type": "markdown",
      "metadata": {},
      "source": [
        "讓我們在 vendor_id 和 payment_type 上測試上述轉換。 結果應該是每個類別的向量值。 對於 Vendor_Id，CMT 變為『000』，VST 變為『001』。 我們將為新轉換的型別建立一個新的 ModelInputTransformed 類。"
      ]
    },
    {
      "cell_type": "code",
      "execution_count": 1,
      "metadata": {
        "dotnet_interactive": {
          "language": "csharp"
        },
        "vscode": {
          "languageId": "dotnet-interactive.csharp"
        }
      },
      "outputs": [],
      "source": [
        "using System.Numerics; \n",
        "\n",
        "public class ModelInputTransformed\n",
        "{\n",
        "    [LoadColumn(0)]\n",
        "    [ColumnName(@\"vendor_id\")]\n",
        "    public VBuffer<Single> Vendor_id { get; set; }\n",
        "\n",
        "    [LoadColumn(1)]\n",
        "    [ColumnName(@\"rate_code\")]\n",
        "    public float Rate_code { get; set; }\n",
        "\n",
        "    [LoadColumn(2)]\n",
        "    [ColumnName(@\"passenger_count\")]\n",
        "    public float Passenger_count { get; set; }\n",
        "\n",
        "    [LoadColumn(3)]\n",
        "    [ColumnName(@\"trip_time_in_secs\")]\n",
        "    public float Trip_time_in_secs { get; set; }\n",
        "\n",
        "    [LoadColumn(4)]\n",
        "    [ColumnName(@\"trip_distance\")]\n",
        "    public float Trip_distance { get; set; }\n",
        "\n",
        "    [LoadColumn(5)]\n",
        "    [ColumnName(@\"payment_type\")]\n",
        "    public VBuffer<Single> Payment_type { get; set; }\n",
        "\n",
        "    [LoadColumn(6)]\n",
        "    [ColumnName(@\"fare_amount\")]\n",
        "    public float Fare_amount { get; set; }\n",
        "}"
      ]
    },
    {
      "cell_type": "code",
      "execution_count": 1,
      "metadata": {
        "dotnet_interactive": {
          "language": "csharp"
        },
        "vscode": {
          "languageId": "dotnet-interactive.csharp"
        }
      },
      "outputs": [
        {
          "data": {
            "text/plain": [
              "0 0 1\t\t0 0 1\r\n"
            ]
          },
          "execution_count": 1,
          "metadata": {},
          "output_type": "execute_result"
        }
      ],
      "source": [
        "// Run the transform\n",
        "IDataView transformedData = pipeline.Fit(data).Transform(data);\n",
        "var convertedData = mlContext.Data.CreateEnumerable<ModelInputTransformed>(transformedData, true);\n",
        "\n",
        "// One Hot Encoding of two columns 'vendor_id' and 'payment_type'.\n",
        "Console.WriteLine(\"Vendor_Id\" +\"\\t\" + \"Payment_Type\"); \n",
        "foreach (ModelInputTransformed item in convertedData)\n",
        "{    \n",
        "    Console.WriteLine(\"{0}\\t\\t{1}\", string.Join(\" \", item.Vendor_id.DenseValues()),\n",
        "                    string.Join(\" \", item.Payment_type.DenseValues()));\n",
        "}"
      ]
    },
    {
      "cell_type": "markdown",
      "metadata": {},
      "source": [
        "### **替換缺失值**\n",
        "\n",
        "另一種常見的操作是替換缺失值。 這裡我們使用預設替換模式，將值替換為其型別的預設值。"
      ]
    },
    {
      "cell_type": "code",
      "execution_count": 1,
      "metadata": {
        "dotnet_interactive": {
          "language": "csharp"
        },
        "vscode": {
          "languageId": "dotnet-interactive.csharp"
        }
      },
      "outputs": [],
      "source": [
        "pipeline.Append(mlContext.Transforms.ReplaceMissingValues(\n",
        "    new[] { new InputOutputColumnPair(@\"rate_code\", @\"rate_code\"), \n",
        "    new InputOutputColumnPair(@\"passenger_count\", @\"passenger_count\"), \n",
        "    new InputOutputColumnPair(@\"trip_time_in_secs\", @\"trip_time_in_secs\"), \n",
        "    new InputOutputColumnPair(@\"trip_distance\", @\"trip_distance\") })); "
      ]
    },
    {
      "cell_type": "markdown",
      "metadata": {},
      "source": [
        "讓我們再執行轉換並檢視填充的值。 我們缺少第二個虛擬物件的 rate_code。"
      ]
    },
    {
      "cell_type": "code",
      "execution_count": 1,
      "metadata": {
        "dotnet_interactive": {
          "language": "csharp"
        },
        "vscode": {
          "languageId": "dotnet-interactive.csharp"
        }
      },
      "outputs": [
        {
          "data": {
            "text/plain": [
              "Rate_code: 0"
            ]
          },
          "execution_count": 1,
          "metadata": {},
          "output_type": "execute_result"
        }
      ],
      "source": [
        "IDataView transformedData = pipeline.Fit(data).Transform(data);\n",
        "var convertedData = mlContext.Data.CreateEnumerable<ModelInputTransformed>(transformedData, true);\n",
        "\n",
        "\"Rate_code: \" + convertedData.ElementAt(1).Rate_code"
      ]
    },
    {
      "cell_type": "markdown",
      "metadata": {},
      "source": [
        "現在讓我們將所有特徵列連線成一個向量列。 許多 ML 訓練器期望特徵是向量型別，因為將操作應用於向量更有效。"
      ]
    },
    {
      "cell_type": "code",
      "execution_count": 1,
      "metadata": {
        "dotnet_interactive": {
          "language": "csharp"
        },
        "vscode": {
          "languageId": "dotnet-interactive.csharp"
        }
      },
      "outputs": [],
      "source": [
        "pipeline.Append(mlContext.Transforms.Concatenate(\n",
        "    @\"Features\", new[] { @\"vendor_id\", @\"payment_type\", @\"rate_code\", @\"passenger_count\", @\"trip_time_in_secs\", @\"trip_distance\" }));"
      ]
    },
    {
      "cell_type": "markdown",
      "metadata": {},
      "source": [
        "我們現在有一個載入的 IDataView 和通道用於訓練。"
      ]
    },
    {
      "cell_type": "markdown",
      "metadata": {},
      "source": [
        "# **進階學習**\n",
        "\n",
        "> [⏩ 下一個學習模組 - 訓練 and AutoML](https://github.com/doggy8088/csharp-notebooks/blob/zh-tw/machine-learning/03-Training%20and%20AutoML.ipynb)  \n",
        "> [⏪ 上一個學習模組 - Intro to Machine Learning](https://github.com/doggy8088/csharp-notebooks/blob/zh-tw/machine-learning/01-Intro%20to%20Machine%20Learning.ipynb)  "
      ]
    }
  ],
  "metadata": {
    "kernelspec": {
      "display_name": ".NET (C#)",
      "language": "C#",
      "name": ".net-csharp"
    },
    "language_info": {
      "file_extension": ".cs",
      "mimetype": "text/x-csharp",
      "name": "C#",
      "pygments_lexer": "csharp",
      "version": "8.0"
    }
  },
  "nbformat": 4,
  "nbformat_minor": 4
}
