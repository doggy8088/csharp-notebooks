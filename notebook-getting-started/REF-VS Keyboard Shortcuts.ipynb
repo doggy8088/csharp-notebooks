{
  "cells": [
    {
      "cell_type": "markdown",
      "metadata": {},
      "source": [
        "# **VS Notebook 編輯器快捷鍵**\n",
        "\n",
        "## **編輯器快捷鍵**\n",
        "這些快捷方式僅在焦點位於 Code 或 Markdown 編輯器內時才有效。 當焦點位於單元格上時，您可以按 『回車』 將焦點移到編輯器中。\n",
        "\n",
        "| 按鍵  |  對應指令 |\n",
        "|----------|------|\n",
        "| ESC | 將焦點移到單元格 |\n",
        "| ctrl+shift+- |  拆分 cell|\n",
        "| ctrl+enter |  執行當前 cell|\n",
        "| shift+enter | 執行當前 cell 並向下移動焦點|\n",
        "\n",
        "## **Cell 快捷鍵**\n",
        "這些快捷方式僅在焦點位於 cell 級別時才有效。 當焦點在編輯器上時，您可以按 ESC 將焦點移動到 cell\n",
        "\n",
        "| 按鍵 |  對應指令 |\n",
        "|----------|------|\n",
        "| ENTER | 將焦點移至編輯器|\n",
        "| K | 焦點向上移動|\n",
        "| J  | 焦點向下移動|\n",
        "| A | 在上方插入 cell|\n",
        "| B | 在下方插入 cell|\n",
        "| DD | 刪除 cell|\n",
        "| Z | 撤銷 |\n",
        "| S | 儲存 |\n",
        "| C |  複製 Cell |\n",
        "| X | 剪下 Cell |\n",
        "| V | 貼上 Cell |\n",
        "| L | 切換行號|\n",
        "| O | 切換輸出|\n",
        "| II | 停止 cell 執行|\n",
        "| 00 | 重啟 kernel|\n",
        "\n"
      ]
    },
    {
      "cell_type": "markdown",
      "metadata": {},
      "source": []
    }
  ],
  "metadata": {
    "kernelspec": {
      "display_name": ".NET (C#)",
      "language": "C#",
      "name": ".net-csharp"
    },
    "language_info": {
      "file_extension": ".cs",
      "mimetype": "text/x-csharp",
      "name": "C#",
      "pygments_lexer": "csharp",
      "version": "8.0"
    }
  },
  "nbformat": 4,
  "nbformat_minor": 4
}
