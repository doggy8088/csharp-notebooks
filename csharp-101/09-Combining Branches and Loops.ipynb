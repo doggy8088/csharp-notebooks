{
  "cells": [
    {
      "cell_type": "markdown",
      "metadata": {},
      "source": [
        "# **挑战：分支和循环结合**\n",
        "\n",
        "观看该模块的教学视频 [C# 101 video](https://www.youtube.com/watch?v=qK7tUpaOXi8&list=PLdo4fOcmZ0oVxKLQCHpiUWun7vlJJvUiN&index=11) \n",
        "\n",
        "这是一个挑战：\n",
        ">\n",
        "> 看看你是否可以编写 C# 代码来找出所有能从 1 到 20 能被 3 整除的整数总和。\n",
        ">\n",
        "首先，在下面的这个笔记本、Visual Studio 或 Visual Studio Code 中自行尝试。"
      ]
    },
    {
      "cell_type": "code",
      "execution_count": null,
      "metadata": {
        "dotnet_interactive": {
          "language": "csharp"
        },
        "vscode": {
          "languageId": "dotnet-interactive.csharp"
        }
      },
      "outputs": [
        {
          "name": "stdout",
          "output_type": "stream",
          "text": [
            "Challenge\r\n"
          ]
        }
      ],
      "source": [
        "Console.WriteLine(\"Challenge\");"
      ]
    },
    {
      "cell_type": "markdown",
      "metadata": {},
      "source": [
        "## **技巧和窍门**\n",
        "\n",
        "- `%` 运算符为您提供除法运算的余数。\n",
        "- `if` 语句为您提供了判断一个数字是否应该是总和的一部分的条件。\n",
        "- `for` 循环可以帮助您对所有数字 1 到 20 重复一系列步骤。\n",
        "- 得到一个奇怪的答案？ 尝试对您的变量进行一些打印语句，以查看它们是否发生了意外变化。\n",
        "\n",
        "## **检查你的答案**\n",
        "\n",
        "你的最终答案应该是 63。\n",
        "\n",
        "## **得到帮助**\n",
        "\n",
        "感觉卡住了？\n",
        "\n",
        "- 观看 [视频](https://www.youtube.com/watch?v=qK7tUpaOXi8&list=PLdo4fOcmZ0oVxKLQCHpiUWun7vlJJvUiN&index=11)，看看有人解决了这个问题。 一旦你感觉到它，试着自己暂停和完成代码！\n",
        "- 检查您的 [答案](https://github.com/dotnet/samples/blob/main/csharp/branches-quickstart/Program.cs#L87-L95)。"
      ]
    },
    {
      "cell_type": "markdown",
      "metadata": {},
      "source": [
        "# **进阶学习**\n",
        "\n",
        "> [⏩ 下一个学习模块 - 数组、列表和集合](https://github.com/kinfey/csharp-notebooks/blob/main/csharp-101/10-Arrays%2C%20Lists%2C%20and%20Collections.ipynb)\n",
        ">\n",
        "> [⏪ 上一个学习模块 - 什么是循环?](https://github.com/kinfey/csharp-notebooks/blob/main/csharp-101/08-What%20Are%20Loops.ipynb)\n",
        ">\n",
        "> [观看教学视频](https://www.youtube.com/watch?v=qK7tUpaOXi8&list=PLdo4fOcmZ0oVxKLQCHpiUWun7vlJJvUiN&index=11)\n",
        ">\n",
        "> [文档: C# 条件语句](https://aka.ms/CSharp.If)\n",
        ">\n",
        "> [文档: C# 循环语句](https://aka.ms/CSharp.Loop)\n",
        ">\n",
        "> [从头学起： 什么是 C# ？](https://www.youtube.com/watch?v=BM4CHBmAPh4&list=PLdo4fOcmZ0oVxKLQCHpiUWun7vlJJvUiN&index=1)"
      ]
    },
    {
      "cell_type": "markdown",
      "metadata": {},
      "source": [
        "# **其他资源**\n",
        "\n",
        "你可以从以下链接中获取\n",
        "> [其他 101 系列的教学视频](https://aka.ms/Videos.dotNET)\n",
        ">\n",
        "> [Microsoft Learn](https://aka.ms/Learn.dotNET)\n",
        ">\n",
        "> [C# 文档](https://aka.ms/Docs.CSharp)"
      ]
    }
  ],
  "metadata": {
    "kernelspec": {
      "display_name": ".NET (C#)",
      "language": "C#",
      "name": ".net-csharp"
    },
    "language_info": {
      "file_extension": ".cs",
      "mimetype": "text/x-csharp",
      "name": "C#",
      "pygments_lexer": "csharp",
      "version": "8.0"
    }
  },
  "nbformat": 4,
  "nbformat_minor": 4
}
