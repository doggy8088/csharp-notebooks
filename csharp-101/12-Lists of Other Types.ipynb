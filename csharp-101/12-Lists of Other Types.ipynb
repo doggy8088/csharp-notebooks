{
  "cells": [
    {
      "cell_type": "markdown",
      "metadata": {},
      "source": [
        "# **其他类型列表**\n",
        "\n",
        "观看该模块的教学视频 [C# 101 video](https://www.youtube.com/watch?v=oIQdb93xewE&list=PLdo4fOcmZ0oVxKLQCHpiUWun7vlJJvUiN&index=14) \n",
        "\n",
        "你一直在练习字符串列表，但你可以列出任何东西！ 这是一个数字示例。\n",
        "\n",
        "## **斐波那契数列**\n",
        "\n",
        "斐波那契是一个很酷的数列。 它将最后两个数字相加得到下一个数字。 你从 1 和 1 开始\n",
        "1 + 1 = 2 (1, 1, 2)\n",
        "1 + 2 = 3 (1, 1, 2, 3)\n",
        "2 + 3 = 5 (1, 1, 2, 3, 5)\n",
        "3 + 5 = 8 (1, 1, 2, 3, 5, 8)\n",
        "等等。 自然界中有很多东西都遵循这个数字序列，如果你想查找的话，还有很多很酷的东西！\n",
        "\n",
        "> 从基数开始：这是一个只有 1、1 的列表。 运行它，看看会发生什么。"
      ]
    },
    {
      "cell_type": "code",
      "execution_count": null,
      "metadata": {
        "dotnet_interactive": {
          "language": "csharp"
        },
        "vscode": {
          "languageId": "dotnet-interactive.csharp"
        }
      },
      "outputs": [
        {
          "name": "stdout",
          "output_type": "stream",
          "text": [
            "1\r\n",
            "1\r\n"
          ]
        }
      ],
      "source": [
        "var fibonacciNumbers = new List<int> {1, 1};\n",
        "\n",
        "foreach (var item in fibonacciNumbers)\n",
        "    Console.WriteLine(item);"
      ]
    },
    {
      "cell_type": "markdown",
      "metadata": {},
      "source": [
        "现在，您不希望只有 1,1！ 你想要更多的序列。 在此代码中，您使用列表的最后两个数字，将它们加在一起形成下一个数字，然后将其添加到列表中。\n",
        "\n",
        "> 运行代码进行尝试。"
      ]
    },
    {
      "cell_type": "code",
      "execution_count": null,
      "metadata": {
        "dotnet_interactive": {
          "language": "csharp"
        },
        "vscode": {
          "languageId": "dotnet-interactive.csharp"
        }
      },
      "outputs": [
        {
          "name": "stdout",
          "output_type": "stream",
          "text": [
            "1\r\n",
            "1\r\n",
            "2\r\n"
          ]
        }
      ],
      "source": [
        "var fibonacciNumbers = new List<int> {1, 1}; // Starting the list off with the basics\n",
        "\n",
        "var previous = fibonacciNumbers[fibonacciNumbers.Count - 1]; // Take the last number in the list\n",
        "var previous2 = fibonacciNumbers[fibonacciNumbers.Count - 2]; // Take the second to last number in the list\n",
        "\n",
        "fibonacciNumbers.Add(previous + previous2); // Add the previous numbers together, and attach the sum to the end of the list\n",
        "\n",
        "foreach (var item in fibonacciNumbers) // Print out the list\n",
        "    Console.WriteLine(item);"
      ]
    },
    {
      "cell_type": "markdown",
      "metadata": {},
      "source": [
        "## **Count -1**\n",
        "\n",
        "为什么需要执行 `fibonacciNumbers.Count -1` 来获取列表的最后一个数字？ 好吧，`Count` 告诉你列表中有多少项目。 但是，项目的索引从零开始。 因此，如果您的列表中只有一个项目，则计数将为 1，但该项目的索引将为 0。最后一项的索引和计数始终为一个。"
      ]
    },
    {
      "cell_type": "markdown",
      "metadata": {},
      "source": [
        "# **挑战一下：求斐波那契数列的第 20 个数字**\n",
        "\n",
        "我们已经为您提供了处理斐波那契的代码库。 你能列出前 20 个斐波那契数列吗？\n",
        "\n",
        "> 制作并打印包含前 20 个斐波那契数字的列表。"
      ]
    },
    {
      "cell_type": "code",
      "execution_count": null,
      "metadata": {
        "dotnet_interactive": {
          "language": "csharp"
        },
        "vscode": {
          "languageId": "dotnet-interactive.csharp"
        }
      },
      "outputs": [
        {
          "name": "stdout",
          "output_type": "stream",
          "text": [
            "Challenge\r\n"
          ]
        }
      ],
      "source": [
        "Console.WriteLine(\"Challenge\");"
      ]
    },
    {
      "cell_type": "markdown",
      "metadata": {},
      "source": [
        "## **技巧和窍门**\n",
        "\n",
        "- 最终数字应为 6765。\n",
        "- 你能做一个“for”循环吗？ 一个“foreach”循环？ 一个`while`循环？ 您更喜欢哪种循环，哪种更有用？\n",
        "- 你接近了，但是一个数字吗？ 这是一个非常普遍的问题！ 请记住，`>` 和 `>=` 是相似的，但它们最终是相互分离的。 试着测试一下\n",
        "- 请记住，您已经从列表中的两个项目开始。\n",
        "- 遇到问题？ 观看此学习模块 [C# 101 视频](https://www.youtube.com/watch?v=oIQdb93xewE&list=PLdo4fOcmZ0oVxKLQCHpiUWun7vlJJvUiN&index=14)。 一旦你有了一个想法，试着暂停一下，然后先尝试运行一下，再继续看其他的。"
      ]
    },
    {
      "cell_type": "markdown",
      "metadata": {},
      "source": [
        "# **进阶学习**\n",
        "\n",
        "\n",
        "> [⏩ 下一个学习模块 - 对象和类 ](https://github.com/kinfey/csharp-notebooks/blob/main/csharp-101/13-Objects%20and%20Classes.ipynb)\n",
        ">\n",
        "> [⏪ 上一个学习模块 - 搜索、排序和索引列表](https://github.com/kinfey/csharp-notebooks/blob/main/csharp-101/11-%20Search%2C%20Sort%2C%20and%20Index%20Lists.ipynb)\n",
        ">\n",
        "> [观看教学视频](https://www.youtube.com/watch?v=oIQdb93xewE&list=PLdo4fOcmZ0oVxKLQCHpiUWun7vlJJvUiN&index=14)\n",
        ">\n",
        "> [文档: 数组、列表和集合](https://aka.ms/CSharp.List)\n",
        ">\n",
        "> [从头学起： 什么是 C# ？](https://www.youtube.com/watch?v=BM4CHBmAPh4&list=PLdo4fOcmZ0oVxKLQCHpiUWun7vlJJvUiN&index=1)"
      ]
    },
    {
      "cell_type": "markdown",
      "metadata": {},
      "source": [
        "# **其他资源**\n",
        "\n",
        "你可以从以下链接中获取\n",
        "> [其他 101 系列的教学视频](https://aka.ms/Videos.dotNET)\n",
        ">\n",
        "> [Microsoft Learn](https://aka.ms/Learn.dotNET)\n",
        ">\n",
        "> [C# 文档](https://aka.ms/Docs.CSharp)"
      ]
    }
  ],
  "metadata": {
    "kernelspec": {
      "display_name": ".NET (C#)",
      "language": "C#",
      "name": ".net-csharp"
    },
    "language_info": {
      "file_extension": ".cs",
      "mimetype": "text/x-csharp",
      "name": "C#",
      "pygments_lexer": "csharp",
      "version": "8.0"
    }
  },
  "nbformat": 4,
  "nbformat_minor": 4
}
