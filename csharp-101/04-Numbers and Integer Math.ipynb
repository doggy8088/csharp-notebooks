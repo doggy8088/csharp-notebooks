{
  "cells": [
    {
      "cell_type": "markdown",
      "metadata": {},
      "source": [
        "# **整數型別介紹**\n",
        "\n",
        "觀看該模組的教學影片 [C# 101 video] (https://www.youtube.com/watch?v=jEE0pWTq54U&list=PLdo4fOcmZ0oVxKLQCHpiUWun7vlJJvUiN&index=5)."
      ]
    },
    {
      "cell_type": "markdown",
      "metadata": {},
      "source": [
        "## **整數型別計算**\n",
        "\n",
        "您在下面定義了一些『整數』。 『整數』是正整數或負整數。\n",
        "> 在執行程式碼之前，c 應該是什麼？"
      ]
    },
    {
      "cell_type": "markdown",
      "metadata": {},
      "source": [
        "## **加法**"
      ]
    },
    {
      "cell_type": "code",
      "execution_count": null,
      "metadata": {
        "dotnet_interactive": {
          "language": "csharp"
        },
        "vscode": {
          "languageId": "dotnet-interactive.csharp"
        }
      },
      "outputs": [
        {
          "name": "stdout",
          "output_type": "stream",
          "text": [
            "24\r\n"
          ]
        }
      ],
      "source": [
        "int a = 18;\n",
        "int b = 6;\n",
        "int c = a + b;\n",
        "Console.WriteLine(c);"
      ]
    },
    {
      "cell_type": "markdown",
      "metadata": {},
      "source": [
        "## **減法**"
      ]
    },
    {
      "cell_type": "code",
      "execution_count": null,
      "metadata": {
        "dotnet_interactive": {
          "language": "csharp"
        },
        "vscode": {
          "languageId": "dotnet-interactive.csharp"
        }
      },
      "outputs": [
        {
          "name": "stdout",
          "output_type": "stream",
          "text": [
            "12\r\n"
          ]
        }
      ],
      "source": [
        "int c = a - b;\n",
        "Console.WriteLine(c);"
      ]
    },
    {
      "cell_type": "markdown",
      "metadata": {},
      "source": [
        "## **乘法**"
      ]
    },
    {
      "cell_type": "code",
      "execution_count": null,
      "metadata": {
        "dotnet_interactive": {
          "language": "csharp"
        },
        "vscode": {
          "languageId": "dotnet-interactive.csharp"
        }
      },
      "outputs": [
        {
          "name": "stdout",
          "output_type": "stream",
          "text": [
            "108\r\n"
          ]
        }
      ],
      "source": [
        "int c = a * b;\n",
        "Console.WriteLine(c);"
      ]
    },
    {
      "cell_type": "markdown",
      "metadata": {},
      "source": [
        "## **除法**"
      ]
    },
    {
      "cell_type": "code",
      "execution_count": null,
      "metadata": {
        "dotnet_interactive": {
          "language": "csharp"
        },
        "vscode": {
          "languageId": "dotnet-interactive.csharp"
        }
      },
      "outputs": [
        {
          "name": "stdout",
          "output_type": "stream",
          "text": [
            "3\r\n"
          ]
        }
      ],
      "source": [
        "int c = a / b;\n",
        "Console.WriteLine(c);"
      ]
    },
    {
      "cell_type": "markdown",
      "metadata": {},
      "source": [
        "# **運算順序**\n",
        "\n",
        "C# 在數學方面遵循運算順序。 也就是說，先乘除後加減。\n",
        "> 如果 C# 不遵循運算順序，而是從左到右進行數學運算，計算會是什麼結果呢？"
      ]
    },
    {
      "cell_type": "code",
      "execution_count": null,
      "metadata": {
        "dotnet_interactive": {
          "language": "csharp"
        },
        "vscode": {
          "languageId": "dotnet-interactive.csharp"
        }
      },
      "outputs": [
        {
          "name": "stdout",
          "output_type": "stream",
          "text": [
            "13\r\n"
          ]
        }
      ],
      "source": [
        "int a = 5;\n",
        "int b = 4;\n",
        "int c = 2;\n",
        "int d = a + b * c;\n",
        "Console.WriteLine(d);"
      ]
    },
    {
      "cell_type": "markdown",
      "metadata": {},
      "source": [
        "## **使用括號**\n",
        "\n",
        "您還可以透過將括號括在您想要先完成的任何事情上來強制執行不同的順序\n",
        "> 試試看"
      ]
    },
    {
      "cell_type": "code",
      "execution_count": null,
      "metadata": {
        "dotnet_interactive": {
          "language": "csharp"
        },
        "vscode": {
          "languageId": "dotnet-interactive.csharp"
        }
      },
      "outputs": [
        {
          "name": "stdout",
          "output_type": "stream",
          "text": [
            "18\r\n"
          ]
        }
      ],
      "source": [
        "int d = (a + b) * c;\n",
        "Console.WriteLine(d);"
      ]
    },
    {
      "cell_type": "markdown",
      "metadata": {},
      "source": [
        "您可以根據需要使計算變得既長又複雜。\n",
        "> 你能讓這條公式更復雜嗎？"
      ]
    },
    {
      "cell_type": "code",
      "execution_count": null,
      "metadata": {
        "dotnet_interactive": {
          "language": "csharp"
        },
        "vscode": {
          "languageId": "dotnet-interactive.csharp"
        }
      },
      "outputs": [
        {
          "name": "stdout",
          "output_type": "stream",
          "text": [
            "25\r\n"
          ]
        }
      ],
      "source": [
        "int d = (a + b) - 6 * c + (12 * 4) / 3 + 12;\n",
        "Console.WriteLine(d);"
      ]
    },
    {
      "cell_type": "markdown",
      "metadata": {},
      "source": [
        "## **全部整數型別計算結果還是整數型別**\n",
        "\n",
        "整數型別數學將始終產生整數型別。 這意味著即使計算中應該產生小數或分數，答案也會被截斷為整數。\n",
        "> 看看下面真正的答案是什麼？"
      ]
    },
    {
      "cell_type": "code",
      "execution_count": null,
      "metadata": {
        "dotnet_interactive": {
          "language": "csharp"
        },
        "vscode": {
          "languageId": "dotnet-interactive.csharp"
        }
      },
      "outputs": [
        {
          "name": "stdout",
          "output_type": "stream",
          "text": [
            "3\r\n"
          ]
        }
      ],
      "source": [
        "int a = 7;\n",
        "int b = 4;\n",
        "int c = 3;\n",
        "int d = (a + b) / c;\n",
        "Console.WriteLine(d);"
      ]
    },
    {
      "cell_type": "markdown",
      "metadata": {},
      "source": [
        "# **Playground：動動手**\n",
        "\n",
        "> 你有任何需要數學的家庭作業或專案嗎？ 嘗試使用程式碼代替計算器！\n",
        ">\n",
        "> 整數型別如何舍入？ \n",
        ">\n",
        "> 操作順序如何運作？ "
      ]
    },
    {
      "cell_type": "code",
      "execution_count": null,
      "metadata": {
        "dotnet_interactive": {
          "language": "csharp"
        },
        "vscode": {
          "languageId": "dotnet-interactive.csharp"
        }
      },
      "outputs": [
        {
          "name": "stdout",
          "output_type": "stream",
          "text": [
            "Playground\r\n"
          ]
        }
      ],
      "source": [
        "Console.WriteLine(\"Playground\");"
      ]
    },
    {
      "cell_type": "markdown",
      "metadata": {},
      "source": [
        "# **進階學習**\n",
        "\n",
        "有非常多的資源給大家學習，不要錯過!\n",
        "> [⏩ 下一個學習模組 - 雙精度型別介紹](https://github.com/doggy8088/csharp-notebooks/blob/zh-tw/csharp-101/05-Numbers%20and%20Integer%20Precision.ipynb)\n",
        ">\n",
        "> [⏪ 上一個學習模組 - 查詢字串](https://github.com/doggy8088/csharp-notebooks/blob/zh-tw/csharp-101/03-Searching%20Strings.ipynb)\n",
        ">\n",
        "> [觀看教學影片](https://www.youtube.com/watch?v=jEE0pWTq54U&list=PLdo4fOcmZ0oVxKLQCHpiUWun7vlJJvUiN&index=5)\n",
        ">\n",
        "> [文件: C# 整數和浮點數](https://aka.ms/CSharp.Numbers)\n",
        ">\n",
        "> [從頭學起： 什麼是 C# ？](https://www.youtube.com/watch?v=BM4CHBmAPh4&list=PLdo4fOcmZ0oVxKLQCHpiUWun7vlJJvUiN&index=1)"
      ]
    },
    {
      "cell_type": "markdown",
      "metadata": {},
      "source": [
        "# **其他資源**\n",
        "\n",
        "你可以從以下連結中獲取\n",
        "> [其他 101 系列的教學影片](https://aka.ms/Videos.dotNET)\n",
        ">\n",
        "> [Microsoft Learn](https://aka.ms/Learn.dotNET)\n",
        ">\n",
        "> [C# 文件](https://aka.ms/Docs.CSharp)"
      ]
    }
  ],
  "metadata": {
    "kernelspec": {
      "display_name": ".NET (C#)",
      "language": "C#",
      "name": ".net-csharp"
    },
    "language_info": {
      "file_extension": ".cs",
      "mimetype": "text/x-csharp",
      "name": "C#",
      "pygments_lexer": "csharp",
      "version": "8.0"
    }
  },
  "nbformat": 4,
  "nbformat_minor": 4
}
