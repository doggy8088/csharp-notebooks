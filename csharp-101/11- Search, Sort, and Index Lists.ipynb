{
  "cells": [
    {
      "cell_type": "markdown",
      "metadata": {},
      "source": [
        "# **搜尋、排序和索引清單**\n",
        "\n",
        "觀看該模組的教學影片 [C# 101 video](https://www.youtube.com/watch?v=NJ5ghiutzfY&list=PLdo4fOcmZ0oVxKLQCHpiUWun7vlJJvUiN&index=13) "
      ]
    },
    {
      "cell_type": "markdown",
      "metadata": {},
      "source": [
        "## **搜尋**\n",
        "\n",
        "在上一個筆記本中，您學習瞭如何查詢儲存在特定索引處的專案。 現在，給定一個專案，找出它的索引。\n",
        "\n",
        "> 執行程式碼\n",
        ">\n",
        "> 索菲亞的索引是多少？\n",
        ">\n",
        "> 『斯科特』的索引是什麼？"
      ]
    },
    {
      "cell_type": "code",
      "execution_count": null,
      "metadata": {
        "dotnet_interactive": {
          "language": "csharp"
        },
        "vscode": {
          "languageId": "dotnet-interactive.csharp"
        }
      },
      "outputs": [
        {
          "name": "stdout",
          "output_type": "stream",
          "text": [
            "Found Ana at 1\r\n"
          ]
        }
      ],
      "source": [
        "using System;\n",
        "using System.Collections.Generic;\n",
        "var names = new List<string> { \"Sophia\", \"Ana\", \"Jayme\", \"Bill\" };\n",
        "string name = \"Ana\";\n",
        "var index = names.IndexOf(name);\n",
        "Console.WriteLine($\"Found {name} at {index}\");"
      ]
    },
    {
      "cell_type": "markdown",
      "metadata": {},
      "source": [
        "## **回傳 -1 是什麼意思**\n",
        "\n",
        "如果 `IndexOf()` 回傳 -1，則意味著它無法在清單中找到該專案。 事實上，你可以做一些 if 語句來解決找不到專案的問題：\n",
        "\n",
        "> 執行程式碼。\n",
        ">\n",
        "> 嘗試幾個不同的名稱。"
      ]
    },
    {
      "cell_type": "code",
      "execution_count": null,
      "metadata": {
        "dotnet_interactive": {
          "language": "csharp"
        },
        "vscode": {
          "languageId": "dotnet-interactive.csharp"
        }
      },
      "outputs": [
        {
          "name": "stdout",
          "output_type": "stream",
          "text": [
            "Scott not found\r\n"
          ]
        }
      ],
      "source": [
        "var names = new List<string> { \"Sophia\", \"Ana\", \"Jayme\", \"Bill\" };\n",
        "string name = \"Scott\";\n",
        "var index = names.IndexOf(name);\n",
        "if(index == -1){\n",
        "    Console.WriteLine($\"{name} not found\");\n",
        "} else {\n",
        "    Console.WriteLine($\"Found {names[index]} at {index}\");\n",
        "}"
      ]
    },
    {
      "cell_type": "markdown",
      "metadata": {},
      "source": [
        "## **排序**\n",
        "\n",
        "到目前為止，您只是按隨機順序輸入名稱。 但有時對清單進行排序會很好。 `Sort()` 獲取一個清單並對其進行組織。 它檢視變數型別並以它所能看到的最合理的方式組織 - 如果是字串，它會按字母順序排序，如果是數字，它會從最小到最大組織。\n",
        "\n",
        "注意你不需要寫`sortedList = names.Sort()`，你只需要寫`names.Sort()`。 `Sort()` 更改清單本身，您不必將操作儲存到新物件。\n",
        "\n",
        "> 執行程式碼！\n",
        ">\n",
        "> 隨意新增任何其他名稱以檢視它們是否被排序。"
      ]
    },
    {
      "cell_type": "code",
      "execution_count": null,
      "metadata": {
        "dotnet_interactive": {
          "language": "csharp"
        },
        "vscode": {
          "languageId": "dotnet-interactive.csharp"
        }
      },
      "outputs": [
        {
          "name": "stdout",
          "output_type": "stream",
          "text": [
            "Pre Sorting:\r\n",
            "Sophia\r\n",
            "Ana\r\n",
            "Jayme\r\n",
            "Bill\r\n",
            "\r\n",
            "Post Sorting:\r\n",
            "Ana\r\n",
            "Bill\r\n",
            "Jayme\r\n",
            "Sophia\r\n"
          ]
        }
      ],
      "source": [
        "var names = new List<string> { \"Sophia\", \"Ana\", \"Jayme\", \"Bill\" };\n",
        "Console.WriteLine(\"Pre Sorting:\");\n",
        "foreach(var name in names )\n",
        "{\n",
        "    Console.WriteLine(name);\n",
        "}\n",
        "\n",
        "names.Sort();\n",
        "\n",
        "Console.WriteLine();\n",
        "Console.WriteLine(\"Post Sorting:\");\n",
        "foreach(var name in names )\n",
        "{\n",
        "    Console.WriteLine(name);\n",
        "}"
      ]
    },
    {
      "cell_type": "markdown",
      "metadata": {},
      "source": [
        "# **Playground：動動手**\n",
        "\n",
        "> 列出雜貨清單，然後分類！ 『胡蘿蔔』的索引是多少？\n",
        ">\n",
        "> 嘗試製作一個數字清單！ 它們是否按照您期望的方式排序？\n",
        ">\n",
        "> 列印出您製作的清單。"
      ]
    },
    {
      "cell_type": "code",
      "execution_count": null,
      "metadata": {
        "dotnet_interactive": {
          "language": "csharp"
        },
        "vscode": {
          "languageId": "dotnet-interactive.csharp"
        }
      },
      "outputs": [
        {
          "name": "stdout",
          "output_type": "stream",
          "text": [
            "Playground\r\n"
          ]
        }
      ],
      "source": [
        "Console.WriteLine(\"Playground\");"
      ]
    },
    {
      "cell_type": "markdown",
      "metadata": {},
      "source": [
        "# **進階學習**\n",
        "\n",
        "\n",
        "> [⏩ 下一個學習模組 - 其他型別清單](https://github.com/doggy8088/csharp-notebooks/blob/zh-tw/csharp-101/12-Lists%20of%20Other%20Types.ipynb)\n",
        ">\n",
        "> [⏪ 上一個學習模組 - 陣列、清單和集合](https://github.com/doggy8088/csharp-notebooks/blob/zh-tw/csharp-101/10-Arrays%2C%20Lists%2C%20and%20Collections.ipynb)\n",
        ">\n",
        "> [觀看教學影片](https://www.youtube.com/watch?v=NJ5ghiutzfY&list=PLdo4fOcmZ0oVxKLQCHpiUWun7vlJJvUiN&index=13)\n",
        ">\n",
        "> [文件: 陣列、清單和集合](https://aka.ms/CSharp.List)\n",
        ">\n",
        "> [從頭學起： 什麼是 C# ？](https://www.youtube.com/watch?v=BM4CHBmAPh4&list=PLdo4fOcmZ0oVxKLQCHpiUWun7vlJJvUiN&index=1)"
      ]
    },
    {
      "cell_type": "markdown",
      "metadata": {},
      "source": [
        "# **其他資源**\n",
        "\n",
        "你可以從以下連結中獲取\n",
        "> [其他 101 系列的教學影片](https://aka.ms/Videos.dotNET)\n",
        ">\n",
        "> [Microsoft Learn](https://aka.ms/Learn.dotNET)\n",
        ">\n",
        "> [C# 文件](https://aka.ms/Docs.CSharp)"
      ]
    }
  ],
  "metadata": {
    "kernelspec": {
      "display_name": ".NET (C#)",
      "language": "C#",
      "name": ".net-csharp"
    },
    "language_info": {
      "file_extension": ".cs",
      "mimetype": "text/x-csharp",
      "name": "C#",
      "pygments_lexer": "csharp",
      "version": "8.0"
    }
  },
  "nbformat": 4,
  "nbformat_minor": 4
}
