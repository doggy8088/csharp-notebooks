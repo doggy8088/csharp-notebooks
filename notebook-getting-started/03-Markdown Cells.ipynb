{
  "cells": [
    {
      "cell_type": "markdown",
      "metadata": {},
      "source": [
        "# **Markdown Cells**\n",
        "\n",
        "Markdown 单元可以与代码单元混合，将 Notebooks 变成教程，或者只是为一段代码提供说明。 如需完整的 Markdown 文档集，请查看 [markdownguide.org](https://www.markdownguide.org/)\n",
        "\n",
        "点击以下 Markdown Cells 的编辑按钮查看相关功能的表示方式 ![Edit Button](https://github.com/JakeRadMSFT/csharp-notebooks/raw/main/notebook-getting-started/images/edit%20markdown.png) \n"
      ]
    },
    {
      "cell_type": "markdown",
      "metadata": {},
      "source": [
        "# **标题**\n",
        "# H1  \n",
        "## H2  \n",
        "### H3  \n",
        "#### H4  \n",
        "##### H5  \n",
        "###### H6  "
      ]
    },
    {
      "cell_type": "markdown",
      "metadata": {},
      "source": [
        "# **段落**\n",
        "\n",
        "这是段落中的一行。\n",
        "\n",
        "这是下一段！"
      ]
    },
    {
      "cell_type": "markdown",
      "metadata": {},
      "source": [
        "# **换行符**\n",
        "一行末尾的两个空格有效。  \n",
        "第二行。"
      ]
    },
    {
      "cell_type": "markdown",
      "metadata": {},
      "source": [
        "# 重点提示\n",
        "这是 **加粗文本**.  \n",
        "这是 *斜体文本*.  \n",
        "这是 ~~删除线文本~~.  \n",
        "这是 ==突出显示的文本==.  \n",
        "这是水的表示方式 - H~2~0  \n",
        "这是 x * x 的表示方式 - X^2^\n"
      ]
    },
    {
      "cell_type": "markdown",
      "metadata": {},
      "source": [
        "# 块引用\n",
        "\n",
        "> 所有这些文本都将被引用。\n",
        ">\n",
        "> 这将在同一个块引用中。\n",
        ">\n",
        ">> 这将是一个嵌套的块引用。"
      ]
    },
    {
      "cell_type": "markdown",
      "metadata": {},
      "source": [
        "# **列表***\n",
        "\n",
        "## **有序列表**\n",
        "\n",
        "1. First item\n",
        "1. Second item\n",
        "1. Third item\n",
        "1. Fourth item\n",
        "\n",
        "## **无序列表**\n",
        "- First item\n",
        "- Second item\n",
        "- Third item\n",
        "- Fourth item\n",
        "\n",
        "## **嵌套列表**\n",
        "\n",
        "1. First item\n",
        "    - First item\n",
        "    - Second item\n",
        "    - Third item\n",
        "    - Fourth item\n",
        "1. Second item\n",
        "1. Third item\n",
        "1. Fourth item"
      ]
    },
    {
      "cell_type": "markdown",
      "metadata": {},
      "source": [
        "# **代码**\n",
        "\n",
        "`var x = 5;`\n",
        "\n",
        "To output text try `Console.WriteLine`\n",
        "\n",
        "```\n",
        "{\n",
        "  \"firstName\": \"Hello\",\n",
        "  \"lastName\": \"World\",\n",
        "}\n",
        "```"
      ]
    },
    {
      "cell_type": "markdown",
      "metadata": {},
      "source": [
        "# **水平规则**\n",
        "\n",
        "***\n",
        "---\n",
        "________________"
      ]
    },
    {
      "cell_type": "markdown",
      "metadata": {},
      "source": [
        "# **超链接**\n",
        "\n",
        "[This Notebook](https://github.com/JakeRadMSFT/csharp-notebooks/blob/main/notebook-getting-started/03-Markdown%20Cells.ipynb)"
      ]
    },
    {
      "cell_type": "markdown",
      "metadata": {},
      "source": [
        "# **图片**\n",
        "\n",
        "Play Button: ![Play Button](https://github.com/JakeRadMSFT/csharp-notebooks/raw/main/notebook-getting-started/images/play.png)"
      ]
    },
    {
      "cell_type": "markdown",
      "metadata": {},
      "source": [
        "# **表格**\n",
        "\n",
        "| Column 1 (Aligned Left) | Column 2 (Aligned Center) | Column 3 (Aligned Right)     |\n",
        "| :---        |    :----:   |          ---: |\n",
        "| Row 1 | Value       | Value   |\n",
        "| Row 2 | Value      | Value      |"
      ]
    }
  ],
  "metadata": {
    "kernelspec": {
      "display_name": ".NET (C#)",
      "language": "C#",
      "name": ".net-csharp"
    },
    "language_info": {
      "file_extension": ".cs",
      "mimetype": "text/x-csharp",
      "name": "C#",
      "pygments_lexer": "csharp",
      "version": "8.0"
    }
  },
  "nbformat": 4,
  "nbformat_minor": 4
}
