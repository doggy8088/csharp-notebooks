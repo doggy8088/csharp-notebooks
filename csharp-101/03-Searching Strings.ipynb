{
  "cells": [
    {
      "cell_type": "markdown",
      "metadata": {},
      "source": [
        "# **查詢字串**\n",
        "\n",
        "觀看該模組的教學影片 [C# 101 video](https://www.youtube.com/watch?v=JL30gSE3WaQ&list=PLdo4fOcmZ0oVxKLQCHpiUWun7vlJJvUiN&index=4)"
      ]
    },
    {
      "cell_type": "markdown",
      "metadata": {},
      "source": [
        "## **包含**\n",
        "\n",
        "您的字串中是否包含另一個字串？ 您可以使用 `Contains` 來找出答案！\n",
        "`Contains` 方法回傳一個 *boolean*。 這是一種由關鍵字 `bool` 表示的型別，它可以包含兩個值：`true` 或 `false`。 在這種情況下，當找到尋找的字串時，該方法回傳『true』，如果沒有找到，則回傳『false』。\n",
        "> 執行以下程式碼。\n",
        ">\n",
        "> 有什麼會或不會被包含？\n",
        ">\n",
        "> 有沒有特別的情況？\n",
        ">\n",
        "> 你能儲存 `Contains` 方法的回傳值嗎> 記住結果的型別是 `bool`。"
      ]
    },
    {
      "cell_type": "code",
      "execution_count": null,
      "metadata": {
        "dotnet_interactive": {
          "language": "csharp"
        },
        "vscode": {
          "languageId": "dotnet-interactive.csharp"
        }
      },
      "outputs": [
        {
          "name": "stdout",
          "output_type": "stream",
          "text": [
            "True\r\n",
            "False\r\n"
          ]
        }
      ],
      "source": [
        "string songLyrics = \"You say goodbye, and I say hello\";\n",
        "Console.WriteLine(songLyrics.Contains(\"goodbye\"));\n",
        "Console.WriteLine(songLyrics.Contains(\"greetings\"));"
      ]
    },
    {
      "cell_type": "markdown",
      "metadata": {},
      "source": [
        "## **開頭與結尾的檢查**\n",
        "\n",
        "`StartsWith` 和 `EndsWith` 是類似於 `Contains` 的方法，但更具體。 它們會告訴您字串是否以您正在檢查的字串開頭或結尾。 它與 `Contains` 具有相同的結構，即：`bigstring.StartsWith(substring)`\n",
        "> 在下面的程式碼中，嘗試搜尋該行以檢視它是以『you』還是『I』開頭的。\n",
        "> 接下來看看程式碼是以『hello』還是『goodbye』結尾的。"
      ]
    },
    {
      "cell_type": "code",
      "execution_count": null,
      "metadata": {
        "dotnet_interactive": {
          "language": "csharp"
        },
        "vscode": {
          "languageId": "dotnet-interactive.csharp"
        }
      },
      "outputs": [],
      "source": [
        "string songLyrics = \"You say goodbye, and I say hello\";"
      ]
    },
    {
      "cell_type": "markdown",
      "metadata": {},
      "source": [
        "# **Playground：動動手**\n",
        "\n",
        "練習一下：\n",
        "> 有哪些行包含了\"hello\"？\n",
        "> 哪些行以『你』開頭？\n",
        "> 哪些行以『否』結尾？\n",
        "> 回想上一個模組。 你能把一些行全大寫，一些行全小寫嗎？\n",
        "> 如果你改變大小寫，這對『Contains』有什麼影響？"
      ]
    },
    {
      "cell_type": "code",
      "execution_count": null,
      "metadata": {
        "dotnet_interactive": {
          "language": "csharp"
        },
        "vscode": {
          "languageId": "dotnet-interactive.csharp"
        }
      },
      "outputs": [
        {
          "name": "stdout",
          "output_type": "stream",
          "text": [
            "Playground\r\n"
          ]
        }
      ],
      "source": [
        "Console.WriteLine(\"Playground\");\n",
        "String line1 = \"You say yes, I say no\";\n",
        "String line2 = \"You say stop and I say go, go, go\";\n",
        "String line3 = \"Oh, no\";\n",
        "String line4 = \"You say goodbye and I say hello\";\n",
        "String line5 = \"Hello, hello\";\n",
        "String line6 = \"I don't know why you say goodbye, I say hello\";"
      ]
    },
    {
      "cell_type": "markdown",
      "metadata": {},
      "source": [
        "# **進階學習**\n",
        "\n",
        "有非常多的資源給大家學習，不要錯過!\n",
        "> [⏩ 下一個學習模組 - 整形介紹](https://github.com/doggy8088/csharp-notebooks/blob/zh-tw/csharp-101/04-Numbers%20and%20Integer%20Math.ipynb)\n",
        ">\n",
        "> [⏪ 上一個學習模組 - 字串基礎](https://github.com/doggy8088/csharp-notebooks/blob/zh-tw/csharp-101/02-The%20Basics%20of%20Strings.ipynb)\n",
        ">\n",
        "> [觀看教學影片](https://www.youtube.com/watch?v=JL30gSE3WaQ&list=PLdo4fOcmZ0oVxKLQCHpiUWun7vlJJvUiN&index=4)\n",
        ">\n",
        "> [文件: C# 介紹](https://docs.microsoft.com/dotnet/csharp/tour-of-csharp/tutorials/hello-world?WT.mc_id=csharpnotebook-35129-website)\n",
        ">\n",
        "> [從頭學起： 什麼是 C# ？](https://www.youtube.com/watch?v=BM4CHBmAPh4&list=PLdo4fOcmZ0oVxKLQCHpiUWun7vlJJvUiN&index=1)"
      ]
    },
    {
      "cell_type": "markdown",
      "metadata": {},
      "source": [
        "# **其他資源**\n",
        "\n",
        "你可以從以下連結中獲取\n",
        "> [其他 101 系列的教學影片](https://aka.ms/Videos.dotNET)\n",
        ">\n",
        "> [Microsoft Learn](https://aka.ms/Learn.dotNET)\n",
        ">\n",
        "> [C# 文件](https://aka.ms/Docs.CSharp)"
      ]
    }
  ],
  "metadata": {
    "kernelspec": {
      "display_name": ".NET (C#)",
      "language": "C#",
      "name": ".net-csharp"
    },
    "language_info": {
      "file_extension": ".cs",
      "mimetype": "text/x-csharp",
      "name": "C#",
      "pygments_lexer": "csharp",
      "version": "8.0"
    }
  },
  "nbformat": 4,
  "nbformat_minor": 4
}
