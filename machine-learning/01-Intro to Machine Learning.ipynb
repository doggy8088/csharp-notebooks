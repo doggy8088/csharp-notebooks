{
  "cells": [
    {
      "cell_type": "markdown",
      "metadata": {},
      "source": [
        "# **机器学习简介**\n",
        "\n",
        "在这个 Notebook 中，我们将介绍：\n",
        "- 什么是机器学习？\n",
        "- 需要执行哪些步骤？\n",
        "- 'Hello ML.NET World' - 训练你的第一个 ML.NET 模型。"
      ]
    },
    {
      "cell_type": "markdown",
      "metadata": {},
      "source": [
        "## **什么是机器学习？**\n",
        "\n",
        "\n",
        "```\n",
        "var size = new HouseData() { Size = 2.5F };\n",
        "var price = predictionEngine.Predict(大小);\n",
        "```\n",
        "\n",
        "上面的代码展示了如何使用已经训练好的模型。 训练模型的最终结果是一个函数，你可以将一些数据“HouseData.Size”传递给模型，它会给你一个预测——“Prediction.Price”。\n",
        "\n",
        "上面是一个简单的例子（可能太简单了），但是模型可以接受更多的值。 例如 - [出租车数据集的价值预测/回归](https://ntbk.io/ml-e2e-taxi) --\n",
        "是一个更复杂的例子，它接受`vendor_id`、`rate_code`、`passenger_count`、`trip_time_in_secs`、`trip_distance`、`payment_type`，然后预测`fare_amount`。\n",
        "\n",
        "### **你是如何创建这个函数的？**\n",
        "机器学习通过提供算法数据并使用统计数据来预测值来创建或训练该模型。 更多细节和示例如下！"
      ]
    },
    {
      "cell_type": "markdown",
      "metadata": {},
      "source": [
        "## **需要执行哪些步骤？**\n",
        "\n",
        "1. **获取和准备训练数据**\n",
        "  为了训练模型，我们需要标记数据。标记数据仅表示数据集中已经具有要预测的列的一堆数据，以便训练算法可以学习预测值。\n",
        "1. **选择训练算法并训练**\n",
        "    >**剧透**\n",
        "    >在我们的大多数示例中，我们将使用 AutoML 来简化此过程。 AutoML 策略性地为给定任务尝试各种算法和参数，以找出最适合您的数据的算法和参数！\n",
        "    >\n",
        "    >你可以把它想象成一个花哨的 for 循环来尝试所有的选项。我们的 AutoML 比这更聪明一些……但这基本上就是它的作用！\n",
        "    >\n",
        "    > 对于下面的示例，我们将训练一个特定的算法 - 这样您就可以看到它是如何工作的！\n",
        "    1. 选择一个任务 - [ML.NET 任务](https://docs.microsoft.com/dotnet/machine-learning/resources/tasks)\n",
        "    1. 选择一种算法 - [ML.NET 算法](https://docs.microsoft.com/dotnet/machine-learning/how-to-choose-an-ml-net-algorithm)\n",
        "    1. 设置算法参数【词汇表-超参数】(https://docs.microsoft.com/dotnet/machine-learning/resources/glossary#hyperparameter)\n",
        "    1. 训练——\n",
        "        这是数据实际上被馈送到算法以训练模型的地方。这可能需要一些时间，具体取决于数据量、算法和该算法的参数。\n",
        "\n",
        "1. **评估**\n",
        "  一旦你训练了一个模型——你怎么知道它是有效的？有很多技术可以评估模型的性能。如果您想更深入地了解 - Checkout [Evaluation Metrics](https://docs.microsoft.com/dotnet/machine-learning/resources/metrics)。否则，我们将在这些教程中提供示例。\n",
        "1. **部署**\n",
        "  在你训练了一个模型之后......它只是 .NET 代码！构建它 交付它 - 但是您当前部署您的应用程序。"
      ]
    },
    {
      "cell_type": "markdown",
      "metadata": {},
      "source": [
        "## 我该如何入门？\n",
        "下面我们快速介绍一下 ML.NET——“Hello ML.NET World！” 该系列接下来的三个 Notebook 将分别深入探讨 [数据准备和特征工程](https://github.com/kinfey/csharp-notebooks/blob/main/machine-learning/02-Data%20Preparation%20and%20Feature%20Engineering.ipynb)、[训练和 AutoML](https://github.com/kinfey/csharp-notebooks/blob/main/machine-learning/03-Training%20and%20AutoML.ipynb) 和 [模型评估](https://github.com/kinfey/csharp-notebooks/blob/main/machine-learning/04-Model%20Evaluation.ipynb)"
      ]
    },
    {
      "cell_type": "markdown",
      "metadata": {},
      "source": [
        "# **Hello ML.NET World!**\n",
        "以下片段中的代码演示了最简单的 ML.NET 应用程序。 此示例构建了一个线性回归模型，以使用房屋大小和价格数据来预测房价。\n",
        "\n",
        "第一步是引用 [Microsoft.ML](https://www.nuget.org/packages/Microsoft.ML/) 包。\n",
        "\n",
        "关于这个 Notebook，我们在包引用中添加引用如下："
      ]
    },
    {
      "cell_type": "code",
      "execution_count": 1,
      "metadata": {
        "dotnet_interactive": {
          "language": "csharp"
        },
        "vscode": {
          "languageId": "dotnet-interactive.csharp"
        }
      },
      "outputs": [
        {
          "data": {
            "text/html": [
              "<div><div></div><div></div><div><strong>Installed Packages</strong><ul><li><span>Microsoft.ML, 2.0.0-preview.22356.1</span></li></ul></div></div>"
            ]
          },
          "execution_count": 1,
          "metadata": {},
          "output_type": "execute_result"
        }
      ],
      "source": [
        "#i \"nuget:https://pkgs.dev.azure.com/dnceng/public/_packaging/MachineLearning/nuget/v3/index.json\"\n",
        "#r \"nuget: Microsoft.ML, 2.0.0-preview.22356.1\""
      ]
    },
    {
      "cell_type": "markdown",
      "metadata": {},
      "source": [
        "第二步是引用 ML.NET 命名空间："
      ]
    },
    {
      "cell_type": "code",
      "execution_count": 1,
      "metadata": {
        "dotnet_interactive": {
          "language": "csharp"
        },
        "vscode": {
          "languageId": "dotnet-interactive.csharp"
        }
      },
      "outputs": [],
      "source": [
        "using Microsoft.ML;\n",
        "using Microsoft.ML.Data;"
      ]
    },
    {
      "cell_type": "markdown",
      "metadata": {},
      "source": [
        "现在我们准备编写代码来实现我们需要做的机器学习任务。 始终从创建 [MLContext](https://docs.microsoft.com/dotnet/api/microsoft.ml.mlcontext?view=ml-dotnet) 开始，这是所有 ML.NET 操作的通用的做法"
      ]
    },
    {
      "cell_type": "code",
      "execution_count": 1,
      "metadata": {
        "dotnet_interactive": {
          "language": "csharp"
        },
        "vscode": {
          "languageId": "dotnet-interactive.csharp"
        }
      },
      "outputs": [],
      "source": [
        "MLContext mlContext = new MLContext();"
      ]
    },
    {
      "cell_type": "markdown",
      "metadata": {},
      "source": [
        "下一步是为我们要使用的数据定义数据结构。 这个样本是关于房屋预测价格的。 开始定义以下包含房屋大小和价格的数据结构："
      ]
    },
    {
      "cell_type": "code",
      "execution_count": 1,
      "metadata": {
        "dotnet_interactive": {
          "language": "csharp"
        },
        "vscode": {
          "languageId": "dotnet-interactive.csharp"
        }
      },
      "outputs": [],
      "source": [
        "public class HouseData\n",
        "{\n",
        "    public float Size { get; set; }\n",
        "    public float Price { get; set; }\n",
        "}"
      ]
    },
    {
      "cell_type": "markdown",
      "metadata": {},
      "source": [
        "然后定义房价预测数据结构"
      ]
    },
    {
      "cell_type": "code",
      "execution_count": 1,
      "metadata": {
        "dotnet_interactive": {
          "language": "csharp"
        },
        "vscode": {
          "languageId": "dotnet-interactive.csharp"
        }
      },
      "outputs": [],
      "source": [
        "public class Prediction\n",
        "{\n",
        "    [ColumnName(\"Score\")]\n",
        "    public float Price { get; set; }\n",
        "}"
      ]
    },
    {
      "cell_type": "markdown",
      "metadata": {},
      "source": [
        "现在我们准备好训练我们将用于房价预测场景的预先收集的数据"
      ]
    },
    {
      "cell_type": "code",
      "execution_count": 1,
      "metadata": {
        "dotnet_interactive": {
          "language": "csharp"
        },
        "vscode": {
          "languageId": "dotnet-interactive.csharp"
        }
      },
      "outputs": [],
      "source": [
        "HouseData[] houseData = {\n",
        "    new HouseData() { Size = 1.1F, Price = 1.2F },\n",
        "    new HouseData() { Size = 1.9F, Price = 2.3F },\n",
        "    new HouseData() { Size = 2.8F, Price = 3.0F },\n",
        "    new HouseData() { Size = 3.4F, Price = 3.7F } };"
      ]
    },
    {
      "cell_type": "markdown",
      "metadata": {},
      "source": [
        "Using the `MLContext` we previously created, load the training data into ML.NET [IDataView](https://docs.microsoft.com/dotnet/api/microsoft.ml.idataview?view=ml-dotnet) which is the fundamental ML.NET data type"
      ]
    },
    {
      "cell_type": "code",
      "execution_count": 1,
      "metadata": {
        "dotnet_interactive": {
          "language": "csharp"
        },
        "vscode": {
          "languageId": "dotnet-interactive.csharp"
        }
      },
      "outputs": [],
      "source": [
        "IDataView trainingData = mlContext.Data.LoadFromEnumerable(houseData);"
      ]
    },
    {
      "cell_type": "markdown",
      "metadata": {},
      "source": [
        "使用我们之前创建的“MLContext”，将训练数据加载到 ML.NET [IDataView](https://docs.microsoft.com/dotnet/api/microsoft.ml.idataview?view=ml-dotnet) "
      ]
    },
    {
      "cell_type": "code",
      "execution_count": 1,
      "metadata": {
        "dotnet_interactive": {
          "language": "csharp"
        },
        "vscode": {
          "languageId": "dotnet-interactive.csharp"
        }
      },
      "outputs": [],
      "source": [
        "// 2. Specify data preparation and model training pipeline\n",
        "var pipeline = mlContext.Transforms.Concatenate(\"Features\", new[] { \"Size\" })\n",
        "               .Append(mlContext.Regression.Trainers.Sdca(labelColumnName: \"Price\", maximumNumberOfIterations: 100));"
      ]
    },
    {
      "cell_type": "markdown",
      "metadata": {},
      "source": [
        "创建估算器后，我们准备将管道中定义的转换和训练器应用于数据。 为此，请调用 [Fit](https://docs.microsoft.com/dotnet/api/microsoft.ml.iestimator-1.fit?view=ml-dotnet) 方法。"
      ]
    },
    {
      "cell_type": "code",
      "execution_count": 1,
      "metadata": {
        "dotnet_interactive": {
          "language": "csharp"
        },
        "vscode": {
          "languageId": "dotnet-interactive.csharp"
        }
      },
      "outputs": [],
      "source": [
        "var model = pipeline.Fit(trainingData);"
      ]
    },
    {
      "cell_type": "markdown",
      "metadata": {},
      "source": [
        "现在我们可以评估训练好的模型。 方法是加载准备好的测试数据，然后调用 [Evaluate](https://docs.microsoft.com/dotnet/api/microsoft.ml.regressioncatalog.evaluate?view=ml-dotnet) 方法， 然后打印[确定系数](https://en.wikipedia.org/wiki/Coefficient_of_determination) 以了解如何使用测试数据拟合模型。 确定系数越接近 1，模型拟合效果越好。 重复训练和评估步骤，直到从训练的模型中获得满意的结果。"
      ]
    },
    {
      "cell_type": "code",
      "execution_count": 1,
      "metadata": {
        "dotnet_interactive": {
          "language": "csharp"
        },
        "vscode": {
          "languageId": "dotnet-interactive.csharp"
        }
      },
      "outputs": [
        {
          "data": {
            "text/plain": [
              "Coefficient of determination for the trained model: 0.98\r\n"
            ]
          },
          "execution_count": 1,
          "metadata": {},
          "output_type": "execute_result"
        }
      ],
      "source": [
        "HouseData[] testData = {\n",
        "    new HouseData() { Size = 1.1F, Price = 1.2F },\n",
        "    new HouseData() { Size = 1.2F, Price = 1.5F },\n",
        "    new HouseData() { Size = 1.4F, Price = 1.7F },\n",
        "    new HouseData() { Size = 1.6F, Price = 1.9F },\n",
        "    new HouseData() { Size = 1.9F, Price = 2.3F },\n",
        "    new HouseData() { Size = 2.8F, Price = 3.0F },\n",
        "    new HouseData() { Size = 3.2F, Price = 3.5F },\n",
        "    new HouseData() { Size = 3.3F, Price = 3.6F },\n",
        "    new HouseData() { Size = 3.5F, Price = 3.9F }, \n",
        "    new HouseData() { Size = 3.7F, Price = 4.3F }, \n",
        "    new HouseData() { Size = 4.0F, Price = 6.1F }, \n",
        "    new HouseData() { Size = 5.0F, Price = 7.2F }, \n",
        "    new HouseData() { Size = 6.0F, Price = 8.5F }, \n",
        "    new HouseData() { Size = 7.0F, Price = 9.8F }, \n",
        "    new HouseData() { Size = 8.0F, Price = 10.3F }, \n",
        "};\n",
        "\n",
        "// Load the test data\n",
        "IDataView trainingTestData = mlContext.Data.LoadFromEnumerable(testData);\n",
        "\n",
        "// transform the test data using the model\n",
        "IDataView transformedTestData = model.Transform(trainingTestData);\n",
        "\n",
        "// Evaluate the model against the test data\n",
        "RegressionMetrics trainedModelMetrics = mlContext.Regression.Evaluate(transformedTestData, labelColumnName: \"Size\");\n",
        "\n",
        "// Print the R-Squared value. The Closer to 1 indicates a better fitted model.\n",
        "Console.WriteLine($\"Coefficient of determination for the trained model: {trainedModelMetrics.RSquared:0.00}\");"
      ]
    },
    {
      "cell_type": "markdown",
      "metadata": {},
      "source": [
        "现在我们已经准备好训练好的模型进行预测。 让我们使用这个模型来预测样本房价。 我们通过创建预测引擎 [PredictionEngine<TSrc,TDst>](https://docs.microsoft.com/dotnet/api/microsoft.ml.predictionengine-2?view=ml-dotnet) 来做到这一点。 预测引擎是用于对先前训练的模型（和先前的转换管道）进行单一预测的类。 从经过训练的模型创建预测引擎可以通过以下代码完成："
      ]
    },
    {
      "cell_type": "code",
      "execution_count": 1,
      "metadata": {
        "dotnet_interactive": {
          "language": "csharp"
        },
        "vscode": {
          "languageId": "dotnet-interactive.csharp"
        }
      },
      "outputs": [],
      "source": [
        "var predictionEngine = mlContext.Model.CreatePredictionEngine<HouseData, Prediction>(model);"
      ]
    },
    {
      "cell_type": "markdown",
      "metadata": {},
      "source": [
        "然后使用创建的预测引擎，我们可以预测房价如下："
      ]
    },
    {
      "cell_type": "code",
      "execution_count": 1,
      "metadata": {
        "dotnet_interactive": {
          "language": "csharp"
        },
        "vscode": {
          "languageId": "dotnet-interactive.csharp"
        }
      },
      "outputs": [
        {
          "data": {
            "text/plain": [
              "Predicted price for size: 2500 sq ft= $274.48k\r\n"
            ]
          },
          "execution_count": 1,
          "metadata": {},
          "output_type": "execute_result"
        }
      ],
      "source": [
        "var size = new HouseData() { Size = 2.5F };\n",
        "var price = predictionEngine.Predict(size);\n",
        "Console.WriteLine($\"Predicted price for size: {size.Size*1000} sq ft= {price.Price*100:C}k\");"
      ]
    },
    {
      "cell_type": "markdown",
      "metadata": {},
      "source": [
        "恭喜！ 您已使用自己的数据成功训练了 ML.NET 回归模型，然后使用此模型预测房价。 这是一个总结创建和训练 ML.NET 模型然后使用它来预测房价的端到端操作的图表。\n",
        "\n",
        "![](https://docs.microsoft.com/dotnet/machine-learning/media/mldotnet-annotated-workflow.png)"
      ]
    },
    {
      "cell_type": "markdown",
      "metadata": {},
      "source": [
        "# **进阶学习**\n",
        "\n",
        "> [⏩ 下一个学习模块 - 数据准备和特征工程](https://ntbk.io/ml-02-data)"
      ]
    }
  ],
  "metadata": {
    "kernelspec": {
      "display_name": ".NET (C#)",
      "language": "C#",
      "name": ".net-csharp"
    },
    "language_info": {
      "file_extension": ".cs",
      "mimetype": "text/x-csharp",
      "name": "C#",
      "pygments_lexer": "csharp",
      "version": "8.0"
    }
  },
  "nbformat": 4,
  "nbformat_minor": 4
}
