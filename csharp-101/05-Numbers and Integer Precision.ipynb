{
  "cells": [
    {
      "cell_type": "markdown",
      "metadata": {},
      "source": [
        "# **双精度类型介绍**\n",
        "\n",
        "观看该模块的教学视频 [C# 101 video](https://www.youtube.com/watch?v=31EmPADtv4w&list=PLdo4fOcmZ0oVxKLQCHpiUWun7vlJJvUiN&index=6) \n",
        "\n",
        "就像您在上一个模块中学到的那样，在使用整数进行数学运算时，您只会得到整数，没有小数或分数。 这些数字被“truncated截断”，这只是意味着剩余部分被截断。 您可以使用余数运算符 `%` 找到余数。 余数是除法问题的剩余量。\n",
        "> 让我们试试吧！"
      ]
    },
    {
      "cell_type": "code",
      "execution_count": null,
      "metadata": {
        "dotnet_interactive": {
          "language": "csharp"
        },
        "vscode": {
          "languageId": "dotnet-interactive.csharp"
        }
      },
      "outputs": [
        {
          "name": "stdout",
          "output_type": "stream",
          "text": [
            "quotient: 3\r\n",
            "remainder: 2\r\n"
          ]
        }
      ],
      "source": [
        "int a = 7;\n",
        "int b = 4;\n",
        "int c = 3;\n",
        "int d = (a + b) / c;\n",
        "int e = (a + b) % c;\n",
        "Console.WriteLine($\"quotient: {d}\");\n",
        "Console.WriteLine($\"remainder: {e}\");"
      ]
    },
    {
      "cell_type": "markdown",
      "metadata": {},
      "source": [
        "3 是商，2 是余数\n",
        "\n",
        "## **最小和最大整型大小**\n",
        "\n",
        "由于整型在编码中的结构方式，它们的大小是有限制的。\n",
        "> 通过运行以下代码找出结果！"
      ]
    },
    {
      "cell_type": "code",
      "execution_count": null,
      "metadata": {
        "dotnet_interactive": {
          "language": "csharp"
        },
        "vscode": {
          "languageId": "dotnet-interactive.csharp"
        }
      },
      "outputs": [
        {
          "name": "stdout",
          "output_type": "stream",
          "text": [
            "The range of integers is -2147483648 to 2147483647\r\n"
          ]
        }
      ],
      "source": [
        "int max = int.MaxValue;\n",
        "int min = int.MinValue;\n",
        "Console.WriteLine($\"The range of integers is {min} to {max}\");"
      ]
    },
    {
      "cell_type": "markdown",
      "metadata": {},
      "source": [
        "这仍然是一个很大的范围！\n",
        "> 但是如果你试图超越会发生什么？"
      ]
    },
    {
      "cell_type": "code",
      "execution_count": null,
      "metadata": {
        "dotnet_interactive": {
          "language": "csharp"
        },
        "vscode": {
          "languageId": "dotnet-interactive.csharp"
        }
      },
      "outputs": [
        {
          "name": "stdout",
          "output_type": "stream",
          "text": [
            "An example of overflow: -2147483646\r\n"
          ]
        }
      ],
      "source": [
        "int what = max + 3;\n",
        "Console.WriteLine($\"An example of overflow: {what}\");"
      ]
    },
    {
      "cell_type": "markdown",
      "metadata": {},
      "source": [
        "这个本该很大的数字，现在已经接近最小值了！ 这是因为“溢出”“包裹”，回到最小值，然后继续计数。\n",
        "\n",
        "## **Double 类型**\n",
        "\n",
        "Double 是数字表达的另一种类型。 他们可以保持浮点数。\n",
        "> 从头开始重复相同的代码，看看 double 的不同之处。"
      ]
    },
    {
      "cell_type": "code",
      "execution_count": null,
      "metadata": {
        "dotnet_interactive": {
          "language": "csharp"
        },
        "vscode": {
          "languageId": "dotnet-interactive.csharp"
        }
      },
      "outputs": [
        {
          "name": "stdout",
          "output_type": "stream",
          "text": [
            "3.6666666666666665\r\n"
          ]
        }
      ],
      "source": [
        "double a = 7;\n",
        "double b = 4;\n",
        "double c = 3;\n",
        "double d = (a + b) / c;\n",
        "Console.WriteLine(d);"
      ]
    },
    {
      "cell_type": "markdown",
      "metadata": {},
      "source": [
        "> 这里有一个更复杂的表达式可以尝试:"
      ]
    },
    {
      "cell_type": "code",
      "execution_count": null,
      "metadata": {
        "dotnet_interactive": {
          "language": "csharp"
        },
        "vscode": {
          "languageId": "dotnet-interactive.csharp"
        }
      },
      "outputs": [
        {
          "name": "stdout",
          "output_type": "stream",
          "text": [
            "5.25\r\n"
          ]
        }
      ],
      "source": [
        "double a = 19;\n",
        "double b = 23;\n",
        "double c = 8;\n",
        "double d = (a + b) / c;\n",
        "Console.WriteLine(d);"
      ]
    },
    {
      "cell_type": "markdown",
      "metadata": {},
      "source": [
        "> 找出 double 的范围："
      ]
    },
    {
      "cell_type": "code",
      "execution_count": null,
      "metadata": {
        "dotnet_interactive": {
          "language": "csharp"
        },
        "vscode": {
          "languageId": "dotnet-interactive.csharp"
        }
      },
      "outputs": [
        {
          "name": "stdout",
          "output_type": "stream",
          "text": [
            "The range of double is -1.7976931348623157E+308 to 1.7976931348623157E+308\r\n"
          ]
        }
      ],
      "source": [
        "double max = double.MaxValue;\n",
        "double min = double.MinValue;\n",
        "Console.WriteLine($\"The range of double is {min} to {max}\");"
      ]
    },
    {
      "cell_type": "markdown",
      "metadata": {},
      "source": [
        "这是相当大的！ 比整型大得多。\n",
        "\n",
        "当然，double 并不完美。 他们也有四舍五入的错误。\n",
        "> 看看这个四舍五入："
      ]
    },
    {
      "cell_type": "code",
      "execution_count": null,
      "metadata": {
        "dotnet_interactive": {
          "language": "csharp"
        },
        "vscode": {
          "languageId": "dotnet-interactive.csharp"
        }
      },
      "outputs": [
        {
          "name": "stdout",
          "output_type": "stream",
          "text": [
            "0.3333333333333333\r\n"
          ]
        }
      ],
      "source": [
        "double third = 1.0 / 3.0;\n",
        "Console.WriteLine(third);"
      ]
    },
    {
      "cell_type": "markdown",
      "metadata": {},
      "source": [
        "从技术上讲，转换为十进制的 1/3 应该是 3 无限重复，但这在编码中不实用。 不过，如果您正在处理极其精确的变量，请注意这一点。"
      ]
    },
    {
      "cell_type": "markdown",
      "metadata": {},
      "source": [
        "# **Playground：动动手**\n",
        "\n",
        "\n",
        "> 有需要做数学的作业或项目吗？ 尝试使用代码代替计算器。\n",
        ">\n",
        "> 月球距离地球 238,855 英里。 如果您在编码问题中使用到月球的距离，您需要使用整型还是 double 型？ 如果你用英寸来测量呢？ 太阳呢？ 它距离我们 92,955,828 英里。\n",
        ">\n",
        "> 如何用混合分数格式打印出除法问题？"
      ]
    },
    {
      "cell_type": "code",
      "execution_count": null,
      "metadata": {
        "dotnet_interactive": {
          "language": "csharp"
        },
        "vscode": {
          "languageId": "dotnet-interactive.csharp"
        }
      },
      "outputs": [
        {
          "name": "stdout",
          "output_type": "stream",
          "text": [
            "Playground\r\n"
          ]
        }
      ],
      "source": [
        "Console.WriteLine(\"Playground\");"
      ]
    },
    {
      "cell_type": "markdown",
      "metadata": {},
      "source": [
        "# **进阶学习**\n",
        "\n",
        "> [⏩ 下一个学习模块 - 小数类型介绍](https://github.com/kinfey/csharp-notebooks/blob/main/csharp-101/06-Numbers%20and%20Decimals.ipynb)\n",
        ">\n",
        "> [⏪ 上一个学习模块 - 整型介绍](https://github.com/kinfey/csharp-notebooks/blob/main/csharp-101/04-Numbers%20and%20Integer%20Math.ipynb)\n",
        ">\n",
        "> [观看教学视频](https://www.youtube.com/watch?v=jEE0pWTq54U&list=PLdo4fOcmZ0oVxKLQCHpiUWun7vlJJvUiN&index=5)\n",
        ">\n",
        "> [文档: C# 介绍](https://docs.microsoft.com/dotnet/csharp/tour-of-csharp/tutorials/numbers-in-csharp?WT.mc_id=Educationalcsharp-c9-scottha)\n",
        ">\n",
        "> [从头学起： 什么是 C# ？](https://www.youtube.com/watch?v=BM4CHBmAPh4&list=PLdo4fOcmZ0oVxKLQCHpiUWun7vlJJvUiN&index=1)"
      ]
    },
    {
      "cell_type": "markdown",
      "metadata": {},
      "source": [
        "# **其他学习资源**\n",
        "\n",
        "你可以从以下链接中获取\n",
        "> [其他 101 系列的教学视频](https://dotnet.microsoft.com/learn/videos?WT.mc_id=csharpnotebook-35129-website)\n",
        ">\n",
        "> [Microsoft Learn](https://docs.microsoft.com/learn/dotnet/?WT.mc_id=csharpnotebook-35129-website)\n",
        ">\n",
        "> [C# 文档](https://docs.microsoft.com/dotnet/csharp/?WT.mc_id=csharpnotebook-35129-website)"
      ]
    }
  ],
  "metadata": {
    "kernelspec": {
      "display_name": ".NET (C#)",
      "language": "C#",
      "name": ".net-csharp"
    },
    "language_info": {
      "file_extension": ".cs",
      "mimetype": "text/x-csharp",
      "name": "C#",
      "pygments_lexer": "csharp",
      "version": "8.0"
    }
  },
  "nbformat": 4,
  "nbformat_minor": 4
}
