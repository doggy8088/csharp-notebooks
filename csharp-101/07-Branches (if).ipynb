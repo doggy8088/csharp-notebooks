{
  "cells": [
    {
      "cell_type": "markdown",
      "metadata": {},
      "source": [
        "# **分支 ( if 語句)**\n",
        "\n",
        "觀看該模組的教學影片 [C# 101 video](https://www.youtube.com/watch?v=y4OTe8LSokg&list=PLdo4fOcmZ0oVxKLQCHpiUWun7vlJJvUiN&index=8) "
      ]
    },
    {
      "cell_type": "markdown",
      "metadata": {},
      "source": [
        "## **if 語句基礎**\n",
        "\n",
        "if 語句幫助做出決定。\n",
        "\n",
        "> 試試我們的第一個 if 語句："
      ]
    },
    {
      "cell_type": "code",
      "execution_count": null,
      "metadata": {
        "dotnet_interactive": {
          "language": "csharp"
        },
        "vscode": {
          "languageId": "dotnet-interactive.csharp"
        }
      },
      "outputs": [
        {
          "name": "stdout",
          "output_type": "stream",
          "text": [
            "The answer is greater than 10.\r\n"
          ]
        }
      ],
      "source": [
        "int a = 5;\n",
        "int b = 6;\n",
        "if (a + b > 10)\n",
        "    Console.WriteLine(\"The answer is greater than 10.\");"
      ]
    },
    {
      "cell_type": "markdown",
      "metadata": {},
      "source": [
        "換句話說，這個 if 語句是說『如果 a 加 b 大於 10，則寫下'答案大於 10'』這一行。\n",
        "> 如果 a + b 小於 10 會怎樣？ 試著編輯前面的程式碼看看。\n",
        "\n",
        "什麼都沒發生嗎？ 那太棒了！ 由於不滿足 if 語句的**條件**（a + b 大於 10），因此程式碼沒有進入 if 語句，因此沒有可列印的內容。"
      ]
    },
    {
      "cell_type": "markdown",
      "metadata": {},
      "source": [
        "## **條件是什麼？**\n",
        "\n",
        "`條件` 是`if` 後面括號中的語句。 『條件』是一個布林值，這意味著它必須回傳真或假。 這意味著使用諸如`>`、`<`、`<=`、`>=`或`==`之類的符號。\n",
        "> 練習布林語句。 嘗試一些不同的符號和數字來檢視答案。"
      ]
    },
    {
      "cell_type": "code",
      "execution_count": null,
      "metadata": {
        "dotnet_interactive": {
          "language": "csharp"
        },
        "vscode": {
          "languageId": "dotnet-interactive.csharp"
        }
      },
      "outputs": [
        {
          "name": "stdout",
          "output_type": "stream",
          "text": [
            "This condition is False\r\n"
          ]
        }
      ],
      "source": [
        "bool outcome = 3 > 5;\n",
        "Console.WriteLine(\"This condition is \" + outcome);"
      ]
    },
    {
      "cell_type": "markdown",
      "metadata": {},
      "source": [
        "## **Else 語句**\n",
        "\n",
        "之前，如果不滿足 `if` 語句的條件，則跳過整個 if 語句。 但是，如果您希望在這兩種情況下都發生一些事情怎麼辦？ `else` 是條件結果為假時發生的情況。\n",
        "\n",
        "> 執行此程式碼並更改條件幾次以檢視不同的結果。"
      ]
    },
    {
      "cell_type": "code",
      "execution_count": null,
      "metadata": {
        "dotnet_interactive": {
          "language": "csharp"
        },
        "vscode": {
          "languageId": "dotnet-interactive.csharp"
        }
      },
      "outputs": [
        {
          "name": "stdout",
          "output_type": "stream",
          "text": [
            "The answer is not greater than 10\r\n"
          ]
        }
      ],
      "source": [
        "int a = 5;\n",
        "int b = 3;\n",
        "if (a + b > 10)\n",
        "    Console.WriteLine(\"The answer is greater than 10\");\n",
        "else\n",
        "    Console.WriteLine(\"The answer is not greater than 10\");"
      ]
    },
    {
      "cell_type": "markdown",
      "metadata": {},
      "source": [
        "## **多行 if 語句**\n",
        "\n",
        "如果您想在 `if` 語句中使用更復雜的程式碼怎麼辦？ 太好了，只需在您想要完成的內容周圍新增 { } 即可。\n",
        "\n",
        "> 試試看！ 執行以下程式碼。"
      ]
    },
    {
      "cell_type": "code",
      "execution_count": null,
      "metadata": {
        "dotnet_interactive": {
          "language": "csharp"
        },
        "vscode": {
          "languageId": "dotnet-interactive.csharp"
        }
      },
      "outputs": [
        {
          "name": "stdout",
          "output_type": "stream",
          "text": [
            "The answer is not greater than 10\r\n",
            "Or the first number is not equal to the second\r\n"
          ]
        }
      ],
      "source": [
        "int c = 4;\n",
        "if ((a + b + c > 10) && (a == b))\n",
        "{\n",
        "    Console.WriteLine(\"The answer is greater than 10\");\n",
        "    Console.WriteLine(\"And the first number is equal to the second\");\n",
        "}\n",
        "else\n",
        "{\n",
        "    Console.WriteLine(\"The answer is not greater than 10\");\n",
        "    Console.WriteLine(\"Or the first number is not equal to the second\");\n",
        "}"
      ]
    },
    {
      "cell_type": "markdown",
      "metadata": {},
      "source": [
        "`&&` 表示『和』。 這是一種連線多個條件的方法。 您也可以使用 `||` 作為『或』。\n",
        "\n",
        "   上面的『if』條件檢查將 a、b 和 c 相加大於 10 並且 a 等於 b。 如果兩者都為真，則進入 `if` 語句； 否則，它進入 `else` 部分。"
      ]
    },
    {
      "cell_type": "markdown",
      "metadata": {},
      "source": [
        "# **Playground：動動手**\n",
        "\n",
        "> 嘗試用『或』符號代替前面程式碼中的『和』。 你需要做什麼才能得到真與假？\n",
        ">\n",
        "> 如果將 if 語句放在 if 語句（巢狀的 if 語句）中會怎樣？\n",
        ">\n",
        "> 你能畫出 if 語句的流程嗎？ 巢狀 if 語句？"
      ]
    },
    {
      "cell_type": "code",
      "execution_count": null,
      "metadata": {
        "dotnet_interactive": {
          "language": "csharp"
        },
        "vscode": {
          "languageId": "dotnet-interactive.csharp"
        }
      },
      "outputs": [
        {
          "name": "stdout",
          "output_type": "stream",
          "text": [
            "Playground\r\n"
          ]
        }
      ],
      "source": [
        "Console.WriteLine(\"Playground\");"
      ]
    },
    {
      "cell_type": "markdown",
      "metadata": {},
      "source": [
        "# **進階學習**\n",
        "\n",
        "> [⏩ 下一個學習模組 - 什麼是迴圈](https://github.com/doggy8088/csharp-notebooks/blob/zh-tw/csharp-101/08-What%20Are%20Loops.ipynb)\n",
        ">\n",
        "> [⏪ 上一個學習模組 - 小數型別介紹 ](https://github.com/doggy8088/csharp-notebooks/blob/zh-tw/csharp-101/06-Numbers%20and%20Decimals.ipynb)\n",
        ">\n",
        "> [觀看教學影片](https://www.youtube.com/watch?v=KT2VR7m19So&list=PLdo4fOcmZ0oVxKLQCHpiUWun7vlJJvUiN&index=2)\n",
        ">、\n",
        "> [文件: C# 條件語句](https://aka.ms/CSharp.If)\n",
        ">\n",
        "> [從頭學起： 什麼是 C# ？](https://www.youtube.com/watch?v=BM4CHBmAPh4&list=PLdo4fOcmZ0oVxKLQCHpiUWun7vlJJvUiN&index=1)"
      ]
    },
    {
      "cell_type": "markdown",
      "metadata": {},
      "source": [
        "# **其他資源**\n",
        "\n",
        "你可以從以下連結中獲取\n",
        "> [其他 101 系列的教學影片](https://aka.ms/Videos.dotNET)\n",
        ">\n",
        "> [Microsoft Learn](https://aka.ms/Learn.dotNET)\n",
        ">\n",
        "> [C# 文件](https://aka.ms/Docs.CSharp)"
      ]
    }
  ],
  "metadata": {
    "kernelspec": {
      "display_name": ".NET (C#)",
      "language": "C#",
      "name": ".net-csharp"
    },
    "language_info": {
      "file_extension": ".cs",
      "mimetype": "text/x-csharp",
      "name": "C#",
      "pygments_lexer": "csharp",
      "version": "8.0"
    }
  },
  "nbformat": 4,
  "nbformat_minor": 4
}
