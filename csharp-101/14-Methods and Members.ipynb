{
  "cells": [
    {
      "cell_type": "markdown",
      "metadata": {},
      "source": [
        "# **方法和成員**\n",
        "\n",
        "觀看該模組的教學影片 [C# 101 video](https://www.youtube.com/watch?v=xLhm3bEG__c&list=PLdo4fOcmZ0oVxKLQCHpiUWun7vlJJvUiN&index=17)\n",
        "\n",
        "到目前為止，這是您的銀行帳戶！ 它現在做的不多，只打印出所有者和餘額。 它甚至還沒有帳號。 您將處理一個事務類，該類別已為您新增為一個空類。\n",
        "\n",
        "> 執行下面的每個程式碼區塊，看看列印了什麼。 這是你上次的結果。"
      ]
    },
    {
      "cell_type": "code",
      "execution_count": null,
      "metadata": {
        "dotnet_interactive": {
          "language": "csharp"
        },
        "vscode": {
          "languageId": "dotnet-interactive.csharp"
        }
      },
      "outputs": [],
      "source": [
        "public class BankAccount\n",
        "{\n",
        "    // Properties\n",
        "    public string Number { get; }\n",
        "    public string Owner { get; set; }\n",
        "    public decimal Balance { get; }\n",
        "\n",
        "    // Constructor\n",
        "    public BankAccount(string name, decimal initialBalance)\n",
        "    {\n",
        "        this.Owner = name;\n",
        "        this.Balance = initialBalance;\n",
        "    }\n",
        "\n",
        "    // Functions\n",
        "    public void MakeDeposit(decimal amount, DateTime date, string note)\n",
        "    {\n",
        "    }\n",
        "\n",
        "    public void MakeWithdrawal(decimal amount, DateTime date, string note)\n",
        "    {\n",
        "    }\n",
        "}"
      ]
    },
    {
      "cell_type": "code",
      "execution_count": null,
      "metadata": {
        "dotnet_interactive": {
          "language": "csharp"
        },
        "vscode": {
          "languageId": "dotnet-interactive.csharp"
        }
      },
      "outputs": [
        {
          "name": "stdout",
          "output_type": "stream",
          "text": [
            "Account was created for Kendra with 1000 dollars\r\n"
          ]
        }
      ],
      "source": [
        "var account = new BankAccount(\"Kendra\", 1000);\n",
        "Console.WriteLine($\"Account{account.Number} was created for {account.Owner} with {account.Balance} dollars\");"
      ]
    },
    {
      "cell_type": "markdown",
      "metadata": {},
      "source": [
        "## #1: Account Number\n",
        "\n",
        "您需要一個起始編號，您可以以此為基礎建立新帳號，以確保所有帳戶都是唯一的。下面是這個數字『種子』的程式碼。這是什麼意思？\n",
        "\n",
        "- **Private - 私人**：這意味著沒有客戶可以看到這個號碼。它是內部的，是程式碼內部工作的一部分。\n",
        "- **Static - 靜態**：這意味著該數字在所有個人賬戶中是通用的。如果一個帳戶更改了它，則該數字會針對所有其他帳戶進行更新。這就是如何使它成為確保帳號都是唯一的好方法！一旦銀行帳戶將其用作其銀行號碼，它就可以將一個新增到帳戶種子中，並且下一個新銀行帳戶具有一個新號碼。\n",
        "\n",
        "> 複製下面的程式碼並將其貼上到 `BankAccount` 類別的 `// Properties` 部分。\n",
        "\n",
        "```csharp\n",
        "私人靜態int accountNumberSeed = 1234567890；\n",
        "```\n",
        "\n",
        "> 複製下一段程式碼並將其新增到建構式函式中。\n",
        "\n",
        "```csharp\n",
        "this.Number = accountNumberSeed.ToString();\n",
        "accountNumberSeed++;\n",
        "```\n",
        "\n",
        "> 執行這段程式碼，看看會發生什麼！"
      ]
    },
    {
      "cell_type": "code",
      "execution_count": null,
      "metadata": {
        "dotnet_interactive": {
          "language": "csharp"
        },
        "vscode": {
          "languageId": "dotnet-interactive.csharp"
        }
      },
      "outputs": [],
      "source": [
        "public class BankAccount\n",
        "{\n",
        "    // Properties\n",
        "    public string Number { get; }\n",
        "    public string Owner { get; set; }\n",
        "    public decimal Balance { get; }\n",
        "    //(Paste first bit here!)\n",
        "\n",
        "    // Constructor\n",
        "    public BankAccount(string name, decimal initialBalance)\n",
        "    {\n",
        "        this.Owner = name;\n",
        "        this.Balance = initialBalance;\n",
        "        //(Paste second part here!)\n",
        "\n",
        "    }\n",
        "\n",
        "    // Functions\n",
        "    public void MakeDeposit(decimal amount, DateTime date, string note)\n",
        "    {\n",
        "    }\n",
        "\n",
        "    public void MakeWithdrawal(decimal amount, DateTime date, string note)\n",
        "    {\n",
        "    }\n",
        "}"
      ]
    },
    {
      "cell_type": "code",
      "execution_count": null,
      "metadata": {
        "dotnet_interactive": {
          "language": "csharp"
        },
        "vscode": {
          "languageId": "dotnet-interactive.csharp"
        }
      },
      "outputs": [
        {
          "name": "stdout",
          "output_type": "stream",
          "text": [
            "Account  was created for Kendra with 1000 dollars\r\n"
          ]
        }
      ],
      "source": [
        "var account = new BankAccount(\"Kendra\", 1000);\n",
        "Console.WriteLine($\"Account {account.Number} was created for {account.Owner} with {account.Balance} dollars\");"
      ]
    },
    {
      "cell_type": "markdown",
      "metadata": {},
      "source": [
        "## **#2: 事務屬性**\n",
        "\n",
        "您需要的下一部分是平衡！ 你可以做到這一點的一種方法是保持一個正在執行的標籤。 但是，另一種方法是建立交易歷史。 為此，您將建立一個小事務類，記錄一個事務。\n",
        "\n",
        "> 將下面的屬性貼上到類 `Transaction`\n",
        "\n",
        "```csharp\n",
        "public decimal Amount { get; }\n",
        "public DateTime Date { get; }\n",
        "public string Notes { get; }\n",
        "```"
      ]
    },
    {
      "cell_type": "code",
      "execution_count": null,
      "metadata": {
        "dotnet_interactive": {
          "language": "csharp"
        },
        "vscode": {
          "languageId": "dotnet-interactive.csharp"
        }
      },
      "outputs": [],
      "source": [
        "public class Transaction\n",
        "{\n",
        "    // Properties (Paste here!)\n",
        "\n",
        "    // Constructor\n",
        "}"
      ]
    },
    {
      "cell_type": "markdown",
      "metadata": {},
      "source": [
        "## **#3: 事務建構式函式**\n",
        "\n",
        "接下來，您需要將建構式函式新增到類別中！\n",
        "\n",
        "> 將以下程式碼新增到建構式函式下的 `Transaction` 類。\n",
        "\n",
        "```csharp\n",
        "public Transaction(decimal amount, DateTime date, string note)\n",
        "{\n",
        "    this.Amount = amount;\n",
        "    this.Date = date;\n",
        "    this.Notes = note;\n",
        "}\n",
        "```"
      ]
    },
    {
      "cell_type": "code",
      "execution_count": null,
      "metadata": {
        "dotnet_interactive": {
          "language": "csharp"
        },
        "vscode": {
          "languageId": "dotnet-interactive.csharp"
        }
      },
      "outputs": [],
      "source": [
        "public class Transaction\n",
        "{\n",
        "    // Properties\n",
        "    public decimal Amount { get; }\n",
        "    public DateTime Date { get; }\n",
        "    public string Notes { get; }\n",
        "\n",
        "    // Constructor (Paste here!)\n",
        "}"
      ]
    },
    {
      "cell_type": "markdown",
      "metadata": {},
      "source": [
        "## **#4: 更新 BankAccount 以對應**\n",
        "\n",
        "現在您有了一個交易類，您可以在我們的銀行賬戶中使用它。 首先，您需要製作交易清單。\n",
        "\n",
        "> 將以下程式碼複製到『屬性』部分。\n",
        "\n",
        "```csharp\n",
        "private List<Transaction> allTransactions = new List<Transaction>();\n",
        "```"
      ]
    },
    {
      "cell_type": "code",
      "execution_count": null,
      "metadata": {
        "dotnet_interactive": {
          "language": "csharp"
        },
        "vscode": {
          "languageId": "dotnet-interactive.csharp"
        }
      },
      "outputs": [],
      "source": [
        "using System.Collections.Generic;\n",
        "\n",
        "public class BankAccount\n",
        "{\n",
        "    // Properties\n",
        "    public string Number { get; }\n",
        "    public string Owner { get; set; }\n",
        "    public decimal Balance{ get;}\n",
        "    private static int accountNumberSeed = 1234567890;\n",
        "    //(Paste here!)\n",
        "\n",
        "    // Constructor\n",
        "    public BankAccount(string name, decimal initialBalance)\n",
        "    {\n",
        "        this.Owner = name;\n",
        "        this.Balance = initialBalance;\n",
        "        this.Number = accountNumberSeed.ToString();\n",
        "        accountNumberSeed++;\n",
        "\n",
        "    }\n",
        "\n",
        "    // Functions\n",
        "    public void MakeDeposit(decimal amount, DateTime date, string note)\n",
        "    {\n",
        "    }\n",
        "\n",
        "    public void MakeWithdrawal(decimal amount, DateTime date, string note)\n",
        "    {\n",
        "    }\n",
        "}"
      ]
    },
    {
      "cell_type": "markdown",
      "metadata": {},
      "source": [
        "## **#5: 更新餘額**\n",
        "\n",
        "現在您有了可以使用的交易清單，您需要將『餘額』附加到該清單。 您想要做的是，每當有人想要獲得餘額時，程式碼會檢查交易清單並將其全部彙總，然後回傳答案。 您可以透過在 Balance 中的 `get` 中附加一些說明來做到這一點！\n",
        "\n",
        "> In `BankAccount`, replace `public decimal Balance { get;}` with the following code:\n",
        "\n",
        "```csharp\n",
        "public decimal Balance\n",
        "{\n",
        "    get\n",
        "    {\n",
        "        decimal balance = 0;\n",
        "        foreach (var item in allTransactions)\n",
        "        {\n",
        "            balance += item.Amount;\n",
        "        }\n",
        "\n",
        "        return balance;\n",
        "    }\n",
        "}\n",
        "```"
      ]
    },
    {
      "cell_type": "code",
      "execution_count": null,
      "metadata": {
        "dotnet_interactive": {
          "language": "csharp"
        },
        "vscode": {
          "languageId": "dotnet-interactive.csharp"
        }
      },
      "outputs": [],
      "source": [
        "public class BankAccount\n",
        "{\n",
        "    // Properties\n",
        "    public string Number { get; }\n",
        "    public string Owner { get; set; }\n",
        "    public decimal Balance { get; }  // replace this line!\n",
        "    private static int accountNumberSeed = 1234567890;\n",
        "    private List<Transaction> allTransactions = new List<Transaction>();\n",
        "\n",
        "    // Constructor\n",
        "    public BankAccount(string name, decimal initialBalance)\n",
        "    {\n",
        "        this.Owner = name;\n",
        "        this.Balance = initialBalance;\n",
        "        this.Number = accountNumberSeed.ToString();\n",
        "        accountNumberSeed++;\n",
        "    }\n",
        "\n",
        "    // Functions\n",
        "    public void MakeDeposit(decimal amount, DateTime date, string note)\n",
        "    {\n",
        "    }\n",
        "\n",
        "    public void MakeWithdrawal(decimal amount, DateTime date, string note)\n",
        "    {\n",
        "    }\n",
        "}"
      ]
    },
    {
      "cell_type": "markdown",
      "metadata": {},
      "source": [
        "## **#6: 修復錯誤**\n",
        "\n",
        "您可能已經注意到 `this.Balance` 下有一條紅色波浪線。 您建立了一個新錯誤！ 因為每當你獲得 Balance 時，它都會經過一個彙總交易清單的過程，你不能只說 `Balance` 是初始餘額。 您不會在此模組中完全解決此問題，但您可以讓程式碼暫時可用。\n",
        "\n",
        "> 刪除行`this.Balance = initialBalance`。"
      ]
    },
    {
      "cell_type": "code",
      "execution_count": null,
      "metadata": {
        "dotnet_interactive": {
          "language": "csharp"
        },
        "vscode": {
          "languageId": "dotnet-interactive.csharp"
        }
      },
      "outputs": [
        {
          "ename": "Error",
          "evalue": "(27,9): error CS0200: Property or indexer 'BankAccount.Balance' cannot be assigned to -- it is read only",
          "output_type": "error",
          "traceback": [
            "(27,9): error CS0200: Property or indexer 'BankAccount.Balance' cannot be assigned to -- it is read only"
          ]
        }
      ],
      "source": [
        "public class BankAccount\n",
        "{\n",
        "    // Properties\n",
        "    public string Number { get; }\n",
        "    public string Owner { get; set; }\n",
        "    public decimal Balance\n",
        "    {\n",
        "        get\n",
        "        {\n",
        "            decimal balance = 0;\n",
        "            foreach (var item in allTransactions)\n",
        "            {\n",
        "                balance += item.Amount;\n",
        "            }\n",
        "\n",
        "            return balance;\n",
        "        }\n",
        "    }\n",
        "    private static int accountNumberSeed = 1234567890;\n",
        "    private List<Transaction> allTransactions = new List<Transaction>();\n",
        "\n",
        "\n",
        "    // Constructor\n",
        "    public BankAccount(string name, decimal initialBalance)\n",
        "    {\n",
        "        this.Owner = name;\n",
        "        this.Balance = initialBalance; //delete this line\n",
        "        this.Number = accountNumberSeed.ToString();\n",
        "        accountNumberSeed++;\n",
        "    }\n",
        "\n",
        "    // Functions\n",
        "    public void MakeDeposit(decimal amount, DateTime date, string note)\n",
        "    {\n",
        "    }\n",
        "\n",
        "    public void MakeWithdrawal(decimal amount, DateTime date, string note)\n",
        "    {\n",
        "    }\n",
        "}"
      ]
    },
    {
      "cell_type": "markdown",
      "metadata": {},
      "source": [
        "# **回顧一下: 初始餘額去哪了？**\n",
        "\n",
        "這是我們下面這個模組的最終程式碼。 不過有問題！ 您不再有初始餘額並且有 0 元！ 由於您將餘額與交易捆綁在一起，因此您需要能夠進行存款和取款才能將錢存入銀行。 您將在下一個模組中瞭解這一點！\n",
        "\n",
        "> 執行下面的程式碼單元。\n",
        ">\n",
        "> 在下一個模組之前嘗試製作自己的交易方法！ 你在哪裡卡住？ 你需要學習什麼？"
      ]
    },
    {
      "cell_type": "code",
      "execution_count": null,
      "metadata": {
        "dotnet_interactive": {
          "language": "csharp"
        },
        "vscode": {
          "languageId": "dotnet-interactive.csharp"
        }
      },
      "outputs": [],
      "source": [
        "public class Transaction\n",
        "{\n",
        "    // Properties (#2)\n",
        "    public decimal Amount { get; }\n",
        "    public DateTime Date { get; }\n",
        "    public string Notes\n",
        "    {\n",
        "        get;\n",
        "\n",
        "    }\n",
        "\n",
        "    // Constructor (#3)\n",
        "    public Transaction(decimal amount, DateTime date, string note)\n",
        "    {\n",
        "        this.Amount = amount;\n",
        "        this.Date = date;\n",
        "        this.Notes = note;\n",
        "    }\n",
        "}"
      ]
    },
    {
      "cell_type": "code",
      "execution_count": null,
      "metadata": {
        "dotnet_interactive": {
          "language": "csharp"
        },
        "vscode": {
          "languageId": "dotnet-interactive.csharp"
        }
      },
      "outputs": [],
      "source": [
        "using System.Collections.Generic;\n",
        "\n",
        "public class BankAccount\n",
        "{\n",
        "    // Properties\n",
        "    public string Number { get; }\n",
        "    public string Owner { get; set; }\n",
        "    public decimal Balance  //(#5)\n",
        "    {\n",
        "        get\n",
        "\n",
        "        {\n",
        "            decimal balance = 0;\n",
        "            foreach (var item in allTransactions)\n",
        "            {\n",
        "                balance += item.Amount;\n",
        "            }\n",
        "\n",
        "            return balance;\n",
        "        }\n",
        "\n",
        "\n",
        "    }\n",
        "    private static int accountNumberSeed = 1234567890; //(#1)\n",
        "    private List<Transaction> allTransactions = new List<Transaction>(); //(#4)\n",
        "\n",
        "\n",
        "    // Constructor\n",
        "    public BankAccount(string name, decimal initialBalance)\n",
        "    {\n",
        "        this.Owner = name;\n",
        "        //(#6: deleted \"this.Balance = initialBalance;\")\n",
        "        this.Number = accountNumberSeed.ToString(); //(#1)\n",
        "        accountNumberSeed++; //(#1)\n",
        "\n",
        "    }\n",
        "\n",
        "    // Functions\n",
        "    public void MakeDeposit(decimal amount, DateTime date, string note)\n",
        "    {\n",
        "    }\n",
        "\n",
        "    public void MakeWithdrawal(decimal amount, DateTime date, string note)\n",
        "    {\n",
        "    }\n",
        "}"
      ]
    },
    {
      "cell_type": "code",
      "execution_count": null,
      "metadata": {
        "dotnet_interactive": {
          "language": "csharp"
        },
        "vscode": {
          "languageId": "dotnet-interactive.csharp"
        }
      },
      "outputs": [
        {
          "name": "stdout",
          "output_type": "stream",
          "text": [
            "Account 1234567890 was created for Kendra with 0 dollars\r\n"
          ]
        }
      ],
      "source": [
        "var account = new BankAccount(\"Kendra\", 1000);\n",
        "Console.WriteLine($\"Account {account.Number} was created for {account.Owner} with {account.Balance} dollars\");"
      ]
    },
    {
      "cell_type": "markdown",
      "metadata": {},
      "source": [
        "# **進階學習**\n",
        "\n",
        "> [⏩ 下一個學習模組 - 方法和異常處理](https://github.com/doggy8088/csharp-notebooks/blob/zh-tw/csharp-101/15-Methods%20and%20Exceptions.ipynb)\n",
        ">\n",
        "> [⏪ 上一個學習模組 - 物件和類別](https://github.com/doggy8088/csharp-notebooks/blob/zh-tw/csharp-101/13-Objects%20and%20Classes.ipynb)\n",
        ">\n",
        "> [觀看教學影片](https://www.youtube.com/watch?v=xLhm3bEG__c&list=PLdo4fOcmZ0oVxKLQCHpiUWun7vlJJvUiN&index=17)\n",
        ">\n",
        "> [文件: C#物件導向程式設計](https://aka.ms/CSharp.OO)\n",
        ">\n",
        "> [從頭學起： 什麼是 C# ？](https://www.youtube.com/watch?v=BM4CHBmAPh4&list=PLdo4fOcmZ0oVxKLQCHpiUWun7vlJJvUiN&index=1)"
      ]
    },
    {
      "cell_type": "markdown",
      "metadata": {},
      "source": [
        "# **其他資源**\n",
        "\n",
        "你可以從以下連結中獲取\n",
        "> [其他 101 系列的教學影片](https://aka.ms/Videos.dotNET)\n",
        ">\n",
        "> [Microsoft Learn](https://aka.ms/Learn.dotNET)\n",
        ">\n",
        "> [C# 文件](https://aka.ms/Docs.CSharp)"
      ]
    }
  ],
  "metadata": {
    "kernelspec": {
      "display_name": ".NET (C#)",
      "language": "C#",
      "name": ".net-csharp"
    },
    "language_info": {
      "file_extension": ".cs",
      "mimetype": "text/x-csharp",
      "name": "C#",
      "pygments_lexer": "csharp",
      "version": "8.0"
    }
  },
  "nbformat": 4,
  "nbformat_minor": 4
}
